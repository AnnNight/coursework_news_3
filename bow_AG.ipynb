{
 "cells": [
  {
   "cell_type": "code",
   "source": [
    "!pip install catboost\n",
    "!pip install optuna"
   ],
   "metadata": {
    "colab": {
     "base_uri": "https://localhost:8080/"
    },
    "id": "CSF6heapKG9D",
    "outputId": "b316f257-ba34-462f-d889-faf235ff56b9",
    "pycharm": {
     "name": "#%%\n"
    }
   },
   "execution_count": null,
   "outputs": [
    {
     "output_type": "stream",
     "name": "stdout",
     "text": [
      "Looking in indexes: https://pypi.org/simple, https://us-python.pkg.dev/colab-wheels/public/simple/\n",
      "Requirement already satisfied: catboost in /usr/local/lib/python3.10/dist-packages (1.2)\n",
      "Requirement already satisfied: graphviz in /usr/local/lib/python3.10/dist-packages (from catboost) (0.20.1)\n",
      "Requirement already satisfied: matplotlib in /usr/local/lib/python3.10/dist-packages (from catboost) (3.7.1)\n",
      "Requirement already satisfied: numpy>=1.16.0 in /usr/local/lib/python3.10/dist-packages (from catboost) (1.22.4)\n",
      "Requirement already satisfied: pandas>=0.24 in /usr/local/lib/python3.10/dist-packages (from catboost) (1.5.3)\n",
      "Requirement already satisfied: scipy in /usr/local/lib/python3.10/dist-packages (from catboost) (1.10.1)\n",
      "Requirement already satisfied: plotly in /usr/local/lib/python3.10/dist-packages (from catboost) (5.13.1)\n",
      "Requirement already satisfied: six in /usr/local/lib/python3.10/dist-packages (from catboost) (1.16.0)\n",
      "Requirement already satisfied: python-dateutil>=2.8.1 in /usr/local/lib/python3.10/dist-packages (from pandas>=0.24->catboost) (2.8.2)\n",
      "Requirement already satisfied: pytz>=2020.1 in /usr/local/lib/python3.10/dist-packages (from pandas>=0.24->catboost) (2022.7.1)\n",
      "Requirement already satisfied: contourpy>=1.0.1 in /usr/local/lib/python3.10/dist-packages (from matplotlib->catboost) (1.0.7)\n",
      "Requirement already satisfied: cycler>=0.10 in /usr/local/lib/python3.10/dist-packages (from matplotlib->catboost) (0.11.0)\n",
      "Requirement already satisfied: fonttools>=4.22.0 in /usr/local/lib/python3.10/dist-packages (from matplotlib->catboost) (4.39.3)\n",
      "Requirement already satisfied: kiwisolver>=1.0.1 in /usr/local/lib/python3.10/dist-packages (from matplotlib->catboost) (1.4.4)\n",
      "Requirement already satisfied: packaging>=20.0 in /usr/local/lib/python3.10/dist-packages (from matplotlib->catboost) (23.1)\n",
      "Requirement already satisfied: pillow>=6.2.0 in /usr/local/lib/python3.10/dist-packages (from matplotlib->catboost) (8.4.0)\n",
      "Requirement already satisfied: pyparsing>=2.3.1 in /usr/local/lib/python3.10/dist-packages (from matplotlib->catboost) (3.0.9)\n",
      "Requirement already satisfied: tenacity>=6.2.0 in /usr/local/lib/python3.10/dist-packages (from plotly->catboost) (8.2.2)\n",
      "Looking in indexes: https://pypi.org/simple, https://us-python.pkg.dev/colab-wheels/public/simple/\n",
      "Requirement already satisfied: optuna in /usr/local/lib/python3.10/dist-packages (3.1.1)\n",
      "Requirement already satisfied: alembic>=1.5.0 in /usr/local/lib/python3.10/dist-packages (from optuna) (1.11.1)\n",
      "Requirement already satisfied: cmaes>=0.9.1 in /usr/local/lib/python3.10/dist-packages (from optuna) (0.9.1)\n",
      "Requirement already satisfied: colorlog in /usr/local/lib/python3.10/dist-packages (from optuna) (6.7.0)\n",
      "Requirement already satisfied: numpy in /usr/local/lib/python3.10/dist-packages (from optuna) (1.22.4)\n",
      "Requirement already satisfied: packaging>=20.0 in /usr/local/lib/python3.10/dist-packages (from optuna) (23.1)\n",
      "Requirement already satisfied: sqlalchemy>=1.3.0 in /usr/local/lib/python3.10/dist-packages (from optuna) (2.0.10)\n",
      "Requirement already satisfied: tqdm in /usr/local/lib/python3.10/dist-packages (from optuna) (4.65.0)\n",
      "Requirement already satisfied: PyYAML in /usr/local/lib/python3.10/dist-packages (from optuna) (6.0)\n",
      "Requirement already satisfied: Mako in /usr/local/lib/python3.10/dist-packages (from alembic>=1.5.0->optuna) (1.2.4)\n",
      "Requirement already satisfied: typing-extensions>=4 in /usr/local/lib/python3.10/dist-packages (from alembic>=1.5.0->optuna) (4.5.0)\n",
      "Requirement already satisfied: greenlet!=0.4.17 in /usr/local/lib/python3.10/dist-packages (from sqlalchemy>=1.3.0->optuna) (2.0.2)\n",
      "Requirement already satisfied: MarkupSafe>=0.9.2 in /usr/local/lib/python3.10/dist-packages (from Mako->alembic>=1.5.0->optuna) (2.1.2)\n"
     ]
    }
   ]
  },
  {
   "cell_type": "code",
   "execution_count": null,
   "metadata": {
    "collapsed": true,
    "pycharm": {
     "name": "#%%\n"
    },
    "id": "6o-SnDNHJ-35"
   },
   "outputs": [],
   "source": [
    "import pandas as pd\n",
    "import numpy as np\n",
    "from sklearn.naive_bayes import MultinomialNB\n",
    "from sklearn.linear_model import LogisticRegression\n",
    "from sklearn.ensemble import RandomForestClassifier\n",
    "from sklearn.svm import LinearSVC, SVC\n",
    "from sklearn.model_selection import cross_val_score\n",
    "from sklearn.metrics import confusion_matrix\n",
    "from sklearn import metrics\n",
    "from nltk.tokenize import word_tokenize\n",
    "from catboost import CatBoostClassifier\n",
    "from lightgbm import LGBMClassifier\n",
    "import matplotlib.pyplot as plt\n",
    "import seaborn as sns\n",
    "import scipy\n",
    "from nltk.corpus import wordnet as wn\n",
    "from nltk.corpus import sentiwordnet as swn\n",
    "import nltk\n",
    "import optuna\n",
    "from sklearn.model_selection import train_test_split\n",
    "from wordcloud import STOPWORDS\n",
    "from nltk.corpus import stopwords\n",
    "from nltk.stem.wordnet import WordNetLemmatizer\n",
    "import re\n",
    "from nltk.stem.snowball import SnowballStemmer\n",
    "from sklearn.feature_extraction.text import CountVectorizer"
   ]
  },
  {
   "cell_type": "code",
   "execution_count": null,
   "outputs": [],
   "source": [
    "test = pd.read_csv('test.csv')\n",
    "train = pd.read_csv('train.csv')"
   ],
   "metadata": {
    "pycharm": {
     "name": "#%%\n"
    },
    "id": "Ytf1oepgJ-36"
   }
  },
  {
   "cell_type": "code",
   "execution_count": null,
   "outputs": [],
   "source": [
    "train['content'] = train.Title + ' ' + train.Description\n",
    "labels = train[\"Class Index\"]\n",
    "test['content'] = test.Title + ' ' + test.Description\n",
    "test_labels = test['Class Index']"
   ],
   "metadata": {
    "pycharm": {
     "name": "#%%\n"
    },
    "id": "tcuTxMcwJ-37"
   }
  },
  {
   "cell_type": "code",
   "source": [
    "test_labels = test['Class Index']"
   ],
   "metadata": {
    "id": "pieyHuqPPFGP",
    "pycharm": {
     "name": "#%%\n"
    }
   },
   "execution_count": null,
   "outputs": []
  },
  {
   "cell_type": "code",
   "execution_count": null,
   "outputs": [],
   "source": [
    "def normalise_text(text):\n",
    "    text = text.lower()  # lowercase\n",
    "    text = text.replace(r\"\\#\", \"\")  # replaces hashtags\n",
    "    text = text.replace(r\"http\\S+\", \"URL\")  # remove URL addresses\n",
    "    text = text.replace(r\"@\", \"\")\n",
    "    text = text.replace(r\"[^A-Za-z0-9()!?\\'\\`\\\"]\", \" \")\n",
    "    text = text.replace(\"\\s{2,}\", \" \")\n",
    "    return text"
   ],
   "metadata": {
    "pycharm": {
     "name": "#%%\n"
    },
    "id": "oBmaoDDbJ-37"
   }
  },
  {
   "cell_type": "code",
   "source": [
    "def datacleaning(text):\n",
    "    whitespace = re.compile(r\"\\s+\")\n",
    "    user = re.compile(r\"(?i)@[a-z0-9_]+\")\n",
    "    text = whitespace.sub(' ', text)\n",
    "    text = user.sub('', text)\n",
    "    text = re.sub(r\"\\[[^()]*\\]\",\"\", text)\n",
    "    text = re.sub(\"\\d+\", \"\", text)\n",
    "    text = re.sub(r'[^\\w\\s]','',text)\n",
    "    text = re.sub(r\"(?:@\\S*|#\\S*|http(?=.*://)\\S*)\", \" \", text)\n",
    "    text = text.lower()\n",
    "    \n",
    "    # removing stop-words\n",
    "    text = [word for word in text.split() if word not in list(STOPWORDS)]\n",
    "    # text = [word for word in text.split()]\n",
    "    \n",
    "    # word lemmatization\n",
    "    # sentence = []\n",
    "    # snow_stemmer = SnowballStemmer(language='english')\n",
    "    # for word in text:\n",
    "        # lemmatizer = WordNetLemmatizer()\n",
    "        # sentence.append(snow_stemmer.stem(word))\n",
    "        # sentence.append(lemmatizer.lemmatize(word,'v'))\n",
    "        # sentence.append(lemmatizer.lemmatize(word))\n",
    "        \n",
    "    return ' '.join(text) "
   ],
   "metadata": {
    "id": "Sqz9Hp5XyMZy",
    "pycharm": {
     "name": "#%%\n"
    }
   },
   "execution_count": null,
   "outputs": []
  },
  {
   "cell_type": "code",
   "source": [
    "nltk.download('punkt')\n",
    "nltk.download('wordnet')"
   ],
   "metadata": {
    "colab": {
     "base_uri": "https://localhost:8080/"
    },
    "id": "XYW8aBPrLIlY",
    "outputId": "3af549f7-0c06-4b9b-d931-a1b88dc0cd9e",
    "pycharm": {
     "name": "#%%\n"
    }
   },
   "execution_count": null,
   "outputs": [
    {
     "output_type": "stream",
     "name": "stderr",
     "text": [
      "[nltk_data] Downloading package punkt to /root/nltk_data...\n",
      "[nltk_data]   Package punkt is already up-to-date!\n",
      "[nltk_data] Downloading package wordnet to /root/nltk_data...\n",
      "[nltk_data]   Package wordnet is already up-to-date!\n"
     ]
    },
    {
     "output_type": "execute_result",
     "data": {
      "text/plain": [
       "True"
      ]
     },
     "metadata": {},
     "execution_count": 8
    }
   ]
  },
  {
   "cell_type": "code",
   "execution_count": null,
   "outputs": [],
   "source": [
    "# train.content = train.content.apply(normalise_text)\n",
    "# test.content = test.content.apply(normalise_text)\n",
    "train.content = train.content.apply(datacleaning)\n",
    "test.content = test.content.apply(datacleaning)"
   ],
   "metadata": {
    "pycharm": {
     "name": "#%%\n"
    },
    "id": "z2HrnAJ_J-37"
   }
  },
  {
   "cell_type": "code",
   "source": [
    "X_train, X_valid, y_train, y_valid = train_test_split(train, labels, test_size=0.2, random_state=42)"
   ],
   "metadata": {
    "id": "5lf6u6QfDEBG",
    "pycharm": {
     "name": "#%%\n"
    }
   },
   "execution_count": null,
   "outputs": []
  },
  {
   "cell_type": "code",
   "execution_count": null,
   "outputs": [
    {
     "output_type": "stream",
     "name": "stderr",
     "text": [
      "/usr/local/lib/python3.10/dist-packages/sklearn/feature_extraction/text.py:528: UserWarning: The parameter 'token_pattern' will not be used since 'tokenizer' is not None'\n",
      "  warnings.warn(\n"
     ]
    }
   ],
   "source": [
    "bow_counts = CountVectorizer(tokenizer= word_tokenize, # type of tokenization\n",
    "                             ngram_range=(1,2)) # number of n-grams\n",
    "\n",
    "bow_train = bow_counts.fit_transform(X_train['content'])\n",
    "bow_valid = bow_counts.transform(X_valid['content'])"
   ],
   "metadata": {
    "pycharm": {
     "name": "#%%\n"
    },
    "id": "-CwkFg4fJ-37",
    "colab": {
     "base_uri": "https://localhost:8080/"
    },
    "outputId": "2fa4e125-6e21-49a8-e76a-d887c321ba80"
   }
  },
  {
   "cell_type": "code",
   "source": [
    "bow_test = bow_counts.transform(test['content'])"
   ],
   "metadata": {
    "id": "t7R_2jb6TIC0",
    "pycharm": {
     "name": "#%%\n"
    }
   },
   "execution_count": null,
   "outputs": []
  },
  {
   "cell_type": "code",
   "source": [
    "bow_train"
   ],
   "metadata": {
    "colab": {
     "base_uri": "https://localhost:8080/"
    },
    "id": "g66IFDA6LbWb",
    "outputId": "527e3c29-03f8-4888-e17b-28d830d226d0",
    "pycharm": {
     "name": "#%%\n"
    }
   },
   "execution_count": null,
   "outputs": [
    {
     "output_type": "execute_result",
     "data": {
      "text/plain": [
       "<96000x1149521 sparse matrix of type '<class 'numpy.int64'>'\n",
       "\twith 7387408 stored elements in Compressed Sparse Row format>"
      ]
     },
     "metadata": {},
     "execution_count": 12
    }
   ]
  },
  {
   "cell_type": "code",
   "execution_count": null,
   "outputs": [
    {
     "output_type": "execute_result",
     "data": {
      "text/plain": [
       "<7600x1149521 sparse matrix of type '<class 'numpy.int64'>'\n",
       "\twith 523076 stored elements in Compressed Sparse Row format>"
      ]
     },
     "metadata": {},
     "execution_count": 13
    }
   ],
   "source": [
    "bow_test"
   ],
   "metadata": {
    "pycharm": {
     "name": "#%%\n"
    },
    "id": "iasdeQnzJ-38",
    "outputId": "1cd4e406-df89-45d9-c460-32eb097b61d4",
    "colab": {
     "base_uri": "https://localhost:8080/"
    }
   }
  },
  {
   "cell_type": "code",
   "execution_count": null,
   "outputs": [
    {
     "output_type": "stream",
     "name": "stdout",
     "text": [
      "RandomForestClassifier\n"
     ]
    },
    {
     "output_type": "stream",
     "name": "stderr",
     "text": [
      "[Parallel(n_jobs=3)]: Using backend LokyBackend with 3 concurrent workers.\n",
      "[Parallel(n_jobs=3)]: Done   2 out of   5 | elapsed:  2.2min remaining:  3.3min\n",
      "[Parallel(n_jobs=3)]: Done   5 out of   5 | elapsed:  3.5min finished\n",
      "[Parallel(n_jobs=3)]: Using backend LokyBackend with 3 concurrent workers.\n"
     ]
    },
    {
     "output_type": "stream",
     "name": "stdout",
     "text": [
      "LinearSVC\n"
     ]
    },
    {
     "output_type": "stream",
     "name": "stderr",
     "text": [
      "[Parallel(n_jobs=3)]: Done   2 out of   5 | elapsed: 16.7min remaining: 25.0min\n"
     ]
    },
    {
     "output_type": "stream",
     "name": "stdout",
     "text": [
      "MultinomialNB\n"
     ]
    },
    {
     "output_type": "stream",
     "name": "stderr",
     "text": [
      "[Parallel(n_jobs=3)]: Done   5 out of   5 | elapsed: 29.1min finished\n",
      "[Parallel(n_jobs=3)]: Using backend LokyBackend with 3 concurrent workers.\n",
      "[Parallel(n_jobs=3)]: Done   2 out of   5 | elapsed:    2.2s remaining:    3.3s\n",
      "[Parallel(n_jobs=3)]: Done   5 out of   5 | elapsed:    4.0s finished\n",
      "[Parallel(n_jobs=3)]: Using backend LokyBackend with 3 concurrent workers.\n"
     ]
    },
    {
     "output_type": "stream",
     "name": "stdout",
     "text": [
      "LogisticRegression\n"
     ]
    },
    {
     "output_type": "stream",
     "name": "stderr",
     "text": [
      "[Parallel(n_jobs=3)]: Done   2 out of   5 | elapsed: 24.5min remaining: 36.7min\n",
      "[Parallel(n_jobs=3)]: Done   5 out of   5 | elapsed: 43.1min finished\n"
     ]
    }
   ],
   "source": [
    "models = [\n",
    "    RandomForestClassifier(n_estimators=100, max_depth=5, random_state=0),\n",
    "    LinearSVC(max_iter=10000),\n",
    "    MultinomialNB(),\n",
    "    LogisticRegression(random_state=0, max_iter=10000)\n",
    "]\n",
    "\n",
    "# 5 Cross-validation\n",
    "CV = 5\n",
    "cv_df = pd.DataFrame(index=range(CV * len(models)))\n",
    "\n",
    "entries = []\n",
    "for model in models:\n",
    "    model_name = model.__class__.__name__\n",
    "    print(model_name)\n",
    "    accuracies = cross_val_score(model, bow_data, labels, scoring='accuracy', cv=CV, verbose=3, n_jobs=3)\n",
    "    for fold_idx, accuracy in enumerate(accuracies):\n",
    "        entries.append((model_name, fold_idx, accuracy))\n",
    "\n",
    "cv_df = pd.DataFrame(entries, columns=['model_name', 'fold_idx', 'accuracy'])"
   ],
   "metadata": {
    "pycharm": {
     "name": "#%%\n"
    },
    "colab": {
     "base_uri": "https://localhost:8080/"
    },
    "id": "FxjzQFqTJ-38",
    "outputId": "06a9deb0-c275-499b-85ea-39712c4975be"
   }
  },
  {
   "cell_type": "code",
   "source": [
    "mean_accuracy = cv_df.groupby('model_name').accuracy.mean()\n",
    "std_accuracy = cv_df.groupby('model_name').accuracy.std()\n",
    "\n",
    "acc = pd.concat([mean_accuracy, std_accuracy], axis= 1,\n",
    "          ignore_index=True)\n",
    "acc.columns = ['Mean Accuracy', 'Standard deviation']\n",
    "acc"
   ],
   "metadata": {
    "colab": {
     "base_uri": "https://localhost:8080/",
     "height": 206
    },
    "id": "BJF5KwE3N66O",
    "outputId": "fc2e0c8e-5113-4338-edaf-fd774639f327",
    "pycharm": {
     "name": "#%%\n"
    }
   },
   "execution_count": null,
   "outputs": [
    {
     "output_type": "execute_result",
     "data": {
      "text/plain": [
       "                        Mean Accuracy  Standard deviation\n",
       "model_name                                               \n",
       "LinearSVC                    0.903125            0.009370\n",
       "LogisticRegression           0.906475            0.008574\n",
       "MultinomialNB                0.897708            0.010511\n",
       "RandomForestClassifier       0.732883            0.010830"
      ],
      "text/html": [
       "\n",
       "  <div id=\"df-f9111e67-e4f3-4ed5-8df9-70db96424cc6\">\n",
       "    <div class=\"colab-df-container\">\n",
       "      <div>\n",
       "<style scoped>\n",
       "    .dataframe tbody tr th:only-of-type {\n",
       "        vertical-align: middle;\n",
       "    }\n",
       "\n",
       "    .dataframe tbody tr th {\n",
       "        vertical-align: top;\n",
       "    }\n",
       "\n",
       "    .dataframe thead th {\n",
       "        text-align: right;\n",
       "    }\n",
       "</style>\n",
       "<table border=\"1\" class=\"dataframe\">\n",
       "  <thead>\n",
       "    <tr style=\"text-align: right;\">\n",
       "      <th></th>\n",
       "      <th>Mean Accuracy</th>\n",
       "      <th>Standard deviation</th>\n",
       "    </tr>\n",
       "    <tr>\n",
       "      <th>model_name</th>\n",
       "      <th></th>\n",
       "      <th></th>\n",
       "    </tr>\n",
       "  </thead>\n",
       "  <tbody>\n",
       "    <tr>\n",
       "      <th>LinearSVC</th>\n",
       "      <td>0.903125</td>\n",
       "      <td>0.009370</td>\n",
       "    </tr>\n",
       "    <tr>\n",
       "      <th>LogisticRegression</th>\n",
       "      <td>0.906475</td>\n",
       "      <td>0.008574</td>\n",
       "    </tr>\n",
       "    <tr>\n",
       "      <th>MultinomialNB</th>\n",
       "      <td>0.897708</td>\n",
       "      <td>0.010511</td>\n",
       "    </tr>\n",
       "    <tr>\n",
       "      <th>RandomForestClassifier</th>\n",
       "      <td>0.732883</td>\n",
       "      <td>0.010830</td>\n",
       "    </tr>\n",
       "  </tbody>\n",
       "</table>\n",
       "</div>\n",
       "      <button class=\"colab-df-convert\" onclick=\"convertToInteractive('df-f9111e67-e4f3-4ed5-8df9-70db96424cc6')\"\n",
       "              title=\"Convert this dataframe to an interactive table.\"\n",
       "              style=\"display:none;\">\n",
       "        \n",
       "  <svg xmlns=\"http://www.w3.org/2000/svg\" height=\"24px\"viewBox=\"0 0 24 24\"\n",
       "       width=\"24px\">\n",
       "    <path d=\"M0 0h24v24H0V0z\" fill=\"none\"/>\n",
       "    <path d=\"M18.56 5.44l.94 2.06.94-2.06 2.06-.94-2.06-.94-.94-2.06-.94 2.06-2.06.94zm-11 1L8.5 8.5l.94-2.06 2.06-.94-2.06-.94L8.5 2.5l-.94 2.06-2.06.94zm10 10l.94 2.06.94-2.06 2.06-.94-2.06-.94-.94-2.06-.94 2.06-2.06.94z\"/><path d=\"M17.41 7.96l-1.37-1.37c-.4-.4-.92-.59-1.43-.59-.52 0-1.04.2-1.43.59L10.3 9.45l-7.72 7.72c-.78.78-.78 2.05 0 2.83L4 21.41c.39.39.9.59 1.41.59.51 0 1.02-.2 1.41-.59l7.78-7.78 2.81-2.81c.8-.78.8-2.07 0-2.86zM5.41 20L4 18.59l7.72-7.72 1.47 1.35L5.41 20z\"/>\n",
       "  </svg>\n",
       "      </button>\n",
       "      \n",
       "  <style>\n",
       "    .colab-df-container {\n",
       "      display:flex;\n",
       "      flex-wrap:wrap;\n",
       "      gap: 12px;\n",
       "    }\n",
       "\n",
       "    .colab-df-convert {\n",
       "      background-color: #E8F0FE;\n",
       "      border: none;\n",
       "      border-radius: 50%;\n",
       "      cursor: pointer;\n",
       "      display: none;\n",
       "      fill: #1967D2;\n",
       "      height: 32px;\n",
       "      padding: 0 0 0 0;\n",
       "      width: 32px;\n",
       "    }\n",
       "\n",
       "    .colab-df-convert:hover {\n",
       "      background-color: #E2EBFA;\n",
       "      box-shadow: 0px 1px 2px rgba(60, 64, 67, 0.3), 0px 1px 3px 1px rgba(60, 64, 67, 0.15);\n",
       "      fill: #174EA6;\n",
       "    }\n",
       "\n",
       "    [theme=dark] .colab-df-convert {\n",
       "      background-color: #3B4455;\n",
       "      fill: #D2E3FC;\n",
       "    }\n",
       "\n",
       "    [theme=dark] .colab-df-convert:hover {\n",
       "      background-color: #434B5C;\n",
       "      box-shadow: 0px 1px 3px 1px rgba(0, 0, 0, 0.15);\n",
       "      filter: drop-shadow(0px 1px 2px rgba(0, 0, 0, 0.3));\n",
       "      fill: #FFFFFF;\n",
       "    }\n",
       "  </style>\n",
       "\n",
       "      <script>\n",
       "        const buttonEl =\n",
       "          document.querySelector('#df-f9111e67-e4f3-4ed5-8df9-70db96424cc6 button.colab-df-convert');\n",
       "        buttonEl.style.display =\n",
       "          google.colab.kernel.accessAllowed ? 'block' : 'none';\n",
       "\n",
       "        async function convertToInteractive(key) {\n",
       "          const element = document.querySelector('#df-f9111e67-e4f3-4ed5-8df9-70db96424cc6');\n",
       "          const dataTable =\n",
       "            await google.colab.kernel.invokeFunction('convertToInteractive',\n",
       "                                                     [key], {});\n",
       "          if (!dataTable) return;\n",
       "\n",
       "          const docLinkHtml = 'Like what you see? Visit the ' +\n",
       "            '<a target=\"_blank\" href=https://colab.research.google.com/notebooks/data_table.ipynb>data table notebook</a>'\n",
       "            + ' to learn more about interactive tables.';\n",
       "          element.innerHTML = '';\n",
       "          dataTable['output_type'] = 'display_data';\n",
       "          await google.colab.output.renderOutput(dataTable, element);\n",
       "          const docLink = document.createElement('div');\n",
       "          docLink.innerHTML = docLinkHtml;\n",
       "          element.appendChild(docLink);\n",
       "        }\n",
       "      </script>\n",
       "    </div>\n",
       "  </div>\n",
       "  "
      ]
     },
     "metadata": {},
     "execution_count": 25
    }
   ]
  },
  {
   "cell_type": "code",
   "source": [
    "plt.figure(figsize=(8,4))\n",
    "sns.boxplot(x='model_name', y='accuracy',\n",
    "            data=cv_df,\n",
    "            color='lightblue',\n",
    "            showmeans=True)\n",
    "plt.title(\"MEAN ACCURACY (cv = 5)\\n\", size=20);"
   ],
   "metadata": {
    "colab": {
     "base_uri": "https://localhost:8080/",
     "height": 451
    },
    "id": "BduasayRN2nc",
    "outputId": "a88be704-5d0c-40de-bdad-e13ced7bbdf3",
    "pycharm": {
     "name": "#%%\n"
    }
   },
   "execution_count": null,
   "outputs": [
    {
     "output_type": "display_data",
     "data": {
      "text/plain": [
       "<Figure size 800x400 with 1 Axes>"
      ],
      "image/png": "[encoded data removed]"
     },
     "metadata": {}
    }
   ]
  },
  {
   "cell_type": "code",
   "execution_count": null,
   "outputs": [
    {
     "output_type": "stream",
     "name": "stdout",
     "text": [
      "Learning rate set to 0.101009\n",
      "0:\tlearn: 1.3489234\ttotal: 11.2s\tremaining: 3h 6m 13s\n",
      "3:\tlearn: 1.2680207\ttotal: 44.5s\tremaining: 3h 4m 48s\n",
      "6:\tlearn: 1.2087098\ttotal: 1m 18s\tremaining: 3h 6m 3s\n",
      "9:\tlearn: 1.1625819\ttotal: 1m 52s\tremaining: 3h 5m 14s\n",
      "12:\tlearn: 1.1245351\ttotal: 2m 25s\tremaining: 3h 4m 22s\n",
      "15:\tlearn: 1.0909683\ttotal: 2m 58s\tremaining: 3h 3m 13s\n",
      "18:\tlearn: 1.0616592\ttotal: 3m 31s\tremaining: 3h 2m 8s\n",
      "21:\tlearn: 1.0357238\ttotal: 4m 4s\tremaining: 3h 1m 15s\n",
      "24:\tlearn: 1.0110453\ttotal: 4m 38s\tremaining: 3h 45s\n",
      "27:\tlearn: 0.9907571\ttotal: 5m 11s\tremaining: 3h 11s\n",
      "30:\tlearn: 0.9704668\ttotal: 5m 45s\tremaining: 2h 59m 57s\n",
      "33:\tlearn: 0.9510577\ttotal: 6m 19s\tremaining: 2h 59m 37s\n",
      "36:\tlearn: 0.9336738\ttotal: 6m 52s\tremaining: 2h 59m\n",
      "39:\tlearn: 0.9181509\ttotal: 7m 25s\tremaining: 2h 58m 9s\n",
      "42:\tlearn: 0.9023911\ttotal: 7m 58s\tremaining: 2h 57m 23s\n",
      "45:\tlearn: 0.8887184\ttotal: 8m 31s\tremaining: 2h 56m 42s\n",
      "48:\tlearn: 0.8758998\ttotal: 9m 4s\tremaining: 2h 56m 1s\n",
      "51:\tlearn: 0.8638144\ttotal: 9m 37s\tremaining: 2h 55m 23s\n",
      "54:\tlearn: 0.8520674\ttotal: 10m 10s\tremaining: 2h 54m 48s\n",
      "57:\tlearn: 0.8406406\ttotal: 10m 42s\tremaining: 2h 53m 52s\n",
      "60:\tlearn: 0.8298062\ttotal: 11m 15s\tremaining: 2h 53m 13s\n",
      "63:\tlearn: 0.8199090\ttotal: 11m 47s\tremaining: 2h 52m 32s\n",
      "66:\tlearn: 0.8101487\ttotal: 12m 21s\tremaining: 2h 52m 1s\n",
      "69:\tlearn: 0.8008457\ttotal: 12m 54s\tremaining: 2h 51m 28s\n",
      "72:\tlearn: 0.7909601\ttotal: 13m 26s\tremaining: 2h 50m 46s\n",
      "75:\tlearn: 0.7823374\ttotal: 13m 59s\tremaining: 2h 50m 6s\n",
      "78:\tlearn: 0.7741542\ttotal: 14m 32s\tremaining: 2h 49m 27s\n",
      "81:\tlearn: 0.7660541\ttotal: 15m 5s\tremaining: 2h 48m 52s\n",
      "84:\tlearn: 0.7583049\ttotal: 15m 37s\tremaining: 2h 48m 16s\n",
      "87:\tlearn: 0.7505472\ttotal: 16m 11s\tremaining: 2h 47m 44s\n",
      "90:\tlearn: 0.7423561\ttotal: 16m 44s\tremaining: 2h 47m 17s\n",
      "93:\tlearn: 0.7355261\ttotal: 17m 16s\tremaining: 2h 46m 34s\n",
      "96:\tlearn: 0.7290687\ttotal: 17m 49s\tremaining: 2h 45m 57s\n",
      "99:\tlearn: 0.7198910\ttotal: 18m 22s\tremaining: 2h 45m 26s\n",
      "102:\tlearn: 0.7137978\ttotal: 18m 55s\tremaining: 2h 44m 49s\n",
      "105:\tlearn: 0.7081703\ttotal: 19m 28s\tremaining: 2h 44m 16s\n",
      "108:\tlearn: 0.7019752\ttotal: 20m\tremaining: 2h 43m 34s\n",
      "111:\tlearn: 0.6965007\ttotal: 20m 33s\tremaining: 2h 42m 59s\n",
      "114:\tlearn: 0.6907868\ttotal: 21m 6s\tremaining: 2h 42m 23s\n",
      "117:\tlearn: 0.6853415\ttotal: 21m 38s\tremaining: 2h 41m 48s\n",
      "120:\tlearn: 0.6799611\ttotal: 22m 11s\tremaining: 2h 41m 14s\n",
      "123:\tlearn: 0.6748117\ttotal: 22m 43s\tremaining: 2h 40m 34s\n",
      "126:\tlearn: 0.6697394\ttotal: 23m 16s\tremaining: 2h 39m 59s\n",
      "129:\tlearn: 0.6639432\ttotal: 23m 49s\tremaining: 2h 39m 27s\n",
      "132:\tlearn: 0.6587454\ttotal: 24m 23s\tremaining: 2h 38m 57s\n",
      "135:\tlearn: 0.6539954\ttotal: 24m 56s\tremaining: 2h 38m 24s\n",
      "138:\tlearn: 0.6492927\ttotal: 25m 29s\tremaining: 2h 37m 53s\n",
      "141:\tlearn: 0.6441971\ttotal: 26m 2s\tremaining: 2h 37m 19s\n",
      "144:\tlearn: 0.6402395\ttotal: 26m 34s\tremaining: 2h 36m 44s\n",
      "147:\tlearn: 0.6356290\ttotal: 27m 8s\tremaining: 2h 36m 14s\n",
      "150:\tlearn: 0.6313868\ttotal: 27m 41s\tremaining: 2h 35m 42s\n",
      "153:\tlearn: 0.6276058\ttotal: 28m 14s\tremaining: 2h 35m 8s\n",
      "156:\tlearn: 0.6235801\ttotal: 28m 47s\tremaining: 2h 34m 35s\n",
      "159:\tlearn: 0.6192521\ttotal: 29m 19s\tremaining: 2h 33m 57s\n",
      "162:\tlearn: 0.6151773\ttotal: 29m 52s\tremaining: 2h 33m 23s\n",
      "165:\tlearn: 0.6114346\ttotal: 30m 25s\tremaining: 2h 32m 51s\n",
      "168:\tlearn: 0.6076533\ttotal: 30m 59s\tremaining: 2h 32m 23s\n",
      "171:\tlearn: 0.6042133\ttotal: 31m 32s\tremaining: 2h 31m 50s\n",
      "174:\tlearn: 0.6005979\ttotal: 32m 5s\tremaining: 2h 31m 18s\n",
      "177:\tlearn: 0.5974601\ttotal: 32m 37s\tremaining: 2h 30m 41s\n",
      "180:\tlearn: 0.5942967\ttotal: 33m 10s\tremaining: 2h 30m 7s\n",
      "183:\tlearn: 0.5911738\ttotal: 33m 43s\tremaining: 2h 29m 32s\n",
      "186:\tlearn: 0.5878914\ttotal: 34m 16s\tremaining: 2h 28m 59s\n",
      "189:\tlearn: 0.5842696\ttotal: 34m 49s\tremaining: 2h 28m 28s\n",
      "192:\tlearn: 0.5813829\ttotal: 35m 22s\tremaining: 2h 27m 55s\n",
      "195:\tlearn: 0.5786994\ttotal: 35m 55s\tremaining: 2h 27m 20s\n",
      "198:\tlearn: 0.5755628\ttotal: 36m 28s\tremaining: 2h 26m 47s\n",
      "201:\tlearn: 0.5728246\ttotal: 37m\tremaining: 2h 26m 12s\n",
      "204:\tlearn: 0.5699552\ttotal: 37m 33s\tremaining: 2h 25m 39s\n",
      "207:\tlearn: 0.5671807\ttotal: 38m 6s\tremaining: 2h 25m 5s\n",
      "210:\tlearn: 0.5644548\ttotal: 38m 39s\tremaining: 2h 24m 33s\n",
      "213:\tlearn: 0.5617223\ttotal: 39m 11s\tremaining: 2h 23m 57s\n",
      "216:\tlearn: 0.5593770\ttotal: 39m 44s\tremaining: 2h 23m 22s\n",
      "219:\tlearn: 0.5569602\ttotal: 40m 16s\tremaining: 2h 22m 48s\n",
      "222:\tlearn: 0.5542950\ttotal: 40m 49s\tremaining: 2h 22m 15s\n",
      "225:\tlearn: 0.5516527\ttotal: 41m 22s\tremaining: 2h 21m 41s\n",
      "228:\tlearn: 0.5496575\ttotal: 41m 54s\tremaining: 2h 21m 5s\n",
      "231:\tlearn: 0.5475193\ttotal: 42m 26s\tremaining: 2h 20m 31s\n",
      "234:\tlearn: 0.5454522\ttotal: 42m 59s\tremaining: 2h 19m 56s\n",
      "237:\tlearn: 0.5431863\ttotal: 43m 32s\tremaining: 2h 19m 23s\n",
      "240:\tlearn: 0.5410942\ttotal: 44m 4s\tremaining: 2h 18m 47s\n",
      "243:\tlearn: 0.5385814\ttotal: 44m 37s\tremaining: 2h 18m 14s\n",
      "246:\tlearn: 0.5365366\ttotal: 45m 9s\tremaining: 2h 17m 40s\n",
      "249:\tlearn: 0.5343218\ttotal: 45m 42s\tremaining: 2h 17m 7s\n",
      "252:\tlearn: 0.5322656\ttotal: 46m 15s\tremaining: 2h 16m 34s\n",
      "255:\tlearn: 0.5303802\ttotal: 46m 47s\tremaining: 2h 16m\n",
      "258:\tlearn: 0.5276192\ttotal: 47m 20s\tremaining: 2h 15m 25s\n",
      "261:\tlearn: 0.5256807\ttotal: 47m 52s\tremaining: 2h 14m 51s\n",
      "264:\tlearn: 0.5234249\ttotal: 48m 25s\tremaining: 2h 14m 18s\n",
      "267:\tlearn: 0.5209443\ttotal: 48m 58s\tremaining: 2h 13m 46s\n",
      "270:\tlearn: 0.5190610\ttotal: 49m 31s\tremaining: 2h 13m 12s\n",
      "273:\tlearn: 0.5170795\ttotal: 50m 3s\tremaining: 2h 12m 37s\n",
      "276:\tlearn: 0.5153238\ttotal: 50m 35s\tremaining: 2h 12m 3s\n",
      "279:\tlearn: 0.5134741\ttotal: 51m 8s\tremaining: 2h 11m 30s\n",
      "282:\tlearn: 0.5115021\ttotal: 51m 41s\tremaining: 2h 10m 57s\n",
      "285:\tlearn: 0.5094388\ttotal: 52m 14s\tremaining: 2h 10m 24s\n",
      "288:\tlearn: 0.5077401\ttotal: 52m 46s\tremaining: 2h 9m 49s\n",
      "291:\tlearn: 0.5060411\ttotal: 53m 18s\tremaining: 2h 9m 14s\n",
      "294:\tlearn: 0.5044317\ttotal: 53m 50s\tremaining: 2h 8m 41s\n",
      "297:\tlearn: 0.5027201\ttotal: 54m 23s\tremaining: 2h 8m 7s\n",
      "300:\tlearn: 0.5012672\ttotal: 54m 56s\tremaining: 2h 7m 35s\n",
      "303:\tlearn: 0.4997521\ttotal: 55m 28s\tremaining: 2h 7m\n",
      "306:\tlearn: 0.4975367\ttotal: 56m 1s\tremaining: 2h 6m 27s\n",
      "309:\tlearn: 0.4958941\ttotal: 56m 33s\tremaining: 2h 5m 53s\n",
      "312:\tlearn: 0.4940558\ttotal: 57m 6s\tremaining: 2h 5m 21s\n",
      "315:\tlearn: 0.4927530\ttotal: 57m 39s\tremaining: 2h 4m 48s\n",
      "318:\tlearn: 0.4908859\ttotal: 58m 11s\tremaining: 2h 4m 13s\n",
      "321:\tlearn: 0.4892661\ttotal: 58m 43s\tremaining: 2h 3m 40s\n",
      "324:\tlearn: 0.4874854\ttotal: 59m 17s\tremaining: 2h 3m 7s\n",
      "327:\tlearn: 0.4859546\ttotal: 59m 49s\tremaining: 2h 2m 34s\n",
      "330:\tlearn: 0.4844673\ttotal: 1h 23s\tremaining: 2h 2m 3s\n",
      "333:\tlearn: 0.4831753\ttotal: 1h 55s\tremaining: 2h 1m 29s\n",
      "336:\tlearn: 0.4818541\ttotal: 1h 1m 27s\tremaining: 2h 55s\n",
      "339:\tlearn: 0.4804167\ttotal: 1h 2m\tremaining: 2h 21s\n",
      "342:\tlearn: 0.4790783\ttotal: 1h 2m 32s\tremaining: 1h 59m 48s\n",
      "345:\tlearn: 0.4776783\ttotal: 1h 3m 5s\tremaining: 1h 59m 15s\n",
      "348:\tlearn: 0.4764566\ttotal: 1h 3m 37s\tremaining: 1h 58m 41s\n",
      "351:\tlearn: 0.4744499\ttotal: 1h 4m 10s\tremaining: 1h 58m 8s\n",
      "354:\tlearn: 0.4727986\ttotal: 1h 4m 43s\tremaining: 1h 57m 35s\n",
      "357:\tlearn: 0.4714594\ttotal: 1h 5m 15s\tremaining: 1h 57m 2s\n",
      "360:\tlearn: 0.4703261\ttotal: 1h 5m 48s\tremaining: 1h 56m 28s\n",
      "363:\tlearn: 0.4686423\ttotal: 1h 6m 21s\tremaining: 1h 55m 56s\n",
      "366:\tlearn: 0.4672296\ttotal: 1h 6m 53s\tremaining: 1h 55m 22s\n",
      "369:\tlearn: 0.4659779\ttotal: 1h 7m 25s\tremaining: 1h 54m 48s\n",
      "372:\tlearn: 0.4648682\ttotal: 1h 7m 58s\tremaining: 1h 54m 16s\n",
      "375:\tlearn: 0.4637024\ttotal: 1h 8m 31s\tremaining: 1h 53m 43s\n",
      "378:\tlearn: 0.4626540\ttotal: 1h 9m 3s\tremaining: 1h 53m 9s\n",
      "381:\tlearn: 0.4615431\ttotal: 1h 9m 35s\tremaining: 1h 52m 35s\n",
      "384:\tlearn: 0.4604146\ttotal: 1h 10m 8s\tremaining: 1h 52m 2s\n",
      "387:\tlearn: 0.4593109\ttotal: 1h 10m 40s\tremaining: 1h 51m 29s\n",
      "390:\tlearn: 0.4582912\ttotal: 1h 11m 13s\tremaining: 1h 50m 56s\n",
      "393:\tlearn: 0.4570443\ttotal: 1h 11m 45s\tremaining: 1h 50m 21s\n",
      "396:\tlearn: 0.4559859\ttotal: 1h 12m 17s\tremaining: 1h 49m 47s\n",
      "399:\tlearn: 0.4548688\ttotal: 1h 12m 50s\tremaining: 1h 49m 15s\n",
      "402:\tlearn: 0.4538633\ttotal: 1h 13m 22s\tremaining: 1h 48m 41s\n",
      "405:\tlearn: 0.4528929\ttotal: 1h 13m 54s\tremaining: 1h 48m 8s\n",
      "408:\tlearn: 0.4519100\ttotal: 1h 14m 26s\tremaining: 1h 47m 33s\n",
      "411:\tlearn: 0.4506980\ttotal: 1h 14m 58s\tremaining: 1h 47m\n",
      "414:\tlearn: 0.4495102\ttotal: 1h 15m 31s\tremaining: 1h 46m 27s\n",
      "417:\tlearn: 0.4483475\ttotal: 1h 16m 3s\tremaining: 1h 45m 54s\n",
      "420:\tlearn: 0.4474141\ttotal: 1h 16m 35s\tremaining: 1h 45m 19s\n",
      "423:\tlearn: 0.4454116\ttotal: 1h 17m 8s\tremaining: 1h 44m 47s\n",
      "426:\tlearn: 0.4442871\ttotal: 1h 17m 40s\tremaining: 1h 44m 14s\n",
      "429:\tlearn: 0.4430917\ttotal: 1h 18m 13s\tremaining: 1h 43m 41s\n",
      "432:\tlearn: 0.4419952\ttotal: 1h 18m 46s\tremaining: 1h 43m 8s\n",
      "435:\tlearn: 0.4410120\ttotal: 1h 19m 17s\tremaining: 1h 42m 34s\n",
      "438:\tlearn: 0.4401847\ttotal: 1h 19m 49s\tremaining: 1h 42m\n",
      "441:\tlearn: 0.4393419\ttotal: 1h 20m 22s\tremaining: 1h 41m 27s\n",
      "444:\tlearn: 0.4385664\ttotal: 1h 20m 54s\tremaining: 1h 40m 54s\n",
      "447:\tlearn: 0.4373398\ttotal: 1h 21m 27s\tremaining: 1h 40m 21s\n",
      "450:\tlearn: 0.4365697\ttotal: 1h 21m 58s\tremaining: 1h 39m 47s\n",
      "453:\tlearn: 0.4355977\ttotal: 1h 22m 31s\tremaining: 1h 39m 14s\n",
      "456:\tlearn: 0.4346967\ttotal: 1h 23m 3s\tremaining: 1h 38m 41s\n",
      "459:\tlearn: 0.4337684\ttotal: 1h 23m 36s\tremaining: 1h 38m 8s\n",
      "462:\tlearn: 0.4329090\ttotal: 1h 24m 7s\tremaining: 1h 37m 34s\n",
      "465:\tlearn: 0.4318704\ttotal: 1h 24m 39s\tremaining: 1h 37m 1s\n",
      "468:\tlearn: 0.4310206\ttotal: 1h 25m 12s\tremaining: 1h 36m 27s\n",
      "471:\tlearn: 0.4303099\ttotal: 1h 25m 44s\tremaining: 1h 35m 54s\n",
      "474:\tlearn: 0.4295657\ttotal: 1h 26m 15s\tremaining: 1h 35m 20s\n",
      "477:\tlearn: 0.4289111\ttotal: 1h 26m 47s\tremaining: 1h 34m 47s\n",
      "480:\tlearn: 0.4280709\ttotal: 1h 27m 19s\tremaining: 1h 34m 13s\n",
      "483:\tlearn: 0.4272202\ttotal: 1h 27m 52s\tremaining: 1h 33m 40s\n",
      "486:\tlearn: 0.4264907\ttotal: 1h 28m 23s\tremaining: 1h 33m 6s\n",
      "489:\tlearn: 0.4257390\ttotal: 1h 28m 55s\tremaining: 1h 32m 33s\n",
      "492:\tlearn: 0.4243599\ttotal: 1h 29m 29s\tremaining: 1h 32m 1s\n",
      "495:\tlearn: 0.4236837\ttotal: 1h 30m 1s\tremaining: 1h 31m 28s\n",
      "498:\tlearn: 0.4228708\ttotal: 1h 30m 33s\tremaining: 1h 30m 55s\n",
      "501:\tlearn: 0.4222965\ttotal: 1h 31m 4s\tremaining: 1h 30m 21s\n",
      "504:\tlearn: 0.4215170\ttotal: 1h 31m 36s\tremaining: 1h 29m 48s\n",
      "507:\tlearn: 0.4208924\ttotal: 1h 32m 9s\tremaining: 1h 29m 14s\n",
      "510:\tlearn: 0.4199298\ttotal: 1h 32m 42s\tremaining: 1h 28m 42s\n",
      "513:\tlearn: 0.4193352\ttotal: 1h 33m 13s\tremaining: 1h 28m 8s\n",
      "516:\tlearn: 0.4185406\ttotal: 1h 33m 45s\tremaining: 1h 27m 35s\n",
      "519:\tlearn: 0.4176914\ttotal: 1h 34m 17s\tremaining: 1h 27m 2s\n",
      "522:\tlearn: 0.4170105\ttotal: 1h 34m 49s\tremaining: 1h 26m 29s\n",
      "525:\tlearn: 0.4163929\ttotal: 1h 35m 21s\tremaining: 1h 25m 55s\n",
      "528:\tlearn: 0.4157164\ttotal: 1h 35m 53s\tremaining: 1h 25m 22s\n",
      "531:\tlearn: 0.4147798\ttotal: 1h 36m 25s\tremaining: 1h 24m 49s\n",
      "534:\tlearn: 0.4142056\ttotal: 1h 36m 57s\tremaining: 1h 24m 16s\n",
      "537:\tlearn: 0.4135316\ttotal: 1h 37m 29s\tremaining: 1h 23m 43s\n",
      "540:\tlearn: 0.4127294\ttotal: 1h 38m 1s\tremaining: 1h 23m 10s\n",
      "543:\tlearn: 0.4119543\ttotal: 1h 38m 34s\tremaining: 1h 22m 37s\n",
      "546:\tlearn: 0.4110959\ttotal: 1h 39m 7s\tremaining: 1h 22m 5s\n",
      "549:\tlearn: 0.4103855\ttotal: 1h 39m 39s\tremaining: 1h 21m 32s\n",
      "552:\tlearn: 0.4095827\ttotal: 1h 40m 11s\tremaining: 1h 20m 59s\n",
      "555:\tlearn: 0.4090880\ttotal: 1h 40m 43s\tremaining: 1h 20m 25s\n",
      "558:\tlearn: 0.4082721\ttotal: 1h 41m 15s\tremaining: 1h 19m 52s\n",
      "561:\tlearn: 0.4076154\ttotal: 1h 41m 47s\tremaining: 1h 19m 20s\n",
      "564:\tlearn: 0.4069608\ttotal: 1h 42m 19s\tremaining: 1h 18m 46s\n",
      "567:\tlearn: 0.4063838\ttotal: 1h 42m 51s\tremaining: 1h 18m 13s\n",
      "570:\tlearn: 0.4058088\ttotal: 1h 43m 24s\tremaining: 1h 17m 41s\n",
      "573:\tlearn: 0.4051399\ttotal: 1h 43m 56s\tremaining: 1h 17m 8s\n",
      "576:\tlearn: 0.4045391\ttotal: 1h 44m 28s\tremaining: 1h 16m 35s\n",
      "579:\tlearn: 0.4040618\ttotal: 1h 45m\tremaining: 1h 16m 2s\n",
      "582:\tlearn: 0.4035753\ttotal: 1h 45m 32s\tremaining: 1h 15m 29s\n",
      "585:\tlearn: 0.4029400\ttotal: 1h 46m 4s\tremaining: 1h 14m 56s\n",
      "588:\tlearn: 0.4023171\ttotal: 1h 46m 35s\tremaining: 1h 14m 23s\n",
      "591:\tlearn: 0.4019606\ttotal: 1h 47m 7s\tremaining: 1h 13m 49s\n",
      "594:\tlearn: 0.4011860\ttotal: 1h 47m 40s\tremaining: 1h 13m 17s\n",
      "597:\tlearn: 0.4005463\ttotal: 1h 48m 14s\tremaining: 1h 12m 45s\n",
      "600:\tlearn: 0.4001478\ttotal: 1h 48m 47s\tremaining: 1h 12m 13s\n",
      "603:\tlearn: 0.3995778\ttotal: 1h 49m 21s\tremaining: 1h 11m 41s\n",
      "606:\tlearn: 0.3991974\ttotal: 1h 49m 53s\tremaining: 1h 11m 8s\n",
      "609:\tlearn: 0.3987272\ttotal: 1h 50m 25s\tremaining: 1h 10m 36s\n",
      "612:\tlearn: 0.3982383\ttotal: 1h 50m 58s\tremaining: 1h 10m 3s\n",
      "615:\tlearn: 0.3976294\ttotal: 1h 51m 31s\tremaining: 1h 9m 31s\n",
      "618:\tlearn: 0.3973239\ttotal: 1h 52m 4s\tremaining: 1h 8m 58s\n",
      "621:\tlearn: 0.3966912\ttotal: 1h 52m 36s\tremaining: 1h 8m 26s\n",
      "624:\tlearn: 0.3961383\ttotal: 1h 53m 9s\tremaining: 1h 7m 53s\n",
      "627:\tlearn: 0.3955300\ttotal: 1h 53m 42s\tremaining: 1h 7m 21s\n",
      "630:\tlearn: 0.3947888\ttotal: 1h 54m 15s\tremaining: 1h 6m 49s\n",
      "633:\tlearn: 0.3946294\ttotal: 1h 54m 48s\tremaining: 1h 6m 16s\n",
      "636:\tlearn: 0.3941677\ttotal: 1h 55m 21s\tremaining: 1h 5m 44s\n",
      "639:\tlearn: 0.3937324\ttotal: 1h 55m 52s\tremaining: 1h 5m 11s\n",
      "642:\tlearn: 0.3933578\ttotal: 1h 56m 25s\tremaining: 1h 4m 38s\n",
      "645:\tlearn: 0.3927810\ttotal: 1h 56m 58s\tremaining: 1h 4m 5s\n",
      "648:\tlearn: 0.3924407\ttotal: 1h 57m 31s\tremaining: 1h 3m 33s\n",
      "651:\tlearn: 0.3918293\ttotal: 1h 58m 4s\tremaining: 1h 3m 1s\n",
      "654:\tlearn: 0.3916029\ttotal: 1h 58m 36s\tremaining: 1h 2m 28s\n",
      "657:\tlearn: 0.3905719\ttotal: 1h 59m 9s\tremaining: 1h 1m 56s\n",
      "660:\tlearn: 0.3902651\ttotal: 1h 59m 42s\tremaining: 1h 1m 23s\n",
      "663:\tlearn: 0.3899403\ttotal: 2h 14s\tremaining: 1h 50s\n",
      "666:\tlearn: 0.3895210\ttotal: 2h 47s\tremaining: 1h 18s\n",
      "669:\tlearn: 0.3891647\ttotal: 2h 1m 19s\tremaining: 59m 45s\n",
      "672:\tlearn: 0.3886992\ttotal: 2h 1m 51s\tremaining: 59m 12s\n",
      "675:\tlearn: 0.3882654\ttotal: 2h 2m 24s\tremaining: 58m 40s\n",
      "678:\tlearn: 0.3880758\ttotal: 2h 2m 57s\tremaining: 58m 7s\n",
      "681:\tlearn: 0.3878772\ttotal: 2h 3m 29s\tremaining: 57m 35s\n",
      "684:\tlearn: 0.3871961\ttotal: 2h 4m 2s\tremaining: 57m 2s\n",
      "687:\tlearn: 0.3866765\ttotal: 2h 4m 34s\tremaining: 56m 29s\n",
      "690:\tlearn: 0.3863989\ttotal: 2h 5m 7s\tremaining: 55m 57s\n",
      "693:\tlearn: 0.3861066\ttotal: 2h 5m 39s\tremaining: 55m 24s\n",
      "696:\tlearn: 0.3856822\ttotal: 2h 6m 12s\tremaining: 54m 51s\n",
      "699:\tlearn: 0.3854701\ttotal: 2h 6m 44s\tremaining: 54m 19s\n",
      "702:\tlearn: 0.3851665\ttotal: 2h 7m 16s\tremaining: 53m 46s\n",
      "705:\tlearn: 0.3848595\ttotal: 2h 7m 49s\tremaining: 53m 13s\n",
      "708:\tlearn: 0.3846826\ttotal: 2h 8m 21s\tremaining: 52m 41s\n",
      "711:\tlearn: 0.3842763\ttotal: 2h 8m 54s\tremaining: 52m 8s\n",
      "714:\tlearn: 0.3839984\ttotal: 2h 9m 26s\tremaining: 51m 35s\n",
      "717:\tlearn: 0.3836783\ttotal: 2h 9m 58s\tremaining: 51m 3s\n",
      "720:\tlearn: 0.3833575\ttotal: 2h 10m 31s\tremaining: 50m 30s\n",
      "723:\tlearn: 0.3830678\ttotal: 2h 11m 4s\tremaining: 49m 57s\n",
      "726:\tlearn: 0.3826922\ttotal: 2h 11m 36s\tremaining: 49m 25s\n",
      "729:\tlearn: 0.3822691\ttotal: 2h 12m 8s\tremaining: 48m 52s\n",
      "732:\tlearn: 0.3819344\ttotal: 2h 12m 41s\tremaining: 48m 20s\n",
      "735:\tlearn: 0.3815520\ttotal: 2h 13m 14s\tremaining: 47m 47s\n",
      "738:\tlearn: 0.3812586\ttotal: 2h 13m 47s\tremaining: 47m 15s\n",
      "741:\tlearn: 0.3811257\ttotal: 2h 14m 20s\tremaining: 46m 42s\n",
      "744:\tlearn: 0.3806271\ttotal: 2h 14m 53s\tremaining: 46m 10s\n",
      "747:\tlearn: 0.3803541\ttotal: 2h 15m 25s\tremaining: 45m 37s\n",
      "750:\tlearn: 0.3802414\ttotal: 2h 15m 58s\tremaining: 45m 4s\n",
      "753:\tlearn: 0.3796571\ttotal: 2h 16m 31s\tremaining: 44m 32s\n",
      "756:\tlearn: 0.3793027\ttotal: 2h 17m 4s\tremaining: 44m\n",
      "759:\tlearn: 0.3790850\ttotal: 2h 17m 37s\tremaining: 43m 27s\n",
      "762:\tlearn: 0.3789186\ttotal: 2h 18m 9s\tremaining: 42m 54s\n",
      "765:\tlearn: 0.3786980\ttotal: 2h 18m 41s\tremaining: 42m 22s\n",
      "768:\tlearn: 0.3784960\ttotal: 2h 19m 14s\tremaining: 41m 49s\n",
      "771:\tlearn: 0.3778577\ttotal: 2h 19m 47s\tremaining: 41m 17s\n",
      "774:\tlearn: 0.3775801\ttotal: 2h 20m 20s\tremaining: 40m 44s\n",
      "777:\tlearn: 0.3772577\ttotal: 2h 20m 52s\tremaining: 40m 11s\n",
      "780:\tlearn: 0.3770520\ttotal: 2h 21m 24s\tremaining: 39m 39s\n",
      "783:\tlearn: 0.3768932\ttotal: 2h 21m 57s\tremaining: 39m 6s\n",
      "786:\tlearn: 0.3766349\ttotal: 2h 22m 29s\tremaining: 38m 34s\n",
      "789:\tlearn: 0.3762160\ttotal: 2h 23m 3s\tremaining: 38m 1s\n",
      "792:\tlearn: 0.3760444\ttotal: 2h 23m 34s\tremaining: 37m 28s\n",
      "795:\tlearn: 0.3757790\ttotal: 2h 24m 7s\tremaining: 36m 56s\n",
      "798:\tlearn: 0.3755282\ttotal: 2h 24m 40s\tremaining: 36m 23s\n",
      "801:\tlearn: 0.3753704\ttotal: 2h 25m 13s\tremaining: 35m 51s\n",
      "804:\tlearn: 0.3751332\ttotal: 2h 25m 46s\tremaining: 35m 18s\n",
      "807:\tlearn: 0.3747750\ttotal: 2h 26m 20s\tremaining: 34m 46s\n",
      "810:\tlearn: 0.3744200\ttotal: 2h 26m 52s\tremaining: 34m 13s\n",
      "813:\tlearn: 0.3741844\ttotal: 2h 27m 25s\tremaining: 33m 41s\n",
      "816:\tlearn: 0.3740181\ttotal: 2h 27m 58s\tremaining: 33m 8s\n",
      "819:\tlearn: 0.3737941\ttotal: 2h 28m 31s\tremaining: 32m 36s\n",
      "822:\tlearn: 0.3735985\ttotal: 2h 29m 4s\tremaining: 32m 3s\n",
      "825:\tlearn: 0.3734936\ttotal: 2h 29m 36s\tremaining: 31m 30s\n",
      "828:\tlearn: 0.3733456\ttotal: 2h 30m 9s\tremaining: 30m 58s\n",
      "831:\tlearn: 0.3731795\ttotal: 2h 30m 41s\tremaining: 30m 25s\n",
      "834:\tlearn: 0.3727579\ttotal: 2h 31m 15s\tremaining: 29m 53s\n",
      "837:\tlearn: 0.3726647\ttotal: 2h 31m 47s\tremaining: 29m 20s\n",
      "840:\tlearn: 0.3723218\ttotal: 2h 32m 20s\tremaining: 28m 48s\n",
      "843:\tlearn: 0.3721671\ttotal: 2h 32m 53s\tremaining: 28m 15s\n",
      "846:\tlearn: 0.3720246\ttotal: 2h 33m 26s\tremaining: 27m 42s\n",
      "849:\tlearn: 0.3718907\ttotal: 2h 33m 59s\tremaining: 27m 10s\n",
      "852:\tlearn: 0.3717458\ttotal: 2h 34m 31s\tremaining: 26m 37s\n",
      "855:\tlearn: 0.3715942\ttotal: 2h 35m 5s\tremaining: 26m 5s\n",
      "858:\tlearn: 0.3713566\ttotal: 2h 35m 37s\tremaining: 25m 32s\n",
      "861:\tlearn: 0.3711084\ttotal: 2h 36m 9s\tremaining: 25m\n",
      "864:\tlearn: 0.3709182\ttotal: 2h 36m 42s\tremaining: 24m 27s\n",
      "867:\tlearn: 0.3706841\ttotal: 2h 37m 16s\tremaining: 23m 54s\n",
      "870:\tlearn: 0.3704867\ttotal: 2h 37m 49s\tremaining: 23m 22s\n",
      "873:\tlearn: 0.3702618\ttotal: 2h 38m 22s\tremaining: 22m 49s\n",
      "876:\tlearn: 0.3701920\ttotal: 2h 38m 54s\tremaining: 22m 17s\n",
      "879:\tlearn: 0.3699615\ttotal: 2h 39m 27s\tremaining: 21m 44s\n",
      "882:\tlearn: 0.3698431\ttotal: 2h 40m 1s\tremaining: 21m 12s\n",
      "885:\tlearn: 0.3697054\ttotal: 2h 40m 34s\tremaining: 20m 39s\n",
      "888:\tlearn: 0.3694104\ttotal: 2h 41m 8s\tremaining: 20m 7s\n",
      "891:\tlearn: 0.3692366\ttotal: 2h 41m 41s\tremaining: 19m 34s\n",
      "894:\tlearn: 0.3691080\ttotal: 2h 42m 14s\tremaining: 19m 1s\n",
      "897:\tlearn: 0.3690530\ttotal: 2h 42m 46s\tremaining: 18m 29s\n",
      "900:\tlearn: 0.3688963\ttotal: 2h 43m 19s\tremaining: 17m 56s\n",
      "903:\tlearn: 0.3686142\ttotal: 2h 43m 52s\tremaining: 17m 24s\n",
      "906:\tlearn: 0.3684173\ttotal: 2h 44m 25s\tremaining: 16m 51s\n",
      "909:\tlearn: 0.3682228\ttotal: 2h 44m 58s\tremaining: 16m 19s\n",
      "912:\tlearn: 0.3680987\ttotal: 2h 45m 30s\tremaining: 15m 46s\n",
      "915:\tlearn: 0.3679919\ttotal: 2h 46m 3s\tremaining: 15m 13s\n",
      "918:\tlearn: 0.3678216\ttotal: 2h 46m 35s\tremaining: 14m 41s\n",
      "921:\tlearn: 0.3677271\ttotal: 2h 47m 8s\tremaining: 14m 8s\n",
      "924:\tlearn: 0.3675671\ttotal: 2h 47m 41s\tremaining: 13m 35s\n",
      "927:\tlearn: 0.3674693\ttotal: 2h 48m 13s\tremaining: 13m 3s\n",
      "930:\tlearn: 0.3673943\ttotal: 2h 48m 45s\tremaining: 12m 30s\n",
      "933:\tlearn: 0.3672060\ttotal: 2h 49m 18s\tremaining: 11m 57s\n",
      "936:\tlearn: 0.3671137\ttotal: 2h 49m 50s\tremaining: 11m 25s\n",
      "939:\tlearn: 0.3668555\ttotal: 2h 50m 23s\tremaining: 10m 52s\n",
      "942:\tlearn: 0.3667377\ttotal: 2h 50m 55s\tremaining: 10m 19s\n",
      "945:\tlearn: 0.3665975\ttotal: 2h 51m 27s\tremaining: 9m 47s\n",
      "948:\tlearn: 0.3664385\ttotal: 2h 52m\tremaining: 9m 14s\n",
      "951:\tlearn: 0.3661540\ttotal: 2h 52m 32s\tremaining: 8m 41s\n",
      "954:\tlearn: 0.3661237\ttotal: 2h 53m 4s\tremaining: 8m 9s\n",
      "957:\tlearn: 0.3660839\ttotal: 2h 53m 37s\tremaining: 7m 36s\n",
      "960:\tlearn: 0.3660190\ttotal: 2h 54m 9s\tremaining: 7m 4s\n",
      "963:\tlearn: 0.3658589\ttotal: 2h 54m 42s\tremaining: 6m 31s\n",
      "966:\tlearn: 0.3657810\ttotal: 2h 55m 14s\tremaining: 5m 58s\n",
      "969:\tlearn: 0.3656710\ttotal: 2h 55m 46s\tremaining: 5m 26s\n",
      "972:\tlearn: 0.3655638\ttotal: 2h 56m 18s\tremaining: 4m 53s\n",
      "975:\tlearn: 0.3654826\ttotal: 2h 56m 51s\tremaining: 4m 20s\n",
      "978:\tlearn: 0.3652684\ttotal: 2h 57m 23s\tremaining: 3m 48s\n",
      "981:\tlearn: 0.3651339\ttotal: 2h 57m 55s\tremaining: 3m 15s\n",
      "984:\tlearn: 0.3649587\ttotal: 2h 58m 27s\tremaining: 2m 43s\n",
      "987:\tlearn: 0.3648236\ttotal: 2h 58m 59s\tremaining: 2m 10s\n",
      "990:\tlearn: 0.3645658\ttotal: 2h 59m 32s\tremaining: 1m 37s\n",
      "993:\tlearn: 0.3645212\ttotal: 3h 5s\tremaining: 1m 5s\n",
      "996:\tlearn: 0.3644690\ttotal: 3h 36s\tremaining: 32.6s\n",
      "999:\tlearn: 0.3643967\ttotal: 3h 1m 9s\tremaining: 0us\n"
     ]
    }
   ],
   "source": [
    "cat = CatBoostClassifier().fit(bow_data, labels, verbose=3)"
   ],
   "metadata": {
    "pycharm": {
     "name": "#%%\n",
     "is_executing": true
    },
    "colab": {
     "base_uri": "https://localhost:8080/"
    },
    "id": "0P5ZumBhJ-38",
    "outputId": "c0e89f07-6454-41f0-e9c4-995df0bea4a2"
   }
  },
  {
   "cell_type": "code",
   "execution_count": null,
   "outputs": [],
   "source": [
    "y_pred = cat.predict(bow_test)"
   ],
   "metadata": {
    "pycharm": {
     "name": "#%%\n"
    },
    "id": "TLF9B0kQJ-39"
   }
  },
  {
   "cell_type": "code",
   "source": [
    "def replace_labels(lst):\n",
    "  result = []\n",
    "  labels=['world', 'sports', 'business', 'sci-tech']\n",
    "  for i in range(len(lst)):\n",
    "      print(lst)\n",
    "      #lst.lo[i] = labels[int(lst[i])-1]"
   ],
   "metadata": {
    "id": "mOXDN-_YSLlA",
    "pycharm": {
     "name": "#%%\n"
    }
   },
   "execution_count": null,
   "outputs": []
  },
  {
   "cell_type": "code",
   "source": [
    "labels=['world', 'sports', 'business', 'sci-tech']\n",
    "result = []\n",
    "for each in y_pred: \n",
    "  result.append(labels[int(each) -1])"
   ],
   "metadata": {
    "id": "LLD4FCwoTHnT",
    "pycharm": {
     "name": "#%%\n"
    }
   },
   "execution_count": null,
   "outputs": []
  },
  {
   "cell_type": "code",
   "source": [
    "labels=['world', 'sports', 'business', 'sci-tech']\n",
    "preds = []\n",
    "i = 0\n",
    "for each in test_labels: \n",
    "  if i == 0:\n",
    "    preds.append(each)\n",
    "  else: \n",
    "    preds.append(labels[int(each) -1])\n",
    "  i += 1\n",
    "  #result.append(labels[int(each) -1])"
   ],
   "metadata": {
    "id": "xpKMQ5_jVDEh",
    "pycharm": {
     "name": "#%%\n"
    }
   },
   "execution_count": null,
   "outputs": []
  },
  {
   "cell_type": "code",
   "source": [
    "conf_mat = metrics.confusion_matrix(result, preds, labels=['world', 'sports', 'business', 'sci-tech'])\n",
    "fig, ax = plt.subplots(figsize=(8,8))\n",
    "sns.heatmap(conf_mat, annot=True, cmap=\"Blues\", fmt='d')\n",
    "plt.ylabel('Actual')\n",
    "plt.xlabel('Predicted')\n",
    "plt.title(\"CONFUSION MATRIX Catboost\\n\", size=16)"
   ],
   "metadata": {
    "colab": {
     "base_uri": "https://localhost:8080/",
     "height": 760
    },
    "id": "NU5-WAtYVZkM",
    "outputId": "1b05a6ea-c621-4b52-c46f-05c6a3c43662",
    "pycharm": {
     "name": "#%%\n"
    }
   },
   "execution_count": null,
   "outputs": [
    {
     "output_type": "execute_result",
     "data": {
      "text/plain": [
       "Text(0.5, 1.0, 'CONFUSION MATRIX Catboost\\n')"
      ]
     },
     "metadata": {},
     "execution_count": 81
    },
    {
     "output_type": "display_data",
     "data": {
      "text/plain": [
       "<Figure size 800x800 with 2 Axes>"
      ],
      "image/png": "[encoded data removed]"
     },
     "metadata": {}
    }
   ]
  },
  {
   "cell_type": "code",
   "source": [],
   "metadata": {
    "colab": {
     "base_uri": "https://localhost:8080/"
    },
    "id": "ArgkYDyRRo20",
    "outputId": "e0e426e8-a5cc-4d27-b6be-c92baedd014f",
    "pycharm": {
     "name": "#%%\n"
    }
   },
   "execution_count": null,
   "outputs": [
    {
     "output_type": "execute_result",
     "data": {
      "text/plain": [
       "array([[1712,   66,   65,   57],\n",
       "       [  25, 1837,   19,   19],\n",
       "       [  71,   38, 1609,  182],\n",
       "       [  69,   47,  137, 1647]])"
      ]
     },
     "metadata": {},
     "execution_count": 27
    }
   ]
  },
  {
   "cell_type": "code",
   "source": [
    "accuracy = metrics.accuracy_score(test_labels, y_pred)\n",
    "f1_score_micro = metrics.f1_score(test_labels, y_pred, average='micro')\n",
    "f1_score_macro = metrics.f1_score(test_labels, y_pred, average='macro')\n",
    "print(f\"Accuracy Score = {accuracy}\")\n",
    "print(f\"F1 Score (Micro) = {f1_score_micro}\")\n",
    "print(f\"F1 Score (Macro) = {f1_score_macro}\")"
   ],
   "metadata": {
    "colab": {
     "base_uri": "https://localhost:8080/"
    },
    "id": "7EKEfUdL57vH",
    "outputId": "7e387f43-20cc-495e-aa25-afe442855b62",
    "pycharm": {
     "name": "#%%\n"
    }
   },
   "execution_count": null,
   "outputs": [
    {
     "output_type": "stream",
     "name": "stdout",
     "text": [
      "Accuracy Score = 0.8953947368421052\n",
      "F1 Score (Micro) = 0.8953947368421051\n",
      "F1 Score (Macro) = 0.8949840090511589\n"
     ]
    }
   ]
  },
  {
   "cell_type": "markdown",
   "source": [
    "Эксперимент 2"
   ],
   "metadata": {
    "id": "hYK0jypRCirL",
    "pycharm": {
     "name": "#%% md\n"
    }
   }
  },
  {
   "cell_type": "code",
   "source": [],
   "metadata": {
    "id": "GbA5tlivC_HN",
    "pycharm": {
     "name": "#%%\n"
    }
   },
   "execution_count": null,
   "outputs": []
  },
  {
   "cell_type": "code",
   "source": [
    "def objective(trial):\n",
    "    global bow_train, y_train, bow_valid, y_valid\n",
    "\n",
    "    c = trial.suggest_float(\"svc_c\", 1e-1, 1e2, log=True)\n",
    "\n",
    "    clf = LinearSVC(C=c, random_state=3, class_weight='balanced', max_iter=100000)\n",
    "    clf.fit(bow_train, y_train)\n",
    "\n",
    "    return metrics.f1_score(clf.predict(bow_valid), y_valid, average='macro')\n",
    "\n",
    "\n",
    "study = optuna.create_study(direction=\"maximize\")\n",
    "study.optimize(objective, n_trials=10)\n",
    "print(study.best_trial)"
   ],
   "metadata": {
    "colab": {
     "base_uri": "https://localhost:8080/"
    },
    "id": "TpRDiw6_CmG2",
    "outputId": "bdfe0893-3746-480b-fd86-a6dd18e27399",
    "pycharm": {
     "name": "#%%\n"
    }
   },
   "execution_count": null,
   "outputs": [
    {
     "metadata": {
      "tags": null
     },
     "name": "stderr",
     "output_type": "stream",
     "text": [
      "\u001B[32m[I 2023-05-10 05:14:10,713]\u001B[0m A new study created in memory with name: no-name-77d2dbd5-d8f3-4d0c-8a31-f73e84d53886\u001B[0m\n",
      "\u001B[32m[I 2023-05-10 05:39:47,879]\u001B[0m Trial 0 finished with value: 0.9213035661273947 and parameters: {'svc_c': 7.023831709453853}. Best is trial 0 with value: 0.9213035661273947.\u001B[0m\n",
      "\u001B[32m[I 2023-05-10 05:41:12,047]\u001B[0m Trial 1 finished with value: 0.9252398702013964 and parameters: {'svc_c': 0.1072435158110205}. Best is trial 1 with value: 0.9252398702013964.\u001B[0m\n",
      "\u001B[32m[I 2023-05-10 06:00:31,605]\u001B[0m Trial 2 finished with value: 0.9217629084725589 and parameters: {'svc_c': 4.396206602144244}. Best is trial 1 with value: 0.9252398702013964.\u001B[0m\n",
      "\u001B[32m[I 2023-05-10 06:02:51,852]\u001B[0m Trial 3 finished with value: 0.9245365511474399 and parameters: {'svc_c': 0.21872764993982985}. Best is trial 1 with value: 0.9252398702013964.\u001B[0m\n",
      "\u001B[32m[I 2023-05-10 06:10:35,137]\u001B[0m Trial 4 finished with value: 0.922682114994904 and parameters: {'svc_c': 1.4019630429211}. Best is trial 1 with value: 0.9252398702013964.\u001B[0m\n",
      "\u001B[32m[I 2023-05-10 06:20:59,550]\u001B[0m Trial 5 finished with value: 0.9224235657321277 and parameters: {'svc_c': 2.035196321608278}. Best is trial 1 with value: 0.9252398702013964.\u001B[0m\n",
      "\u001B[32m[I 2023-05-10 06:26:16,939]\u001B[0m Trial 6 finished with value: 0.9237133110850587 and parameters: {'svc_c': 0.6529794151416903}. Best is trial 1 with value: 0.9252398702013964.\u001B[0m\n"
     ]
    }
   ]
  },
  {
   "cell_type": "code",
   "source": [
    "bow_data = bow_counts.fit_transform(train['content'])"
   ],
   "metadata": {
    "colab": {
     "base_uri": "https://localhost:8080/"
    },
    "id": "pRfKx-Lyft7L",
    "outputId": "c2e36770-d385-4938-965c-c1f4a95a7bd6",
    "pycharm": {
     "name": "#%%\n"
    }
   },
   "execution_count": null,
   "outputs": [
    {
     "output_type": "stream",
     "name": "stderr",
     "text": [
      "/usr/local/lib/python3.10/dist-packages/sklearn/feature_extraction/text.py:528: UserWarning: The parameter 'token_pattern' will not be used since 'tokenizer' is not None'\n",
      "  warnings.warn(\n"
     ]
    }
   ]
  },
  {
   "cell_type": "code",
   "source": [
    "bow_test = bow_counts.transform(test['content'])"
   ],
   "metadata": {
    "id": "iSLQrXrGkKnk",
    "pycharm": {
     "name": "#%%\n"
    }
   },
   "execution_count": null,
   "outputs": []
  },
  {
   "cell_type": "code",
   "source": [
    "clf = LinearSVC(C=0.1, random_state=3, class_weight='balanced', max_iter=100000)\n",
    "clf.fit(bow_data, labels)"
   ],
   "metadata": {
    "colab": {
     "base_uri": "https://localhost:8080/",
     "height": 75
    },
    "id": "HJQTMlQHEgLx",
    "outputId": "70645ab2-a8c8-4a0f-93f9-5eb8b6f93e6b",
    "pycharm": {
     "name": "#%%\n"
    }
   },
   "execution_count": null,
   "outputs": [
    {
     "output_type": "execute_result",
     "data": {
      "text/plain": [
       "LinearSVC(C=0.1, class_weight='balanced', max_iter=100000, random_state=3)"
      ],
      "text/html": [
       "<style>#sk-container-id-1 {color: black;background-color: white;}#sk-container-id-1 pre{padding: 0;}#sk-container-id-1 div.sk-toggleable {background-color: white;}#sk-container-id-1 label.sk-toggleable__label {cursor: pointer;display: block;width: 100%;margin-bottom: 0;padding: 0.3em;box-sizing: border-box;text-align: center;}#sk-container-id-1 label.sk-toggleable__label-arrow:before {content: \"▸\";float: left;margin-right: 0.25em;color: #696969;}#sk-container-id-1 label.sk-toggleable__label-arrow:hover:before {color: black;}#sk-container-id-1 div.sk-estimator:hover label.sk-toggleable__label-arrow:before {color: black;}#sk-container-id-1 div.sk-toggleable__content {max-height: 0;max-width: 0;overflow: hidden;text-align: left;background-color: #f0f8ff;}#sk-container-id-1 div.sk-toggleable__content pre {margin: 0.2em;color: black;border-radius: 0.25em;background-color: #f0f8ff;}#sk-container-id-1 input.sk-toggleable__control:checked~div.sk-toggleable__content {max-height: 200px;max-width: 100%;overflow: auto;}#sk-container-id-1 input.sk-toggleable__control:checked~label.sk-toggleable__label-arrow:before {content: \"▾\";}#sk-container-id-1 div.sk-estimator input.sk-toggleable__control:checked~label.sk-toggleable__label {background-color: #d4ebff;}#sk-container-id-1 div.sk-label input.sk-toggleable__control:checked~label.sk-toggleable__label {background-color: #d4ebff;}#sk-container-id-1 input.sk-hidden--visually {border: 0;clip: rect(1px 1px 1px 1px);clip: rect(1px, 1px, 1px, 1px);height: 1px;margin: -1px;overflow: hidden;padding: 0;position: absolute;width: 1px;}#sk-container-id-1 div.sk-estimator {font-family: monospace;background-color: #f0f8ff;border: 1px dotted black;border-radius: 0.25em;box-sizing: border-box;margin-bottom: 0.5em;}#sk-container-id-1 div.sk-estimator:hover {background-color: #d4ebff;}#sk-container-id-1 div.sk-parallel-item::after {content: \"\";width: 100%;border-bottom: 1px solid gray;flex-grow: 1;}#sk-container-id-1 div.sk-label:hover label.sk-toggleable__label {background-color: #d4ebff;}#sk-container-id-1 div.sk-serial::before {content: \"\";position: absolute;border-left: 1px solid gray;box-sizing: border-box;top: 0;bottom: 0;left: 50%;z-index: 0;}#sk-container-id-1 div.sk-serial {display: flex;flex-direction: column;align-items: center;background-color: white;padding-right: 0.2em;padding-left: 0.2em;position: relative;}#sk-container-id-1 div.sk-item {position: relative;z-index: 1;}#sk-container-id-1 div.sk-parallel {display: flex;align-items: stretch;justify-content: center;background-color: white;position: relative;}#sk-container-id-1 div.sk-item::before, #sk-container-id-1 div.sk-parallel-item::before {content: \"\";position: absolute;border-left: 1px solid gray;box-sizing: border-box;top: 0;bottom: 0;left: 50%;z-index: -1;}#sk-container-id-1 div.sk-parallel-item {display: flex;flex-direction: column;z-index: 1;position: relative;background-color: white;}#sk-container-id-1 div.sk-parallel-item:first-child::after {align-self: flex-end;width: 50%;}#sk-container-id-1 div.sk-parallel-item:last-child::after {align-self: flex-start;width: 50%;}#sk-container-id-1 div.sk-parallel-item:only-child::after {width: 0;}#sk-container-id-1 div.sk-dashed-wrapped {border: 1px dashed gray;margin: 0 0.4em 0.5em 0.4em;box-sizing: border-box;padding-bottom: 0.4em;background-color: white;}#sk-container-id-1 div.sk-label label {font-family: monospace;font-weight: bold;display: inline-block;line-height: 1.2em;}#sk-container-id-1 div.sk-label-container {text-align: center;}#sk-container-id-1 div.sk-container {/* jupyter's `normalize.less` sets `[hidden] { display: none; }` but bootstrap.min.css set `[hidden] { display: none !important; }` so we also need the `!important` here to be able to override the default hidden behavior on the sphinx rendered scikit-learn.org. See: https://github.com/scikit-learn/scikit-learn/issues/21755 */display: inline-block !important;position: relative;}#sk-container-id-1 div.sk-text-repr-fallback {display: none;}</style><div id=\"sk-container-id-1\" class=\"sk-top-container\"><div class=\"sk-text-repr-fallback\"><pre>LinearSVC(C=0.1, class_weight=&#x27;balanced&#x27;, max_iter=100000, random_state=3)</pre><b>In a Jupyter environment, please rerun this cell to show the HTML representation or trust the notebook. <br />On GitHub, the HTML representation is unable to render, please try loading this page with nbviewer.org.</b></div><div class=\"sk-container\" hidden><div class=\"sk-item\"><div class=\"sk-estimator sk-toggleable\"><input class=\"sk-toggleable__control sk-hidden--visually\" id=\"sk-estimator-id-1\" type=\"checkbox\" checked><label for=\"sk-estimator-id-1\" class=\"sk-toggleable__label sk-toggleable__label-arrow\">LinearSVC</label><div class=\"sk-toggleable__content\"><pre>LinearSVC(C=0.1, class_weight=&#x27;balanced&#x27;, max_iter=100000, random_state=3)</pre></div></div></div></div></div>"
      ]
     },
     "metadata": {},
     "execution_count": 18
    }
   ]
  },
  {
   "cell_type": "code",
   "source": [
    "y_pred = clf.predict(bow_test)"
   ],
   "metadata": {
    "id": "QAoJknoCgn49",
    "pycharm": {
     "name": "#%%\n"
    }
   },
   "execution_count": null,
   "outputs": []
  },
  {
   "cell_type": "code",
   "source": [
    "conf_mat = metrics.confusion_matrix(test_labels, y_pred)\n",
    "fig, ax = plt.subplots(figsize=(8,8))\n",
    "sns.heatmap(conf_mat, annot=True, cmap=\"Blues\", fmt='d')\n",
    "plt.ylabel('Actual')\n",
    "plt.xlabel('Predicted')\n",
    "plt.title(\"CONFUSION MATRIX Catboost\\n\", size=16)"
   ],
   "metadata": {
    "colab": {
     "base_uri": "https://localhost:8080/",
     "height": 760
    },
    "id": "k10LxHTMjaz5",
    "outputId": "5b2720cf-4926-4c65-f870-b12c14d952f5",
    "pycharm": {
     "name": "#%%\n"
    }
   },
   "execution_count": null,
   "outputs": [
    {
     "output_type": "execute_result",
     "data": {
      "text/plain": [
       "Text(0.5, 1.0, 'CONFUSION MATRIX Catboost\\n')"
      ]
     },
     "metadata": {},
     "execution_count": 21
    },
    {
     "output_type": "display_data",
     "data": {
      "text/plain": [
       "<Figure size 800x800 with 2 Axes>"
      ],
      "image/png": "[encoded data removed]"
     },
     "metadata": {}
    }
   ]
  },
  {
   "cell_type": "code",
   "source": [
    "accuracy = metrics.accuracy_score(test_labels, y_pred)\n",
    "f1_score_micro = metrics.f1_score(test_labels, y_pred, average='micro')\n",
    "f1_score_macro = metrics.f1_score(test_labels, y_pred, average='macro')\n",
    "print(f\"Accuracy Score = {accuracy}\")\n",
    "print(f\"F1 Score (Micro) = {f1_score_micro}\")\n",
    "print(f\"F1 Score (Macro) = {f1_score_macro}\")"
   ],
   "metadata": {
    "colab": {
     "base_uri": "https://localhost:8080/"
    },
    "id": "4rEJqoeJjVkr",
    "outputId": "25831ad0-3ddf-4f10-eb1c-2b1d26adf973",
    "pycharm": {
     "name": "#%%\n"
    }
   },
   "execution_count": null,
   "outputs": [
    {
     "output_type": "stream",
     "name": "stdout",
     "text": [
      "Accuracy Score = 0.929078947368421\n",
      "F1 Score (Micro) = 0.929078947368421\n",
      "F1 Score (Macro) = 0.9289600839824994\n"
     ]
    }
   ]
  },
  {
   "cell_type": "code",
   "source": [],
   "metadata": {
    "id": "Znz_GcSxjfBR",
    "pycharm": {
     "name": "#%%\n"
    }
   },
   "execution_count": null,
   "outputs": []
  },
  {
   "cell_type": "markdown",
   "source": [
    "Эксперимен 3"
   ],
   "metadata": {
    "id": "jt9-OSF2jwK7",
    "pycharm": {
     "name": "#%% md\n"
    }
   }
  },
  {
   "cell_type": "code",
   "source": [
    "def objective(trial):\n",
    "    global bow_train, y_train, bow_valid, y_valid\n",
    "\n",
    "    c = trial.suggest_float(\"svc_c\", 1e-2, 1e2, log=True)\n",
    "\n",
    "    clf = LogisticRegression(C=c, random_state=3, class_weight='balanced', max_iter=100000)\n",
    "    clf.fit(bow_train, y_train)\n",
    "\n",
    "    return metrics.f1_score(clf.predict(bow_valid), y_valid, average='macro')\n",
    "\n",
    "\n",
    "study = optuna.create_study(direction=\"maximize\")\n",
    "study.optimize(objective, n_trials=10)\n",
    "print(study.best_trial)"
   ],
   "metadata": {
    "colab": {
     "base_uri": "https://localhost:8080/"
    },
    "id": "v66a3idHjy2y",
    "outputId": "4db0c463-9673-45e2-fed1-d755e2952038",
    "pycharm": {
     "name": "#%%\n"
    }
   },
   "execution_count": null,
   "outputs": [
    {
     "output_type": "stream",
     "name": "stderr",
     "text": [
      "\u001B[32m[I 2023-05-10 07:34:24,909]\u001B[0m A new study created in memory with name: no-name-18682755-5af5-4073-be88-935ddc6327e0\u001B[0m\n",
      "\u001B[32m[I 2023-05-10 07:40:49,658]\u001B[0m Trial 0 finished with value: 0.9225023962191521 and parameters: {'svc_c': 0.3377065002444557}. Best is trial 0 with value: 0.9225023962191521.\u001B[0m\n",
      "\u001B[32m[I 2023-05-10 07:48:27,165]\u001B[0m Trial 1 finished with value: 0.922999971757072 and parameters: {'svc_c': 0.9038319702843758}. Best is trial 1 with value: 0.922999971757072.\u001B[0m\n",
      "\u001B[32m[I 2023-05-10 07:53:39,302]\u001B[0m Trial 2 finished with value: 0.9212069620564503 and parameters: {'svc_c': 0.14109321668319985}. Best is trial 1 with value: 0.922999971757072.\u001B[0m\n",
      "\u001B[32m[I 2023-05-10 07:56:17,242]\u001B[0m Trial 3 finished with value: 0.9147728242096915 and parameters: {'svc_c': 0.01715816745131199}. Best is trial 1 with value: 0.922999971757072.\u001B[0m\n",
      "\u001B[32m[I 2023-05-10 08:03:29,406]\u001B[0m Trial 4 finished with value: 0.9226650264413833 and parameters: {'svc_c': 0.56929981143608}. Best is trial 1 with value: 0.922999971757072.\u001B[0m\n",
      "\u001B[32m[I 2023-05-10 08:10:41,837]\u001B[0m Trial 5 finished with value: 0.9227514233227554 and parameters: {'svc_c': 0.6359744781244947}. Best is trial 1 with value: 0.922999971757072.\u001B[0m\n",
      "\u001B[32m[I 2023-05-10 08:22:52,908]\u001B[0m Trial 6 finished with value: 0.9229176059445373 and parameters: {'svc_c': 55.6359083911252}. Best is trial 1 with value: 0.922999971757072.\u001B[0m\n",
      "\u001B[32m[I 2023-05-10 08:29:53,408]\u001B[0m Trial 7 finished with value: 0.9224153289413385 and parameters: {'svc_c': 0.45569871436150217}. Best is trial 1 with value: 0.922999971757072.\u001B[0m\n",
      "\u001B[32m[I 2023-05-10 08:39:12,830]\u001B[0m Trial 8 finished with value: 0.9230831310826908 and parameters: {'svc_c': 3.993684258430785}. Best is trial 8 with value: 0.9230831310826908.\u001B[0m\n",
      "\u001B[32m[I 2023-05-10 08:50:32,304]\u001B[0m Trial 9 finished with value: 0.9227512458497041 and parameters: {'svc_c': 33.35361182097995}. Best is trial 8 with value: 0.9230831310826908.\u001B[0m\n"
     ]
    },
    {
     "output_type": "stream",
     "name": "stdout",
     "text": [
      "FrozenTrial(number=8, state=TrialState.COMPLETE, values=[0.9230831310826908], datetime_start=datetime.datetime(2023, 5, 10, 8, 29, 53, 410428), datetime_complete=datetime.datetime(2023, 5, 10, 8, 39, 12, 829769), params={'svc_c': 3.993684258430785}, user_attrs={}, system_attrs={}, intermediate_values={}, distributions={'svc_c': FloatDistribution(high=100.0, log=True, low=0.01, step=None)}, trial_id=8, value=None)\n"
     ]
    }
   ]
  },
  {
   "cell_type": "code",
   "source": [
    "bow_data = bow_counts.fit_transform(train['content'])\n",
    "bow_test = bow_counts.transform(test['content'])"
   ],
   "metadata": {
    "colab": {
     "base_uri": "https://localhost:8080/"
    },
    "id": "7qfktncglMEZ",
    "outputId": "309e8f04-fada-44b5-a3fe-d1bdd9973f20",
    "pycharm": {
     "name": "#%%\n"
    }
   },
   "execution_count": null,
   "outputs": [
    {
     "output_type": "stream",
     "name": "stderr",
     "text": [
      "/usr/local/lib/python3.10/dist-packages/sklearn/feature_extraction/text.py:528: UserWarning: The parameter 'token_pattern' will not be used since 'tokenizer' is not None'\n",
      "  warnings.warn(\n"
     ]
    }
   ]
  },
  {
   "cell_type": "code",
   "source": [
    "clf = LogisticRegression(C=4, random_state=3, class_weight='balanced', max_iter=100000)\n",
    "clf.fit(bow_data, labels)"
   ],
   "metadata": {
    "colab": {
     "base_uri": "https://localhost:8080/",
     "height": 92
    },
    "id": "TAL72AjF3vE_",
    "outputId": "c82cda9a-2ca7-4e0a-f59f-b5128d39189f",
    "pycharm": {
     "name": "#%%\n"
    }
   },
   "execution_count": null,
   "outputs": [
    {
     "output_type": "execute_result",
     "data": {
      "text/plain": [
       "LogisticRegression(C=4, class_weight='balanced', max_iter=100000,\n",
       "                   random_state=3)"
      ],
      "text/html": [
       "<style>#sk-container-id-2 {color: black;background-color: white;}#sk-container-id-2 pre{padding: 0;}#sk-container-id-2 div.sk-toggleable {background-color: white;}#sk-container-id-2 label.sk-toggleable__label {cursor: pointer;display: block;width: 100%;margin-bottom: 0;padding: 0.3em;box-sizing: border-box;text-align: center;}#sk-container-id-2 label.sk-toggleable__label-arrow:before {content: \"▸\";float: left;margin-right: 0.25em;color: #696969;}#sk-container-id-2 label.sk-toggleable__label-arrow:hover:before {color: black;}#sk-container-id-2 div.sk-estimator:hover label.sk-toggleable__label-arrow:before {color: black;}#sk-container-id-2 div.sk-toggleable__content {max-height: 0;max-width: 0;overflow: hidden;text-align: left;background-color: #f0f8ff;}#sk-container-id-2 div.sk-toggleable__content pre {margin: 0.2em;color: black;border-radius: 0.25em;background-color: #f0f8ff;}#sk-container-id-2 input.sk-toggleable__control:checked~div.sk-toggleable__content {max-height: 200px;max-width: 100%;overflow: auto;}#sk-container-id-2 input.sk-toggleable__control:checked~label.sk-toggleable__label-arrow:before {content: \"▾\";}#sk-container-id-2 div.sk-estimator input.sk-toggleable__control:checked~label.sk-toggleable__label {background-color: #d4ebff;}#sk-container-id-2 div.sk-label input.sk-toggleable__control:checked~label.sk-toggleable__label {background-color: #d4ebff;}#sk-container-id-2 input.sk-hidden--visually {border: 0;clip: rect(1px 1px 1px 1px);clip: rect(1px, 1px, 1px, 1px);height: 1px;margin: -1px;overflow: hidden;padding: 0;position: absolute;width: 1px;}#sk-container-id-2 div.sk-estimator {font-family: monospace;background-color: #f0f8ff;border: 1px dotted black;border-radius: 0.25em;box-sizing: border-box;margin-bottom: 0.5em;}#sk-container-id-2 div.sk-estimator:hover {background-color: #d4ebff;}#sk-container-id-2 div.sk-parallel-item::after {content: \"\";width: 100%;border-bottom: 1px solid gray;flex-grow: 1;}#sk-container-id-2 div.sk-label:hover label.sk-toggleable__label {background-color: #d4ebff;}#sk-container-id-2 div.sk-serial::before {content: \"\";position: absolute;border-left: 1px solid gray;box-sizing: border-box;top: 0;bottom: 0;left: 50%;z-index: 0;}#sk-container-id-2 div.sk-serial {display: flex;flex-direction: column;align-items: center;background-color: white;padding-right: 0.2em;padding-left: 0.2em;position: relative;}#sk-container-id-2 div.sk-item {position: relative;z-index: 1;}#sk-container-id-2 div.sk-parallel {display: flex;align-items: stretch;justify-content: center;background-color: white;position: relative;}#sk-container-id-2 div.sk-item::before, #sk-container-id-2 div.sk-parallel-item::before {content: \"\";position: absolute;border-left: 1px solid gray;box-sizing: border-box;top: 0;bottom: 0;left: 50%;z-index: -1;}#sk-container-id-2 div.sk-parallel-item {display: flex;flex-direction: column;z-index: 1;position: relative;background-color: white;}#sk-container-id-2 div.sk-parallel-item:first-child::after {align-self: flex-end;width: 50%;}#sk-container-id-2 div.sk-parallel-item:last-child::after {align-self: flex-start;width: 50%;}#sk-container-id-2 div.sk-parallel-item:only-child::after {width: 0;}#sk-container-id-2 div.sk-dashed-wrapped {border: 1px dashed gray;margin: 0 0.4em 0.5em 0.4em;box-sizing: border-box;padding-bottom: 0.4em;background-color: white;}#sk-container-id-2 div.sk-label label {font-family: monospace;font-weight: bold;display: inline-block;line-height: 1.2em;}#sk-container-id-2 div.sk-label-container {text-align: center;}#sk-container-id-2 div.sk-container {/* jupyter's `normalize.less` sets `[hidden] { display: none; }` but bootstrap.min.css set `[hidden] { display: none !important; }` so we also need the `!important` here to be able to override the default hidden behavior on the sphinx rendered scikit-learn.org. See: https://github.com/scikit-learn/scikit-learn/issues/21755 */display: inline-block !important;position: relative;}#sk-container-id-2 div.sk-text-repr-fallback {display: none;}</style><div id=\"sk-container-id-2\" class=\"sk-top-container\"><div class=\"sk-text-repr-fallback\"><pre>LogisticRegression(C=4, class_weight=&#x27;balanced&#x27;, max_iter=100000,\n",
       "                   random_state=3)</pre><b>In a Jupyter environment, please rerun this cell to show the HTML representation or trust the notebook. <br />On GitHub, the HTML representation is unable to render, please try loading this page with nbviewer.org.</b></div><div class=\"sk-container\" hidden><div class=\"sk-item\"><div class=\"sk-estimator sk-toggleable\"><input class=\"sk-toggleable__control sk-hidden--visually\" id=\"sk-estimator-id-2\" type=\"checkbox\" checked><label for=\"sk-estimator-id-2\" class=\"sk-toggleable__label sk-toggleable__label-arrow\">LogisticRegression</label><div class=\"sk-toggleable__content\"><pre>LogisticRegression(C=4, class_weight=&#x27;balanced&#x27;, max_iter=100000,\n",
       "                   random_state=3)</pre></div></div></div></div></div>"
      ]
     },
     "metadata": {},
     "execution_count": 26
    }
   ]
  },
  {
   "cell_type": "code",
   "source": [
    "y_pred = clf.predict(bow_test)"
   ],
   "metadata": {
    "id": "5lvVmCvf34qc",
    "pycharm": {
     "name": "#%%\n"
    }
   },
   "execution_count": null,
   "outputs": []
  },
  {
   "cell_type": "code",
   "source": [
    "accuracy = metrics.accuracy_score(test_labels, y_pred)\n",
    "f1_score_micro = metrics.f1_score(test_labels, y_pred, average='micro')\n",
    "f1_score_macro = metrics.f1_score(test_labels, y_pred, average='macro')\n",
    "print(f\"Accuracy Score = {accuracy}\")\n",
    "print(f\"F1 Score (Micro) = {f1_score_micro}\")\n",
    "print(f\"F1 Score (Macro) = {f1_score_macro}\")"
   ],
   "metadata": {
    "colab": {
     "base_uri": "https://localhost:8080/"
    },
    "id": "kD0h9xTk38VH",
    "outputId": "7cf6ad58-5d38-416f-ff41-ecea86981d3b",
    "pycharm": {
     "name": "#%%\n"
    }
   },
   "execution_count": null,
   "outputs": [
    {
     "output_type": "stream",
     "name": "stdout",
     "text": [
      "Accuracy Score = 0.925921052631579\n",
      "F1 Score (Micro) = 0.925921052631579\n",
      "F1 Score (Macro) = 0.9257983549820087\n"
     ]
    }
   ]
  },
  {
   "cell_type": "code",
   "source": [
    "conf_mat = metrics.confusion_matrix(test_labels, y_pred)\n",
    "fig, ax = plt.subplots(figsize=(8,8))\n",
    "sns.heatmap(conf_mat, annot=True, cmap=\"Blues\", fmt='d')\n",
    "plt.ylabel('Actual')\n",
    "plt.xlabel('Predicted')\n",
    "plt.title(\"CONFUSION MATRIX Catboost\\n\", size=16)"
   ],
   "metadata": {
    "colab": {
     "base_uri": "https://localhost:8080/",
     "height": 760
    },
    "id": "7-iI55OC3_uJ",
    "outputId": "c553e7bb-ed00-415e-f24a-8ed7a7dc230d",
    "pycharm": {
     "name": "#%%\n"
    }
   },
   "execution_count": null,
   "outputs": [
    {
     "output_type": "execute_result",
     "data": {
      "text/plain": [
       "Text(0.5, 1.0, 'CONFUSION MATRIX Catboost\\n')"
      ]
     },
     "metadata": {},
     "execution_count": 29
    },
    {
     "output_type": "display_data",
     "data": {
      "text/plain": [
       "<Figure size 800x800 with 2 Axes>"
      ],
      "image/png": "[encoded data removed]"
     },
     "metadata": {}
    }
   ]
  },
  {
   "cell_type": "code",
   "source": [
    "print('\\t\\t\\t\\tCLASSIFICATIION METRICS\\n')\n",
    "print(metrics.classification_report(test_labels, y_pred))"
   ],
   "metadata": {
    "colab": {
     "base_uri": "https://localhost:8080/"
    },
    "id": "paJ-FN3s4DjL",
    "outputId": "f2e606cc-21ad-4d81-a4da-088d62433f5d",
    "pycharm": {
     "name": "#%%\n"
    }
   },
   "execution_count": null,
   "outputs": [
    {
     "output_type": "stream",
     "name": "stdout",
     "text": [
      "\t\t\t\tCLASSIFICATIION METRICS\n",
      "\n",
      "              precision    recall  f1-score   support\n",
      "\n",
      "           1       0.94      0.93      0.93      1900\n",
      "           2       0.97      0.98      0.97      1900\n",
      "           3       0.90      0.89      0.89      1900\n",
      "           4       0.90      0.90      0.90      1900\n",
      "\n",
      "    accuracy                           0.93      7600\n",
      "   macro avg       0.93      0.93      0.93      7600\n",
      "weighted avg       0.93      0.93      0.93      7600\n",
      "\n"
     ]
    }
   ]
  },
  {
   "cell_type": "markdown",
   "source": [
    "Эксперимен 4"
   ],
   "metadata": {
    "id": "e7_c7hm65MUs",
    "pycharm": {
     "name": "#%% md\n"
    }
   }
  },
  {
   "cell_type": "code",
   "source": [
    "clf = MultinomialNB(force_alpha=True)\n",
    "clf.fit(bow_data, labels)"
   ],
   "metadata": {
    "colab": {
     "base_uri": "https://localhost:8080/",
     "height": 75
    },
    "id": "LAexzkNd5QGu",
    "outputId": "3a56e0aa-264a-4152-bc93-6c15ac673a3e",
    "pycharm": {
     "name": "#%%\n"
    }
   },
   "execution_count": null,
   "outputs": [
    {
     "output_type": "execute_result",
     "data": {
      "text/plain": [
       "MultinomialNB(force_alpha=True)"
      ],
      "text/html": [
       "<style>#sk-container-id-3 {color: black;background-color: white;}#sk-container-id-3 pre{padding: 0;}#sk-container-id-3 div.sk-toggleable {background-color: white;}#sk-container-id-3 label.sk-toggleable__label {cursor: pointer;display: block;width: 100%;margin-bottom: 0;padding: 0.3em;box-sizing: border-box;text-align: center;}#sk-container-id-3 label.sk-toggleable__label-arrow:before {content: \"▸\";float: left;margin-right: 0.25em;color: #696969;}#sk-container-id-3 label.sk-toggleable__label-arrow:hover:before {color: black;}#sk-container-id-3 div.sk-estimator:hover label.sk-toggleable__label-arrow:before {color: black;}#sk-container-id-3 div.sk-toggleable__content {max-height: 0;max-width: 0;overflow: hidden;text-align: left;background-color: #f0f8ff;}#sk-container-id-3 div.sk-toggleable__content pre {margin: 0.2em;color: black;border-radius: 0.25em;background-color: #f0f8ff;}#sk-container-id-3 input.sk-toggleable__control:checked~div.sk-toggleable__content {max-height: 200px;max-width: 100%;overflow: auto;}#sk-container-id-3 input.sk-toggleable__control:checked~label.sk-toggleable__label-arrow:before {content: \"▾\";}#sk-container-id-3 div.sk-estimator input.sk-toggleable__control:checked~label.sk-toggleable__label {background-color: #d4ebff;}#sk-container-id-3 div.sk-label input.sk-toggleable__control:checked~label.sk-toggleable__label {background-color: #d4ebff;}#sk-container-id-3 input.sk-hidden--visually {border: 0;clip: rect(1px 1px 1px 1px);clip: rect(1px, 1px, 1px, 1px);height: 1px;margin: -1px;overflow: hidden;padding: 0;position: absolute;width: 1px;}#sk-container-id-3 div.sk-estimator {font-family: monospace;background-color: #f0f8ff;border: 1px dotted black;border-radius: 0.25em;box-sizing: border-box;margin-bottom: 0.5em;}#sk-container-id-3 div.sk-estimator:hover {background-color: #d4ebff;}#sk-container-id-3 div.sk-parallel-item::after {content: \"\";width: 100%;border-bottom: 1px solid gray;flex-grow: 1;}#sk-container-id-3 div.sk-label:hover label.sk-toggleable__label {background-color: #d4ebff;}#sk-container-id-3 div.sk-serial::before {content: \"\";position: absolute;border-left: 1px solid gray;box-sizing: border-box;top: 0;bottom: 0;left: 50%;z-index: 0;}#sk-container-id-3 div.sk-serial {display: flex;flex-direction: column;align-items: center;background-color: white;padding-right: 0.2em;padding-left: 0.2em;position: relative;}#sk-container-id-3 div.sk-item {position: relative;z-index: 1;}#sk-container-id-3 div.sk-parallel {display: flex;align-items: stretch;justify-content: center;background-color: white;position: relative;}#sk-container-id-3 div.sk-item::before, #sk-container-id-3 div.sk-parallel-item::before {content: \"\";position: absolute;border-left: 1px solid gray;box-sizing: border-box;top: 0;bottom: 0;left: 50%;z-index: -1;}#sk-container-id-3 div.sk-parallel-item {display: flex;flex-direction: column;z-index: 1;position: relative;background-color: white;}#sk-container-id-3 div.sk-parallel-item:first-child::after {align-self: flex-end;width: 50%;}#sk-container-id-3 div.sk-parallel-item:last-child::after {align-self: flex-start;width: 50%;}#sk-container-id-3 div.sk-parallel-item:only-child::after {width: 0;}#sk-container-id-3 div.sk-dashed-wrapped {border: 1px dashed gray;margin: 0 0.4em 0.5em 0.4em;box-sizing: border-box;padding-bottom: 0.4em;background-color: white;}#sk-container-id-3 div.sk-label label {font-family: monospace;font-weight: bold;display: inline-block;line-height: 1.2em;}#sk-container-id-3 div.sk-label-container {text-align: center;}#sk-container-id-3 div.sk-container {/* jupyter's `normalize.less` sets `[hidden] { display: none; }` but bootstrap.min.css set `[hidden] { display: none !important; }` so we also need the `!important` here to be able to override the default hidden behavior on the sphinx rendered scikit-learn.org. See: https://github.com/scikit-learn/scikit-learn/issues/21755 */display: inline-block !important;position: relative;}#sk-container-id-3 div.sk-text-repr-fallback {display: none;}</style><div id=\"sk-container-id-3\" class=\"sk-top-container\"><div class=\"sk-text-repr-fallback\"><pre>MultinomialNB(force_alpha=True)</pre><b>In a Jupyter environment, please rerun this cell to show the HTML representation or trust the notebook. <br />On GitHub, the HTML representation is unable to render, please try loading this page with nbviewer.org.</b></div><div class=\"sk-container\" hidden><div class=\"sk-item\"><div class=\"sk-estimator sk-toggleable\"><input class=\"sk-toggleable__control sk-hidden--visually\" id=\"sk-estimator-id-3\" type=\"checkbox\" checked><label for=\"sk-estimator-id-3\" class=\"sk-toggleable__label sk-toggleable__label-arrow\">MultinomialNB</label><div class=\"sk-toggleable__content\"><pre>MultinomialNB(force_alpha=True)</pre></div></div></div></div></div>"
      ]
     },
     "metadata": {},
     "execution_count": 31
    }
   ]
  },
  {
   "cell_type": "code",
   "source": [
    "y_pred = clf.predict(bow_test)"
   ],
   "metadata": {
    "id": "Rt6TNSo-5TS6",
    "pycharm": {
     "name": "#%%\n"
    }
   },
   "execution_count": null,
   "outputs": []
  },
  {
   "cell_type": "code",
   "source": [
    "accuracy = metrics.accuracy_score(test_labels, y_pred)\n",
    "f1_score_micro = metrics.f1_score(test_labels, y_pred, average='micro')\n",
    "f1_score_macro = metrics.f1_score(test_labels, y_pred, average='macro')\n",
    "print(f\"Accuracy Score = {accuracy}\")\n",
    "print(f\"F1 Score (Micro) = {f1_score_micro}\")\n",
    "print(f\"F1 Score (Macro) = {f1_score_macro}\")"
   ],
   "metadata": {
    "colab": {
     "base_uri": "https://localhost:8080/"
    },
    "id": "s8VEXHLG5UVz",
    "outputId": "295496ba-6771-4ae4-b717-bc15ee8becef",
    "pycharm": {
     "name": "#%%\n"
    }
   },
   "execution_count": null,
   "outputs": [
    {
     "output_type": "stream",
     "name": "stdout",
     "text": [
      "Accuracy Score = 0.9069736842105263\n",
      "F1 Score (Micro) = 0.9069736842105263\n",
      "F1 Score (Macro) = 0.9067083396004869\n"
     ]
    }
   ]
  },
  {
   "cell_type": "code",
   "source": [
    "conf_mat = metrics.confusion_matrix(test_labels, y_pred)\n",
    "fig, ax = plt.subplots(figsize=(8,8))\n",
    "sns.heatmap(conf_mat, annot=True, cmap=\"Blues\", fmt='d')\n",
    "plt.ylabel('Actual')\n",
    "plt.xlabel('Predicted')\n",
    "plt.title(\"CONFUSION MATRIX Catboost\\n\", size=16)"
   ],
   "metadata": {
    "colab": {
     "base_uri": "https://localhost:8080/",
     "height": 760
    },
    "id": "reFwCk7S5Vi0",
    "outputId": "22983532-788f-40a1-de76-251fca5f1044",
    "pycharm": {
     "name": "#%%\n"
    }
   },
   "execution_count": null,
   "outputs": [
    {
     "output_type": "execute_result",
     "data": {
      "text/plain": [
       "Text(0.5, 1.0, 'CONFUSION MATRIX Catboost\\n')"
      ]
     },
     "metadata": {},
     "execution_count": 34
    },
    {
     "output_type": "display_data",
     "data": {
      "text/plain": [
       "<Figure size 800x800 with 2 Axes>"
      ],
      "image/png": "[encoded data removed]"
     },
     "metadata": {}
    }
   ]
  },
  {
   "cell_type": "code",
   "source": [
    "print('\\t\\t\\t\\tCLASSIFICATIION METRICS\\n')\n",
    "print(metrics.classification_report(test_labels, y_pred))"
   ],
   "metadata": {
    "colab": {
     "base_uri": "https://localhost:8080/"
    },
    "id": "hs_HyE835Xyl",
    "outputId": "88b5174c-64e0-45f6-9495-f18b941c9931",
    "pycharm": {
     "name": "#%%\n"
    }
   },
   "execution_count": null,
   "outputs": [
    {
     "output_type": "stream",
     "name": "stdout",
     "text": [
      "\t\t\t\tCLASSIFICATIION METRICS\n",
      "\n",
      "              precision    recall  f1-score   support\n",
      "\n",
      "           1       0.92      0.90      0.91      1900\n",
      "           2       0.95      0.98      0.97      1900\n",
      "           3       0.88      0.86      0.87      1900\n",
      "           4       0.88      0.89      0.88      1900\n",
      "\n",
      "    accuracy                           0.91      7600\n",
      "   macro avg       0.91      0.91      0.91      7600\n",
      "weighted avg       0.91      0.91      0.91      7600\n",
      "\n"
     ]
    }
   ]
  },
  {
   "cell_type": "code",
   "source": [],
   "metadata": {
    "id": "2ZzLgF6x5Yz9",
    "pycharm": {
     "name": "#%%\n"
    }
   },
   "execution_count": null,
   "outputs": []
  },
  {
   "cell_type": "markdown",
   "source": [
    "Эксперимент 5 (Токен+удаление стоп-слов + лемматизация)"
   ],
   "metadata": {
    "id": "2-xEnDoG2TQo",
    "pycharm": {
     "name": "#%% md\n"
    }
   }
  },
  {
   "cell_type": "code",
   "source": [
    "def objective(trial):\n",
    "    global bow_train, y_train, bow_valid, y_valid\n",
    "\n",
    "    c = trial.suggest_float(\"svc_c\", 1e-1, 1e2, log=True)\n",
    "\n",
    "    clf = LinearSVC(C=c, random_state=3, class_weight='balanced', max_iter=100000)\n",
    "    clf.fit(bow_train, y_train)\n",
    "\n",
    "    return metrics.f1_score(clf.predict(bow_valid), y_valid, average='macro')\n",
    "\n",
    "\n",
    "study = optuna.create_study(direction=\"maximize\")\n",
    "study.optimize(objective, n_trials=10)\n",
    "print(study.best_trial)"
   ],
   "metadata": {
    "colab": {
     "base_uri": "https://localhost:8080/"
    },
    "id": "HWm9PmF82TAg",
    "outputId": "8358d758-0660-4903-a808-1ba33f0d75c8",
    "pycharm": {
     "name": "#%%\n"
    }
   },
   "execution_count": null,
   "outputs": [
    {
     "output_type": "stream",
     "name": "stderr",
     "text": [
      "\u001B[32m[I 2023-05-20 08:45:16,145]\u001B[0m A new study created in memory with name: no-name-7f5b699f-9349-4d32-b633-96453d5612d9\u001B[0m\n"
     ]
    }
   ]
  },
  {
   "cell_type": "code",
   "source": [
    "def objective(trial):\n",
    "    global bow_train, y_train, bow_valid, y_valid\n",
    "\n",
    "    c = trial.suggest_float(\"lr_c\", 1e-1, 1e2, log=True)\n",
    "\n",
    "    clf = LogisticRegression(C=c, random_state=3, class_weight='balanced', max_iter=100000)\n",
    "    clf.fit(bow_train, y_train)\n",
    "\n",
    "    return metrics.f1_score(clf.predict(bow_valid), y_valid, average='macro')\n",
    "\n",
    "\n",
    "study = optuna.create_study(direction=\"maximize\")\n",
    "study.optimize(objective, n_trials=10)\n",
    "print(study.best_trial)"
   ],
   "metadata": {
    "id": "4B0PsYZz2dvO",
    "pycharm": {
     "name": "#%%\n"
    }
   },
   "execution_count": null,
   "outputs": []
  },
  {
   "cell_type": "code",
   "source": [
    "bow_data = bow_counts.fit_transform(train['content'])\n",
    "bow_test = bow_counts.transform(test['content'])"
   ],
   "metadata": {
    "id": "tKO4LWJh2nAC",
    "pycharm": {
     "name": "#%%\n"
    }
   },
   "execution_count": null,
   "outputs": []
  },
  {
   "cell_type": "code",
   "source": [
    "clf = LinearSVC(C=0.1, random_state=3, class_weight='balanced', max_iter=100000).fit(bow_data, labels)"
   ],
   "metadata": {
    "id": "LhB3JypwVgcn",
    "pycharm": {
     "name": "#%%\n"
    }
   },
   "execution_count": null,
   "outputs": []
  },
  {
   "cell_type": "code",
   "source": [
    "y_pred = clf.predict(bow_test)"
   ],
   "metadata": {
    "id": "wnKLSiiJBNFx",
    "pycharm": {
     "name": "#%%\n"
    }
   },
   "execution_count": null,
   "outputs": []
  },
  {
   "cell_type": "code",
   "source": [
    "#0.1\n",
    "accuracy = metrics.accuracy_score(test_labels, y_pred)\n",
    "f1_score_micro = metrics.f1_score(test_labels, y_pred, average='micro')\n",
    "f1_score_macro = metrics.f1_score(test_labels, y_pred, average='macro')\n",
    "print(f\"Accuracy Score = {accuracy}\")\n",
    "print(f\"F1 Score (Micro) = {f1_score_micro}\")\n",
    "print(f\"F1 Score (Macro) = {f1_score_macro}\")"
   ],
   "metadata": {
    "colab": {
     "base_uri": "https://localhost:8080/"
    },
    "id": "KtT2P7WHZec2",
    "outputId": "fab8e822-4b36-4d57-9976-79e92edf1ddf",
    "pycharm": {
     "name": "#%%\n"
    }
   },
   "execution_count": null,
   "outputs": [
    {
     "output_type": "stream",
     "name": "stdout",
     "text": [
      "Accuracy Score = 0.9247368421052632\n",
      "F1 Score (Micro) = 0.9247368421052632\n",
      "F1 Score (Macro) = 0.9245902259198523\n"
     ]
    }
   ]
  },
  {
   "cell_type": "code",
   "source": [
    "conf_mat = metrics.confusion_matrix(test_labels, y_pred)\n",
    "fig, ax = plt.subplots(figsize=(8,8))\n",
    "sns.heatmap(conf_mat, annot=True, cmap=\"Blues\", fmt='d')\n",
    "plt.ylabel('Actual')\n",
    "plt.xlabel('Predicted')\n",
    "plt.title(\"CONFUSION MATRIX Catboost\\n\", size=16)"
   ],
   "metadata": {
    "colab": {
     "base_uri": "https://localhost:8080/",
     "height": 760
    },
    "id": "Kn6jDMg-V1KQ",
    "outputId": "5465b853-9327-4687-d1b9-1e9173d672d8",
    "pycharm": {
     "name": "#%%\n"
    }
   },
   "execution_count": null,
   "outputs": [
    {
     "output_type": "execute_result",
     "data": {
      "text/plain": [
       "Text(0.5, 1.0, 'CONFUSION MATRIX Catboost\\n')"
      ]
     },
     "metadata": {},
     "execution_count": 22
    },
    {
     "output_type": "display_data",
     "data": {
      "text/plain": [
       "<Figure size 800x800 with 2 Axes>"
      ],
      "image/png": "[encoded data removed]"
     },
     "metadata": {}
    }
   ]
  },
  {
   "cell_type": "code",
   "source": [
    "print('\\t\\t\\t\\tCLASSIFICATIION METRICS\\n')\n",
    "print(metrics.classification_report(test_labels, y_pred))"
   ],
   "metadata": {
    "colab": {
     "base_uri": "https://localhost:8080/"
    },
    "id": "d6UzifitV24A",
    "outputId": "a4d67f61-4dda-42b3-9d11-c1b8373025f5",
    "pycharm": {
     "name": "#%%\n"
    }
   },
   "execution_count": null,
   "outputs": [
    {
     "output_type": "stream",
     "name": "stdout",
     "text": [
      "\t\t\t\tCLASSIFICATIION METRICS\n",
      "\n",
      "              precision    recall  f1-score   support\n",
      "\n",
      "           1       0.93      0.91      0.92      1900\n",
      "           2       0.96      0.98      0.97      1900\n",
      "           3       0.90      0.89      0.90      1900\n",
      "           4       0.89      0.90      0.90      1900\n",
      "\n",
      "    accuracy                           0.92      7600\n",
      "   macro avg       0.92      0.92      0.92      7600\n",
      "weighted avg       0.92      0.92      0.92      7600\n",
      "\n"
     ]
    }
   ]
  },
  {
   "cell_type": "code",
   "source": [
    "clf = LogisticRegression(C=15, random_state=3, class_weight='balanced', max_iter=100000).fit(bow_data, labels)\n",
    "y_pred = clf.predict(bow_test)"
   ],
   "metadata": {
    "id": "YJ6lv45aV4xB",
    "pycharm": {
     "name": "#%%\n"
    }
   },
   "execution_count": null,
   "outputs": []
  },
  {
   "cell_type": "code",
   "source": [
    "#c = 15\n",
    "accuracy = metrics.accuracy_score(test_labels, y_pred)\n",
    "f1_score_micro = metrics.f1_score(test_labels, y_pred, average='micro')\n",
    "f1_score_macro = metrics.f1_score(test_labels, y_pred, average='macro')\n",
    "print(f\"Accuracy Score = {accuracy}\")\n",
    "print(f\"F1 Score (Micro) = {f1_score_micro}\")\n",
    "print(f\"F1 Score (Macro) = {f1_score_macro}\")"
   ],
   "metadata": {
    "colab": {
     "base_uri": "https://localhost:8080/"
    },
    "id": "Q37SQexP14q9",
    "outputId": "21fc4d24-4970-4c4d-d19b-c1c06bb5364e",
    "pycharm": {
     "name": "#%%\n"
    }
   },
   "execution_count": null,
   "outputs": [
    {
     "output_type": "stream",
     "name": "stdout",
     "text": [
      "Accuracy Score = 0.9221052631578948\n",
      "F1 Score (Micro) = 0.9221052631578948\n",
      "F1 Score (Macro) = 0.9219463254905329\n"
     ]
    }
   ]
  },
  {
   "cell_type": "code",
   "source": [
    "conf_mat = metrics.confusion_matrix(test_labels, y_pred)\n",
    "fig, ax = plt.subplots(figsize=(8,8))\n",
    "sns.heatmap(conf_mat, annot=True, cmap=\"Blues\", fmt='d')\n",
    "plt.ylabel('Actual')\n",
    "plt.xlabel('Predicted')\n",
    "plt.title(\"CONFUSION MATRIX LR\\n\", size=16)"
   ],
   "metadata": {
    "colab": {
     "base_uri": "https://localhost:8080/",
     "height": 760
    },
    "id": "9syBhdtR3CL6",
    "outputId": "f6f0a015-ad60-45e7-cc58-8b1d5d86cc00",
    "pycharm": {
     "name": "#%%\n"
    }
   },
   "execution_count": null,
   "outputs": [
    {
     "output_type": "execute_result",
     "data": {
      "text/plain": [
       "Text(0.5, 1.0, 'CONFUSION MATRIX LR\\n')"
      ]
     },
     "metadata": {},
     "execution_count": 26
    },
    {
     "output_type": "display_data",
     "data": {
      "text/plain": [
       "<Figure size 800x800 with 2 Axes>"
      ],
      "image/png": "[encoded data removed]"
     },
     "metadata": {}
    }
   ]
  },
  {
   "cell_type": "code",
   "source": [
    "print('\\t\\t\\t\\tCLASSIFICATIION METRICS\\n')\n",
    "print(metrics.classification_report(test_labels, y_pred))"
   ],
   "metadata": {
    "colab": {
     "base_uri": "https://localhost:8080/"
    },
    "id": "aWWlhc2BlCOf",
    "outputId": "ed20db14-239e-47c4-ea56-79b9f89f6223",
    "pycharm": {
     "name": "#%%\n"
    }
   },
   "execution_count": null,
   "outputs": [
    {
     "output_type": "stream",
     "name": "stdout",
     "text": [
      "\t\t\t\tCLASSIFICATIION METRICS\n",
      "\n",
      "              precision    recall  f1-score   support\n",
      "\n",
      "           1       0.93      0.91      0.92      1900\n",
      "           2       0.96      0.98      0.97      1900\n",
      "           3       0.91      0.89      0.90      1900\n",
      "           4       0.89      0.90      0.90      1900\n",
      "\n",
      "    accuracy                           0.92      7600\n",
      "   macro avg       0.92      0.92      0.92      7600\n",
      "weighted avg       0.92      0.92      0.92      7600\n",
      "\n"
     ]
    }
   ]
  },
  {
   "cell_type": "markdown",
   "source": [
    "Эксперимент 6 (Токен+удаление стоп-слов + стемминг)"
   ],
   "metadata": {
    "id": "OU7rUKwVlEWh",
    "pycharm": {
     "name": "#%% md\n"
    }
   }
  },
  {
   "cell_type": "code",
   "source": [
    "def objective(trial):\n",
    "    global bow_train, y_train, bow_valid, y_valid\n",
    "\n",
    "    c = trial.suggest_float(\"svc_c\", 1e-2, 1e2, log=True)\n",
    "\n",
    "    clf = LogisticRegression(C=c, random_state=3, class_weight='balanced', max_iter=100000)\n",
    "    clf.fit(bow_train, y_train)\n",
    "\n",
    "    return metrics.f1_score(clf.predict(bow_valid), y_valid, average='macro')\n",
    "\n",
    "\n",
    "study = optuna.create_study(direction=\"maximize\")\n",
    "study.optimize(objective, n_trials=10)\n",
    "print(study.best_trial)"
   ],
   "metadata": {
    "colab": {
     "base_uri": "https://localhost:8080/"
    },
    "id": "Tc1MDyvtk_g2",
    "outputId": "0655587d-24ac-4999-df26-8897e31b5023",
    "pycharm": {
     "name": "#%%\n"
    }
   },
   "execution_count": null,
   "outputs": [
    {
     "output_type": "stream",
     "name": "stderr",
     "text": [
      "\u001B[32m[I 2023-05-20 14:55:14,317]\u001B[0m A new study created in memory with name: no-name-59b3748d-3db7-4c3a-a3ac-9c11a242c510\u001B[0m\n",
      "\u001B[32m[I 2023-05-20 14:59:14,120]\u001B[0m Trial 0 finished with value: 0.9175152243594311 and parameters: {'svc_c': 0.5082106698887904}. Best is trial 0 with value: 0.9175152243594311.\u001B[0m\n",
      "\u001B[32m[I 2023-05-20 15:01:34,533]\u001B[0m Trial 1 finished with value: 0.9166176540880673 and parameters: {'svc_c': 0.08676506854811}. Best is trial 0 with value: 0.9175152243594311.\u001B[0m\n",
      "\u001B[32m[I 2023-05-20 15:04:11,379]\u001B[0m Trial 2 finished with value: 0.9170407207479778 and parameters: {'svc_c': 0.13386470973472356}. Best is trial 0 with value: 0.9175152243594311.\u001B[0m\n",
      "\u001B[32m[I 2023-05-20 15:07:00,650]\u001B[0m Trial 3 finished with value: 0.9171672174992268 and parameters: {'svc_c': 0.12850969011163044}. Best is trial 0 with value: 0.9175152243594311.\u001B[0m\n",
      "\u001B[32m[I 2023-05-20 15:08:40,743]\u001B[0m Trial 4 finished with value: 0.912944914664319 and parameters: {'svc_c': 0.027073899395755198}. Best is trial 0 with value: 0.9175152243594311.\u001B[0m\n",
      "\u001B[32m[I 2023-05-20 15:10:13,901]\u001B[0m Trial 5 finished with value: 0.9131081394116458 and parameters: {'svc_c': 0.0278880411897779}. Best is trial 0 with value: 0.9175152243594311.\u001B[0m\n",
      "\u001B[32m[I 2023-05-20 15:16:33,427]\u001B[0m Trial 6 finished with value: 0.917504767698503 and parameters: {'svc_c': 25.81393997952052}. Best is trial 0 with value: 0.9175152243594311.\u001B[0m\n",
      "\u001B[32m[I 2023-05-20 15:20:07,591]\u001B[0m Trial 7 finished with value: 0.9174718029101552 and parameters: {'svc_c': 0.4821510015612814}. Best is trial 0 with value: 0.9175152243594311.\u001B[0m\n",
      "\u001B[32m[I 2023-05-20 15:22:55,674]\u001B[0m Trial 8 finished with value: 0.9169564813127119 and parameters: {'svc_c': 0.14151755249673967}. Best is trial 0 with value: 0.9175152243594311.\u001B[0m\n",
      "\u001B[32m[I 2023-05-20 15:30:59,441]\u001B[0m Trial 9 finished with value: 0.9175009566298474 and parameters: {'svc_c': 72.52558278657517}. Best is trial 0 with value: 0.9175152243594311.\u001B[0m\n"
     ]
    },
    {
     "output_type": "stream",
     "name": "stdout",
     "text": [
      "FrozenTrial(number=0, state=TrialState.COMPLETE, values=[0.9175152243594311], datetime_start=datetime.datetime(2023, 5, 20, 14, 55, 14, 325743), datetime_complete=datetime.datetime(2023, 5, 20, 14, 59, 14, 120063), params={'svc_c': 0.5082106698887904}, user_attrs={}, system_attrs={}, intermediate_values={}, distributions={'svc_c': FloatDistribution(high=100.0, log=True, low=0.01, step=None)}, trial_id=0, value=None)\n"
     ]
    }
   ]
  },
  {
   "cell_type": "code",
   "source": [
    "bow_data = bow_counts.fit_transform(train['content'])\n",
    "bow_test = bow_counts.transform(test['content'])"
   ],
   "metadata": {
    "colab": {
     "base_uri": "https://localhost:8080/"
    },
    "id": "unGY2Vb3lRer",
    "outputId": "db0ec447-4f3b-4e61-b89b-d9146eeb7862",
    "pycharm": {
     "name": "#%%\n"
    }
   },
   "execution_count": null,
   "outputs": [
    {
     "output_type": "stream",
     "name": "stderr",
     "text": [
      "/usr/local/lib/python3.10/dist-packages/sklearn/feature_extraction/text.py:528: UserWarning: The parameter 'token_pattern' will not be used since 'tokenizer' is not None'\n",
      "  warnings.warn(\n"
     ]
    }
   ]
  },
  {
   "cell_type": "code",
   "source": [
    "clf = LinearSVC(C=0.5, random_state=3, class_weight='balanced', max_iter=100000).fit(bow_data, labels)\n",
    "y_pred = clf.predict(bow_test)"
   ],
   "metadata": {
    "id": "H7pDX4wYqJYC",
    "pycharm": {
     "name": "#%%\n"
    }
   },
   "execution_count": null,
   "outputs": []
  },
  {
   "cell_type": "code",
   "source": [
    "accuracy = metrics.accuracy_score(test_labels, y_pred)\n",
    "f1_score_micro = metrics.f1_score(test_labels, y_pred, average='micro')\n",
    "f1_score_macro = metrics.f1_score(test_labels, y_pred, average='macro')\n",
    "print(f\"Accuracy Score = {accuracy}\")\n",
    "print(f\"F1 Score (Micro) = {f1_score_micro}\")\n",
    "print(f\"F1 Score (Macro) = {f1_score_macro}\")"
   ],
   "metadata": {
    "colab": {
     "base_uri": "https://localhost:8080/"
    },
    "id": "QSA01XHbqOyU",
    "outputId": "167bc77a-8e30-4fb9-e62c-cab41c91d915",
    "pycharm": {
     "name": "#%%\n"
    }
   },
   "execution_count": null,
   "outputs": [
    {
     "output_type": "stream",
     "name": "stdout",
     "text": [
      "Accuracy Score = 0.9211842105263158\n",
      "F1 Score (Micro) = 0.9211842105263158\n",
      "F1 Score (Macro) = 0.9210162478876676\n"
     ]
    }
   ]
  },
  {
   "cell_type": "code",
   "source": [
    "print('\\t\\t\\t\\tCLASSIFICATIION METRICS\\n')\n",
    "print(metrics.classification_report(test_labels, y_pred))"
   ],
   "metadata": {
    "colab": {
     "base_uri": "https://localhost:8080/"
    },
    "id": "3RWTipb50ExP",
    "outputId": "b129a175-d5e9-4be0-ae37-db4230c34411",
    "pycharm": {
     "name": "#%%\n"
    }
   },
   "execution_count": null,
   "outputs": [
    {
     "output_type": "stream",
     "name": "stdout",
     "text": [
      "\t\t\t\tCLASSIFICATIION METRICS\n",
      "\n",
      "              precision    recall  f1-score   support\n",
      "\n",
      "           1       0.93      0.91      0.92      1900\n",
      "           2       0.96      0.98      0.97      1900\n",
      "           3       0.90      0.88      0.89      1900\n",
      "           4       0.89      0.90      0.90      1900\n",
      "\n",
      "    accuracy                           0.92      7600\n",
      "   macro avg       0.92      0.92      0.92      7600\n",
      "weighted avg       0.92      0.92      0.92      7600\n",
      "\n"
     ]
    }
   ]
  },
  {
   "cell_type": "code",
   "source": [
    "conf_mat = metrics.confusion_matrix(test_labels, y_pred)\n",
    "fig, ax = plt.subplots(figsize=(8,8))\n",
    "sns.heatmap(conf_mat, annot=True, cmap=\"Blues\", fmt='d')\n",
    "plt.ylabel('Actual')\n",
    "plt.xlabel('Predicted')\n",
    "plt.title(\"CONFUSION MATRIX SVC\\n\", size=16)"
   ],
   "metadata": {
    "colab": {
     "base_uri": "https://localhost:8080/",
     "height": 760
    },
    "id": "ALWGOZf20BV8",
    "outputId": "b861b2c5-44a5-408f-c7f4-f92d0cde9045",
    "pycharm": {
     "name": "#%%\n"
    }
   },
   "execution_count": null,
   "outputs": [
    {
     "output_type": "execute_result",
     "data": {
      "text/plain": [
       "Text(0.5, 1.0, 'CONFUSION MATRIX SVC\\n')"
      ]
     },
     "metadata": {},
     "execution_count": 55
    },
    {
     "output_type": "display_data",
     "data": {
      "text/plain": [
       "<Figure size 800x800 with 2 Axes>"
      ],
      "image/png": "[encoded data removed]"
     },
     "metadata": {}
    }
   ]
  },
  {
   "cell_type": "code",
   "source": [
    "clf = MultinomialNB().fit(bow_data, labels)\n",
    "y_pred = clf.predict(bow_test)"
   ],
   "metadata": {
    "id": "opy1LPQU8xI0",
    "pycharm": {
     "name": "#%%\n"
    }
   },
   "execution_count": null,
   "outputs": []
  },
  {
   "cell_type": "code",
   "source": [
    "accuracy = metrics.accuracy_score(test_labels, y_pred)\n",
    "f1_score_micro = metrics.f1_score(test_labels, y_pred, average='micro')\n",
    "f1_score_macro = metrics.f1_score(test_labels, y_pred, average='macro')\n",
    "print(f\"Accuracy Score = {accuracy}\")\n",
    "print(f\"F1 Score (Micro) = {f1_score_micro}\")\n",
    "print(f\"F1 Score (Macro) = {f1_score_macro}\")"
   ],
   "metadata": {
    "colab": {
     "base_uri": "https://localhost:8080/"
    },
    "id": "1gIdIxCr8-ma",
    "outputId": "1e00bac6-a30f-4379-aeab-415a95b83623",
    "pycharm": {
     "name": "#%%\n"
    }
   },
   "execution_count": null,
   "outputs": [
    {
     "output_type": "stream",
     "name": "stdout",
     "text": [
      "Accuracy Score = 0.9122368421052631\n",
      "F1 Score (Micro) = 0.9122368421052631\n",
      "F1 Score (Macro) = 0.9119993933544843\n"
     ]
    }
   ]
  },
  {
   "cell_type": "code",
   "source": [
    "print('\\t\\t\\t\\tCLASSIFICATIION METRICS\\n')\n",
    "print(metrics.classification_report(test_labels, y_pred))"
   ],
   "metadata": {
    "colab": {
     "base_uri": "https://localhost:8080/"
    },
    "id": "XPI8U6og9A5r",
    "outputId": "0c8557fd-ab57-412b-87eb-7cc14e85ea20",
    "pycharm": {
     "name": "#%%\n"
    }
   },
   "execution_count": null,
   "outputs": [
    {
     "output_type": "stream",
     "name": "stdout",
     "text": [
      "\t\t\t\tCLASSIFICATIION METRICS\n",
      "\n",
      "              precision    recall  f1-score   support\n",
      "\n",
      "           1       0.92      0.90      0.91      1900\n",
      "           2       0.95      0.98      0.97      1900\n",
      "           3       0.88      0.88      0.88      1900\n",
      "           4       0.89      0.89      0.89      1900\n",
      "\n",
      "    accuracy                           0.91      7600\n",
      "   macro avg       0.91      0.91      0.91      7600\n",
      "weighted avg       0.91      0.91      0.91      7600\n",
      "\n"
     ]
    }
   ]
  },
  {
   "cell_type": "code",
   "source": [
    "def objective(trial):\n",
    "    global bow_train, y_train, bow_valid, y_valid\n",
    "\n",
    "    c = trial.suggest_float(\"lr_c\", 1e-1, 1e2, log=True)\n",
    "\n",
    "    clf = LogisticRegression(C=c, random_state=3, class_weight='balanced', max_iter=100000)\n",
    "    clf.fit(bow_train, y_train)\n",
    "\n",
    "    return metrics.f1_score(clf.predict(bow_valid), y_valid, average='macro')\n",
    "\n",
    "\n",
    "study = optuna.create_study(direction=\"maximize\")\n",
    "study.optimize(objective, n_trials=10)\n",
    "print(study.best_trial)"
   ],
   "metadata": {
    "colab": {
     "base_uri": "https://localhost:8080/"
    },
    "id": "UFZzmOv79Nh8",
    "outputId": "46eb3834-6cbf-43cd-a9f9-eeede0146ec7",
    "pycharm": {
     "name": "#%%\n"
    }
   },
   "execution_count": null,
   "outputs": [
    {
     "output_type": "stream",
     "name": "stderr",
     "text": [
      "\u001B[32m[I 2023-05-20 16:18:52,596]\u001B[0m A new study created in memory with name: no-name-04cc3e87-3049-4664-88ac-da3b775dc579\u001B[0m\n",
      "\u001B[32m[I 2023-05-20 16:21:49,997]\u001B[0m Trial 0 finished with value: 0.9168304859552838 and parameters: {'lr_c': 0.18984511392328962}. Best is trial 0 with value: 0.9168304859552838.\u001B[0m\n",
      "\u001B[32m[I 2023-05-20 16:27:14,549]\u001B[0m Trial 1 finished with value: 0.9173388933241017 and parameters: {'lr_c': 15.13491329311141}. Best is trial 1 with value: 0.9173388933241017.\u001B[0m\n",
      "\u001B[32m[I 2023-05-20 16:32:08,970]\u001B[0m Trial 2 finished with value: 0.9170878824751948 and parameters: {'lr_c': 8.853182201325872}. Best is trial 1 with value: 0.9173388933241017.\u001B[0m\n",
      "\u001B[32m[I 2023-05-20 16:38:15,839]\u001B[0m Trial 3 finished with value: 0.917504767698503 and parameters: {'lr_c': 27.546780887895892}. Best is trial 3 with value: 0.917504767698503.\u001B[0m\n",
      "\u001B[32m[I 2023-05-20 16:42:09,393]\u001B[0m Trial 4 finished with value: 0.9175560216117757 and parameters: {'lr_c': 1.4037500132148648}. Best is trial 4 with value: 0.9175560216117757.\u001B[0m\n",
      "\u001B[32m[I 2023-05-20 16:46:06,128]\u001B[0m Trial 5 finished with value: 0.9175558124463287 and parameters: {'lr_c': 1.6455943626734149}. Best is trial 4 with value: 0.9175560216117757.\u001B[0m\n",
      "\u001B[32m[I 2023-05-20 16:49:41,235]\u001B[0m Trial 6 finished with value: 0.9171063855322288 and parameters: {'lr_c': 0.8497035860450602}. Best is trial 4 with value: 0.9175560216117757.\u001B[0m\n",
      "\u001B[32m[I 2023-05-20 16:55:13,975]\u001B[0m Trial 7 finished with value: 0.917254191339016 and parameters: {'lr_c': 12.814687854083411}. Best is trial 4 with value: 0.9175560216117757.\u001B[0m\n",
      "\u001B[32m[I 2023-05-20 16:57:50,934]\u001B[0m Trial 8 finished with value: 0.9172067669660414 and parameters: {'lr_c': 0.12702625411776047}. Best is trial 4 with value: 0.9175560216117757.\u001B[0m\n",
      "\u001B[32m[I 2023-05-20 17:03:28,789]\u001B[0m Trial 9 finished with value: 0.917295226599914 and parameters: {'lr_c': 18.867327187388053}. Best is trial 4 with value: 0.9175560216117757.\u001B[0m\n"
     ]
    },
    {
     "output_type": "stream",
     "name": "stdout",
     "text": [
      "FrozenTrial(number=4, state=TrialState.COMPLETE, values=[0.9175560216117757], datetime_start=datetime.datetime(2023, 5, 20, 16, 38, 15, 841058), datetime_complete=datetime.datetime(2023, 5, 20, 16, 42, 9, 393313), params={'lr_c': 1.4037500132148648}, user_attrs={}, system_attrs={}, intermediate_values={}, distributions={'lr_c': FloatDistribution(high=100.0, log=True, low=0.1, step=None)}, trial_id=4, value=None)\n"
     ]
    }
   ]
  },
  {
   "cell_type": "code",
   "source": [
    "clf = LogisticRegression(C=1.5, random_state=3, class_weight='balanced', max_iter=100000).fit(bow_data, labels)\n",
    "y_pred = clf.predict(bow_test)"
   ],
   "metadata": {
    "id": "cuI3ou679GdR",
    "pycharm": {
     "name": "#%%\n"
    }
   },
   "execution_count": null,
   "outputs": []
  },
  {
   "cell_type": "code",
   "source": [
    "accuracy = metrics.accuracy_score(test_labels, y_pred)\n",
    "f1_score_micro = metrics.f1_score(test_labels, y_pred, average='micro')\n",
    "f1_score_macro = metrics.f1_score(test_labels, y_pred, average='macro')\n",
    "print(f\"Accuracy Score = {accuracy}\")\n",
    "print(f\"F1 Score (Micro) = {f1_score_micro}\")\n",
    "print(f\"F1 Score (Macro) = {f1_score_macro}\")"
   ],
   "metadata": {
    "colab": {
     "base_uri": "https://localhost:8080/"
    },
    "id": "Arbv3LqfFpOc",
    "outputId": "126f60ed-8d9f-4aa1-d77c-b3bc53dee4a7",
    "pycharm": {
     "name": "#%%\n"
    }
   },
   "execution_count": null,
   "outputs": [
    {
     "output_type": "stream",
     "name": "stdout",
     "text": [
      "Accuracy Score = 0.9210526315789473\n",
      "F1 Score (Micro) = 0.9210526315789473\n",
      "F1 Score (Macro) = 0.9209109765605415\n"
     ]
    }
   ]
  },
  {
   "cell_type": "code",
   "source": [
    "print('\\t\\t\\t\\tCLASSIFICATIION METRICS\\n')\n",
    "print(metrics.classification_report(test_labels, y_pred))"
   ],
   "metadata": {
    "colab": {
     "base_uri": "https://localhost:8080/"
    },
    "id": "XVV3qV9EFrTZ",
    "outputId": "eef1fdd8-9893-482c-a6c2-bc1b1a987926",
    "pycharm": {
     "name": "#%%\n"
    }
   },
   "execution_count": null,
   "outputs": [
    {
     "output_type": "stream",
     "name": "stdout",
     "text": [
      "\t\t\t\tCLASSIFICATIION METRICS\n",
      "\n",
      "              precision    recall  f1-score   support\n",
      "\n",
      "           1       0.93      0.92      0.92      1900\n",
      "           2       0.96      0.98      0.97      1900\n",
      "           3       0.90      0.89      0.89      1900\n",
      "           4       0.89      0.90      0.90      1900\n",
      "\n",
      "    accuracy                           0.92      7600\n",
      "   macro avg       0.92      0.92      0.92      7600\n",
      "weighted avg       0.92      0.92      0.92      7600\n",
      "\n"
     ]
    }
   ]
  },
  {
   "cell_type": "code",
   "source": [
    "conf_mat = metrics.confusion_matrix(test_labels, y_pred)\n",
    "fig, ax = plt.subplots(figsize=(8,8))\n",
    "sns.heatmap(conf_mat, annot=True, cmap=\"Blues\", fmt='d')\n",
    "plt.ylabel('Actual')\n",
    "plt.xlabel('Predicted')\n",
    "plt.title(\"CONFUSION MATRIX LR\\n\", size=16)"
   ],
   "metadata": {
    "colab": {
     "base_uri": "https://localhost:8080/",
     "height": 760
    },
    "id": "ZpwiptFeIHJH",
    "outputId": "42105e50-7cbe-4e46-8c21-32abacb87f79",
    "pycharm": {
     "name": "#%%\n"
    }
   },
   "execution_count": null,
   "outputs": [
    {
     "output_type": "execute_result",
     "data": {
      "text/plain": [
       "Text(0.5, 1.0, 'CONFUSION MATRIX LR\\n')"
      ]
     },
     "metadata": {},
     "execution_count": 51
    },
    {
     "output_type": "display_data",
     "data": {
      "text/plain": [
       "<Figure size 800x800 with 2 Axes>"
      ],
      "image/png": "[encoded data removed]"
     },
     "metadata": {}
    }
   ]
  },
  {
   "cell_type": "code",
   "source": [],
   "metadata": {
    "id": "T5css6F4IJU1",
    "pycharm": {
     "name": "#%%\n"
    }
   },
   "execution_count": null,
   "outputs": []
  },
  {
   "cell_type": "markdown",
   "source": [
    "Эксперимент 7 (Токен + стемминг)"
   ],
   "metadata": {
    "id": "oJ62ZZ9Bi_o3",
    "pycharm": {
     "name": "#%% md\n"
    }
   }
  },
  {
   "cell_type": "code",
   "source": [
    "def objective(trial):\n",
    "    global bow_train, y_train, bow_valid, y_valid\n",
    "\n",
    "    c = trial.suggest_float(\"svc_c\", 1e-1, 1e2, log=True)\n",
    "\n",
    "    clf = LinearSVC(C=c, random_state=3, class_weight='balanced', max_iter=100000)\n",
    "    clf.fit(bow_train, y_train)\n",
    "\n",
    "    return metrics.f1_score(clf.predict(bow_valid), y_valid, average='macro')\n",
    "\n",
    "\n",
    "study = optuna.create_study(direction=\"maximize\")\n",
    "study.optimize(objective, n_trials=10)\n",
    "print(study.best_trial)"
   ],
   "metadata": {
    "colab": {
     "base_uri": "https://localhost:8080/"
    },
    "id": "4xkvn8dDjFmi",
    "outputId": "f76658c1-4182-474f-f8e9-2c3ebe337348",
    "pycharm": {
     "name": "#%%\n"
    }
   },
   "execution_count": null,
   "outputs": [
    {
     "output_type": "stream",
     "name": "stderr",
     "text": [
      "\u001B[32m[I 2023-05-21 06:44:40,026]\u001B[0m A new study created in memory with name: no-name-de03dd43-9bce-407f-af79-661d95d68271\u001B[0m\n",
      "\u001B[32m[I 2023-05-21 06:45:23,260]\u001B[0m Trial 0 finished with value: 0.9168669151134929 and parameters: {'svc_c': 0.1457317890512228}. Best is trial 0 with value: 0.9168669151134929.\u001B[0m\n",
      "\u001B[32m[I 2023-05-21 06:46:49,688]\u001B[0m Trial 1 finished with value: 0.916003330187622 and parameters: {'svc_c': 0.3486122283515321}. Best is trial 0 with value: 0.9168669151134929.\u001B[0m\n",
      "\u001B[32m[I 2023-05-21 06:50:03,782]\u001B[0m Trial 2 finished with value: 0.9150507316377737 and parameters: {'svc_c': 0.8701981295032621}. Best is trial 0 with value: 0.9168669151134929.\u001B[0m\n"
     ]
    }
   ]
  },
  {
   "cell_type": "code",
   "source": [
    "bow_data = bow_counts.fit_transform(train['content'])\n",
    "bow_test = bow_counts.transform(test['content'])\n",
    "bow_data"
   ],
   "metadata": {
    "colab": {
     "base_uri": "https://localhost:8080/"
    },
    "id": "j94hvz28t9z3",
    "outputId": "eac30d27-3c05-45d5-96fb-67017057505f",
    "pycharm": {
     "name": "#%%\n"
    }
   },
   "execution_count": null,
   "outputs": [
    {
     "output_type": "execute_result",
     "data": {
      "text/plain": [
       "<120000x1136670 sparse matrix of type '<class 'numpy.int64'>'\n",
       "\twith 7795654 stored elements in Compressed Sparse Row format>"
      ]
     },
     "metadata": {},
     "execution_count": 11
    }
   ]
  },
  {
   "cell_type": "code",
   "source": [
    "clf = LinearSVC(C=0.1, random_state=3, class_weight='balanced', max_iter=100000).fit(bow_data, labels)\n",
    "y_pred = clf.predict(bow_test)"
   ],
   "metadata": {
    "id": "M92o36eAjVm7",
    "pycharm": {
     "name": "#%%\n"
    }
   },
   "execution_count": null,
   "outputs": []
  },
  {
   "cell_type": "code",
   "source": [
    "# 0.1\n",
    "accuracy = metrics.accuracy_score(test_labels, y_pred)\n",
    "f1_score_micro = metrics.f1_score(test_labels, y_pred, average='micro')\n",
    "f1_score_macro = metrics.f1_score(test_labels, y_pred, average='macro')\n",
    "print(f\"Accuracy Score = {accuracy}\")\n",
    "print(f\"F1 Score (Micro) = {f1_score_micro}\")\n",
    "print(f\"F1 Score (Macro) = {f1_score_macro}\")"
   ],
   "metadata": {
    "colab": {
     "base_uri": "https://localhost:8080/"
    },
    "id": "MQGm5bR_PRPA",
    "outputId": "c49da9f7-be0f-482a-b991-e74a7f2804fb",
    "pycharm": {
     "name": "#%%\n"
    }
   },
   "execution_count": null,
   "outputs": [
    {
     "output_type": "stream",
     "name": "stdout",
     "text": [
      "Accuracy Score = 0.9226315789473685\n",
      "F1 Score (Micro) = 0.9226315789473686\n",
      "F1 Score (Macro) = 0.9225062271886556\n"
     ]
    }
   ]
  },
  {
   "cell_type": "code",
   "source": [
    "print('\\t\\t\\t\\tCLASSIFICATIION METRICS\\n')\n",
    "print(metrics.classification_report(test_labels, y_pred))"
   ],
   "metadata": {
    "colab": {
     "base_uri": "https://localhost:8080/"
    },
    "id": "YXfcAnEYuPMZ",
    "outputId": "d2bc594c-1ace-41b2-87c3-94067bed6cc6",
    "pycharm": {
     "name": "#%%\n"
    }
   },
   "execution_count": null,
   "outputs": [
    {
     "output_type": "stream",
     "name": "stdout",
     "text": [
      "\t\t\t\tCLASSIFICATIION METRICS\n",
      "\n",
      "              precision    recall  f1-score   support\n",
      "\n",
      "           1       0.94      0.91      0.93      1900\n",
      "           2       0.96      0.98      0.97      1900\n",
      "           3       0.90      0.89      0.89      1900\n",
      "           4       0.90      0.91      0.90      1900\n",
      "\n",
      "    accuracy                           0.92      7600\n",
      "   macro avg       0.92      0.92      0.92      7600\n",
      "weighted avg       0.92      0.92      0.92      7600\n",
      "\n"
     ]
    }
   ]
  },
  {
   "cell_type": "code",
   "source": [
    "conf_mat = metrics.confusion_matrix(test_labels, y_pred)\n",
    "fig, ax = plt.subplots(figsize=(8,8))\n",
    "sns.heatmap(conf_mat, annot=True, cmap=\"Blues\", fmt='d')\n",
    "plt.ylabel('Actual')\n",
    "plt.xlabel('Predicted')\n",
    "plt.title(\"CONFUSION MATRIX SVC\\n\", size=16)"
   ],
   "metadata": {
    "colab": {
     "base_uri": "https://localhost:8080/",
     "height": 760
    },
    "id": "CAqpVJagU4zb",
    "outputId": "9e478ff5-56c6-4558-cc22-521ad091de52",
    "pycharm": {
     "name": "#%%\n"
    }
   },
   "execution_count": null,
   "outputs": [
    {
     "output_type": "execute_result",
     "data": {
      "text/plain": [
       "Text(0.5, 1.0, 'CONFUSION MATRIX SVC\\n')"
      ]
     },
     "metadata": {},
     "execution_count": 23
    },
    {
     "output_type": "display_data",
     "data": {
      "text/plain": [
       "<Figure size 800x800 with 2 Axes>"
      ],
      "image/png": "[encoded data removed]"
     },
     "metadata": {}
    }
   ]
  },
  {
   "cell_type": "code",
   "source": [
    "def objective(trial):\n",
    "    global bow_train, y_train, bow_valid, y_valid\n",
    "\n",
    "    c = trial.suggest_float(\"lr_c\", 1e-1, 1e2, log=True)\n",
    "\n",
    "    clf = LogisticRegression(C=c, random_state=3, class_weight='balanced', max_iter=100000)\n",
    "    clf.fit(bow_train, y_train)\n",
    "\n",
    "    return metrics.f1_score(clf.predict(bow_valid), y_valid, average='macro')\n",
    "\n",
    "\n",
    "study = optuna.create_study(direction=\"maximize\")\n",
    "study.optimize(objective, n_trials=10)\n",
    "print(study.best_trial)"
   ],
   "metadata": {
    "colab": {
     "base_uri": "https://localhost:8080/"
    },
    "id": "TJ2E3ZO7V9ez",
    "outputId": "d1bee179-9c44-4809-c873-0d667f4e8179",
    "pycharm": {
     "name": "#%%\n"
    }
   },
   "execution_count": null,
   "outputs": [
    {
     "output_type": "stream",
     "name": "stderr",
     "text": [
      "\u001B[32m[I 2023-05-21 08:06:07,596]\u001B[0m A new study created in memory with name: no-name-b3807769-0e27-4646-9282-ff3e1bdbd56b\u001B[0m\n",
      "\u001B[32m[I 2023-05-21 08:19:09,244]\u001B[0m Trial 0 finished with value: 0.9157735359135724 and parameters: {'lr_c': 47.70266313205785}. Best is trial 0 with value: 0.9157735359135724.\u001B[0m\n",
      "\u001B[32m[I 2023-05-21 08:26:22,889]\u001B[0m Trial 1 finished with value: 0.9164398208758501 and parameters: {'lr_c': 0.6246566780084875}. Best is trial 1 with value: 0.9164398208758501.\u001B[0m\n",
      "\u001B[32m[I 2023-05-21 08:34:50,781]\u001B[0m Trial 2 finished with value: 0.9165317805023033 and parameters: {'lr_c': 1.291117579353017}. Best is trial 2 with value: 0.9165317805023033.\u001B[0m\n",
      "\u001B[32m[I 2023-05-21 08:42:51,758]\u001B[0m Trial 3 finished with value: 0.9164036324605779 and parameters: {'lr_c': 0.9997899629085506}. Best is trial 2 with value: 0.9165317805023033.\u001B[0m\n",
      "\u001B[32m[I 2023-05-21 08:52:40,786]\u001B[0m Trial 4 finished with value: 0.9166505400396936 and parameters: {'lr_c': 4.2517971750241035}. Best is trial 4 with value: 0.9166505400396936.\u001B[0m\n",
      "\u001B[32m[I 2023-05-21 09:03:37,187]\u001B[0m Trial 5 finished with value: 0.9163598707510138 and parameters: {'lr_c': 10.538380623572733}. Best is trial 4 with value: 0.9166505400396936.\u001B[0m\n",
      "\u001B[32m[I 2023-05-21 09:15:30,367]\u001B[0m Trial 6 finished with value: 0.915814885177596 and parameters: {'lr_c': 42.7234007506479}. Best is trial 4 with value: 0.9166505400396936.\u001B[0m\n",
      "\u001B[32m[I 2023-05-21 09:22:32,951]\u001B[0m Trial 7 finished with value: 0.9166936455886555 and parameters: {'lr_c': 0.5287863782098247}. Best is trial 7 with value: 0.9166936455886555.\u001B[0m\n",
      "\u001B[32m[I 2023-05-21 09:29:39,633]\u001B[0m Trial 8 finished with value: 0.9165648261216053 and parameters: {'lr_c': 0.57817172886091}. Best is trial 7 with value: 0.9166936455886555.\u001B[0m\n",
      "\u001B[32m[I 2023-05-21 09:40:33,811]\u001B[0m Trial 9 finished with value: 0.9163598707510138 and parameters: {'lr_c': 10.36566796597825}. Best is trial 7 with value: 0.9166936455886555.\u001B[0m\n"
     ]
    },
    {
     "output_type": "stream",
     "name": "stdout",
     "text": [
      "FrozenTrial(number=7, state=TrialState.COMPLETE, values=[0.9166936455886555], datetime_start=datetime.datetime(2023, 5, 21, 9, 15, 30, 368944), datetime_complete=datetime.datetime(2023, 5, 21, 9, 22, 32, 951732), params={'lr_c': 0.5287863782098247}, user_attrs={}, system_attrs={}, intermediate_values={}, distributions={'lr_c': FloatDistribution(high=100.0, log=True, low=0.1, step=None)}, trial_id=7, value=None)\n"
     ]
    }
   ]
  },
  {
   "cell_type": "code",
   "source": [
    "clf = LogisticRegression(C=2, random_state=3, class_weight='balanced', max_iter=100000).fit(bow_data, labels)\n",
    "y_pred = clf.predict(bow_test)"
   ],
   "metadata": {
    "colab": {
     "base_uri": "https://localhost:8080/",
     "height": 183
    },
    "id": "EQtmApJeWB9B",
    "outputId": "a19f2ba6-9023-4416-bf94-b3cc6245c2c0",
    "pycharm": {
     "name": "#%%\n"
    }
   },
   "execution_count": null,
   "outputs": [
    {
     "output_type": "error",
     "ename": "NameError",
     "evalue": "ignored",
     "traceback": [
      "\u001B[0;31m---------------------------------------------------------------------------\u001B[0m",
      "\u001B[0;31mNameError\u001B[0m                                 Traceback (most recent call last)",
      "\u001B[0;32m<ipython-input-3-35fe36915f28>\u001B[0m in \u001B[0;36m<cell line: 1>\u001B[0;34m()\u001B[0m\n\u001B[0;32m----> 1\u001B[0;31m \u001B[0mclf\u001B[0m \u001B[0;34m=\u001B[0m \u001B[0mLogisticRegression\u001B[0m\u001B[0;34m(\u001B[0m\u001B[0mC\u001B[0m\u001B[0;34m=\u001B[0m\u001B[0;36m2\u001B[0m\u001B[0;34m,\u001B[0m \u001B[0mrandom_state\u001B[0m\u001B[0;34m=\u001B[0m\u001B[0;36m3\u001B[0m\u001B[0;34m,\u001B[0m \u001B[0mclass_weight\u001B[0m\u001B[0;34m=\u001B[0m\u001B[0;34m'balanced'\u001B[0m\u001B[0;34m,\u001B[0m \u001B[0mmax_iter\u001B[0m\u001B[0;34m=\u001B[0m\u001B[0;36m100000\u001B[0m\u001B[0;34m)\u001B[0m\u001B[0;34m.\u001B[0m\u001B[0mfit\u001B[0m\u001B[0;34m(\u001B[0m\u001B[0mbow_data\u001B[0m\u001B[0;34m,\u001B[0m \u001B[0mlabels\u001B[0m\u001B[0;34m)\u001B[0m\u001B[0;34m\u001B[0m\u001B[0;34m\u001B[0m\u001B[0m\n\u001B[0m\u001B[1;32m      2\u001B[0m \u001B[0my_pred\u001B[0m \u001B[0;34m=\u001B[0m \u001B[0mclf\u001B[0m\u001B[0;34m.\u001B[0m\u001B[0mpredict\u001B[0m\u001B[0;34m(\u001B[0m\u001B[0mbow_test\u001B[0m\u001B[0;34m)\u001B[0m\u001B[0;34m\u001B[0m\u001B[0;34m\u001B[0m\u001B[0m\n",
      "\u001B[0;31mNameError\u001B[0m: name 'bow_data' is not defined"
     ]
    }
   ]
  },
  {
   "cell_type": "code",
   "source": [
    "# 2\n",
    "accuracy = metrics.accuracy_score(test_labels, y_pred)\n",
    "f1_score_micro = metrics.f1_score(test_labels, y_pred, average='micro')\n",
    "f1_score_macro = metrics.f1_score(test_labels, y_pred, average='macro')\n",
    "print(f\"Accuracy Score = {accuracy}\")\n",
    "print(f\"F1 Score (Micro) = {f1_score_micro}\")\n",
    "print(f\"F1 Score (Macro) = {f1_score_macro}\")"
   ],
   "metadata": {
    "colab": {
     "base_uri": "https://localhost:8080/",
     "height": 235
    },
    "id": "iAcwwNYvsez2",
    "outputId": "03c59ff3-4b39-4820-c378-7c947b360ef4",
    "pycharm": {
     "name": "#%%\n"
    }
   },
   "execution_count": null,
   "outputs": [
    {
     "output_type": "error",
     "ename": "NameError",
     "evalue": "ignored",
     "traceback": [
      "\u001B[0;31m---------------------------------------------------------------------------\u001B[0m",
      "\u001B[0;31mNameError\u001B[0m                                 Traceback (most recent call last)",
      "\u001B[0;32m<ipython-input-4-4a8948643f3b>\u001B[0m in \u001B[0;36m<cell line: 2>\u001B[0;34m()\u001B[0m\n\u001B[1;32m      1\u001B[0m \u001B[0;31m# 2\u001B[0m\u001B[0;34m\u001B[0m\u001B[0;34m\u001B[0m\u001B[0m\n\u001B[0;32m----> 2\u001B[0;31m \u001B[0maccuracy\u001B[0m \u001B[0;34m=\u001B[0m \u001B[0mmetrics\u001B[0m\u001B[0;34m.\u001B[0m\u001B[0maccuracy_score\u001B[0m\u001B[0;34m(\u001B[0m\u001B[0mtest_labels\u001B[0m\u001B[0;34m,\u001B[0m \u001B[0my_pred\u001B[0m\u001B[0;34m)\u001B[0m\u001B[0;34m\u001B[0m\u001B[0;34m\u001B[0m\u001B[0m\n\u001B[0m\u001B[1;32m      3\u001B[0m \u001B[0mf1_score_micro\u001B[0m \u001B[0;34m=\u001B[0m \u001B[0mmetrics\u001B[0m\u001B[0;34m.\u001B[0m\u001B[0mf1_score\u001B[0m\u001B[0;34m(\u001B[0m\u001B[0mtest_labels\u001B[0m\u001B[0;34m,\u001B[0m \u001B[0my_pred\u001B[0m\u001B[0;34m,\u001B[0m \u001B[0maverage\u001B[0m\u001B[0;34m=\u001B[0m\u001B[0;34m'micro'\u001B[0m\u001B[0;34m)\u001B[0m\u001B[0;34m\u001B[0m\u001B[0;34m\u001B[0m\u001B[0m\n\u001B[1;32m      4\u001B[0m \u001B[0mf1_score_macro\u001B[0m \u001B[0;34m=\u001B[0m \u001B[0mmetrics\u001B[0m\u001B[0;34m.\u001B[0m\u001B[0mf1_score\u001B[0m\u001B[0;34m(\u001B[0m\u001B[0mtest_labels\u001B[0m\u001B[0;34m,\u001B[0m \u001B[0my_pred\u001B[0m\u001B[0;34m,\u001B[0m \u001B[0maverage\u001B[0m\u001B[0;34m=\u001B[0m\u001B[0;34m'macro'\u001B[0m\u001B[0;34m)\u001B[0m\u001B[0;34m\u001B[0m\u001B[0;34m\u001B[0m\u001B[0m\n\u001B[1;32m      5\u001B[0m \u001B[0mprint\u001B[0m\u001B[0;34m(\u001B[0m\u001B[0;34mf\"Accuracy Score = {accuracy}\"\u001B[0m\u001B[0;34m)\u001B[0m\u001B[0;34m\u001B[0m\u001B[0;34m\u001B[0m\u001B[0m\n",
      "\u001B[0;31mNameError\u001B[0m: name 'test_labels' is not defined"
     ]
    }
   ]
  },
  {
   "cell_type": "code",
   "source": [
    "# 1\n",
    "accuracy = metrics.accuracy_score(test_labels, y_pred)\n",
    "f1_score_micro = metrics.f1_score(test_labels, y_pred, average='micro')\n",
    "f1_score_macro = metrics.f1_score(test_labels, y_pred, average='macro')\n",
    "print(f\"Accuracy Score = {accuracy}\")\n",
    "print(f\"F1 Score (Micro) = {f1_score_micro}\")\n",
    "print(f\"F1 Score (Macro) = {f1_score_macro}\")"
   ],
   "metadata": {
    "colab": {
     "base_uri": "https://localhost:8080/"
    },
    "id": "z93b4n0WvQJM",
    "outputId": "04deb108-0385-4797-baa1-ad335da56862",
    "pycharm": {
     "name": "#%%\n"
    }
   },
   "execution_count": null,
   "outputs": [
    {
     "output_type": "stream",
     "name": "stdout",
     "text": [
      "Accuracy Score = 0.9192105263157895\n",
      "F1 Score (Micro) = 0.9192105263157895\n",
      "F1 Score (Macro) = 0.9191023405959673\n"
     ]
    }
   ]
  },
  {
   "cell_type": "code",
   "source": [
    "print('\\t\\t\\t\\tCLASSIFICATIION METRICS\\n')\n",
    "print(metrics.classification_report(test_labels, y_pred))"
   ],
   "metadata": {
    "colab": {
     "base_uri": "https://localhost:8080/"
    },
    "id": "9E2Nbw5Zsgy3",
    "outputId": "f534e809-d3ca-4e7c-81f4-35ac4bed884b",
    "pycharm": {
     "name": "#%%\n"
    }
   },
   "execution_count": null,
   "outputs": [
    {
     "output_type": "stream",
     "name": "stdout",
     "text": [
      "\t\t\t\tCLASSIFICATIION METRICS\n",
      "\n",
      "              precision    recall  f1-score   support\n",
      "\n",
      "           1       0.94      0.91      0.92      1900\n",
      "           2       0.95      0.98      0.96      1900\n",
      "           3       0.89      0.89      0.89      1900\n",
      "           4       0.89      0.90      0.89      1900\n",
      "\n",
      "    accuracy                           0.92      7600\n",
      "   macro avg       0.92      0.92      0.92      7600\n",
      "weighted avg       0.92      0.92      0.92      7600\n",
      "\n"
     ]
    }
   ]
  },
  {
   "cell_type": "code",
   "source": [
    "conf_mat = metrics.confusion_matrix(test_labels, y_pred)\n",
    "fig, ax = plt.subplots(figsize=(8,8))\n",
    "sns.heatmap(conf_mat, annot=True, cmap=\"Blues\", fmt='d')\n",
    "plt.ylabel('Actual')\n",
    "plt.xlabel('Predicted')\n",
    "plt.title(\"CONFUSION MATRIX SVC\\n\", size=16)"
   ],
   "metadata": {
    "colab": {
     "base_uri": "https://localhost:8080/",
     "height": 760
    },
    "id": "v-uMCR3Jsig4",
    "outputId": "caddb09f-f61f-4a80-ccd0-9092fe2e9f5a",
    "pycharm": {
     "name": "#%%\n"
    }
   },
   "execution_count": null,
   "outputs": [
    {
     "output_type": "execute_result",
     "data": {
      "text/plain": [
       "Text(0.5, 1.0, 'CONFUSION MATRIX SVC\\n')"
      ]
     },
     "metadata": {},
     "execution_count": 28
    },
    {
     "output_type": "display_data",
     "data": {
      "text/plain": [
       "<Figure size 800x800 with 2 Axes>"
      ],
      "image/png": "[encoded data removed]"
     },
     "metadata": {}
    }
   ]
  },
  {
   "cell_type": "code",
   "source": [],
   "metadata": {
    "id": "oSy-JnsQsmOL",
    "pycharm": {
     "name": "#%%\n"
    }
   },
   "execution_count": null,
   "outputs": []
  },
  {
   "cell_type": "markdown",
   "source": [
    "Эксперимент 7 (Токен + удаление стоп-слов)"
   ],
   "metadata": {
    "id": "-xK6uLYf7-4g",
    "pycharm": {
     "name": "#%% md\n"
    }
   }
  },
  {
   "cell_type": "code",
   "source": [
    "def objective(trial):\n",
    "    global bow_train, y_train, bow_valid, y_valid\n",
    "\n",
    "    c = trial.suggest_float(\"svc_c\", 1e-1, 1e2, log=True)\n",
    "\n",
    "    clf = LinearSVC(C=c, random_state=3, class_weight='balanced', max_iter=100000)\n",
    "    clf.fit(bow_train, y_train)\n",
    "\n",
    "    return metrics.f1_score(clf.predict(bow_valid), y_valid, average='macro')\n",
    "\n",
    "\n",
    "study = optuna.create_study(direction=\"maximize\")\n",
    "study.optimize(objective, n_trials=10)\n",
    "print(study.best_trial)"
   ],
   "metadata": {
    "colab": {
     "base_uri": "https://localhost:8080/"
    },
    "id": "62dPB-UF8FcA",
    "outputId": "7da1814c-642b-47c3-fe59-6c380d27af31",
    "pycharm": {
     "name": "#%%\n"
    }
   },
   "execution_count": null,
   "outputs": [
    {
     "output_type": "stream",
     "name": "stderr",
     "text": [
      "\u001B[32m[I 2023-05-21 15:33:03,819]\u001B[0m A new study created in memory with name: no-name-55684c3b-805f-4216-911c-cdc6f013cf2c\u001B[0m\n",
      "\u001B[32m[I 2023-05-21 15:40:19,155]\u001B[0m Trial 0 finished with value: 0.9183464903507429 and parameters: {'svc_c': 2.8695942224091424}. Best is trial 0 with value: 0.9183464903507429.\u001B[0m\n",
      "\u001B[32m[I 2023-05-21 15:43:14,155]\u001B[0m Trial 1 finished with value: 0.9186378291863493 and parameters: {'svc_c': 1.2863613426041722}. Best is trial 1 with value: 0.9186378291863493.\u001B[0m\n",
      "\u001B[32m[I 2023-05-21 15:46:42,400]\u001B[0m Trial 2 finished with value: 0.9186378291863493 and parameters: {'svc_c': 1.2724717133521386}. Best is trial 1 with value: 0.9186378291863493.\u001B[0m\n",
      "\u001B[32m[I 2023-05-21 15:47:25,449]\u001B[0m Trial 3 finished with value: 0.9198826584654801 and parameters: {'svc_c': 0.28702322201558317}. Best is trial 3 with value: 0.9198826584654801.\u001B[0m\n",
      "\u001B[32m[I 2023-05-21 16:22:58,979]\u001B[0m Trial 4 finished with value: 0.9180548357745333 and parameters: {'svc_c': 15.302019489087337}. Best is trial 3 with value: 0.9198826584654801.\u001B[0m\n",
      "\u001B[32m[I 2023-05-21 16:24:22,547]\u001B[0m Trial 5 finished with value: 0.918966951417662 and parameters: {'svc_c': 0.5386567627966973}. Best is trial 3 with value: 0.9198826584654801.\u001B[0m\n"
     ]
    }
   ]
  },
  {
   "cell_type": "code",
   "source": [
    "bow_data = bow_counts.fit_transform(train['content'])\n",
    "bow_test = bow_counts.transform(test['content'])\n",
    "bow_data"
   ],
   "metadata": {
    "colab": {
     "base_uri": "https://localhost:8080/"
    },
    "id": "lsK3gAQ-8Il4",
    "outputId": "35ca89de-4aec-4b82-cdc6-1bb2d70d577c",
    "pycharm": {
     "name": "#%%\n"
    }
   },
   "execution_count": null,
   "outputs": [
    {
     "output_type": "execute_result",
     "data": {
      "text/plain": [
       "<120000x1503830 sparse matrix of type '<class 'numpy.int64'>'\n",
       "\twith 5463682 stored elements in Compressed Sparse Row format>"
      ]
     },
     "metadata": {},
     "execution_count": 12
    }
   ]
  },
  {
   "cell_type": "code",
   "source": [
    "clf = LinearSVC(C=0.1, random_state=3, class_weight='balanced', max_iter=100000).fit(bow_data, labels)\n",
    "y_pred = clf.predict(bow_test)"
   ],
   "metadata": {
    "id": "0VWd4o2Y8MKu",
    "pycharm": {
     "name": "#%%\n"
    }
   },
   "execution_count": null,
   "outputs": []
  },
  {
   "cell_type": "code",
   "source": [
    "# 0.1\n",
    "accuracy = metrics.accuracy_score(test_labels, y_pred)\n",
    "f1_score_micro = metrics.f1_score(test_labels, y_pred, average='micro')\n",
    "f1_score_macro = metrics.f1_score(test_labels, y_pred, average='macro')\n",
    "print(f\"Accuracy Score = {accuracy}\")\n",
    "print(f\"F1 Score (Micro) = {f1_score_micro}\")\n",
    "print(f\"F1 Score (Macro) = {f1_score_macro}\")"
   ],
   "metadata": {
    "colab": {
     "base_uri": "https://localhost:8080/"
    },
    "id": "Loa1rrbfUoD8",
    "outputId": "4773e263-8839-4c59-a06e-0ac98fe02b02",
    "pycharm": {
     "name": "#%%\n"
    }
   },
   "execution_count": null,
   "outputs": [
    {
     "output_type": "stream",
     "name": "stdout",
     "text": [
      "Accuracy Score = 0.9251315789473684\n",
      "F1 Score (Micro) = 0.9251315789473684\n",
      "F1 Score (Macro) = 0.924932452837105\n"
     ]
    }
   ]
  },
  {
   "cell_type": "code",
   "source": [
    "print('\\t\\t\\t\\tCLASSIFICATIION METRICS\\n')\n",
    "print(metrics.classification_report(test_labels, y_pred))"
   ],
   "metadata": {
    "colab": {
     "base_uri": "https://localhost:8080/"
    },
    "id": "8MjphXq-_3hQ",
    "outputId": "ffc561bd-e27a-4745-d4ed-6ee58ca21c47",
    "pycharm": {
     "name": "#%%\n"
    }
   },
   "execution_count": null,
   "outputs": [
    {
     "output_type": "stream",
     "name": "stdout",
     "text": [
      "\t\t\t\tCLASSIFICATIION METRICS\n",
      "\n",
      "              precision    recall  f1-score   support\n",
      "\n",
      "           1       0.94      0.92      0.93      1900\n",
      "           2       0.96      0.99      0.97      1900\n",
      "           3       0.91      0.89      0.90      1900\n",
      "           4       0.90      0.91      0.90      1900\n",
      "\n",
      "    accuracy                           0.93      7600\n",
      "   macro avg       0.92      0.93      0.92      7600\n",
      "weighted avg       0.92      0.93      0.92      7600\n",
      "\n"
     ]
    }
   ]
  },
  {
   "cell_type": "code",
   "source": [
    "conf_mat = metrics.confusion_matrix(test_labels, y_pred)\n",
    "fig, ax = plt.subplots(figsize=(8,8))\n",
    "sns.heatmap(conf_mat, annot=True, cmap=\"Blues\", fmt='d')\n",
    "plt.ylabel('Actual')\n",
    "plt.xlabel('Predicted')\n",
    "plt.title(\"CONFUSION MATRIX SVC\\n\", size=16)"
   ],
   "metadata": {
    "colab": {
     "base_uri": "https://localhost:8080/",
     "height": 760
    },
    "id": "vsc00oYLOt0z",
    "outputId": "036f1329-4755-4240-f75d-c834ac1b098f",
    "pycharm": {
     "name": "#%%\n"
    }
   },
   "execution_count": null,
   "outputs": [
    {
     "output_type": "execute_result",
     "data": {
      "text/plain": [
       "Text(0.5, 1.0, 'CONFUSION MATRIX SVC\\n')"
      ]
     },
     "metadata": {},
     "execution_count": 26
    },
    {
     "output_type": "display_data",
     "data": {
      "text/plain": [
       "<Figure size 800x800 with 2 Axes>"
      ],
      "image/png": "[encoded data removed]"
     },
     "metadata": {}
    }
   ]
  },
  {
   "cell_type": "code",
   "source": [],
   "metadata": {
    "id": "6ypql785dvvd",
    "pycharm": {
     "name": "#%%\n"
    }
   },
   "execution_count": null,
   "outputs": []
  }
 ],
 "metadata": {
  "kernelspec": {
   "display_name": "Python 3",
   "language": "python",
   "name": "python3"
  },
  "language_info": {
   "codemirror_mode": {
    "name": "ipython",
    "version": 2
   },
   "file_extension": ".py",
   "mimetype": "text/x-python",
   "name": "python",
   "nbconvert_exporter": "python",
   "pygments_lexer": "ipython2",
   "version": "2.7.6"
  },
  "colab": {
   "provenance": [],
   "gpuType": "T4"
  },
  "gpuClass": "standard"
 },
 "nbformat": 4,
 "nbformat_minor": 0
}