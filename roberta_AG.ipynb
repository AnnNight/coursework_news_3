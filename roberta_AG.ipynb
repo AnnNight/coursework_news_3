{
  "cells": [
    {
      "cell_type": "code",
      "source": [
        "!pip install transformers"
      ],
      "metadata": {
        "colab": {
          "base_uri": "https://localhost:8080/"
        },
        "id": "4UrlwTH1kIRB",
        "outputId": "614da0b4-53b0-457e-832e-27e610e04315",
        "pycharm": {
          "name": "#%%\n"
        }
      },
      "execution_count": null,
      "outputs": [
        {
          "output_type": "stream",
          "name": "stdout",
          "text": [
            "Looking in indexes: https://pypi.org/simple, https://us-python.pkg.dev/colab-wheels/public/simple/\n",
            "Collecting transformers\n",
            "  Downloading transformers-4.29.0-py3-none-any.whl (7.1 MB)\n",
            "\u001b[2K     \u001b[90m━━━━━━━━━━━━━━━━━━━━━━━━━━━━━━━━━━━━━━━━\u001b[0m \u001b[32m7.1/7.1 MB\u001b[0m \u001b[31m57.8 MB/s\u001b[0m eta \u001b[36m0:00:00\u001b[0m\n",
            "\u001b[?25hRequirement already satisfied: filelock in /usr/local/lib/python3.10/dist-packages (from transformers) (3.12.0)\n",
            "Collecting huggingface-hub<1.0,>=0.11.0 (from transformers)\n",
            "  Downloading huggingface_hub-0.14.1-py3-none-any.whl (224 kB)\n",
            "\u001b[2K     \u001b[90m━━━━━━━━━━━━━━━━━━━━━━━━━━━━━━━━━━━━━━\u001b[0m \u001b[32m224.5/224.5 kB\u001b[0m \u001b[31m12.6 MB/s\u001b[0m eta \u001b[36m0:00:00\u001b[0m\n",
            "\u001b[?25hRequirement already satisfied: numpy>=1.17 in /usr/local/lib/python3.10/dist-packages (from transformers) (1.22.4)\n",
            "Requirement already satisfied: packaging>=20.0 in /usr/local/lib/python3.10/dist-packages (from transformers) (23.1)\n",
            "Requirement already satisfied: pyyaml>=5.1 in /usr/local/lib/python3.10/dist-packages (from transformers) (6.0)\n",
            "Requirement already satisfied: regex!=2019.12.17 in /usr/local/lib/python3.10/dist-packages (from transformers) (2022.10.31)\n",
            "Requirement already satisfied: requests in /usr/local/lib/python3.10/dist-packages (from transformers) (2.27.1)\n",
            "Collecting tokenizers!=0.11.3,<0.14,>=0.11.1 (from transformers)\n",
            "  Downloading tokenizers-0.13.3-cp310-cp310-manylinux_2_17_x86_64.manylinux2014_x86_64.whl (7.8 MB)\n",
            "\u001b[2K     \u001b[90m━━━━━━━━━━━━━━━━━━━━━━━━━━━━━━━━━━━━━━━━\u001b[0m \u001b[32m7.8/7.8 MB\u001b[0m \u001b[31m61.0 MB/s\u001b[0m eta \u001b[36m0:00:00\u001b[0m\n",
            "\u001b[?25hRequirement already satisfied: tqdm>=4.27 in /usr/local/lib/python3.10/dist-packages (from transformers) (4.65.0)\n",
            "Requirement already satisfied: fsspec in /usr/local/lib/python3.10/dist-packages (from huggingface-hub<1.0,>=0.11.0->transformers) (2023.4.0)\n",
            "Requirement already satisfied: typing-extensions>=3.7.4.3 in /usr/local/lib/python3.10/dist-packages (from huggingface-hub<1.0,>=0.11.0->transformers) (4.5.0)\n",
            "Requirement already satisfied: urllib3<1.27,>=1.21.1 in /usr/local/lib/python3.10/dist-packages (from requests->transformers) (1.26.15)\n",
            "Requirement already satisfied: certifi>=2017.4.17 in /usr/local/lib/python3.10/dist-packages (from requests->transformers) (2022.12.7)\n",
            "Requirement already satisfied: charset-normalizer~=2.0.0 in /usr/local/lib/python3.10/dist-packages (from requests->transformers) (2.0.12)\n",
            "Requirement already satisfied: idna<4,>=2.5 in /usr/local/lib/python3.10/dist-packages (from requests->transformers) (3.4)\n",
            "Installing collected packages: tokenizers, huggingface-hub, transformers\n",
            "Successfully installed huggingface-hub-0.14.1 tokenizers-0.13.3 transformers-4.29.0\n"
          ]
        }
      ]
    },
    {
      "cell_type": "code",
      "execution_count": null,
      "metadata": {
        "collapsed": true,
        "pycharm": {
          "name": "#%%\n"
        },
        "id": "MOUn5JRvRbUq"
      },
      "outputs": [],
      "source": [
        "import pandas as pd\n",
        "import torch\n",
        "import transformers\n",
        "from torch.utils.data import Dataset, DataLoader, RandomSampler, SequentialSampler\n",
        "from transformers import BertTokenizer, AutoTokenizer, BertModel, BertConfig, AutoModel, AdamW\n",
        "import numpy as np\n",
        "from sklearn import metrics\n",
        "from sklearn.model_selection import train_test_split\n",
        "import matplotlib.pyplot as plt\n",
        "import seaborn as sns\n",
        "import random"
      ]
    },
    {
      "cell_type": "code",
      "execution_count": null,
      "outputs": [
        {
          "output_type": "execute_result",
          "data": {
            "text/plain": [
              "   Class Index                                              Title  \\\n",
              "0            3  Wall St. Bears Claw Back Into the Black (Reuters)   \n",
              "1            3  Carlyle Looks Toward Commercial Aerospace (Reu...   \n",
              "2            3    Oil and Economy Cloud Stocks' Outlook (Reuters)   \n",
              "3            3  Iraq Halts Oil Exports from Main Southern Pipe...   \n",
              "\n",
              "                                         Description  \n",
              "0  Reuters - Short-sellers, Wall Street's dwindli...  \n",
              "1  Reuters - Private investment firm Carlyle Grou...  \n",
              "2  Reuters - Soaring crude prices plus worries\\ab...  \n",
              "3  Reuters - Authorities have halted oil export\\f...  "
            ],
            "text/html": [
              "\n",
              "  <div id=\"df-5951f884-bdac-4704-aad3-bf3d9b4f9bfe\">\n",
              "    <div class=\"colab-df-container\">\n",
              "      <div>\n",
              "<style scoped>\n",
              "    .dataframe tbody tr th:only-of-type {\n",
              "        vertical-align: middle;\n",
              "    }\n",
              "\n",
              "    .dataframe tbody tr th {\n",
              "        vertical-align: top;\n",
              "    }\n",
              "\n",
              "    .dataframe thead th {\n",
              "        text-align: right;\n",
              "    }\n",
              "</style>\n",
              "<table border=\"1\" class=\"dataframe\">\n",
              "  <thead>\n",
              "    <tr style=\"text-align: right;\">\n",
              "      <th></th>\n",
              "      <th>Class Index</th>\n",
              "      <th>Title</th>\n",
              "      <th>Description</th>\n",
              "    </tr>\n",
              "  </thead>\n",
              "  <tbody>\n",
              "    <tr>\n",
              "      <th>0</th>\n",
              "      <td>3</td>\n",
              "      <td>Wall St. Bears Claw Back Into the Black (Reuters)</td>\n",
              "      <td>Reuters - Short-sellers, Wall Street's dwindli...</td>\n",
              "    </tr>\n",
              "    <tr>\n",
              "      <th>1</th>\n",
              "      <td>3</td>\n",
              "      <td>Carlyle Looks Toward Commercial Aerospace (Reu...</td>\n",
              "      <td>Reuters - Private investment firm Carlyle Grou...</td>\n",
              "    </tr>\n",
              "    <tr>\n",
              "      <th>2</th>\n",
              "      <td>3</td>\n",
              "      <td>Oil and Economy Cloud Stocks' Outlook (Reuters)</td>\n",
              "      <td>Reuters - Soaring crude prices plus worries\\ab...</td>\n",
              "    </tr>\n",
              "    <tr>\n",
              "      <th>3</th>\n",
              "      <td>3</td>\n",
              "      <td>Iraq Halts Oil Exports from Main Southern Pipe...</td>\n",
              "      <td>Reuters - Authorities have halted oil export\\f...</td>\n",
              "    </tr>\n",
              "  </tbody>\n",
              "</table>\n",
              "</div>\n",
              "      <button class=\"colab-df-convert\" onclick=\"convertToInteractive('df-5951f884-bdac-4704-aad3-bf3d9b4f9bfe')\"\n",
              "              title=\"Convert this dataframe to an interactive table.\"\n",
              "              style=\"display:none;\">\n",
              "        \n",
              "  <svg xmlns=\"http://www.w3.org/2000/svg\" height=\"24px\"viewBox=\"0 0 24 24\"\n",
              "       width=\"24px\">\n",
              "    <path d=\"M0 0h24v24H0V0z\" fill=\"none\"/>\n",
              "    <path d=\"M18.56 5.44l.94 2.06.94-2.06 2.06-.94-2.06-.94-.94-2.06-.94 2.06-2.06.94zm-11 1L8.5 8.5l.94-2.06 2.06-.94-2.06-.94L8.5 2.5l-.94 2.06-2.06.94zm10 10l.94 2.06.94-2.06 2.06-.94-2.06-.94-.94-2.06-.94 2.06-2.06.94z\"/><path d=\"M17.41 7.96l-1.37-1.37c-.4-.4-.92-.59-1.43-.59-.52 0-1.04.2-1.43.59L10.3 9.45l-7.72 7.72c-.78.78-.78 2.05 0 2.83L4 21.41c.39.39.9.59 1.41.59.51 0 1.02-.2 1.41-.59l7.78-7.78 2.81-2.81c.8-.78.8-2.07 0-2.86zM5.41 20L4 18.59l7.72-7.72 1.47 1.35L5.41 20z\"/>\n",
              "  </svg>\n",
              "      </button>\n",
              "      \n",
              "  <style>\n",
              "    .colab-df-container {\n",
              "      display:flex;\n",
              "      flex-wrap:wrap;\n",
              "      gap: 12px;\n",
              "    }\n",
              "\n",
              "    .colab-df-convert {\n",
              "      background-color: #E8F0FE;\n",
              "      border: none;\n",
              "      border-radius: 50%;\n",
              "      cursor: pointer;\n",
              "      display: none;\n",
              "      fill: #1967D2;\n",
              "      height: 32px;\n",
              "      padding: 0 0 0 0;\n",
              "      width: 32px;\n",
              "    }\n",
              "\n",
              "    .colab-df-convert:hover {\n",
              "      background-color: #E2EBFA;\n",
              "      box-shadow: 0px 1px 2px rgba(60, 64, 67, 0.3), 0px 1px 3px 1px rgba(60, 64, 67, 0.15);\n",
              "      fill: #174EA6;\n",
              "    }\n",
              "\n",
              "    [theme=dark] .colab-df-convert {\n",
              "      background-color: #3B4455;\n",
              "      fill: #D2E3FC;\n",
              "    }\n",
              "\n",
              "    [theme=dark] .colab-df-convert:hover {\n",
              "      background-color: #434B5C;\n",
              "      box-shadow: 0px 1px 3px 1px rgba(0, 0, 0, 0.15);\n",
              "      filter: drop-shadow(0px 1px 2px rgba(0, 0, 0, 0.3));\n",
              "      fill: #FFFFFF;\n",
              "    }\n",
              "  </style>\n",
              "\n",
              "      <script>\n",
              "        const buttonEl =\n",
              "          document.querySelector('#df-5951f884-bdac-4704-aad3-bf3d9b4f9bfe button.colab-df-convert');\n",
              "        buttonEl.style.display =\n",
              "          google.colab.kernel.accessAllowed ? 'block' : 'none';\n",
              "\n",
              "        async function convertToInteractive(key) {\n",
              "          const element = document.querySelector('#df-5951f884-bdac-4704-aad3-bf3d9b4f9bfe');\n",
              "          const dataTable =\n",
              "            await google.colab.kernel.invokeFunction('convertToInteractive',\n",
              "                                                     [key], {});\n",
              "          if (!dataTable) return;\n",
              "\n",
              "          const docLinkHtml = 'Like what you see? Visit the ' +\n",
              "            '<a target=\"_blank\" href=https://colab.research.google.com/notebooks/data_table.ipynb>data table notebook</a>'\n",
              "            + ' to learn more about interactive tables.';\n",
              "          element.innerHTML = '';\n",
              "          dataTable['output_type'] = 'display_data';\n",
              "          await google.colab.output.renderOutput(dataTable, element);\n",
              "          const docLink = document.createElement('div');\n",
              "          docLink.innerHTML = docLinkHtml;\n",
              "          element.appendChild(docLink);\n",
              "        }\n",
              "      </script>\n",
              "    </div>\n",
              "  </div>\n",
              "  "
            ]
          },
          "metadata": {},
          "execution_count": 34
        }
      ],
      "source": [
        "data = pd.read_csv('train.csv')\n",
        "data.head(4)"
      ],
      "metadata": {
        "pycharm": {
          "name": "#%%\n"
        },
        "id": "fKtNgSlnRbUs",
        "colab": {
          "base_uri": "https://localhost:8080/",
          "height": 175
        },
        "outputId": "52877265-e991-4bde-8732-ef589b11c46d"
      }
    },
    {
      "cell_type": "code",
      "execution_count": null,
      "outputs": [],
      "source": [
        "test = pd.read_csv('test.csv')"
      ],
      "metadata": {
        "pycharm": {
          "name": "#%%\n"
        },
        "id": "eBQbuWvykGDI"
      }
    },
    {
      "cell_type": "code",
      "execution_count": null,
      "outputs": [],
      "source": [
        "data['content'] = data.Title + ' ' + data.Description\n",
        "labels = data[\"Class Index\"]"
      ],
      "metadata": {
        "pycharm": {
          "name": "#%%\n"
        },
        "id": "9AXIO1ZSkGDJ"
      }
    },
    {
      "cell_type": "code",
      "execution_count": null,
      "outputs": [],
      "source": [
        "test['content'] = test.Title + ' ' + test.Description\n",
        "test_labels = test['Class Index']"
      ],
      "metadata": {
        "pycharm": {
          "name": "#%%\n"
        },
        "id": "PwVt3KyKkGDJ"
      }
    },
    {
      "cell_type": "code",
      "execution_count": null,
      "outputs": [],
      "source": [
        "train = data.copy()"
      ],
      "metadata": {
        "pycharm": {
          "name": "#%%\n"
        },
        "id": "UGOyWunjkGDK"
      }
    },
    {
      "cell_type": "code",
      "execution_count": null,
      "outputs": [
        {
          "output_type": "execute_result",
          "data": {
            "text/plain": [
              "array([3, 4, 2, 1])"
            ]
          },
          "metadata": {},
          "execution_count": 39
        }
      ],
      "source": [
        "train['Class Index'].unique()"
      ],
      "metadata": {
        "pycharm": {
          "name": "#%%\n"
        },
        "colab": {
          "base_uri": "https://localhost:8080/"
        },
        "id": "f_aSNFp6kGDK",
        "outputId": "12da77c5-7f4b-4cb8-9a2c-3e6f44ea312d"
      }
    },
    {
      "cell_type": "code",
      "execution_count": null,
      "outputs": [],
      "source": [
        "train['Class Index'] = train['Class Index'].astype('str')"
      ],
      "metadata": {
        "pycharm": {
          "name": "#%%\n"
        },
        "id": "F82Ug_-XkGDK"
      }
    },
    {
      "cell_type": "code",
      "execution_count": null,
      "outputs": [],
      "source": [
        "test['Class Index'] = test['Class Index'].astype('str')"
      ],
      "metadata": {
        "pycharm": {
          "name": "#%%\n"
        },
        "id": "wy_5gDaGkGDK"
      }
    },
    {
      "cell_type": "code",
      "execution_count": null,
      "outputs": [],
      "source": [
        "for i in list(train['Class Index'].unique()):\n",
        "    train[i] = train['Class Index'].apply(lambda x: 1 if i in x else 0)\n",
        "    test[i] = test['Class Index'].apply(lambda x: 1 if i in x else 0)"
      ],
      "metadata": {
        "pycharm": {
          "name": "#%%\n"
        },
        "id": "lKK_xOLakGDK"
      }
    },
    {
      "cell_type": "code",
      "execution_count": null,
      "outputs": [
        {
          "output_type": "execute_result",
          "data": {
            "text/plain": [
              "       Class Index                                              Title  \\\n",
              "0                3  Wall St. Bears Claw Back Into the Black (Reuters)   \n",
              "1                3  Carlyle Looks Toward Commercial Aerospace (Reu...   \n",
              "2                3    Oil and Economy Cloud Stocks' Outlook (Reuters)   \n",
              "3                3  Iraq Halts Oil Exports from Main Southern Pipe...   \n",
              "4                3  Oil prices soar to all-time record, posing new...   \n",
              "...            ...                                                ...   \n",
              "119995           1  Pakistan's Musharraf Says Won't Quit as Army C...   \n",
              "119996           2                  Renteria signing a top-shelf deal   \n",
              "119997           2                    Saban not going to Dolphins yet   \n",
              "119998           2                                  Today's NFL games   \n",
              "119999           2                       Nets get Carter from Raptors   \n",
              "\n",
              "                                              Description  \\\n",
              "0       Reuters - Short-sellers, Wall Street's dwindli...   \n",
              "1       Reuters - Private investment firm Carlyle Grou...   \n",
              "2       Reuters - Soaring crude prices plus worries\\ab...   \n",
              "3       Reuters - Authorities have halted oil export\\f...   \n",
              "4       AFP - Tearaway world oil prices, toppling reco...   \n",
              "...                                                   ...   \n",
              "119995   KARACHI (Reuters) - Pakistani President Perve...   \n",
              "119996  Red Sox general manager Theo Epstein acknowled...   \n",
              "119997  The Miami Dolphins will put their courtship of...   \n",
              "119998  PITTSBURGH at NY GIANTS Time: 1:30 p.m. Line: ...   \n",
              "119999  INDIANAPOLIS -- All-Star Vince Carter was trad...   \n",
              "\n",
              "                                                  content  3  4  2  1  \n",
              "0       Wall St. Bears Claw Back Into the Black (Reute...  1  0  0  0  \n",
              "1       Carlyle Looks Toward Commercial Aerospace (Reu...  1  0  0  0  \n",
              "2       Oil and Economy Cloud Stocks' Outlook (Reuters...  1  0  0  0  \n",
              "3       Iraq Halts Oil Exports from Main Southern Pipe...  1  0  0  0  \n",
              "4       Oil prices soar to all-time record, posing new...  1  0  0  0  \n",
              "...                                                   ... .. .. .. ..  \n",
              "119995  Pakistan's Musharraf Says Won't Quit as Army C...  0  0  0  1  \n",
              "119996  Renteria signing a top-shelf deal Red Sox gene...  0  0  1  0  \n",
              "119997  Saban not going to Dolphins yet The Miami Dolp...  0  0  1  0  \n",
              "119998  Today's NFL games PITTSBURGH at NY GIANTS Time...  0  0  1  0  \n",
              "119999  Nets get Carter from Raptors INDIANAPOLIS -- A...  0  0  1  0  \n",
              "\n",
              "[120000 rows x 8 columns]"
            ],
            "text/html": [
              "\n",
              "  <div id=\"df-2de11c22-c5b3-41a2-95cb-389a85656059\">\n",
              "    <div class=\"colab-df-container\">\n",
              "      <div>\n",
              "<style scoped>\n",
              "    .dataframe tbody tr th:only-of-type {\n",
              "        vertical-align: middle;\n",
              "    }\n",
              "\n",
              "    .dataframe tbody tr th {\n",
              "        vertical-align: top;\n",
              "    }\n",
              "\n",
              "    .dataframe thead th {\n",
              "        text-align: right;\n",
              "    }\n",
              "</style>\n",
              "<table border=\"1\" class=\"dataframe\">\n",
              "  <thead>\n",
              "    <tr style=\"text-align: right;\">\n",
              "      <th></th>\n",
              "      <th>Class Index</th>\n",
              "      <th>Title</th>\n",
              "      <th>Description</th>\n",
              "      <th>content</th>\n",
              "      <th>3</th>\n",
              "      <th>4</th>\n",
              "      <th>2</th>\n",
              "      <th>1</th>\n",
              "    </tr>\n",
              "  </thead>\n",
              "  <tbody>\n",
              "    <tr>\n",
              "      <th>0</th>\n",
              "      <td>3</td>\n",
              "      <td>Wall St. Bears Claw Back Into the Black (Reuters)</td>\n",
              "      <td>Reuters - Short-sellers, Wall Street's dwindli...</td>\n",
              "      <td>Wall St. Bears Claw Back Into the Black (Reute...</td>\n",
              "      <td>1</td>\n",
              "      <td>0</td>\n",
              "      <td>0</td>\n",
              "      <td>0</td>\n",
              "    </tr>\n",
              "    <tr>\n",
              "      <th>1</th>\n",
              "      <td>3</td>\n",
              "      <td>Carlyle Looks Toward Commercial Aerospace (Reu...</td>\n",
              "      <td>Reuters - Private investment firm Carlyle Grou...</td>\n",
              "      <td>Carlyle Looks Toward Commercial Aerospace (Reu...</td>\n",
              "      <td>1</td>\n",
              "      <td>0</td>\n",
              "      <td>0</td>\n",
              "      <td>0</td>\n",
              "    </tr>\n",
              "    <tr>\n",
              "      <th>2</th>\n",
              "      <td>3</td>\n",
              "      <td>Oil and Economy Cloud Stocks' Outlook (Reuters)</td>\n",
              "      <td>Reuters - Soaring crude prices plus worries\\ab...</td>\n",
              "      <td>Oil and Economy Cloud Stocks' Outlook (Reuters...</td>\n",
              "      <td>1</td>\n",
              "      <td>0</td>\n",
              "      <td>0</td>\n",
              "      <td>0</td>\n",
              "    </tr>\n",
              "    <tr>\n",
              "      <th>3</th>\n",
              "      <td>3</td>\n",
              "      <td>Iraq Halts Oil Exports from Main Southern Pipe...</td>\n",
              "      <td>Reuters - Authorities have halted oil export\\f...</td>\n",
              "      <td>Iraq Halts Oil Exports from Main Southern Pipe...</td>\n",
              "      <td>1</td>\n",
              "      <td>0</td>\n",
              "      <td>0</td>\n",
              "      <td>0</td>\n",
              "    </tr>\n",
              "    <tr>\n",
              "      <th>4</th>\n",
              "      <td>3</td>\n",
              "      <td>Oil prices soar to all-time record, posing new...</td>\n",
              "      <td>AFP - Tearaway world oil prices, toppling reco...</td>\n",
              "      <td>Oil prices soar to all-time record, posing new...</td>\n",
              "      <td>1</td>\n",
              "      <td>0</td>\n",
              "      <td>0</td>\n",
              "      <td>0</td>\n",
              "    </tr>\n",
              "    <tr>\n",
              "      <th>...</th>\n",
              "      <td>...</td>\n",
              "      <td>...</td>\n",
              "      <td>...</td>\n",
              "      <td>...</td>\n",
              "      <td>...</td>\n",
              "      <td>...</td>\n",
              "      <td>...</td>\n",
              "      <td>...</td>\n",
              "    </tr>\n",
              "    <tr>\n",
              "      <th>119995</th>\n",
              "      <td>1</td>\n",
              "      <td>Pakistan's Musharraf Says Won't Quit as Army C...</td>\n",
              "      <td>KARACHI (Reuters) - Pakistani President Perve...</td>\n",
              "      <td>Pakistan's Musharraf Says Won't Quit as Army C...</td>\n",
              "      <td>0</td>\n",
              "      <td>0</td>\n",
              "      <td>0</td>\n",
              "      <td>1</td>\n",
              "    </tr>\n",
              "    <tr>\n",
              "      <th>119996</th>\n",
              "      <td>2</td>\n",
              "      <td>Renteria signing a top-shelf deal</td>\n",
              "      <td>Red Sox general manager Theo Epstein acknowled...</td>\n",
              "      <td>Renteria signing a top-shelf deal Red Sox gene...</td>\n",
              "      <td>0</td>\n",
              "      <td>0</td>\n",
              "      <td>1</td>\n",
              "      <td>0</td>\n",
              "    </tr>\n",
              "    <tr>\n",
              "      <th>119997</th>\n",
              "      <td>2</td>\n",
              "      <td>Saban not going to Dolphins yet</td>\n",
              "      <td>The Miami Dolphins will put their courtship of...</td>\n",
              "      <td>Saban not going to Dolphins yet The Miami Dolp...</td>\n",
              "      <td>0</td>\n",
              "      <td>0</td>\n",
              "      <td>1</td>\n",
              "      <td>0</td>\n",
              "    </tr>\n",
              "    <tr>\n",
              "      <th>119998</th>\n",
              "      <td>2</td>\n",
              "      <td>Today's NFL games</td>\n",
              "      <td>PITTSBURGH at NY GIANTS Time: 1:30 p.m. Line: ...</td>\n",
              "      <td>Today's NFL games PITTSBURGH at NY GIANTS Time...</td>\n",
              "      <td>0</td>\n",
              "      <td>0</td>\n",
              "      <td>1</td>\n",
              "      <td>0</td>\n",
              "    </tr>\n",
              "    <tr>\n",
              "      <th>119999</th>\n",
              "      <td>2</td>\n",
              "      <td>Nets get Carter from Raptors</td>\n",
              "      <td>INDIANAPOLIS -- All-Star Vince Carter was trad...</td>\n",
              "      <td>Nets get Carter from Raptors INDIANAPOLIS -- A...</td>\n",
              "      <td>0</td>\n",
              "      <td>0</td>\n",
              "      <td>1</td>\n",
              "      <td>0</td>\n",
              "    </tr>\n",
              "  </tbody>\n",
              "</table>\n",
              "<p>120000 rows × 8 columns</p>\n",
              "</div>\n",
              "      <button class=\"colab-df-convert\" onclick=\"convertToInteractive('df-2de11c22-c5b3-41a2-95cb-389a85656059')\"\n",
              "              title=\"Convert this dataframe to an interactive table.\"\n",
              "              style=\"display:none;\">\n",
              "        \n",
              "  <svg xmlns=\"http://www.w3.org/2000/svg\" height=\"24px\"viewBox=\"0 0 24 24\"\n",
              "       width=\"24px\">\n",
              "    <path d=\"M0 0h24v24H0V0z\" fill=\"none\"/>\n",
              "    <path d=\"M18.56 5.44l.94 2.06.94-2.06 2.06-.94-2.06-.94-.94-2.06-.94 2.06-2.06.94zm-11 1L8.5 8.5l.94-2.06 2.06-.94-2.06-.94L8.5 2.5l-.94 2.06-2.06.94zm10 10l.94 2.06.94-2.06 2.06-.94-2.06-.94-.94-2.06-.94 2.06-2.06.94z\"/><path d=\"M17.41 7.96l-1.37-1.37c-.4-.4-.92-.59-1.43-.59-.52 0-1.04.2-1.43.59L10.3 9.45l-7.72 7.72c-.78.78-.78 2.05 0 2.83L4 21.41c.39.39.9.59 1.41.59.51 0 1.02-.2 1.41-.59l7.78-7.78 2.81-2.81c.8-.78.8-2.07 0-2.86zM5.41 20L4 18.59l7.72-7.72 1.47 1.35L5.41 20z\"/>\n",
              "  </svg>\n",
              "      </button>\n",
              "      \n",
              "  <style>\n",
              "    .colab-df-container {\n",
              "      display:flex;\n",
              "      flex-wrap:wrap;\n",
              "      gap: 12px;\n",
              "    }\n",
              "\n",
              "    .colab-df-convert {\n",
              "      background-color: #E8F0FE;\n",
              "      border: none;\n",
              "      border-radius: 50%;\n",
              "      cursor: pointer;\n",
              "      display: none;\n",
              "      fill: #1967D2;\n",
              "      height: 32px;\n",
              "      padding: 0 0 0 0;\n",
              "      width: 32px;\n",
              "    }\n",
              "\n",
              "    .colab-df-convert:hover {\n",
              "      background-color: #E2EBFA;\n",
              "      box-shadow: 0px 1px 2px rgba(60, 64, 67, 0.3), 0px 1px 3px 1px rgba(60, 64, 67, 0.15);\n",
              "      fill: #174EA6;\n",
              "    }\n",
              "\n",
              "    [theme=dark] .colab-df-convert {\n",
              "      background-color: #3B4455;\n",
              "      fill: #D2E3FC;\n",
              "    }\n",
              "\n",
              "    [theme=dark] .colab-df-convert:hover {\n",
              "      background-color: #434B5C;\n",
              "      box-shadow: 0px 1px 3px 1px rgba(0, 0, 0, 0.15);\n",
              "      filter: drop-shadow(0px 1px 2px rgba(0, 0, 0, 0.3));\n",
              "      fill: #FFFFFF;\n",
              "    }\n",
              "  </style>\n",
              "\n",
              "      <script>\n",
              "        const buttonEl =\n",
              "          document.querySelector('#df-2de11c22-c5b3-41a2-95cb-389a85656059 button.colab-df-convert');\n",
              "        buttonEl.style.display =\n",
              "          google.colab.kernel.accessAllowed ? 'block' : 'none';\n",
              "\n",
              "        async function convertToInteractive(key) {\n",
              "          const element = document.querySelector('#df-2de11c22-c5b3-41a2-95cb-389a85656059');\n",
              "          const dataTable =\n",
              "            await google.colab.kernel.invokeFunction('convertToInteractive',\n",
              "                                                     [key], {});\n",
              "          if (!dataTable) return;\n",
              "\n",
              "          const docLinkHtml = 'Like what you see? Visit the ' +\n",
              "            '<a target=\"_blank\" href=https://colab.research.google.com/notebooks/data_table.ipynb>data table notebook</a>'\n",
              "            + ' to learn more about interactive tables.';\n",
              "          element.innerHTML = '';\n",
              "          dataTable['output_type'] = 'display_data';\n",
              "          await google.colab.output.renderOutput(dataTable, element);\n",
              "          const docLink = document.createElement('div');\n",
              "          docLink.innerHTML = docLinkHtml;\n",
              "          element.appendChild(docLink);\n",
              "        }\n",
              "      </script>\n",
              "    </div>\n",
              "  </div>\n",
              "  "
            ]
          },
          "metadata": {},
          "execution_count": 43
        }
      ],
      "source": [
        "train"
      ],
      "metadata": {
        "pycharm": {
          "name": "#%%\n"
        },
        "colab": {
          "base_uri": "https://localhost:8080/",
          "height": 424
        },
        "id": "BupjiXW5kGDL",
        "outputId": "bc6848f9-70a2-4887-a112-f7623ce02259"
      }
    },
    {
      "cell_type": "code",
      "execution_count": null,
      "outputs": [],
      "source": [
        "train.drop(['Description', 'Title', 'Class Index'], axis=1, inplace=True)\n",
        "test.drop(['Description', 'Title', 'Class Index'], axis=1, inplace=True)"
      ],
      "metadata": {
        "pycharm": {
          "name": "#%%\n"
        },
        "id": "c42JgoglkGDL"
      }
    },
    {
      "cell_type": "code",
      "execution_count": null,
      "outputs": [
        {
          "output_type": "execute_result",
          "data": {
            "text/plain": [
              "                                                  content  3  4  2  1\n",
              "0       Wall St. Bears Claw Back Into the Black (Reute...  1  0  0  0\n",
              "1       Carlyle Looks Toward Commercial Aerospace (Reu...  1  0  0  0\n",
              "2       Oil and Economy Cloud Stocks' Outlook (Reuters...  1  0  0  0\n",
              "3       Iraq Halts Oil Exports from Main Southern Pipe...  1  0  0  0\n",
              "4       Oil prices soar to all-time record, posing new...  1  0  0  0\n",
              "...                                                   ... .. .. .. ..\n",
              "119995  Pakistan's Musharraf Says Won't Quit as Army C...  0  0  0  1\n",
              "119996  Renteria signing a top-shelf deal Red Sox gene...  0  0  1  0\n",
              "119997  Saban not going to Dolphins yet The Miami Dolp...  0  0  1  0\n",
              "119998  Today's NFL games PITTSBURGH at NY GIANTS Time...  0  0  1  0\n",
              "119999  Nets get Carter from Raptors INDIANAPOLIS -- A...  0  0  1  0\n",
              "\n",
              "[120000 rows x 5 columns]"
            ],
            "text/html": [
              "\n",
              "  <div id=\"df-33f784e1-1238-4aa3-a5a0-ae354e4d9aa1\">\n",
              "    <div class=\"colab-df-container\">\n",
              "      <div>\n",
              "<style scoped>\n",
              "    .dataframe tbody tr th:only-of-type {\n",
              "        vertical-align: middle;\n",
              "    }\n",
              "\n",
              "    .dataframe tbody tr th {\n",
              "        vertical-align: top;\n",
              "    }\n",
              "\n",
              "    .dataframe thead th {\n",
              "        text-align: right;\n",
              "    }\n",
              "</style>\n",
              "<table border=\"1\" class=\"dataframe\">\n",
              "  <thead>\n",
              "    <tr style=\"text-align: right;\">\n",
              "      <th></th>\n",
              "      <th>content</th>\n",
              "      <th>3</th>\n",
              "      <th>4</th>\n",
              "      <th>2</th>\n",
              "      <th>1</th>\n",
              "    </tr>\n",
              "  </thead>\n",
              "  <tbody>\n",
              "    <tr>\n",
              "      <th>0</th>\n",
              "      <td>Wall St. Bears Claw Back Into the Black (Reute...</td>\n",
              "      <td>1</td>\n",
              "      <td>0</td>\n",
              "      <td>0</td>\n",
              "      <td>0</td>\n",
              "    </tr>\n",
              "    <tr>\n",
              "      <th>1</th>\n",
              "      <td>Carlyle Looks Toward Commercial Aerospace (Reu...</td>\n",
              "      <td>1</td>\n",
              "      <td>0</td>\n",
              "      <td>0</td>\n",
              "      <td>0</td>\n",
              "    </tr>\n",
              "    <tr>\n",
              "      <th>2</th>\n",
              "      <td>Oil and Economy Cloud Stocks' Outlook (Reuters...</td>\n",
              "      <td>1</td>\n",
              "      <td>0</td>\n",
              "      <td>0</td>\n",
              "      <td>0</td>\n",
              "    </tr>\n",
              "    <tr>\n",
              "      <th>3</th>\n",
              "      <td>Iraq Halts Oil Exports from Main Southern Pipe...</td>\n",
              "      <td>1</td>\n",
              "      <td>0</td>\n",
              "      <td>0</td>\n",
              "      <td>0</td>\n",
              "    </tr>\n",
              "    <tr>\n",
              "      <th>4</th>\n",
              "      <td>Oil prices soar to all-time record, posing new...</td>\n",
              "      <td>1</td>\n",
              "      <td>0</td>\n",
              "      <td>0</td>\n",
              "      <td>0</td>\n",
              "    </tr>\n",
              "    <tr>\n",
              "      <th>...</th>\n",
              "      <td>...</td>\n",
              "      <td>...</td>\n",
              "      <td>...</td>\n",
              "      <td>...</td>\n",
              "      <td>...</td>\n",
              "    </tr>\n",
              "    <tr>\n",
              "      <th>119995</th>\n",
              "      <td>Pakistan's Musharraf Says Won't Quit as Army C...</td>\n",
              "      <td>0</td>\n",
              "      <td>0</td>\n",
              "      <td>0</td>\n",
              "      <td>1</td>\n",
              "    </tr>\n",
              "    <tr>\n",
              "      <th>119996</th>\n",
              "      <td>Renteria signing a top-shelf deal Red Sox gene...</td>\n",
              "      <td>0</td>\n",
              "      <td>0</td>\n",
              "      <td>1</td>\n",
              "      <td>0</td>\n",
              "    </tr>\n",
              "    <tr>\n",
              "      <th>119997</th>\n",
              "      <td>Saban not going to Dolphins yet The Miami Dolp...</td>\n",
              "      <td>0</td>\n",
              "      <td>0</td>\n",
              "      <td>1</td>\n",
              "      <td>0</td>\n",
              "    </tr>\n",
              "    <tr>\n",
              "      <th>119998</th>\n",
              "      <td>Today's NFL games PITTSBURGH at NY GIANTS Time...</td>\n",
              "      <td>0</td>\n",
              "      <td>0</td>\n",
              "      <td>1</td>\n",
              "      <td>0</td>\n",
              "    </tr>\n",
              "    <tr>\n",
              "      <th>119999</th>\n",
              "      <td>Nets get Carter from Raptors INDIANAPOLIS -- A...</td>\n",
              "      <td>0</td>\n",
              "      <td>0</td>\n",
              "      <td>1</td>\n",
              "      <td>0</td>\n",
              "    </tr>\n",
              "  </tbody>\n",
              "</table>\n",
              "<p>120000 rows × 5 columns</p>\n",
              "</div>\n",
              "      <button class=\"colab-df-convert\" onclick=\"convertToInteractive('df-33f784e1-1238-4aa3-a5a0-ae354e4d9aa1')\"\n",
              "              title=\"Convert this dataframe to an interactive table.\"\n",
              "              style=\"display:none;\">\n",
              "        \n",
              "  <svg xmlns=\"http://www.w3.org/2000/svg\" height=\"24px\"viewBox=\"0 0 24 24\"\n",
              "       width=\"24px\">\n",
              "    <path d=\"M0 0h24v24H0V0z\" fill=\"none\"/>\n",
              "    <path d=\"M18.56 5.44l.94 2.06.94-2.06 2.06-.94-2.06-.94-.94-2.06-.94 2.06-2.06.94zm-11 1L8.5 8.5l.94-2.06 2.06-.94-2.06-.94L8.5 2.5l-.94 2.06-2.06.94zm10 10l.94 2.06.94-2.06 2.06-.94-2.06-.94-.94-2.06-.94 2.06-2.06.94z\"/><path d=\"M17.41 7.96l-1.37-1.37c-.4-.4-.92-.59-1.43-.59-.52 0-1.04.2-1.43.59L10.3 9.45l-7.72 7.72c-.78.78-.78 2.05 0 2.83L4 21.41c.39.39.9.59 1.41.59.51 0 1.02-.2 1.41-.59l7.78-7.78 2.81-2.81c.8-.78.8-2.07 0-2.86zM5.41 20L4 18.59l7.72-7.72 1.47 1.35L5.41 20z\"/>\n",
              "  </svg>\n",
              "      </button>\n",
              "      \n",
              "  <style>\n",
              "    .colab-df-container {\n",
              "      display:flex;\n",
              "      flex-wrap:wrap;\n",
              "      gap: 12px;\n",
              "    }\n",
              "\n",
              "    .colab-df-convert {\n",
              "      background-color: #E8F0FE;\n",
              "      border: none;\n",
              "      border-radius: 50%;\n",
              "      cursor: pointer;\n",
              "      display: none;\n",
              "      fill: #1967D2;\n",
              "      height: 32px;\n",
              "      padding: 0 0 0 0;\n",
              "      width: 32px;\n",
              "    }\n",
              "\n",
              "    .colab-df-convert:hover {\n",
              "      background-color: #E2EBFA;\n",
              "      box-shadow: 0px 1px 2px rgba(60, 64, 67, 0.3), 0px 1px 3px 1px rgba(60, 64, 67, 0.15);\n",
              "      fill: #174EA6;\n",
              "    }\n",
              "\n",
              "    [theme=dark] .colab-df-convert {\n",
              "      background-color: #3B4455;\n",
              "      fill: #D2E3FC;\n",
              "    }\n",
              "\n",
              "    [theme=dark] .colab-df-convert:hover {\n",
              "      background-color: #434B5C;\n",
              "      box-shadow: 0px 1px 3px 1px rgba(0, 0, 0, 0.15);\n",
              "      filter: drop-shadow(0px 1px 2px rgba(0, 0, 0, 0.3));\n",
              "      fill: #FFFFFF;\n",
              "    }\n",
              "  </style>\n",
              "\n",
              "      <script>\n",
              "        const buttonEl =\n",
              "          document.querySelector('#df-33f784e1-1238-4aa3-a5a0-ae354e4d9aa1 button.colab-df-convert');\n",
              "        buttonEl.style.display =\n",
              "          google.colab.kernel.accessAllowed ? 'block' : 'none';\n",
              "\n",
              "        async function convertToInteractive(key) {\n",
              "          const element = document.querySelector('#df-33f784e1-1238-4aa3-a5a0-ae354e4d9aa1');\n",
              "          const dataTable =\n",
              "            await google.colab.kernel.invokeFunction('convertToInteractive',\n",
              "                                                     [key], {});\n",
              "          if (!dataTable) return;\n",
              "\n",
              "          const docLinkHtml = 'Like what you see? Visit the ' +\n",
              "            '<a target=\"_blank\" href=https://colab.research.google.com/notebooks/data_table.ipynb>data table notebook</a>'\n",
              "            + ' to learn more about interactive tables.';\n",
              "          element.innerHTML = '';\n",
              "          dataTable['output_type'] = 'display_data';\n",
              "          await google.colab.output.renderOutput(dataTable, element);\n",
              "          const docLink = document.createElement('div');\n",
              "          docLink.innerHTML = docLinkHtml;\n",
              "          element.appendChild(docLink);\n",
              "        }\n",
              "      </script>\n",
              "    </div>\n",
              "  </div>\n",
              "  "
            ]
          },
          "metadata": {},
          "execution_count": 45
        }
      ],
      "source": [
        "train"
      ],
      "metadata": {
        "pycharm": {
          "name": "#%%\n"
        },
        "colab": {
          "base_uri": "https://localhost:8080/",
          "height": 424
        },
        "id": "zbK4s_yTkGDL",
        "outputId": "bdee7511-6775-4c15-d58b-a03d8542a7e3"
      }
    },
    {
      "cell_type": "code",
      "execution_count": null,
      "outputs": [
        {
          "output_type": "execute_result",
          "data": {
            "text/plain": [
              "'cuda'"
            ],
            "application/vnd.google.colaboratory.intrinsic+json": {
              "type": "string"
            }
          },
          "metadata": {},
          "execution_count": 46
        }
      ],
      "source": [
        "device = 'cuda' if torch.cuda.is_available() else 'cpu'\n",
        "device"
      ],
      "metadata": {
        "pycharm": {
          "name": "#%%\n"
        },
        "colab": {
          "base_uri": "https://localhost:8080/",
          "height": 35
        },
        "id": "ybdpNDLVRbUw",
        "outputId": "8618d014-bddc-4f78-a229-62845f5af4fb"
      }
    },
    {
      "cell_type": "code",
      "execution_count": null,
      "outputs": [],
      "source": [
        "MAX_LEN = 128\n",
        "TRAIN_BATCH_SIZE = 32\n",
        "VALID_BATCH_SIZE = 32\n",
        "EPOCHS = 3\n",
        "LEARNING_RATE = 2e-5\n",
        "tokenizer = AutoTokenizer.from_pretrained('roberta-base')"
      ],
      "metadata": {
        "pycharm": {
          "name": "#%%\n"
        },
        "id": "RiYcRwyIRbUw"
      }
    },
    {
      "cell_type": "code",
      "execution_count": null,
      "outputs": [
        {
          "output_type": "execute_result",
          "data": {
            "text/plain": [
              "['3', '4', '2', '1']"
            ]
          },
          "metadata": {},
          "execution_count": 48
        }
      ],
      "source": [
        "target_cols = [col for col in train.columns if col not in ['content']]\n",
        "target_cols"
      ],
      "metadata": {
        "pycharm": {
          "name": "#%%\n"
        },
        "colab": {
          "base_uri": "https://localhost:8080/"
        },
        "id": "lMxQWAnMRbUx",
        "outputId": "661de2d7-ec15-4406-dca7-6ef138608dbc"
      }
    },
    {
      "cell_type": "code",
      "execution_count": null,
      "outputs": [],
      "source": [
        "class BERTDataset(Dataset):\n",
        "    def __init__(self, df, tokenizer, max_len):\n",
        "        self.df = df\n",
        "        self.max_len = max_len\n",
        "        self.text = df.content\n",
        "        self.tokenizer = tokenizer\n",
        "        self.targets = df[target_cols].values\n",
        "\n",
        "    def __len__(self):\n",
        "        return len(self.df)\n",
        "\n",
        "    def __getitem__(self, index):\n",
        "        text = self.text[index]\n",
        "        inputs = self.tokenizer.encode_plus(\n",
        "            text,\n",
        "            truncation=True,\n",
        "            add_special_tokens=True,\n",
        "            max_length=self.max_len,\n",
        "            padding='max_length',\n",
        "            return_token_type_ids=True\n",
        "        )\n",
        "        ids = inputs['input_ids']\n",
        "        mask = inputs['attention_mask']\n",
        "        token_type_ids = inputs[\"token_type_ids\"]\n",
        "\n",
        "        return {\n",
        "            'ids': torch.tensor(ids, dtype=torch.long),\n",
        "            'mask': torch.tensor(mask, dtype=torch.long),\n",
        "            'token_type_ids': torch.tensor(token_type_ids, dtype=torch.long),\n",
        "            'targets': torch.tensor(self.targets[index], dtype=torch.float)\n",
        "        }"
      ],
      "metadata": {
        "pycharm": {
          "name": "#%%\n"
        },
        "id": "zLkL_rUaRbUx"
      }
    },
    {
      "cell_type": "code",
      "execution_count": null,
      "outputs": [],
      "source": [
        "train_dataset = BERTDataset(train, tokenizer, MAX_LEN)\n",
        "test_dataset = BERTDataset(test, tokenizer, MAX_LEN)"
      ],
      "metadata": {
        "pycharm": {
          "name": "#%%\n"
        },
        "id": "uwZjcQ6MRbUx"
      }
    },
    {
      "cell_type": "code",
      "execution_count": null,
      "outputs": [],
      "source": [
        "train_loader = DataLoader(train_dataset, batch_size=TRAIN_BATCH_SIZE,\n",
        "                          num_workers=2, shuffle=True)#, pin_memory=True)\n",
        "test_loader = DataLoader(test_dataset, batch_size=VALID_BATCH_SIZE,\n",
        "                          num_workers=2, shuffle=False)#, pin_memory=True)"
      ],
      "metadata": {
        "pycharm": {
          "name": "#%%\n"
        },
        "id": "81662R7qRbUy"
      }
    },
    {
      "cell_type": "code",
      "execution_count": null,
      "outputs": [
        {
          "output_type": "stream",
          "name": "stderr",
          "text": [
            "Some weights of the model checkpoint at roberta-base were not used when initializing RobertaModel: ['lm_head.layer_norm.bias', 'lm_head.decoder.weight', 'lm_head.layer_norm.weight', 'lm_head.bias', 'lm_head.dense.weight', 'lm_head.dense.bias']\n",
            "- This IS expected if you are initializing RobertaModel from the checkpoint of a model trained on another task or with another architecture (e.g. initializing a BertForSequenceClassification model from a BertForPreTraining model).\n",
            "- This IS NOT expected if you are initializing RobertaModel from the checkpoint of a model that you expect to be exactly identical (initializing a BertForSequenceClassification model from a BertForSequenceClassification model).\n"
          ]
        }
      ],
      "source": [
        "class BERTClass(torch.nn.Module):\n",
        "    def __init__(self):\n",
        "        super(BERTClass, self).__init__()\n",
        "        self.roberta = AutoModel.from_pretrained('roberta-base')\n",
        "        self.l2 = torch.nn.Dropout(0.3)\n",
        "        self.fc = torch.nn.Linear(768,4)\n",
        "\n",
        "    def forward(self, ids, mask, token_type_ids):\n",
        "        _, features = self.roberta(ids, attention_mask = mask, token_type_ids = token_type_ids, return_dict=False)\n",
        "#         output_2 = self.l2(output_1)\n",
        "        output = self.fc(features)\n",
        "        return output\n",
        "\n",
        "model = BERTClass()\n",
        "model.to(device);"
      ],
      "metadata": {
        "pycharm": {
          "name": "#%%\n"
        },
        "colab": {
          "base_uri": "https://localhost:8080/"
        },
        "id": "7LnK9TWwRbUy",
        "outputId": "2a4d5059-6d3e-4aa9-82a4-325f3ae9638c"
      }
    },
    {
      "cell_type": "code",
      "execution_count": null,
      "outputs": [
        {
          "output_type": "stream",
          "name": "stderr",
          "text": [
            "/usr/local/lib/python3.10/dist-packages/transformers/optimization.py:407: FutureWarning: This implementation of AdamW is deprecated and will be removed in a future version. Use the PyTorch implementation torch.optim.AdamW instead, or set `no_deprecation_warning=True` to disable this warning\n",
            "  warnings.warn(\n"
          ]
        }
      ],
      "source": [
        "def loss_fn(outputs, targets):\n",
        "    return torch.nn.BCEWithLogitsLoss()(outputs, targets)\n",
        "optimizer = AdamW(params =  model.parameters(), lr=LEARNING_RATE, weight_decay=1e-6)"
      ],
      "metadata": {
        "pycharm": {
          "name": "#%%\n"
        },
        "id": "LhYVioa6RbUz",
        "colab": {
          "base_uri": "https://localhost:8080/"
        },
        "outputId": "8f255569-0722-4200-c935-0007824e9bca"
      }
    },
    {
      "cell_type": "code",
      "execution_count": null,
      "outputs": [],
      "source": [
        "def train(epoch):\n",
        "    model.train()\n",
        "    for _,data in enumerate(train_loader, 0):\n",
        "        ids = data['ids'].to(device, dtype = torch.long)\n",
        "        mask = data['mask'].to(device, dtype = torch.long)\n",
        "        token_type_ids = data['token_type_ids'].to(device, dtype = torch.long)\n",
        "        targets = data['targets'].to(device, dtype = torch.float)\n",
        "\n",
        "        outputs = model(ids, mask, token_type_ids)\n",
        "\n",
        "        loss = loss_fn(outputs, targets)\n",
        "        if _%1000 == 0:\n",
        "            print(f'Epoch: {epoch}, Loss:  {loss.item()}')\n",
        "\n",
        "        loss.backward()\n",
        "        optimizer.step()\n",
        "        optimizer.zero_grad()"
      ],
      "metadata": {
        "pycharm": {
          "name": "#%%\n"
        },
        "id": "haB1K1nfRbUz"
      }
    },
    {
      "cell_type": "markdown",
      "source": [
        "Эксперимент 1"
      ],
      "metadata": {
        "id": "idRI34sFIS-t",
        "pycharm": {
          "name": "#%% md\n"
        }
      }
    },
    {
      "cell_type": "code",
      "execution_count": null,
      "outputs": [
        {
          "output_type": "stream",
          "name": "stdout",
          "text": [
            "Epoch: 0, Loss:  0.676325798034668\n",
            "Epoch: 0, Loss:  0.1718769669532776\n",
            "Epoch: 0, Loss:  0.0882088840007782\n",
            "Epoch: 0, Loss:  0.09670786559581757\n",
            "Epoch: 0, Loss:  0.06402631103992462\n",
            "Epoch: 0, Loss:  0.21325621008872986\n",
            "Epoch: 0, Loss:  0.040192846208810806\n",
            "Epoch: 0, Loss:  0.08087514340877533\n",
            "Epoch: 0, Loss:  0.13702532649040222\n",
            "Epoch: 0, Loss:  0.12116380035877228\n",
            "Epoch: 0, Loss:  0.02783135697245598\n",
            "Epoch: 0, Loss:  0.1337859183549881\n",
            "Epoch: 0, Loss:  0.06632158160209656\n",
            "Epoch: 0, Loss:  0.07331570237874985\n",
            "Epoch: 0, Loss:  0.09163960814476013\n",
            "Epoch: 0, Loss:  0.12168523669242859\n",
            "Epoch: 0, Loss:  0.0326395183801651\n",
            "Epoch: 0, Loss:  0.051546379923820496\n",
            "Epoch: 0, Loss:  0.03226567804813385\n",
            "Epoch: 0, Loss:  0.034065596759319305\n",
            "Epoch: 0, Loss:  0.04375382512807846\n",
            "Epoch: 0, Loss:  0.06908103823661804\n",
            "Epoch: 0, Loss:  0.1577828973531723\n",
            "Epoch: 0, Loss:  0.1780417412519455\n",
            "Epoch: 0, Loss:  0.11152803897857666\n",
            "Epoch: 0, Loss:  0.017951656132936478\n",
            "Epoch: 0, Loss:  0.10185084491968155\n",
            "Epoch: 0, Loss:  0.13350290060043335\n",
            "Epoch: 0, Loss:  0.1206974908709526\n",
            "Epoch: 0, Loss:  0.09786485135555267\n",
            "Epoch: 0, Loss:  0.09356191754341125\n",
            "Epoch: 0, Loss:  0.015681875869631767\n",
            "Epoch: 0, Loss:  0.1670125424861908\n",
            "Epoch: 0, Loss:  0.1485094130039215\n",
            "Epoch: 0, Loss:  0.06951341778039932\n",
            "Epoch: 0, Loss:  0.053285401314496994\n",
            "Epoch: 0, Loss:  0.11175492405891418\n",
            "Epoch: 0, Loss:  0.03267780691385269\n",
            "Epoch: 1, Loss:  0.11975817382335663\n",
            "Epoch: 1, Loss:  0.0890280157327652\n",
            "Epoch: 1, Loss:  0.04579328000545502\n",
            "Epoch: 1, Loss:  0.13662239909172058\n",
            "Epoch: 1, Loss:  0.11470644921064377\n",
            "Epoch: 1, Loss:  0.05238289013504982\n",
            "Epoch: 1, Loss:  0.11593888700008392\n",
            "Epoch: 1, Loss:  0.11472383886575699\n",
            "Epoch: 1, Loss:  0.025332992896437645\n",
            "Epoch: 1, Loss:  0.16273479163646698\n",
            "Epoch: 1, Loss:  0.05373217910528183\n",
            "Epoch: 1, Loss:  0.02388668991625309\n",
            "Epoch: 1, Loss:  0.07733669131994247\n",
            "Epoch: 1, Loss:  0.10340581834316254\n",
            "Epoch: 1, Loss:  0.06743854284286499\n",
            "Epoch: 1, Loss:  0.021883295848965645\n",
            "Epoch: 1, Loss:  0.027297142893075943\n",
            "Epoch: 1, Loss:  0.06513532996177673\n",
            "Epoch: 1, Loss:  0.08883081376552582\n",
            "Epoch: 1, Loss:  0.03904208913445473\n",
            "Epoch: 1, Loss:  0.05198848620057106\n",
            "Epoch: 1, Loss:  0.02528679557144642\n",
            "Epoch: 1, Loss:  0.15433889627456665\n",
            "Epoch: 1, Loss:  0.036710020154714584\n",
            "Epoch: 1, Loss:  0.061884839087724686\n",
            "Epoch: 1, Loss:  0.09130967408418655\n",
            "Epoch: 1, Loss:  0.0248690415173769\n",
            "Epoch: 1, Loss:  0.06538932025432587\n",
            "Epoch: 1, Loss:  0.090906523168087\n",
            "Epoch: 1, Loss:  0.00865175575017929\n",
            "Epoch: 1, Loss:  0.08253428339958191\n",
            "Epoch: 1, Loss:  0.1359466016292572\n",
            "Epoch: 1, Loss:  0.10892803966999054\n",
            "Epoch: 1, Loss:  0.10954004526138306\n",
            "Epoch: 1, Loss:  0.12638019025325775\n",
            "Epoch: 1, Loss:  0.08440735191106796\n",
            "Epoch: 1, Loss:  0.01512353029102087\n",
            "Epoch: 1, Loss:  0.11934952437877655\n",
            "Epoch: 2, Loss:  0.05011773854494095\n",
            "Epoch: 2, Loss:  0.009617823176085949\n",
            "Epoch: 2, Loss:  0.11911185085773468\n",
            "Epoch: 2, Loss:  0.0359877273440361\n",
            "Epoch: 2, Loss:  0.03039422258734703\n",
            "Epoch: 2, Loss:  0.10941525548696518\n",
            "Epoch: 2, Loss:  0.06148987635970116\n",
            "Epoch: 2, Loss:  0.004632684402167797\n",
            "Epoch: 2, Loss:  0.008151540532708168\n",
            "Epoch: 2, Loss:  0.057824037969112396\n",
            "Epoch: 2, Loss:  0.17884409427642822\n",
            "Epoch: 2, Loss:  0.12353231012821198\n",
            "Epoch: 2, Loss:  0.12161791324615479\n",
            "Epoch: 2, Loss:  0.04312649741768837\n",
            "Epoch: 2, Loss:  0.056542687118053436\n",
            "Epoch: 2, Loss:  0.12556426227092743\n",
            "Epoch: 2, Loss:  0.01677767187356949\n",
            "Epoch: 2, Loss:  0.01155179925262928\n",
            "Epoch: 2, Loss:  0.29302674531936646\n",
            "Epoch: 2, Loss:  0.0529526025056839\n",
            "Epoch: 2, Loss:  0.05321943387389183\n",
            "Epoch: 2, Loss:  0.01567658968269825\n",
            "Epoch: 2, Loss:  0.044845595955848694\n",
            "Epoch: 2, Loss:  0.012092146091163158\n",
            "Epoch: 2, Loss:  0.017599819228053093\n",
            "Epoch: 2, Loss:  0.02164285257458687\n",
            "Epoch: 2, Loss:  0.05473028123378754\n",
            "Epoch: 2, Loss:  0.03660447522997856\n",
            "Epoch: 2, Loss:  0.0843411386013031\n",
            "Epoch: 2, Loss:  0.14237026870250702\n",
            "Epoch: 2, Loss:  0.267939954996109\n",
            "Epoch: 2, Loss:  0.15082073211669922\n",
            "Epoch: 2, Loss:  0.0687999576330185\n",
            "Epoch: 2, Loss:  0.030654869973659515\n",
            "Epoch: 2, Loss:  0.05927068367600441\n",
            "Epoch: 2, Loss:  0.02992764487862587\n",
            "Epoch: 2, Loss:  0.010767107829451561\n",
            "Epoch: 2, Loss:  0.022359507158398628\n"
          ]
        }
      ],
      "source": [
        "# MAX_LEN = 128\n",
        "# BATCH_SIZE = 32\n",
        "# EPOCHS = 3\n",
        "# LEARNING_RATE = 2e-5\n",
        "for epoch in range(EPOCHS):\n",
        "    train(epoch)"
      ],
      "metadata": {
        "pycharm": {
          "name": "#%%\n",
          "is_executing": true
        },
        "colab": {
          "base_uri": "https://localhost:8080/"
        },
        "id": "AikN3ZbxkGDN",
        "outputId": "45a60170-8c27-45fc-fcce-9d5a8a3dbfc6"
      }
    },
    {
      "cell_type": "markdown",
      "source": [
        "Эксперимент 2"
      ],
      "metadata": {
        "id": "XaUfIXd8IWeW",
        "pycharm": {
          "name": "#%% md\n"
        }
      }
    },
    {
      "cell_type": "code",
      "source": [
        "# MAX_LEN = 200\n",
        "# BATCH_SIZE = 32\n",
        "# EPOCHS = 3\n",
        "# LEARNING_RATE = 2e-5\n",
        "for epoch in range(EPOCHS):\n",
        "    train(epoch)"
      ],
      "metadata": {
        "colab": {
          "base_uri": "https://localhost:8080/"
        },
        "id": "1bcqu8woQ62c",
        "outputId": "68edb35c-bb21-47e9-b640-1a819a2f63d0",
        "pycharm": {
          "name": "#%%\n"
        }
      },
      "execution_count": null,
      "outputs": [
        {
          "output_type": "stream",
          "name": "stdout",
          "text": [
            "Epoch: 0, Loss:  0.6964375972747803\n",
            "Epoch: 0, Loss:  0.13764190673828125\n",
            "Epoch: 0, Loss:  0.08603700250387192\n",
            "Epoch: 0, Loss:  0.11079826951026917\n",
            "Epoch: 0, Loss:  0.035268619656562805\n",
            "Epoch: 0, Loss:  0.04853198677301407\n",
            "Epoch: 0, Loss:  0.07911421358585358\n",
            "Epoch: 0, Loss:  0.08329274505376816\n",
            "Epoch: 1, Loss:  0.08076965063810349\n",
            "Epoch: 1, Loss:  0.03467995673418045\n",
            "Epoch: 1, Loss:  0.0623503103852272\n",
            "Epoch: 1, Loss:  0.1952342391014099\n",
            "Epoch: 1, Loss:  0.07857228815555573\n",
            "Epoch: 1, Loss:  0.03943781554698944\n",
            "Epoch: 1, Loss:  0.09596486389636993\n",
            "Epoch: 1, Loss:  0.0959281325340271\n",
            "Epoch: 2, Loss:  0.048618488013744354\n",
            "Epoch: 2, Loss:  0.06745748221874237\n",
            "Epoch: 2, Loss:  0.022285493090748787\n",
            "Epoch: 2, Loss:  0.12372030317783356\n",
            "Epoch: 2, Loss:  0.00981954112648964\n",
            "Epoch: 2, Loss:  0.04114401713013649\n",
            "Epoch: 2, Loss:  0.05721922218799591\n",
            "Epoch: 2, Loss:  0.115190789103508\n"
          ]
        }
      ]
    },
    {
      "cell_type": "markdown",
      "source": [
        "Эксперимент 3"
      ],
      "metadata": {
        "id": "wcE7YUplIH8t",
        "pycharm": {
          "name": "#%% md\n"
        }
      }
    },
    {
      "cell_type": "code",
      "source": [
        "# MAX_LEN = 100\n",
        "# BATCH_SIZE = 32\n",
        "# EPOCHS = 3\n",
        "# LEARNING_RATE = 2e-5\n",
        "for epoch in range(EPOCHS):\n",
        "    train(epoch)"
      ],
      "metadata": {
        "colab": {
          "base_uri": "https://localhost:8080/"
        },
        "id": "ZvIijiP9IEwY",
        "outputId": "6b4ac8c3-21a5-4dfc-8eaa-d8d22a10222b",
        "pycharm": {
          "name": "#%%\n"
        }
      },
      "execution_count": null,
      "outputs": [
        {
          "output_type": "stream",
          "name": "stdout",
          "text": [
            "Epoch: 0, Loss:  0.6979095935821533\n",
            "Epoch: 0, Loss:  0.19138464331626892\n",
            "Epoch: 0, Loss:  0.10449229180812836\n",
            "Epoch: 0, Loss:  0.036112360656261444\n",
            "Epoch: 1, Loss:  0.08465225249528885\n",
            "Epoch: 1, Loss:  0.027439843863248825\n",
            "Epoch: 1, Loss:  0.04487670212984085\n",
            "Epoch: 1, Loss:  0.033968281000852585\n",
            "Epoch: 2, Loss:  0.07056678831577301\n",
            "Epoch: 2, Loss:  0.05771073326468468\n",
            "Epoch: 2, Loss:  0.06510160863399506\n",
            "Epoch: 2, Loss:  0.053486574441194534\n"
          ]
        }
      ]
    },
    {
      "cell_type": "markdown",
      "source": [
        "Эксперимент 4"
      ],
      "metadata": {
        "id": "gcQc7VVJgkSR",
        "pycharm": {
          "name": "#%% md\n"
        }
      }
    },
    {
      "cell_type": "code",
      "source": [
        "# MAX_LEN = 128\n",
        "# BATCH_SIZE = 16\n",
        "# EPOCHS = 3\n",
        "# LEARNING_RATE = 2e-5\n",
        "for epoch in range(EPOCHS):\n",
        "    train(epoch)"
      ],
      "metadata": {
        "colab": {
          "base_uri": "https://localhost:8080/"
        },
        "id": "v3uGdPUsgn9A",
        "outputId": "7d51f901-7370-47ba-8540-50b0ef61839b",
        "pycharm": {
          "name": "#%%\n"
        }
      },
      "execution_count": null,
      "outputs": [
        {
          "output_type": "stream",
          "name": "stdout",
          "text": [
            "Epoch: 0, Loss:  0.6945646405220032\n",
            "Epoch: 0, Loss:  0.18752729892730713\n",
            "Epoch: 0, Loss:  0.1177862286567688\n",
            "Epoch: 0, Loss:  0.24569256603717804\n",
            "Epoch: 0, Loss:  0.1087549477815628\n",
            "Epoch: 0, Loss:  0.1276777684688568\n",
            "Epoch: 0, Loss:  0.0906381607055664\n",
            "Epoch: 0, Loss:  0.047380127012729645\n",
            "Epoch: 1, Loss:  0.038473960012197495\n",
            "Epoch: 1, Loss:  0.014007090590894222\n",
            "Epoch: 1, Loss:  0.02128012478351593\n",
            "Epoch: 1, Loss:  0.26837074756622314\n",
            "Epoch: 1, Loss:  0.019267825409770012\n",
            "Epoch: 1, Loss:  0.07261234521865845\n",
            "Epoch: 1, Loss:  0.011358823627233505\n",
            "Epoch: 1, Loss:  0.17559729516506195\n",
            "Epoch: 2, Loss:  0.02126999944448471\n",
            "Epoch: 2, Loss:  0.2416827380657196\n",
            "Epoch: 2, Loss:  0.1192154735326767\n",
            "Epoch: 2, Loss:  0.01416099164634943\n",
            "Epoch: 2, Loss:  0.016801772639155388\n",
            "Epoch: 2, Loss:  0.03455238416790962\n",
            "Epoch: 2, Loss:  0.2461717277765274\n",
            "Epoch: 2, Loss:  0.010653570294380188\n"
          ]
        }
      ]
    },
    {
      "cell_type": "markdown",
      "source": [
        "Эксперимент 5"
      ],
      "metadata": {
        "id": "Bu_RLVvEOXsL",
        "pycharm": {
          "name": "#%% md\n"
        }
      }
    },
    {
      "cell_type": "code",
      "source": [
        "# MAX_LEN = 128\n",
        "# BATCH_SIZE = 64\n",
        "# EPOCHS = 3\n",
        "# LEARNING_RATE = 2e-5\n",
        "for epoch in range(EPOCHS):\n",
        "    train(epoch)"
      ],
      "metadata": {
        "colab": {
          "base_uri": "https://localhost:8080/"
        },
        "id": "_EVCoNmSObTo",
        "outputId": "eb9c0230-5f61-41f7-894c-de52e561a2cc",
        "pycharm": {
          "name": "#%%\n"
        }
      },
      "execution_count": null,
      "outputs": [
        {
          "output_type": "stream",
          "name": "stdout",
          "text": [
            "Epoch: 0, Loss:  0.7210969924926758\n",
            "Epoch: 0, Loss:  0.09620275348424911\n",
            "Epoch: 1, Loss:  0.06127020716667175\n",
            "Epoch: 1, Loss:  0.0724937841296196\n",
            "Epoch: 2, Loss:  0.09273102134466171\n",
            "Epoch: 2, Loss:  0.060465388000011444\n"
          ]
        }
      ]
    },
    {
      "cell_type": "markdown",
      "source": [
        "Эксперимент 6"
      ],
      "metadata": {
        "id": "hEfciT_c5rqZ",
        "pycharm": {
          "name": "#%% md\n"
        }
      }
    },
    {
      "cell_type": "code",
      "source": [
        "# MAX_LEN = 128\n",
        "# BATCH_SIZE = 64\n",
        "# EPOCHS = 5\n",
        "# LEARNING_RATE = 2e-5\n",
        "for epoch in range(EPOCHS):\n",
        "    train(epoch)"
      ],
      "metadata": {
        "colab": {
          "base_uri": "https://localhost:8080/"
        },
        "id": "9lbbcfH25tvl",
        "outputId": "79dbe19b-0140-4f5e-873f-d9854c600418",
        "pycharm": {
          "name": "#%%\n"
        }
      },
      "execution_count": null,
      "outputs": [
        {
          "output_type": "stream",
          "name": "stdout",
          "text": [
            "Epoch: 0, Loss:  0.6786757707595825\n",
            "Epoch: 0, Loss:  0.0940885990858078\n",
            "Epoch: 1, Loss:  0.14497269690036774\n",
            "Epoch: 1, Loss:  0.11684798449277878\n",
            "Epoch: 2, Loss:  0.07010377198457718\n",
            "Epoch: 2, Loss:  0.05300711840391159\n",
            "Epoch: 3, Loss:  0.030746296048164368\n",
            "Epoch: 3, Loss:  0.047912511974573135\n",
            "Epoch: 4, Loss:  0.028837475925683975\n",
            "Epoch: 4, Loss:  0.020963776856660843\n"
          ]
        }
      ]
    },
    {
      "cell_type": "markdown",
      "source": [
        "Эксперимент 7"
      ],
      "metadata": {
        "id": "HmV2AGsdK1KR",
        "pycharm": {
          "name": "#%% md\n"
        }
      }
    },
    {
      "cell_type": "code",
      "source": [
        "# MAX_LEN = 128\n",
        "# BATCH_SIZE =32\n",
        "# EPOCHS = 2\n",
        "# LEARNING_RATE = 2e-6\n",
        "for epoch in range(EPOCHS):\n",
        "    train(epoch)"
      ],
      "metadata": {
        "colab": {
          "base_uri": "https://localhost:8080/"
        },
        "id": "yly9R48uKxMs",
        "outputId": "2b26fa4b-a77c-4e21-aaf6-879a624dffea",
        "pycharm": {
          "name": "#%%\n"
        }
      },
      "execution_count": null,
      "outputs": [
        {
          "output_type": "stream",
          "name": "stdout",
          "text": [
            "Epoch: 0, Loss:  0.6933864951133728\n",
            "Epoch: 0, Loss:  0.15292535722255707\n",
            "Epoch: 0, Loss:  0.15748770534992218\n",
            "Epoch: 0, Loss:  0.051290176808834076\n",
            "Epoch: 1, Loss:  0.0183663722127676\n",
            "Epoch: 1, Loss:  0.09555250406265259\n",
            "Epoch: 1, Loss:  0.046785660088062286\n",
            "Epoch: 1, Loss:  0.07258466631174088\n"
          ]
        }
      ]
    },
    {
      "cell_type": "code",
      "source": [
        "# MAX_LEN = 128\n",
        "# BATCH_SIZE =32\n",
        "# EPOCHS = 4\n",
        "# LEARNING_RATE = 2e-6\n",
        "for epoch in range(EPOCHS):\n",
        "    train(epoch)"
      ],
      "metadata": {
        "colab": {
          "base_uri": "https://localhost:8080/"
        },
        "id": "rFSfckiVet1f",
        "outputId": "c94aced9-f894-4692-bdbc-e13991bee5f6",
        "pycharm": {
          "name": "#%%\n"
        }
      },
      "execution_count": null,
      "outputs": [
        {
          "output_type": "stream",
          "name": "stdout",
          "text": [
            "Epoch: 0, Loss:  0.01984761655330658\n",
            "Epoch: 0, Loss:  0.0759541466832161\n",
            "Epoch: 0, Loss:  0.041911233216524124\n"
          ]
        }
      ]
    },
    {
      "cell_type": "code",
      "source": [
        "def test():\n",
        "    model.eval()\n",
        "    fin_targets=[]\n",
        "    fin_outputs=[]\n",
        "    with torch.no_grad():\n",
        "        for _, data in enumerate(test_loader, 0):\n",
        "            ids = data['ids'].to(device, dtype = torch.long)\n",
        "            mask = data['mask'].to(device, dtype = torch.long)\n",
        "            token_type_ids = data['token_type_ids'].to(device, dtype = torch.long)\n",
        "            targets = data['targets'].to(device, dtype = torch.float)\n",
        "            outputs = model(ids, mask, token_type_ids)\n",
        "            fin_targets.extend(targets.cpu().detach().numpy().tolist())\n",
        "            fin_outputs.extend(torch.sigmoid(outputs).cpu().detach().numpy().tolist())\n",
        "    return fin_outputs, fin_targets"
      ],
      "metadata": {
        "id": "NVkyDzcLb3CC",
        "pycharm": {
          "name": "#%%\n"
        }
      },
      "execution_count": null,
      "outputs": []
    },
    {
      "cell_type": "markdown",
      "source": [
        "Эксперимент 1"
      ],
      "metadata": {
        "id": "lRFT-XzlIjhu",
        "pycharm": {
          "name": "#%% md\n"
        }
      }
    },
    {
      "cell_type": "code",
      "source": [
        "# MAX_LEN = 128\n",
        "# BATCH_SIZE = 32\n",
        "# EPOCHS = 3\n",
        "# LEARNING_RATE = 2e-5\n",
        "outputs, targets = test()\n",
        "outputs = np.array(outputs) >= 0.5\n",
        "accuracy = metrics.accuracy_score(targets, outputs)\n",
        "f1_score_micro = metrics.f1_score(targets, outputs, average='micro')\n",
        "f1_score_macro = metrics.f1_score(targets, outputs, average='macro')\n",
        "print(f\"Accuracy Score = {accuracy}\")\n",
        "print(f\"F1 Score (Micro) = {f1_score_micro}\")\n",
        "print(f\"F1 Score (Macro) = {f1_score_macro}\")"
      ],
      "metadata": {
        "colab": {
          "base_uri": "https://localhost:8080/"
        },
        "id": "wGN_Y85_rGiB",
        "outputId": "1a2d362a-6fab-4fbc-ec6a-228f6fe3991e",
        "pycharm": {
          "name": "#%%\n"
        }
      },
      "execution_count": null,
      "outputs": [
        {
          "output_type": "stream",
          "name": "stdout",
          "text": [
            "Accuracy Score = 0.949078947368421\n",
            "F1 Score (Micro) = 0.9513655807831523\n",
            "F1 Score (Macro) = 0.9514575457524298\n"
          ]
        }
      ]
    },
    {
      "cell_type": "markdown",
      "source": [
        "Эксперимент 2"
      ],
      "metadata": {
        "id": "nW4OaeA0Imsg",
        "pycharm": {
          "name": "#%% md\n"
        }
      }
    },
    {
      "cell_type": "code",
      "source": [
        "# MAX_LEN = 200\n",
        "# BATCH_SIZE = 32\n",
        "# EPOCHS = 3\n",
        "# LEARNING_RATE = 2e-5\n",
        "outputs, targets = test()\n",
        "outputs = np.array(outputs) >= 0.5\n",
        "accuracy = metrics.accuracy_score(targets, outputs)\n",
        "f1_score_micro = metrics.f1_score(targets, outputs, average='micro')\n",
        "f1_score_macro = metrics.f1_score(targets, outputs, average='macro')\n",
        "print(f\"Accuracy Score = {accuracy}\")\n",
        "print(f\"F1 Score (Micro) = {f1_score_micro}\")\n",
        "print(f\"F1 Score (Macro) = {f1_score_macro}\")"
      ],
      "metadata": {
        "colab": {
          "base_uri": "https://localhost:8080/"
        },
        "id": "sL1RXnyGH2pq",
        "outputId": "6e1b7789-248e-4c0d-84df-627d52c7924a",
        "pycharm": {
          "name": "#%%\n"
        }
      },
      "execution_count": null,
      "outputs": [
        {
          "output_type": "stream",
          "name": "stdout",
          "text": [
            "Accuracy Score = 0.9471052631578948\n",
            "F1 Score (Micro) = 0.949105733824303\n",
            "F1 Score (Macro) = 0.9490218334012003\n"
          ]
        }
      ]
    },
    {
      "cell_type": "markdown",
      "source": [
        "Эксперимент 3"
      ],
      "metadata": {
        "id": "dD15NvM6IpKo",
        "pycharm": {
          "name": "#%% md\n"
        }
      }
    },
    {
      "cell_type": "code",
      "source": [
        "# MAX_LEN = 100\n",
        "# BATCH_SIZE = 32\n",
        "# EPOCHS = 3\n",
        "# LEARNING_RATE = 2e-5\n",
        "outputs, targets = test()\n",
        "outputs = np.array(outputs) >= 0.5\n",
        "accuracy = metrics.accuracy_score(targets, outputs)\n",
        "f1_score_micro = metrics.f1_score(targets, outputs, average='micro')\n",
        "f1_score_macro = metrics.f1_score(targets, outputs, average='macro')\n",
        "print(f\"Accuracy Score = {accuracy}\")\n",
        "print(f\"F1 Score (Micro) = {f1_score_micro}\")\n",
        "print(f\"F1 Score (Macro) = {f1_score_macro}\")"
      ],
      "metadata": {
        "colab": {
          "base_uri": "https://localhost:8080/"
        },
        "id": "6vfVZdwFIsnl",
        "outputId": "d9bebef9-c374-4f07-f0fe-84b6eccd4fe7",
        "pycharm": {
          "name": "#%%\n"
        }
      },
      "execution_count": null,
      "outputs": [
        {
          "output_type": "stream",
          "name": "stdout",
          "text": [
            "Accuracy Score = 0.9486842105263158\n",
            "F1 Score (Micro) = 0.9513335528482055\n",
            "F1 Score (Macro) = 0.9513112558765793\n"
          ]
        }
      ]
    },
    {
      "cell_type": "markdown",
      "source": [
        "Эксперимент 4"
      ],
      "metadata": {
        "id": "xydpFjvigsyD",
        "pycharm": {
          "name": "#%% md\n"
        }
      }
    },
    {
      "cell_type": "code",
      "source": [
        "# MAX_LEN = 128\n",
        "# BATCH_SIZE = 16\n",
        "# EPOCHS = 3\n",
        "# LEARNING_RATE = 2e-5\n",
        "outputs, targets = test()\n",
        "outputs = np.array(outputs) >= 0.5\n",
        "accuracy = metrics.accuracy_score(targets, outputs)\n",
        "f1_score_micro = metrics.f1_score(targets, outputs, average='micro')\n",
        "f1_score_macro = metrics.f1_score(targets, outputs, average='macro')\n",
        "print(f\"Accuracy Score = {accuracy}\")\n",
        "print(f\"F1 Score (Micro) = {f1_score_micro}\")\n",
        "print(f\"F1 Score (Macro) = {f1_score_macro}\")"
      ],
      "metadata": {
        "colab": {
          "base_uri": "https://localhost:8080/"
        },
        "id": "j2cbxVlCgu1W",
        "outputId": "9ceba59d-6147-44b8-912b-2dcb5c8d3025",
        "pycharm": {
          "name": "#%%\n"
        }
      },
      "execution_count": null,
      "outputs": [
        {
          "output_type": "stream",
          "name": "stdout",
          "text": [
            "Accuracy Score = 0.9461842105263157\n",
            "F1 Score (Micro) = 0.9483314684394129\n",
            "F1 Score (Macro) = 0.9483058841461188\n"
          ]
        }
      ]
    },
    {
      "cell_type": "markdown",
      "source": [
        "Эксперимент 5"
      ],
      "metadata": {
        "id": "_0a6KyllPDSD",
        "pycharm": {
          "name": "#%% md\n"
        }
      }
    },
    {
      "cell_type": "code",
      "source": [
        "# MAX_LEN = 128\n",
        "# BATCH_SIZE = 64\n",
        "# EPOCHS = 3\n",
        "# LEARNING_RATE = 2e-5\n",
        "outputs, targets = test()\n",
        "outputs = np.array(outputs) >= 0.5\n",
        "accuracy = metrics.accuracy_score(targets, outputs)\n",
        "f1_score_micro = metrics.f1_score(targets, outputs, average='micro')\n",
        "f1_score_macro = metrics.f1_score(targets, outputs, average='macro')\n",
        "print(f\"Accuracy Score = {accuracy}\")\n",
        "print(f\"F1 Score (Micro) = {f1_score_micro}\")\n",
        "print(f\"F1 Score (Macro) = {f1_score_macro}\")"
      ],
      "metadata": {
        "colab": {
          "base_uri": "https://localhost:8080/"
        },
        "id": "GyG0QfgiPBN0",
        "outputId": "2b9ce070-a45f-472c-b8e7-33c43ba3a38d",
        "pycharm": {
          "name": "#%%\n"
        }
      },
      "execution_count": null,
      "outputs": [
        {
          "output_type": "stream",
          "name": "stdout",
          "text": [
            "Accuracy Score = 0.9467105263157894\n",
            "F1 Score (Micro) = 0.9494112229458589\n",
            "F1 Score (Macro) = 0.9494967911232283\n"
          ]
        }
      ]
    },
    {
      "cell_type": "markdown",
      "source": [
        "Эксперимент 6"
      ],
      "metadata": {
        "id": "IEPxz1AQW3gQ",
        "pycharm": {
          "name": "#%% md\n"
        }
      }
    },
    {
      "cell_type": "code",
      "source": [
        "# MAX_LEN = 128\n",
        "# BATCH_SIZE = 64\n",
        "# EPOCHS = 5\n",
        "# LEARNING_RATE = 2e-5\n",
        "outputs, targets = test()\n",
        "outputs = np.array(outputs) >= 0.5\n",
        "accuracy = metrics.accuracy_score(targets, outputs)\n",
        "f1_score_micro = metrics.f1_score(targets, outputs, average='micro')\n",
        "f1_score_macro = metrics.f1_score(targets, outputs, average='macro')\n",
        "print(f\"Accuracy Score = {accuracy}\")\n",
        "print(f\"F1 Score (Micro) = {f1_score_micro}\")\n",
        "print(f\"F1 Score (Macro) = {f1_score_macro}\")"
      ],
      "metadata": {
        "id": "Vl3evz6KW-hb",
        "colab": {
          "base_uri": "https://localhost:8080/"
        },
        "outputId": "25ca8777-b6c3-46f3-9ff9-36f0bdf2e6f3",
        "pycharm": {
          "name": "#%%\n"
        }
      },
      "execution_count": null,
      "outputs": [
        {
          "output_type": "stream",
          "name": "stdout",
          "text": [
            "Accuracy Score = 0.9430263157894737\n",
            "F1 Score (Micro) = 0.9459049878105027\n",
            "F1 Score (Macro) = 0.9456927068006925\n"
          ]
        }
      ]
    },
    {
      "cell_type": "markdown",
      "source": [
        "Эксперимент 7"
      ],
      "metadata": {
        "id": "TumiH62NK73E",
        "pycharm": {
          "name": "#%% md\n"
        }
      }
    },
    {
      "cell_type": "code",
      "source": [
        "# MAX_LEN = 128\n",
        "# BATCH_SIZE =32\n",
        "# EPOCHS = 2\n",
        "# LEARNING_RATE = 2e-6\n",
        "outputs, targets = test()\n",
        "outputs = np.array(outputs) >= 0.5\n",
        "accuracy = metrics.accuracy_score(targets, outputs)\n",
        "f1_score_micro = metrics.f1_score(targets, outputs, average='micro')\n",
        "f1_score_macro = metrics.f1_score(targets, outputs, average='macro')\n",
        "print(f\"Accuracy Score = {accuracy}\")\n",
        "print(f\"F1 Score (Micro) = {f1_score_micro}\")\n",
        "print(f\"F1 Score (Macro) = {f1_score_macro}\")"
      ],
      "metadata": {
        "colab": {
          "base_uri": "https://localhost:8080/"
        },
        "id": "7vf9i953K7R9",
        "outputId": "d34c46e5-b34d-4d48-8b43-e90df456be2d",
        "pycharm": {
          "name": "#%%\n"
        }
      },
      "execution_count": null,
      "outputs": [
        {
          "output_type": "stream",
          "name": "stdout",
          "text": [
            "Accuracy Score = 0.94\n",
            "F1 Score (Micro) = 0.9446348536778275\n",
            "F1 Score (Macro) = 0.9446257028726492\n"
          ]
        }
      ]
    },
    {
      "cell_type": "code",
      "source": [
        "# MAX_LEN = 128\n",
        "# BATCH_SIZE =32\n",
        "# EPOCHS = 4\n",
        "# LEARNING_RATE = 2e-6\n",
        "outputs, targets = test()\n",
        "outputs = np.array(outputs) >= 0.5\n",
        "accuracy = metrics.accuracy_score(targets, outputs)\n",
        "f1_score_micro = metrics.f1_score(targets, outputs, average='micro')\n",
        "f1_score_macro = metrics.f1_score(targets, outputs, average='macro')\n",
        "print(f\"Accuracy Score = {accuracy}\")\n",
        "print(f\"F1 Score (Micro) = {f1_score_micro}\")\n",
        "print(f\"F1 Score (Macro) = {f1_score_macro}\")"
      ],
      "metadata": {
        "id": "mUCzQG-ie3Zi",
        "pycharm": {
          "name": "#%%\n"
        }
      },
      "execution_count": null,
      "outputs": []
    },
    {
      "cell_type": "code",
      "source": [
        "new_targets = []\n",
        "for each in targets:\n",
        "  tar = []\n",
        "  tar.append(int(each[0] * 3))\n",
        "  tar.append(int(each[1] * 4))\n",
        "  tar.append(int(each[2] * 2))\n",
        "  tar.append(int(each[3] * 1))\n",
        "  new_targets.append(max(tar))"
      ],
      "metadata": {
        "id": "uDLKDJu1JD6a",
        "pycharm": {
          "name": "#%%\n"
        }
      },
      "execution_count": null,
      "outputs": []
    },
    {
      "cell_type": "code",
      "source": [
        "# tar = []\n",
        "# tar.append(int(targets[0][0] * 3))\n",
        "# tar.append(int(targets[0][1] * 4))\n",
        "# tar.append(int(targets[0][2] * 2))\n",
        "# tar.append(int(targets[0][3] * 1))\n",
        "# max(tar)"
      ],
      "metadata": {
        "id": "dfnU_e9bJQqm",
        "pycharm": {
          "name": "#%%\n"
        }
      },
      "execution_count": null,
      "outputs": []
    },
    {
      "cell_type": "code",
      "source": [
        "cols = [3, 4, 2, 1]\n",
        "new_outputs = []\n",
        "count = 0\n",
        "for each in outputs:\n",
        "  count += 1\n",
        "  if (not each[0] and not each[1] and  not each[2] and  not each[3]):\n",
        "    i = random.randrange(len(cols))\n",
        "    new_outputs.append(cols[i])\n",
        "    continue \n",
        "  for i in range(4):\n",
        "    if(each[i]):\n",
        "      new_outputs.append(cols[i])\n",
        "      break"
      ],
      "metadata": {
        "id": "lKsABYKjKyF9",
        "pycharm": {
          "name": "#%%\n"
        }
      },
      "execution_count": null,
      "outputs": []
    },
    {
      "cell_type": "code",
      "source": [],
      "metadata": {
        "id": "pGqSpYG4ORPc",
        "pycharm": {
          "name": "#%%\n"
        }
      },
      "execution_count": null,
      "outputs": []
    },
    {
      "cell_type": "markdown",
      "source": [
        "Эксперимент 1"
      ],
      "metadata": {
        "id": "V2YEYsaGJG9q",
        "pycharm": {
          "name": "#%% md\n"
        }
      }
    },
    {
      "cell_type": "code",
      "source": [
        "# MAX_LEN = 128\n",
        "# BATCH_SIZE = 32\n",
        "# EPOCHS = 3\n",
        "# LEARNING_RATE = 2e-5\n",
        "conf_mat = metrics.confusion_matrix(new_targets, new_outputs)\n",
        "fig, ax = plt.subplots(figsize=(8,8))\n",
        "sns.heatmap(conf_mat, annot=True, cmap=\"Blues\", fmt='d')\n",
        "plt.ylabel('Actual')\n",
        "plt.xlabel('Predicted')\n",
        "plt.title(\"CONFUSION MATRIX RoBERTa\\n\", size=16)"
      ],
      "metadata": {
        "colab": {
          "base_uri": "https://localhost:8080/",
          "height": 760
        },
        "id": "TidiumtBHJD3",
        "outputId": "047ebe8e-b1e0-427c-c914-7ed0c9ac83f3",
        "pycharm": {
          "name": "#%%\n"
        }
      },
      "execution_count": null,
      "outputs": [
        {
          "output_type": "execute_result",
          "data": {
            "text/plain": [
              "Text(0.5, 1.0, 'CONFUSION MATRIX RoBERTa\\n')"
            ]
          },
          "metadata": {},
          "execution_count": 78
        },
        {
          "output_type": "display_data",
          "data": {
            "text/plain": [
              "<Figure size 800x800 with 2 Axes>"
            ],
            "image/png": "[encoded data removed]"
          },
          "metadata": {}
        }
      ]
    },
    {
      "cell_type": "markdown",
      "source": [
        "Эксперимент 2"
      ],
      "metadata": {
        "id": "8VX3iR_vJKpl",
        "pycharm": {
          "name": "#%% md\n"
        }
      }
    },
    {
      "cell_type": "code",
      "source": [
        "# MAX_LEN = 200\n",
        "# BATCH_SIZE = 32\n",
        "# EPOCHS = 3\n",
        "# LEARNING_RATE = 2e-5\n",
        "conf_mat = metrics.confusion_matrix(new_targets, new_outputs)\n",
        "fig, ax = plt.subplots(figsize=(8,8))\n",
        "sns.heatmap(conf_mat, annot=True, cmap=\"Blues\", fmt='d')\n",
        "plt.ylabel('Actual')\n",
        "plt.xlabel('Predicted')\n",
        "plt.title(\"CONFUSION MATRIX RoBERTa\\n\", size=16)"
      ],
      "metadata": {
        "colab": {
          "base_uri": "https://localhost:8080/",
          "height": 760
        },
        "id": "BzFk6JpmH_OH",
        "outputId": "9aa7e7a0-acf5-4310-ee47-3c0456bb8e0b",
        "pycharm": {
          "name": "#%%\n"
        }
      },
      "execution_count": null,
      "outputs": [
        {
          "output_type": "execute_result",
          "data": {
            "text/plain": [
              "Text(0.5, 1.0, 'CONFUSION MATRIX RoBERTa\\n')"
            ]
          },
          "metadata": {},
          "execution_count": 30
        },
        {
          "output_type": "display_data",
          "data": {
            "text/plain": [
              "<Figure size 800x800 with 2 Axes>"
            ],
            "image/png": "[encoded data removed]"
          },
          "metadata": {}
        }
      ]
    },
    {
      "cell_type": "markdown",
      "source": [
        "Эксперимент 3"
      ],
      "metadata": {
        "id": "u9kSvXfPJOad",
        "pycharm": {
          "name": "#%% md\n"
        }
      }
    },
    {
      "cell_type": "code",
      "source": [
        "# MAX_LEN = 100\n",
        "# BATCH_SIZE = 32\n",
        "# EPOCHS = 3\n",
        "# LEARNING_RATE = 2e-5\n",
        "conf_mat = metrics.confusion_matrix(new_targets, new_outputs)\n",
        "fig, ax = plt.subplots(figsize=(8,8))\n",
        "sns.heatmap(conf_mat, annot=True, cmap=\"Blues\", fmt='d')\n",
        "plt.ylabel('Actual')\n",
        "plt.xlabel('Predicted')\n",
        "plt.title(\"CONFUSION MATRIX RoBERTa\\n\", size=16)"
      ],
      "metadata": {
        "colab": {
          "base_uri": "https://localhost:8080/",
          "height": 760
        },
        "id": "j2yhS7z3JQEm",
        "outputId": "d78aeb7e-6f1d-4071-99f4-da5f31ec66c4",
        "pycharm": {
          "name": "#%%\n"
        }
      },
      "execution_count": null,
      "outputs": [
        {
          "output_type": "execute_result",
          "data": {
            "text/plain": [
              "Text(0.5, 1.0, 'CONFUSION MATRIX RoBERTa\\n')"
            ]
          },
          "metadata": {},
          "execution_count": 29
        },
        {
          "output_type": "display_data",
          "data": {
            "text/plain": [
              "<Figure size 800x800 with 2 Axes>"
            ],
            "image/png": "[encoded data removed]"
          },
          "metadata": {}
        }
      ]
    },
    {
      "cell_type": "markdown",
      "source": [
        "Эксперимент 4"
      ],
      "metadata": {
        "id": "KlQ8YIjpg0bn",
        "pycharm": {
          "name": "#%% md\n"
        }
      }
    },
    {
      "cell_type": "code",
      "source": [
        "# MAX_LEN = 128\n",
        "# BATCH_SIZE = 16\n",
        "# EPOCHS = 3\n",
        "# LEARNING_RATE = 2e-5\n",
        "conf_mat = metrics.confusion_matrix(new_targets, new_outputs)\n",
        "fig, ax = plt.subplots(figsize=(8,8))\n",
        "sns.heatmap(conf_mat, annot=True, cmap=\"Blues\", fmt='d')\n",
        "plt.ylabel('Actual')\n",
        "plt.xlabel('Predicted')\n",
        "plt.title(\"CONFUSION MATRIX RoBERTa\\n\", size=16)"
      ],
      "metadata": {
        "colab": {
          "base_uri": "https://localhost:8080/",
          "height": 760
        },
        "id": "RDo-EslQg2WZ",
        "outputId": "bc7fd1f8-b102-47db-a543-b914aae3c643",
        "pycharm": {
          "name": "#%%\n"
        }
      },
      "execution_count": null,
      "outputs": [
        {
          "output_type": "execute_result",
          "data": {
            "text/plain": [
              "Text(0.5, 1.0, 'CONFUSION MATRIX RoBERTa\\n')"
            ]
          },
          "metadata": {},
          "execution_count": 65
        },
        {
          "output_type": "display_data",
          "data": {
            "text/plain": [
              "<Figure size 800x800 with 2 Axes>"
            ],
            "image/png": "[encoded data removed]"
          },
          "metadata": {}
        }
      ]
    },
    {
      "cell_type": "markdown",
      "source": [
        "Эксперимент 5"
      ],
      "metadata": {
        "id": "Q01F_xz1PGlG",
        "pycharm": {
          "name": "#%% md\n"
        }
      }
    },
    {
      "cell_type": "code",
      "source": [
        "# MAX_LEN = 128\n",
        "# BATCH_SIZE = 64\n",
        "# EPOCHS = 3\n",
        "# LEARNING_RATE = 2e-5\n",
        "conf_mat = metrics.confusion_matrix(new_targets, new_outputs)\n",
        "fig, ax = plt.subplots(figsize=(8,8))\n",
        "sns.heatmap(conf_mat, annot=True, cmap=\"Blues\", fmt='d')\n",
        "plt.ylabel('Actual')\n",
        "plt.xlabel('Predicted')\n",
        "plt.title(\"CONFUSION MATRIX RoBERTa\\n\", size=16)"
      ],
      "metadata": {
        "colab": {
          "base_uri": "https://localhost:8080/",
          "height": 760
        },
        "id": "lQO6kQYFPIeu",
        "outputId": "c23804c1-3428-4dbb-be53-f7ac2be0d2c3",
        "pycharm": {
          "name": "#%%\n"
        }
      },
      "execution_count": null,
      "outputs": [
        {
          "output_type": "execute_result",
          "data": {
            "text/plain": [
              "Text(0.5, 1.0, 'CONFUSION MATRIX RoBERTa\\n')"
            ]
          },
          "metadata": {},
          "execution_count": 30
        },
        {
          "output_type": "display_data",
          "data": {
            "text/plain": [
              "<Figure size 800x800 with 2 Axes>"
            ],
            "image/png": "[encoded data removed]"
          },
          "metadata": {}
        }
      ]
    },
    {
      "cell_type": "markdown",
      "source": [
        "Эксперимент 6"
      ],
      "metadata": {
        "id": "GlljafFjW3TQ",
        "pycharm": {
          "name": "#%% md\n"
        }
      }
    },
    {
      "cell_type": "code",
      "source": [
        "# MAX_LEN = 128\n",
        "# BATCH_SIZE = 64\n",
        "# EPOCHS = 5\n",
        "# LEARNING_RATE = 2e-5\n",
        "conf_mat = metrics.confusion_matrix(new_targets, new_outputs)\n",
        "fig, ax = plt.subplots(figsize=(8,8))\n",
        "sns.heatmap(conf_mat, annot=True, cmap=\"Blues\", fmt='d')\n",
        "plt.ylabel('Actual')\n",
        "plt.xlabel('Predicted')\n",
        "plt.title(\"CONFUSION MATRIX RoBERTa\\n\", size=16)"
      ],
      "metadata": {
        "id": "_AluHPJRXQ80",
        "colab": {
          "base_uri": "https://localhost:8080/",
          "height": 760
        },
        "outputId": "431a56ed-e521-4475-eabc-0135c0b790cf",
        "pycharm": {
          "name": "#%%\n"
        }
      },
      "execution_count": null,
      "outputs": [
        {
          "output_type": "execute_result",
          "data": {
            "text/plain": [
              "Text(0.5, 1.0, 'CONFUSION MATRIX RoBERTa\\n')"
            ]
          },
          "metadata": {},
          "execution_count": 31
        },
        {
          "output_type": "display_data",
          "data": {
            "text/plain": [
              "<Figure size 800x800 with 2 Axes>"
            ],
            "image/png": "[encoded data removed]"
          },
          "metadata": {}
        }
      ]
    },
    {
      "cell_type": "markdown",
      "source": [
        "Эксперимент 7"
      ],
      "metadata": {
        "id": "ZTen9iyALAyA",
        "pycharm": {
          "name": "#%% md\n"
        }
      }
    },
    {
      "cell_type": "code",
      "source": [
        "# MAX_LEN = 128\n",
        "# BATCH_SIZE =32\n",
        "# EPOCHS = 2\n",
        "# LEARNING_RATE = 2e-6\n",
        "conf_mat = metrics.confusion_matrix(new_targets, new_outputs)\n",
        "fig, ax = plt.subplots(figsize=(8,8))\n",
        "sns.heatmap(conf_mat, annot=True, cmap=\"Blues\", fmt='d')\n",
        "plt.ylabel('Actual')\n",
        "plt.xlabel('Predicted')\n",
        "plt.title(\"CONFUSION MATRIX RoBERTa\\n\", size=16)"
      ],
      "metadata": {
        "colab": {
          "base_uri": "https://localhost:8080/",
          "height": 760
        },
        "id": "HTLe2aOTK_7_",
        "outputId": "ca37bbe1-815c-4911-d281-f160cf774e45",
        "pycharm": {
          "name": "#%%\n"
        }
      },
      "execution_count": null,
      "outputs": [
        {
          "output_type": "execute_result",
          "data": {
            "text/plain": [
              "Text(0.5, 1.0, 'CONFUSION MATRIX RoBERTa\\n')"
            ]
          },
          "metadata": {},
          "execution_count": 61
        },
        {
          "output_type": "display_data",
          "data": {
            "text/plain": [
              "<Figure size 800x800 with 2 Axes>"
            ],
            "image/png": "[encoded data removed]"
          },
          "metadata": {}
        }
      ]
    },
    {
      "cell_type": "code",
      "source": [
        "# MAX_LEN = 128\n",
        "# BATCH_SIZE =32\n",
        "# EPOCHS = 4\n",
        "# LEARNING_RATE = 2e-6\n",
        "conf_mat = metrics.confusion_matrix(new_targets, new_outputs)\n",
        "fig, ax = plt.subplots(figsize=(8,8))\n",
        "sns.heatmap(conf_mat, annot=True, cmap=\"Blues\", fmt='d')\n",
        "plt.ylabel('Actual')\n",
        "plt.xlabel('Predicted')\n",
        "plt.title(\"CONFUSION MATRIX RoBERTa\\n\", size=16)"
      ],
      "metadata": {
        "id": "dNEJr3lKfE4a",
        "pycharm": {
          "name": "#%%\n"
        }
      },
      "execution_count": null,
      "outputs": []
    },
    {
      "cell_type": "code",
      "source": [
        "def saveModel():\n",
        "    path = \"./Roberta_AG_128_5_64_2e-5.pth\"\n",
        "    torch.save(model.state_dict(), path)"
      ],
      "metadata": {
        "id": "p2IEPr_XSZKg",
        "pycharm": {
          "name": "#%%\n"
        }
      },
      "execution_count": null,
      "outputs": []
    },
    {
      "cell_type": "code",
      "source": [
        "saveModel()"
      ],
      "metadata": {
        "id": "ytngETrEaH_I",
        "pycharm": {
          "name": "#%%\n"
        }
      },
      "execution_count": null,
      "outputs": []
    },
    {
      "cell_type": "markdown",
      "source": [
        "Final"
      ],
      "metadata": {
        "id": "T-gzbF89mRQX"
      }
    },
    {
      "cell_type": "code",
      "source": [
        "# MAX_LEN = 128\n",
        "# BATCH_SIZE = 32\n",
        "# EPOCHS = 3\n",
        "# LEARNING_RATE = 2e-5\n",
        "outputs, targets = test()\n",
        "outputs = np.array(outputs) >= 0.5\n",
        "accuracy = metrics.accuracy_score(targets, outputs)\n",
        "f1_score_micro = metrics.f1_score(targets, outputs, average='micro')\n",
        "f1_score_macro = metrics.f1_score(targets, outputs, average='macro')\n",
        "print(f\"Accuracy Score = {accuracy}\")\n",
        "print(f\"F1 Score (Micro) = {f1_score_micro}\")\n",
        "print(f\"F1 Score (Macro) = {f1_score_macro}\")"
      ],
      "metadata": {
        "id": "RmJdHcpsmTIq"
      },
      "execution_count": null,
      "outputs": []
    },
    {
      "cell_type": "code",
      "source": [
        "def test_model_by_train():\n",
        "    model.eval()\n",
        "    fin_targets=[]\n",
        "    fin_outputs=[]\n",
        "    with torch.no_grad():\n",
        "        for _, data in enumerate(train_loader, 0):\n",
        "            ids = data['ids'].to(device, dtype = torch.long)\n",
        "            mask = data['mask'].to(device, dtype = torch.long)\n",
        "            token_type_ids = data['token_type_ids'].to(device, dtype = torch.long)\n",
        "            targets = data['targets'].to(device, dtype = torch.float)\n",
        "            outputs = model(ids, mask, token_type_ids)\n",
        "            fin_targets.extend(targets.cpu().detach().numpy().tolist())\n",
        "            fin_outputs.extend(torch.sigmoid(outputs).cpu().detach().numpy().tolist())\n",
        "    return fin_outputs, fin_targets"
      ],
      "metadata": {
        "id": "1vaY3_FvkCkR",
        "pycharm": {
          "name": "#%%\n"
        }
      },
      "execution_count": null,
      "outputs": []
    },
    {
      "cell_type": "code",
      "source": [
        "train_outputs, train_targets = test_model_by_train()\n",
        "train_outputs = np.array(train_outputs) >= 0.5\n",
        "accuracy = metrics.accuracy_score(train_targets, train_outputs)\n",
        "f1_score_micro = metrics.f1_score(train_targets, train_outputs, average='micro')\n",
        "f1_score_macro = metrics.f1_score(train_targets, train_outputs, average='macro')\n",
        "print(f\"Accuracy Score = {accuracy}\")\n",
        "print(f\"F1 Score (Micro) = {f1_score_micro}\")\n",
        "print(f\"F1 Score (Macro) = {f1_score_macro}\")"
      ],
      "metadata": {
        "id": "vieI12TTmWBU"
      },
      "execution_count": null,
      "outputs": []
    },
    {
      "cell_type": "code",
      "source": [
        "train_outputs, train_targets = test_model_by_train()"
      ],
      "metadata": {
        "id": "IMPoynIymZnz"
      },
      "execution_count": null,
      "outputs": []
    },
    {
      "cell_type": "code",
      "source": [
        "new_targets = []\n",
        "for each in targets:\n",
        "  tar = []\n",
        "  tar.append(int(each[0] * 3))\n",
        "  tar.append(int(each[1] * 4))\n",
        "  tar.append(int(each[2] * 2))\n",
        "  tar.append(int(each[3] * 1))\n",
        "  new_targets.append(max(tar))"
      ],
      "metadata": {
        "id": "dde08ebsmZq_"
      },
      "execution_count": null,
      "outputs": []
    },
    {
      "cell_type": "code",
      "source": [
        "from sklearn.svm import LinearSVC"
      ],
      "metadata": {
        "id": "GZSnbGw1mjX0"
      },
      "execution_count": null,
      "outputs": []
    },
    {
      "cell_type": "code",
      "source": [
        "clf = LinearSVC(C=0.1, random_state=42, class_weight='balanced', max_iter=100000)\n",
        "clf.fit(train_outputs, new_targets)\n",
        "y_pred = clf.predict(test_outputs)\n",
        "accuracy = metrics.accuracy_score(test_labels, y_pred)\n",
        "f1_score_micro = metrics.f1_score(test_labels, y_pred, average='micro')\n",
        "f1_score_macro = metrics.f1_score(test_labels, y_pred, average='macro')\n",
        "print(f\"Accuracy Score = {accuracy}\")\n",
        "print(f\"F1 Score (Micro) = {f1_score_micro}\")\n",
        "print(f\"F1 Score (Macro) = {f1_score_macro}\")"
      ],
      "metadata": {
        "id": "E5uax_V8mrbx"
      },
      "execution_count": null,
      "outputs": []
    },
    {
      "cell_type": "code",
      "source": [
        "clf = LinearSVC(C=0.5, random_state=42, class_weight='balanced', max_iter=100000)\n",
        "clf.fit(train_outputs, new_targets)\n",
        "y_pred = clf.predict(test_outputs)\n",
        "accuracy = metrics.accuracy_score(test_labels, y_pred)\n",
        "f1_score_micro = metrics.f1_score(test_labels, y_pred, average='micro')\n",
        "f1_score_macro = metrics.f1_score(test_labels, y_pred, average='macro')\n",
        "print(f\"Accuracy Score = {accuracy}\")\n",
        "print(f\"F1 Score (Micro) = {f1_score_micro}\")\n",
        "print(f\"F1 Score (Macro) = {f1_score_macro}\")"
      ],
      "metadata": {
        "id": "mWnmAn0VmpQ_"
      },
      "execution_count": null,
      "outputs": []
    },
    {
      "cell_type": "code",
      "source": [
        "clf = LinearSVC(C=1, random_state=42, class_weight='balanced', max_iter=100000)\n",
        "clf.fit(train_outputs, new_targets)\n",
        "y_pred = clf.predict(test_outputs)\n",
        "accuracy = metrics.accuracy_score(test_labels, y_pred)\n",
        "f1_score_micro = metrics.f1_score(test_labels, y_pred, average='micro')\n",
        "f1_score_macro = metrics.f1_score(test_labels, y_pred, average='macro')\n",
        "print(f\"Accuracy Score = {accuracy}\")\n",
        "print(f\"F1 Score (Micro) = {f1_score_micro}\")\n",
        "print(f\"F1 Score (Macro) = {f1_score_macro}\")"
      ],
      "metadata": {
        "id": "drxO7tetmr36"
      },
      "execution_count": null,
      "outputs": []
    },
    {
      "cell_type": "code",
      "source": [
        "conf_mat = metrics.confusion_matrix(new_targets, new_outputs)\n",
        "fig, ax = plt.subplots(figsize=(8,8))\n",
        "sns.heatmap(conf_mat, annot=True, cmap=\"Blues\", fmt='d')\n",
        "plt.ylabel('Actual')\n",
        "plt.xlabel('Predicted')\n",
        "plt.title(\"CONFUSION MATRIX RoBERTa\\n\", size=16)"
      ],
      "metadata": {
        "id": "zZvVcMVOmuzj"
      },
      "execution_count": null,
      "outputs": []
    },
    {
      "cell_type": "code",
      "source": [
        "from sklearn import metrics\n",
        "print(metrics.classification_report(test_labels, y_pred))"
      ],
      "metadata": {
        "id": "Ao2P1db1m2kH"
      },
      "execution_count": null,
      "outputs": []
    }
  ],
  "metadata": {
    "kernelspec": {
      "display_name": "Python 3",
      "language": "python",
      "name": "python3"
    },
    "language_info": {
      "codemirror_mode": {
        "name": "ipython",
        "version": 2
      },
      "file_extension": ".py",
      "mimetype": "text/x-python",
      "name": "python",
      "nbconvert_exporter": "python",
      "pygments_lexer": "ipython2",
      "version": "2.7.6"
    },
    "colab": {
      "provenance": []
    },
    "accelerator": "GPU",
    "gpuClass": "standard"
  },
  "nbformat": 4,
  "nbformat_minor": 0
}