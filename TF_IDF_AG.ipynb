{
 "nbformat": 4,
 "nbformat_minor": 0,
 "metadata": {
  "colab": {
   "provenance": [],
   "gpuType": "T4"
  },
  "kernelspec": {
   "name": "python3",
   "display_name": "Python 3"
  },
  "language_info": {
   "name": "python"
  },
  "gpuClass": "standard"
 },
 "cells": [
  {
   "cell_type": "code",
   "execution_count": null,
   "metadata": {
    "colab": {
     "base_uri": "https://localhost:8080/"
    },
    "id": "Vq6yeYthR0ET",
    "outputId": "49a52ee3-0413-4b8b-a10f-a0b66ab2e2f9",
    "pycharm": {
     "name": "#%%\n"
    }
   },
   "outputs": [
    {
     "output_type": "stream",
     "name": "stdout",
     "text": [
      "Looking in indexes: https://pypi.org/simple, https://us-python.pkg.dev/colab-wheels/public/simple/\n",
      "Requirement already satisfied: catboost in /usr/local/lib/python3.10/dist-packages (1.2)\n",
      "Requirement already satisfied: graphviz in /usr/local/lib/python3.10/dist-packages (from catboost) (0.20.1)\n",
      "Requirement already satisfied: matplotlib in /usr/local/lib/python3.10/dist-packages (from catboost) (3.7.1)\n",
      "Requirement already satisfied: numpy>=1.16.0 in /usr/local/lib/python3.10/dist-packages (from catboost) (1.22.4)\n",
      "Requirement already satisfied: pandas>=0.24 in /usr/local/lib/python3.10/dist-packages (from catboost) (1.5.3)\n",
      "Requirement already satisfied: scipy in /usr/local/lib/python3.10/dist-packages (from catboost) (1.10.1)\n",
      "Requirement already satisfied: plotly in /usr/local/lib/python3.10/dist-packages (from catboost) (5.13.1)\n",
      "Requirement already satisfied: six in /usr/local/lib/python3.10/dist-packages (from catboost) (1.16.0)\n",
      "Requirement already satisfied: python-dateutil>=2.8.1 in /usr/local/lib/python3.10/dist-packages (from pandas>=0.24->catboost) (2.8.2)\n",
      "Requirement already satisfied: pytz>=2020.1 in /usr/local/lib/python3.10/dist-packages (from pandas>=0.24->catboost) (2022.7.1)\n",
      "Requirement already satisfied: contourpy>=1.0.1 in /usr/local/lib/python3.10/dist-packages (from matplotlib->catboost) (1.0.7)\n",
      "Requirement already satisfied: cycler>=0.10 in /usr/local/lib/python3.10/dist-packages (from matplotlib->catboost) (0.11.0)\n",
      "Requirement already satisfied: fonttools>=4.22.0 in /usr/local/lib/python3.10/dist-packages (from matplotlib->catboost) (4.39.3)\n",
      "Requirement already satisfied: kiwisolver>=1.0.1 in /usr/local/lib/python3.10/dist-packages (from matplotlib->catboost) (1.4.4)\n",
      "Requirement already satisfied: packaging>=20.0 in /usr/local/lib/python3.10/dist-packages (from matplotlib->catboost) (23.1)\n",
      "Requirement already satisfied: pillow>=6.2.0 in /usr/local/lib/python3.10/dist-packages (from matplotlib->catboost) (8.4.0)\n",
      "Requirement already satisfied: pyparsing>=2.3.1 in /usr/local/lib/python3.10/dist-packages (from matplotlib->catboost) (3.0.9)\n",
      "Requirement already satisfied: tenacity>=6.2.0 in /usr/local/lib/python3.10/dist-packages (from plotly->catboost) (8.2.2)\n",
      "Looking in indexes: https://pypi.org/simple, https://us-python.pkg.dev/colab-wheels/public/simple/\n",
      "Requirement already satisfied: optuna in /usr/local/lib/python3.10/dist-packages (3.1.1)\n",
      "Requirement already satisfied: alembic>=1.5.0 in /usr/local/lib/python3.10/dist-packages (from optuna) (1.11.1)\n",
      "Requirement already satisfied: cmaes>=0.9.1 in /usr/local/lib/python3.10/dist-packages (from optuna) (0.9.1)\n",
      "Requirement already satisfied: colorlog in /usr/local/lib/python3.10/dist-packages (from optuna) (6.7.0)\n",
      "Requirement already satisfied: numpy in /usr/local/lib/python3.10/dist-packages (from optuna) (1.22.4)\n",
      "Requirement already satisfied: packaging>=20.0 in /usr/local/lib/python3.10/dist-packages (from optuna) (23.1)\n",
      "Requirement already satisfied: sqlalchemy>=1.3.0 in /usr/local/lib/python3.10/dist-packages (from optuna) (2.0.10)\n",
      "Requirement already satisfied: tqdm in /usr/local/lib/python3.10/dist-packages (from optuna) (4.65.0)\n",
      "Requirement already satisfied: PyYAML in /usr/local/lib/python3.10/dist-packages (from optuna) (6.0)\n",
      "Requirement already satisfied: Mako in /usr/local/lib/python3.10/dist-packages (from alembic>=1.5.0->optuna) (1.2.4)\n",
      "Requirement already satisfied: typing-extensions>=4 in /usr/local/lib/python3.10/dist-packages (from alembic>=1.5.0->optuna) (4.5.0)\n",
      "Requirement already satisfied: greenlet!=0.4.17 in /usr/local/lib/python3.10/dist-packages (from sqlalchemy>=1.3.0->optuna) (2.0.2)\n",
      "Requirement already satisfied: MarkupSafe>=0.9.2 in /usr/local/lib/python3.10/dist-packages (from Mako->alembic>=1.5.0->optuna) (2.1.2)\n"
     ]
    }
   ],
   "source": [
    "!pip install catboost\n",
    "!pip install optuna"
   ]
  },
  {
   "cell_type": "code",
   "source": [
    "import pandas as pd\n",
    "import numpy as np\n",
    "from sklearn.naive_bayes import MultinomialNB\n",
    "from sklearn.linear_model import LogisticRegression\n",
    "from sklearn.ensemble import RandomForestClassifier\n",
    "from sklearn.svm import LinearSVC, SVC\n",
    "from sklearn.model_selection import cross_val_score\n",
    "from sklearn.metrics import confusion_matrix\n",
    "from sklearn import metrics\n",
    "from nltk.tokenize import word_tokenize\n",
    "from catboost import CatBoostClassifier\n",
    "from lightgbm import LGBMClassifier\n",
    "import matplotlib.pyplot as plt\n",
    "import seaborn as sns\n",
    "import scipy\n",
    "from nltk.corpus import wordnet as wn\n",
    "from nltk.corpus import sentiwordnet as swn\n",
    "import nltk\n",
    "import optuna\n",
    "from sklearn.model_selection import train_test_split\n",
    "from nltk.util import ngrams\n",
    "from sklearn.feature_extraction.text import CountVectorizer, TfidfVectorizer\n",
    "from nltk.tokenize import word_tokenize\n",
    "from wordcloud import STOPWORDS\n",
    "from nltk.corpus import stopwords\n",
    "from nltk.stem.wordnet import WordNetLemmatizer\n",
    "import re\n",
    "from nltk.stem.snowball import SnowballStemmer"
   ],
   "metadata": {
    "id": "yz1tghZBR8H3",
    "pycharm": {
     "name": "#%%\n"
    }
   },
   "execution_count": null,
   "outputs": []
  },
  {
   "cell_type": "code",
   "source": [
    "test = pd.read_csv('test.csv')\n",
    "train = pd.read_csv('train.csv')"
   ],
   "metadata": {
    "id": "T8YLYxo3R-Ne",
    "pycharm": {
     "name": "#%%\n"
    }
   },
   "execution_count": null,
   "outputs": []
  },
  {
   "cell_type": "code",
   "source": [
    "train['content'] = train.Title + ' ' + train.Description\n",
    "labels = train[\"Class Index\"]\n",
    "test['content'] = test.Title + ' ' + test.Description\n",
    "test_labels = test['Class Index']"
   ],
   "metadata": {
    "id": "BCceHDHbSAHQ",
    "pycharm": {
     "name": "#%%\n"
    }
   },
   "execution_count": null,
   "outputs": []
  },
  {
   "cell_type": "code",
   "source": [
    "test_labels = test['Class Index']"
   ],
   "metadata": {
    "id": "iubEaiNsSCIw",
    "pycharm": {
     "name": "#%%\n"
    }
   },
   "execution_count": null,
   "outputs": []
  },
  {
   "cell_type": "code",
   "source": [
    "def normalise_text(text):\n",
    "    text = text.lower()  # lowercase\n",
    "    text = text.replace(r\"\\#\", \"\")  # replaces hashtags\n",
    "    text = text.replace(r\"http\\S+\", \"URL\")  # remove URL addresses\n",
    "    text = text.replace(r\"@\", \"\")\n",
    "    text = text.replace(r\"[^A-Za-z0-9()!?\\'\\`\\\"]\", \" \")\n",
    "    text = text.replace(\"\\s{2,}\", \" \")\n",
    "    return text\n",
    "\n",
    "def datacleaning(text):\n",
    "    whitespace = re.compile(r\"\\s+\")\n",
    "    user = re.compile(r\"(?i)@[a-z0-9_]+\")\n",
    "    text = whitespace.sub(' ', text)\n",
    "    text = user.sub('', text)\n",
    "    text = re.sub(r\"\\[[^()]*\\]\",\"\", text)\n",
    "    text = re.sub(\"\\d+\", \"\", text)\n",
    "    text = re.sub(r'[^\\w\\s]','',text)\n",
    "    text = re.sub(r\"(?:@\\S*|#\\S*|http(?=.*://)\\S*)\", \" \", text)\n",
    "    text = text.lower()\n",
    "    \n",
    "    # removing stop-words\n",
    "    # text = [word for word in text.split() if word not in list(STOPWORDS)]\n",
    "    text = [word for word in text.split()]\n",
    "    \n",
    "    # word lemmatization\n",
    "    sentence = []\n",
    "    snow_stemmer = SnowballStemmer(language='english')\n",
    "    # lemmatizer = WordNetLemmatizer()\n",
    "    for word in text:\n",
    "        sentence.append(snow_stemmer.stem(word))\n",
    "        # sentence.append(lemmatizer.lemmatize(word,'v'))\n",
    "        # sentence.append(lemmatizer.lemmatize(word))\n",
    "        \n",
    "    return ' '.join(text) "
   ],
   "metadata": {
    "id": "R7wfDhZMSE9a",
    "pycharm": {
     "name": "#%%\n"
    }
   },
   "execution_count": null,
   "outputs": []
  },
  {
   "cell_type": "code",
   "source": [
    "nltk.download('punkt')\n",
    "nltk.download('wordnet')"
   ],
   "metadata": {
    "colab": {
     "base_uri": "https://localhost:8080/"
    },
    "id": "BJWowFUhzotp",
    "outputId": "7d046d2a-3973-42df-e512-f4cf51a5fbf9",
    "pycharm": {
     "name": "#%%\n"
    }
   },
   "execution_count": null,
   "outputs": [
    {
     "output_type": "stream",
     "name": "stderr",
     "text": [
      "[nltk_data] Downloading package punkt to /root/nltk_data...\n",
      "[nltk_data]   Package punkt is already up-to-date!\n",
      "[nltk_data] Downloading package wordnet to /root/nltk_data...\n",
      "[nltk_data]   Package wordnet is already up-to-date!\n"
     ]
    },
    {
     "output_type": "execute_result",
     "data": {
      "text/plain": [
       "True"
      ]
     },
     "metadata": {},
     "execution_count": 102
    }
   ]
  },
  {
   "cell_type": "code",
   "source": [
    "train.content = train.content.apply(normalise_text)\n",
    "test.content = test.content.apply(normalise_text)\n",
    "\n",
    "# train.content = train.content.apply(datacleaning)\n",
    "# test.content = test.content.apply(datacleaning)"
   ],
   "metadata": {
    "id": "QMNdUdRMSHKT",
    "pycharm": {
     "name": "#%%\n"
    }
   },
   "execution_count": null,
   "outputs": []
  },
  {
   "cell_type": "code",
   "source": [
    "X_train, X_valid, y_train, y_valid = train_test_split(train.content, labels, test_size=0.2, random_state=42)"
   ],
   "metadata": {
    "id": "Ub3vO5gZSLAn",
    "pycharm": {
     "name": "#%%\n"
    }
   },
   "execution_count": null,
   "outputs": []
  },
  {
   "cell_type": "code",
   "source": [
    "tfidf = TfidfVectorizer(sublinear_tf=True, min_df=5,\n",
    "                        ngram_range=(1, 4),\n",
    "                        # stop_words='english',\n",
    "                        tokenizer=word_tokenize)\n",
    "X_train_tfidf = tfidf.fit_transform(X_train)\n",
    "X_valid_tfidf = tfidf.transform(X_valid)\n",
    "X_test_tfidf = tfidf.transform(test.content)"
   ],
   "metadata": {
    "colab": {
     "base_uri": "https://localhost:8080/"
    },
    "id": "AktIvSQESMpe",
    "outputId": "10cd9527-d8bd-48fe-f06d-9045aa2faab5",
    "pycharm": {
     "name": "#%%\n"
    }
   },
   "execution_count": null,
   "outputs": [
    {
     "output_type": "stream",
     "name": "stderr",
     "text": [
      "/usr/local/lib/python3.10/dist-packages/sklearn/feature_extraction/text.py:528: UserWarning: The parameter 'token_pattern' will not be used since 'tokenizer' is not None'\n",
      "  warnings.warn(\n"
     ]
    }
   ]
  },
  {
   "cell_type": "code",
   "source": [
    "tfidf = TfidfVectorizer(sublinear_tf=True, min_df=5,\n",
    "                        ngram_range=(1, 4),\n",
    "                        # stop_words='english',\n",
    "                        tokenizer=word_tokenize)\n",
    "train_tfidf = tfidf.fit_transform(train.content)\n",
    "test_tfidf = tfidf.transform(test.content)"
   ],
   "metadata": {
    "id": "baGITE_oLeAW",
    "pycharm": {
     "name": "#%%\n"
    }
   },
   "execution_count": null,
   "outputs": []
  },
  {
   "cell_type": "code",
   "source": [
    "models = [\n",
    "    RandomForestClassifier(n_estimators=100, max_depth=5, random_state=0),\n",
    "    LinearSVC(max_iter=10000),\n",
    "    SVC(),\n",
    "    MultinomialNB(),\n",
    "    LogisticRegression(random_state=0, max_iter=10000)\n",
    "]\n",
    "\n",
    "# 5 Cross-validation\n",
    "CV = 5\n",
    "cv_df = pd.DataFrame(index=range(CV * len(models)))\n",
    "\n",
    "entries = []\n",
    "for model in models:\n",
    "    model_name = model.__class__.__name__\n",
    "    print(model_name)\n",
    "    accuracies = cross_val_score(model, train_tfidf, labels, scoring='accuracy', cv=CV, verbose=3, n_jobs=3)\n",
    "    for fold_idx, accuracy in enumerate(accuracies):\n",
    "        entries.append((model_name, fold_idx, accuracy))\n",
    "\n",
    "cv_df = pd.DataFrame(entries, columns=['model_name', 'fold_idx', 'accuracy'])"
   ],
   "metadata": {
    "colab": {
     "base_uri": "https://localhost:8080/",
     "height": 571
    },
    "id": "tDTp9sliTFDH",
    "outputId": "c9029e9e-8f58-448b-fd0c-58d0c0264756",
    "pycharm": {
     "name": "#%%\n"
    }
   },
   "execution_count": null,
   "outputs": [
    {
     "output_type": "stream",
     "name": "stdout",
     "text": [
      "RandomForestClassifier\n"
     ]
    },
    {
     "output_type": "stream",
     "name": "stderr",
     "text": [
      "[Parallel(n_jobs=3)]: Using backend LokyBackend with 3 concurrent workers.\n",
      "[Parallel(n_jobs=3)]: Done   2 out of   5 | elapsed:   21.8s remaining:   32.6s\n",
      "[Parallel(n_jobs=3)]: Done   5 out of   5 | elapsed:   32.4s finished\n",
      "[Parallel(n_jobs=3)]: Using backend LokyBackend with 3 concurrent workers.\n"
     ]
    },
    {
     "output_type": "stream",
     "name": "stdout",
     "text": [
      "LinearSVC\n"
     ]
    },
    {
     "output_type": "stream",
     "name": "stderr",
     "text": [
      "[Parallel(n_jobs=3)]: Done   2 out of   5 | elapsed:   20.2s remaining:   30.2s\n",
      "[Parallel(n_jobs=3)]: Done   5 out of   5 | elapsed:   32.9s finished\n",
      "[Parallel(n_jobs=3)]: Using backend LokyBackend with 3 concurrent workers.\n"
     ]
    },
    {
     "output_type": "stream",
     "name": "stdout",
     "text": [
      "SVC\n"
     ]
    },
    {
     "output_type": "stream",
     "name": "stderr",
     "text": [
      "[Parallel(n_jobs=3)]: Done   2 out of   5 | elapsed: 25.7min remaining: 38.6min\n"
     ]
    },
    {
     "output_type": "error",
     "ename": "KeyboardInterrupt",
     "evalue": "ignored",
     "traceback": [
      "\u001B[0;31m---------------------------------------------------------------------------\u001B[0m",
      "\u001B[0;31mKeyboardInterrupt\u001B[0m                         Traceback (most recent call last)",
      "\u001B[0;32m<ipython-input-68-bcee1087e8db>\u001B[0m in \u001B[0;36m<cell line: 14>\u001B[0;34m()\u001B[0m\n\u001B[1;32m     15\u001B[0m     \u001B[0mmodel_name\u001B[0m \u001B[0;34m=\u001B[0m \u001B[0mmodel\u001B[0m\u001B[0;34m.\u001B[0m\u001B[0m__class__\u001B[0m\u001B[0;34m.\u001B[0m\u001B[0m__name__\u001B[0m\u001B[0;34m\u001B[0m\u001B[0;34m\u001B[0m\u001B[0m\n\u001B[1;32m     16\u001B[0m     \u001B[0mprint\u001B[0m\u001B[0;34m(\u001B[0m\u001B[0mmodel_name\u001B[0m\u001B[0;34m)\u001B[0m\u001B[0;34m\u001B[0m\u001B[0;34m\u001B[0m\u001B[0m\n\u001B[0;32m---> 17\u001B[0;31m     \u001B[0maccuracies\u001B[0m \u001B[0;34m=\u001B[0m \u001B[0mcross_val_score\u001B[0m\u001B[0;34m(\u001B[0m\u001B[0mmodel\u001B[0m\u001B[0;34m,\u001B[0m \u001B[0mtrain_tfidf\u001B[0m\u001B[0;34m,\u001B[0m \u001B[0mlabels\u001B[0m\u001B[0;34m,\u001B[0m \u001B[0mscoring\u001B[0m\u001B[0;34m=\u001B[0m\u001B[0;34m'accuracy'\u001B[0m\u001B[0;34m,\u001B[0m \u001B[0mcv\u001B[0m\u001B[0;34m=\u001B[0m\u001B[0mCV\u001B[0m\u001B[0;34m,\u001B[0m \u001B[0mverbose\u001B[0m\u001B[0;34m=\u001B[0m\u001B[0;36m3\u001B[0m\u001B[0;34m,\u001B[0m \u001B[0mn_jobs\u001B[0m\u001B[0;34m=\u001B[0m\u001B[0;36m3\u001B[0m\u001B[0;34m)\u001B[0m\u001B[0;34m\u001B[0m\u001B[0;34m\u001B[0m\u001B[0m\n\u001B[0m\u001B[1;32m     18\u001B[0m     \u001B[0;32mfor\u001B[0m \u001B[0mfold_idx\u001B[0m\u001B[0;34m,\u001B[0m \u001B[0maccuracy\u001B[0m \u001B[0;32min\u001B[0m \u001B[0menumerate\u001B[0m\u001B[0;34m(\u001B[0m\u001B[0maccuracies\u001B[0m\u001B[0;34m)\u001B[0m\u001B[0;34m:\u001B[0m\u001B[0;34m\u001B[0m\u001B[0;34m\u001B[0m\u001B[0m\n\u001B[1;32m     19\u001B[0m         \u001B[0mentries\u001B[0m\u001B[0;34m.\u001B[0m\u001B[0mappend\u001B[0m\u001B[0;34m(\u001B[0m\u001B[0;34m(\u001B[0m\u001B[0mmodel_name\u001B[0m\u001B[0;34m,\u001B[0m \u001B[0mfold_idx\u001B[0m\u001B[0;34m,\u001B[0m \u001B[0maccuracy\u001B[0m\u001B[0;34m)\u001B[0m\u001B[0;34m)\u001B[0m\u001B[0;34m\u001B[0m\u001B[0;34m\u001B[0m\u001B[0m\n",
      "\u001B[0;32m/usr/local/lib/python3.10/dist-packages/sklearn/model_selection/_validation.py\u001B[0m in \u001B[0;36mcross_val_score\u001B[0;34m(estimator, X, y, groups, scoring, cv, n_jobs, verbose, fit_params, pre_dispatch, error_score)\u001B[0m\n\u001B[1;32m    513\u001B[0m     \u001B[0mscorer\u001B[0m \u001B[0;34m=\u001B[0m \u001B[0mcheck_scoring\u001B[0m\u001B[0;34m(\u001B[0m\u001B[0mestimator\u001B[0m\u001B[0;34m,\u001B[0m \u001B[0mscoring\u001B[0m\u001B[0;34m=\u001B[0m\u001B[0mscoring\u001B[0m\u001B[0;34m)\u001B[0m\u001B[0;34m\u001B[0m\u001B[0;34m\u001B[0m\u001B[0m\n\u001B[1;32m    514\u001B[0m \u001B[0;34m\u001B[0m\u001B[0m\n\u001B[0;32m--> 515\u001B[0;31m     cv_results = cross_validate(\n\u001B[0m\u001B[1;32m    516\u001B[0m         \u001B[0mestimator\u001B[0m\u001B[0;34m=\u001B[0m\u001B[0mestimator\u001B[0m\u001B[0;34m,\u001B[0m\u001B[0;34m\u001B[0m\u001B[0;34m\u001B[0m\u001B[0m\n\u001B[1;32m    517\u001B[0m         \u001B[0mX\u001B[0m\u001B[0;34m=\u001B[0m\u001B[0mX\u001B[0m\u001B[0;34m,\u001B[0m\u001B[0;34m\u001B[0m\u001B[0;34m\u001B[0m\u001B[0m\n",
      "\u001B[0;32m/usr/local/lib/python3.10/dist-packages/sklearn/model_selection/_validation.py\u001B[0m in \u001B[0;36mcross_validate\u001B[0;34m(estimator, X, y, groups, scoring, cv, n_jobs, verbose, fit_params, pre_dispatch, return_train_score, return_estimator, error_score)\u001B[0m\n\u001B[1;32m    264\u001B[0m     \u001B[0;31m# independent, and that it is pickle-able.\u001B[0m\u001B[0;34m\u001B[0m\u001B[0;34m\u001B[0m\u001B[0m\n\u001B[1;32m    265\u001B[0m     \u001B[0mparallel\u001B[0m \u001B[0;34m=\u001B[0m \u001B[0mParallel\u001B[0m\u001B[0;34m(\u001B[0m\u001B[0mn_jobs\u001B[0m\u001B[0;34m=\u001B[0m\u001B[0mn_jobs\u001B[0m\u001B[0;34m,\u001B[0m \u001B[0mverbose\u001B[0m\u001B[0;34m=\u001B[0m\u001B[0mverbose\u001B[0m\u001B[0;34m,\u001B[0m \u001B[0mpre_dispatch\u001B[0m\u001B[0;34m=\u001B[0m\u001B[0mpre_dispatch\u001B[0m\u001B[0;34m)\u001B[0m\u001B[0;34m\u001B[0m\u001B[0;34m\u001B[0m\u001B[0m\n\u001B[0;32m--> 266\u001B[0;31m     results = parallel(\n\u001B[0m\u001B[1;32m    267\u001B[0m         delayed(_fit_and_score)(\n\u001B[1;32m    268\u001B[0m             \u001B[0mclone\u001B[0m\u001B[0;34m(\u001B[0m\u001B[0mestimator\u001B[0m\u001B[0;34m)\u001B[0m\u001B[0;34m,\u001B[0m\u001B[0;34m\u001B[0m\u001B[0;34m\u001B[0m\u001B[0m\n",
      "\u001B[0;32m/usr/local/lib/python3.10/dist-packages/sklearn/utils/parallel.py\u001B[0m in \u001B[0;36m__call__\u001B[0;34m(self, iterable)\u001B[0m\n\u001B[1;32m     61\u001B[0m             \u001B[0;32mfor\u001B[0m \u001B[0mdelayed_func\u001B[0m\u001B[0;34m,\u001B[0m \u001B[0margs\u001B[0m\u001B[0;34m,\u001B[0m \u001B[0mkwargs\u001B[0m \u001B[0;32min\u001B[0m \u001B[0miterable\u001B[0m\u001B[0;34m\u001B[0m\u001B[0;34m\u001B[0m\u001B[0m\n\u001B[1;32m     62\u001B[0m         )\n\u001B[0;32m---> 63\u001B[0;31m         \u001B[0;32mreturn\u001B[0m \u001B[0msuper\u001B[0m\u001B[0;34m(\u001B[0m\u001B[0;34m)\u001B[0m\u001B[0;34m.\u001B[0m\u001B[0m__call__\u001B[0m\u001B[0;34m(\u001B[0m\u001B[0miterable_with_config\u001B[0m\u001B[0;34m)\u001B[0m\u001B[0;34m\u001B[0m\u001B[0;34m\u001B[0m\u001B[0m\n\u001B[0m\u001B[1;32m     64\u001B[0m \u001B[0;34m\u001B[0m\u001B[0m\n\u001B[1;32m     65\u001B[0m \u001B[0;34m\u001B[0m\u001B[0m\n",
      "\u001B[0;32m/usr/local/lib/python3.10/dist-packages/joblib/parallel.py\u001B[0m in \u001B[0;36m__call__\u001B[0;34m(self, iterable)\u001B[0m\n\u001B[1;32m   1096\u001B[0m \u001B[0;34m\u001B[0m\u001B[0m\n\u001B[1;32m   1097\u001B[0m             \u001B[0;32mwith\u001B[0m \u001B[0mself\u001B[0m\u001B[0;34m.\u001B[0m\u001B[0m_backend\u001B[0m\u001B[0;34m.\u001B[0m\u001B[0mretrieval_context\u001B[0m\u001B[0;34m(\u001B[0m\u001B[0;34m)\u001B[0m\u001B[0;34m:\u001B[0m\u001B[0;34m\u001B[0m\u001B[0;34m\u001B[0m\u001B[0m\n\u001B[0;32m-> 1098\u001B[0;31m                 \u001B[0mself\u001B[0m\u001B[0;34m.\u001B[0m\u001B[0mretrieve\u001B[0m\u001B[0;34m(\u001B[0m\u001B[0;34m)\u001B[0m\u001B[0;34m\u001B[0m\u001B[0;34m\u001B[0m\u001B[0m\n\u001B[0m\u001B[1;32m   1099\u001B[0m             \u001B[0;31m# Make sure that we get a last message telling us we are done\u001B[0m\u001B[0;34m\u001B[0m\u001B[0;34m\u001B[0m\u001B[0m\n\u001B[1;32m   1100\u001B[0m             \u001B[0melapsed_time\u001B[0m \u001B[0;34m=\u001B[0m \u001B[0mtime\u001B[0m\u001B[0;34m.\u001B[0m\u001B[0mtime\u001B[0m\u001B[0;34m(\u001B[0m\u001B[0;34m)\u001B[0m \u001B[0;34m-\u001B[0m \u001B[0mself\u001B[0m\u001B[0;34m.\u001B[0m\u001B[0m_start_time\u001B[0m\u001B[0;34m\u001B[0m\u001B[0;34m\u001B[0m\u001B[0m\n",
      "\u001B[0;32m/usr/local/lib/python3.10/dist-packages/joblib/parallel.py\u001B[0m in \u001B[0;36mretrieve\u001B[0;34m(self)\u001B[0m\n\u001B[1;32m    973\u001B[0m             \u001B[0;32mtry\u001B[0m\u001B[0;34m:\u001B[0m\u001B[0;34m\u001B[0m\u001B[0;34m\u001B[0m\u001B[0m\n\u001B[1;32m    974\u001B[0m                 \u001B[0;32mif\u001B[0m \u001B[0mgetattr\u001B[0m\u001B[0;34m(\u001B[0m\u001B[0mself\u001B[0m\u001B[0;34m.\u001B[0m\u001B[0m_backend\u001B[0m\u001B[0;34m,\u001B[0m \u001B[0;34m'supports_timeout'\u001B[0m\u001B[0;34m,\u001B[0m \u001B[0;32mFalse\u001B[0m\u001B[0;34m)\u001B[0m\u001B[0;34m:\u001B[0m\u001B[0;34m\u001B[0m\u001B[0;34m\u001B[0m\u001B[0m\n\u001B[0;32m--> 975\u001B[0;31m                     \u001B[0mself\u001B[0m\u001B[0;34m.\u001B[0m\u001B[0m_output\u001B[0m\u001B[0;34m.\u001B[0m\u001B[0mextend\u001B[0m\u001B[0;34m(\u001B[0m\u001B[0mjob\u001B[0m\u001B[0;34m.\u001B[0m\u001B[0mget\u001B[0m\u001B[0;34m(\u001B[0m\u001B[0mtimeout\u001B[0m\u001B[0;34m=\u001B[0m\u001B[0mself\u001B[0m\u001B[0;34m.\u001B[0m\u001B[0mtimeout\u001B[0m\u001B[0;34m)\u001B[0m\u001B[0;34m)\u001B[0m\u001B[0;34m\u001B[0m\u001B[0;34m\u001B[0m\u001B[0m\n\u001B[0m\u001B[1;32m    976\u001B[0m                 \u001B[0;32melse\u001B[0m\u001B[0;34m:\u001B[0m\u001B[0;34m\u001B[0m\u001B[0;34m\u001B[0m\u001B[0m\n\u001B[1;32m    977\u001B[0m                     \u001B[0mself\u001B[0m\u001B[0;34m.\u001B[0m\u001B[0m_output\u001B[0m\u001B[0;34m.\u001B[0m\u001B[0mextend\u001B[0m\u001B[0;34m(\u001B[0m\u001B[0mjob\u001B[0m\u001B[0;34m.\u001B[0m\u001B[0mget\u001B[0m\u001B[0;34m(\u001B[0m\u001B[0;34m)\u001B[0m\u001B[0;34m)\u001B[0m\u001B[0;34m\u001B[0m\u001B[0;34m\u001B[0m\u001B[0m\n",
      "\u001B[0;32m/usr/local/lib/python3.10/dist-packages/joblib/_parallel_backends.py\u001B[0m in \u001B[0;36mwrap_future_result\u001B[0;34m(future, timeout)\u001B[0m\n\u001B[1;32m    565\u001B[0m         AsyncResults.get from multiprocessing.\"\"\"\n\u001B[1;32m    566\u001B[0m         \u001B[0;32mtry\u001B[0m\u001B[0;34m:\u001B[0m\u001B[0;34m\u001B[0m\u001B[0;34m\u001B[0m\u001B[0m\n\u001B[0;32m--> 567\u001B[0;31m             \u001B[0;32mreturn\u001B[0m \u001B[0mfuture\u001B[0m\u001B[0;34m.\u001B[0m\u001B[0mresult\u001B[0m\u001B[0;34m(\u001B[0m\u001B[0mtimeout\u001B[0m\u001B[0;34m=\u001B[0m\u001B[0mtimeout\u001B[0m\u001B[0;34m)\u001B[0m\u001B[0;34m\u001B[0m\u001B[0;34m\u001B[0m\u001B[0m\n\u001B[0m\u001B[1;32m    568\u001B[0m         \u001B[0;32mexcept\u001B[0m \u001B[0mCfTimeoutError\u001B[0m \u001B[0;32mas\u001B[0m \u001B[0me\u001B[0m\u001B[0;34m:\u001B[0m\u001B[0;34m\u001B[0m\u001B[0;34m\u001B[0m\u001B[0m\n\u001B[1;32m    569\u001B[0m             \u001B[0;32mraise\u001B[0m \u001B[0mTimeoutError\u001B[0m \u001B[0;32mfrom\u001B[0m \u001B[0me\u001B[0m\u001B[0;34m\u001B[0m\u001B[0;34m\u001B[0m\u001B[0m\n",
      "\u001B[0;32m/usr/lib/python3.10/concurrent/futures/_base.py\u001B[0m in \u001B[0;36mresult\u001B[0;34m(self, timeout)\u001B[0m\n\u001B[1;32m    451\u001B[0m                     \u001B[0;32mreturn\u001B[0m \u001B[0mself\u001B[0m\u001B[0;34m.\u001B[0m\u001B[0m__get_result\u001B[0m\u001B[0;34m(\u001B[0m\u001B[0;34m)\u001B[0m\u001B[0;34m\u001B[0m\u001B[0;34m\u001B[0m\u001B[0m\n\u001B[1;32m    452\u001B[0m \u001B[0;34m\u001B[0m\u001B[0m\n\u001B[0;32m--> 453\u001B[0;31m                 \u001B[0mself\u001B[0m\u001B[0;34m.\u001B[0m\u001B[0m_condition\u001B[0m\u001B[0;34m.\u001B[0m\u001B[0mwait\u001B[0m\u001B[0;34m(\u001B[0m\u001B[0mtimeout\u001B[0m\u001B[0;34m)\u001B[0m\u001B[0;34m\u001B[0m\u001B[0;34m\u001B[0m\u001B[0m\n\u001B[0m\u001B[1;32m    454\u001B[0m \u001B[0;34m\u001B[0m\u001B[0m\n\u001B[1;32m    455\u001B[0m                 \u001B[0;32mif\u001B[0m \u001B[0mself\u001B[0m\u001B[0;34m.\u001B[0m\u001B[0m_state\u001B[0m \u001B[0;32min\u001B[0m \u001B[0;34m[\u001B[0m\u001B[0mCANCELLED\u001B[0m\u001B[0;34m,\u001B[0m \u001B[0mCANCELLED_AND_NOTIFIED\u001B[0m\u001B[0;34m]\u001B[0m\u001B[0;34m:\u001B[0m\u001B[0;34m\u001B[0m\u001B[0;34m\u001B[0m\u001B[0m\n",
      "\u001B[0;32m/usr/lib/python3.10/threading.py\u001B[0m in \u001B[0;36mwait\u001B[0;34m(self, timeout)\u001B[0m\n\u001B[1;32m    318\u001B[0m         \u001B[0;32mtry\u001B[0m\u001B[0;34m:\u001B[0m    \u001B[0;31m# restore state no matter what (e.g., KeyboardInterrupt)\u001B[0m\u001B[0;34m\u001B[0m\u001B[0;34m\u001B[0m\u001B[0m\n\u001B[1;32m    319\u001B[0m             \u001B[0;32mif\u001B[0m \u001B[0mtimeout\u001B[0m \u001B[0;32mis\u001B[0m \u001B[0;32mNone\u001B[0m\u001B[0;34m:\u001B[0m\u001B[0;34m\u001B[0m\u001B[0;34m\u001B[0m\u001B[0m\n\u001B[0;32m--> 320\u001B[0;31m                 \u001B[0mwaiter\u001B[0m\u001B[0;34m.\u001B[0m\u001B[0macquire\u001B[0m\u001B[0;34m(\u001B[0m\u001B[0;34m)\u001B[0m\u001B[0;34m\u001B[0m\u001B[0;34m\u001B[0m\u001B[0m\n\u001B[0m\u001B[1;32m    321\u001B[0m                 \u001B[0mgotit\u001B[0m \u001B[0;34m=\u001B[0m \u001B[0;32mTrue\u001B[0m\u001B[0;34m\u001B[0m\u001B[0;34m\u001B[0m\u001B[0m\n\u001B[1;32m    322\u001B[0m             \u001B[0;32melse\u001B[0m\u001B[0;34m:\u001B[0m\u001B[0;34m\u001B[0m\u001B[0;34m\u001B[0m\u001B[0m\n",
      "\u001B[0;31mKeyboardInterrupt\u001B[0m: "
     ]
    }
   ]
  },
  {
   "cell_type": "code",
   "source": [
    "mean_accuracy = cv_df.groupby('model_name').accuracy.mean()\n",
    "std_accuracy = cv_df.groupby('model_name').accuracy.std()\n",
    "\n",
    "acc = pd.concat([mean_accuracy, std_accuracy], axis= 1,\n",
    "          ignore_index=True)\n",
    "acc.columns = ['Mean Accuracy', 'Standard deviation']\n",
    "acc"
   ],
   "metadata": {
    "colab": {
     "base_uri": "https://localhost:8080/",
     "height": 380
    },
    "id": "mqJsl5RpYi9u",
    "outputId": "e4d02a6a-7c2c-4e0e-8364-2041a1f0bc74",
    "pycharm": {
     "name": "#%%\n"
    }
   },
   "execution_count": null,
   "outputs": [
    {
     "output_type": "error",
     "ename": "KeyError",
     "evalue": "ignored",
     "traceback": [
      "\u001B[0;31m---------------------------------------------------------------------------\u001B[0m",
      "\u001B[0;31mKeyError\u001B[0m                                  Traceback (most recent call last)",
      "\u001B[0;32m<ipython-input-69-18648a367458>\u001B[0m in \u001B[0;36m<cell line: 1>\u001B[0;34m()\u001B[0m\n\u001B[0;32m----> 1\u001B[0;31m \u001B[0mmean_accuracy\u001B[0m \u001B[0;34m=\u001B[0m \u001B[0mcv_df\u001B[0m\u001B[0;34m.\u001B[0m\u001B[0mgroupby\u001B[0m\u001B[0;34m(\u001B[0m\u001B[0;34m'model_name'\u001B[0m\u001B[0;34m)\u001B[0m\u001B[0;34m.\u001B[0m\u001B[0maccuracy\u001B[0m\u001B[0;34m.\u001B[0m\u001B[0mmean\u001B[0m\u001B[0;34m(\u001B[0m\u001B[0;34m)\u001B[0m\u001B[0;34m\u001B[0m\u001B[0;34m\u001B[0m\u001B[0m\n\u001B[0m\u001B[1;32m      2\u001B[0m \u001B[0mstd_accuracy\u001B[0m \u001B[0;34m=\u001B[0m \u001B[0mcv_df\u001B[0m\u001B[0;34m.\u001B[0m\u001B[0mgroupby\u001B[0m\u001B[0;34m(\u001B[0m\u001B[0;34m'model_name'\u001B[0m\u001B[0;34m)\u001B[0m\u001B[0;34m.\u001B[0m\u001B[0maccuracy\u001B[0m\u001B[0;34m.\u001B[0m\u001B[0mstd\u001B[0m\u001B[0;34m(\u001B[0m\u001B[0;34m)\u001B[0m\u001B[0;34m\u001B[0m\u001B[0;34m\u001B[0m\u001B[0m\n\u001B[1;32m      3\u001B[0m \u001B[0;34m\u001B[0m\u001B[0m\n\u001B[1;32m      4\u001B[0m acc = pd.concat([mean_accuracy, std_accuracy], axis= 1,\n\u001B[1;32m      5\u001B[0m           ignore_index=True)\n",
      "\u001B[0;32m/usr/local/lib/python3.10/dist-packages/pandas/core/frame.py\u001B[0m in \u001B[0;36mgroupby\u001B[0;34m(self, by, axis, level, as_index, sort, group_keys, squeeze, observed, dropna)\u001B[0m\n\u001B[1;32m   8400\u001B[0m         \u001B[0maxis\u001B[0m \u001B[0;34m=\u001B[0m \u001B[0mself\u001B[0m\u001B[0;34m.\u001B[0m\u001B[0m_get_axis_number\u001B[0m\u001B[0;34m(\u001B[0m\u001B[0maxis\u001B[0m\u001B[0;34m)\u001B[0m\u001B[0;34m\u001B[0m\u001B[0;34m\u001B[0m\u001B[0m\n\u001B[1;32m   8401\u001B[0m \u001B[0;34m\u001B[0m\u001B[0m\n\u001B[0;32m-> 8402\u001B[0;31m         return DataFrameGroupBy(\n\u001B[0m\u001B[1;32m   8403\u001B[0m             \u001B[0mobj\u001B[0m\u001B[0;34m=\u001B[0m\u001B[0mself\u001B[0m\u001B[0;34m,\u001B[0m\u001B[0;34m\u001B[0m\u001B[0;34m\u001B[0m\u001B[0m\n\u001B[1;32m   8404\u001B[0m             \u001B[0mkeys\u001B[0m\u001B[0;34m=\u001B[0m\u001B[0mby\u001B[0m\u001B[0;34m,\u001B[0m\u001B[0;34m\u001B[0m\u001B[0;34m\u001B[0m\u001B[0m\n",
      "\u001B[0;32m/usr/local/lib/python3.10/dist-packages/pandas/core/groupby/groupby.py\u001B[0m in \u001B[0;36m__init__\u001B[0;34m(self, obj, keys, axis, level, grouper, exclusions, selection, as_index, sort, group_keys, squeeze, observed, mutated, dropna)\u001B[0m\n\u001B[1;32m    963\u001B[0m             \u001B[0;32mfrom\u001B[0m \u001B[0mpandas\u001B[0m\u001B[0;34m.\u001B[0m\u001B[0mcore\u001B[0m\u001B[0;34m.\u001B[0m\u001B[0mgroupby\u001B[0m\u001B[0;34m.\u001B[0m\u001B[0mgrouper\u001B[0m \u001B[0;32mimport\u001B[0m \u001B[0mget_grouper\u001B[0m\u001B[0;34m\u001B[0m\u001B[0;34m\u001B[0m\u001B[0m\n\u001B[1;32m    964\u001B[0m \u001B[0;34m\u001B[0m\u001B[0m\n\u001B[0;32m--> 965\u001B[0;31m             grouper, exclusions, obj = get_grouper(\n\u001B[0m\u001B[1;32m    966\u001B[0m                 \u001B[0mobj\u001B[0m\u001B[0;34m,\u001B[0m\u001B[0;34m\u001B[0m\u001B[0;34m\u001B[0m\u001B[0m\n\u001B[1;32m    967\u001B[0m                 \u001B[0mkeys\u001B[0m\u001B[0;34m,\u001B[0m\u001B[0;34m\u001B[0m\u001B[0;34m\u001B[0m\u001B[0m\n",
      "\u001B[0;32m/usr/local/lib/python3.10/dist-packages/pandas/core/groupby/grouper.py\u001B[0m in \u001B[0;36mget_grouper\u001B[0;34m(obj, key, axis, level, sort, observed, mutated, validate, dropna)\u001B[0m\n\u001B[1;32m    886\u001B[0m                 \u001B[0min_axis\u001B[0m\u001B[0;34m,\u001B[0m \u001B[0mlevel\u001B[0m\u001B[0;34m,\u001B[0m \u001B[0mgpr\u001B[0m \u001B[0;34m=\u001B[0m \u001B[0;32mFalse\u001B[0m\u001B[0;34m,\u001B[0m \u001B[0mgpr\u001B[0m\u001B[0;34m,\u001B[0m \u001B[0;32mNone\u001B[0m\u001B[0;34m\u001B[0m\u001B[0;34m\u001B[0m\u001B[0m\n\u001B[1;32m    887\u001B[0m             \u001B[0;32melse\u001B[0m\u001B[0;34m:\u001B[0m\u001B[0;34m\u001B[0m\u001B[0;34m\u001B[0m\u001B[0m\n\u001B[0;32m--> 888\u001B[0;31m                 \u001B[0;32mraise\u001B[0m \u001B[0mKeyError\u001B[0m\u001B[0;34m(\u001B[0m\u001B[0mgpr\u001B[0m\u001B[0;34m)\u001B[0m\u001B[0;34m\u001B[0m\u001B[0;34m\u001B[0m\u001B[0m\n\u001B[0m\u001B[1;32m    889\u001B[0m         \u001B[0;32melif\u001B[0m \u001B[0misinstance\u001B[0m\u001B[0;34m(\u001B[0m\u001B[0mgpr\u001B[0m\u001B[0;34m,\u001B[0m \u001B[0mGrouper\u001B[0m\u001B[0;34m)\u001B[0m \u001B[0;32mand\u001B[0m \u001B[0mgpr\u001B[0m\u001B[0;34m.\u001B[0m\u001B[0mkey\u001B[0m \u001B[0;32mis\u001B[0m \u001B[0;32mnot\u001B[0m \u001B[0;32mNone\u001B[0m\u001B[0;34m:\u001B[0m\u001B[0;34m\u001B[0m\u001B[0;34m\u001B[0m\u001B[0m\n\u001B[1;32m    890\u001B[0m             \u001B[0;31m# Add key to exclusions\u001B[0m\u001B[0;34m\u001B[0m\u001B[0;34m\u001B[0m\u001B[0m\n",
      "\u001B[0;31mKeyError\u001B[0m: 'model_name'"
     ]
    }
   ]
  },
  {
   "cell_type": "code",
   "source": [
    "plt.figure(figsize=(8,5))\n",
    "sns.boxplot(x='model_name', y='accuracy',\n",
    "            data=cv_df,\n",
    "            color='lightblue',\n",
    "            showmeans=True)\n",
    "plt.title(\"MEAN ACCURACY (cv = 5)\\n\", size=20);"
   ],
   "metadata": {
    "id": "9So9UW4SWVB-",
    "pycharm": {
     "name": "#%%\n"
    }
   },
   "execution_count": null,
   "outputs": []
  },
  {
   "cell_type": "code",
   "source": [],
   "metadata": {
    "id": "gs0wN0Ageqil",
    "pycharm": {
     "name": "#%%\n"
    }
   },
   "execution_count": null,
   "outputs": []
  },
  {
   "cell_type": "code",
   "source": [
    "def objective(trial):\n",
    "    global X_train_tfidf, y_train, X_valid_tfidf, y_valid\n",
    "\n",
    "    c = trial.suggest_float(\"svc_c\", 1e-4, 1e3, log=True)\n",
    "\n",
    "    clf = LinearSVC(C=c, random_state=42, class_weight='balanced', max_iter=100000)\n",
    "    clf.fit(X_train_tfidf, y_train)\n",
    "\n",
    "    return metrics.f1_score(clf.predict(X_valid_tfidf), y_valid, average='macro')\n",
    "\n",
    "\n",
    "study = optuna.create_study(direction=\"maximize\")\n",
    "study.optimize(objective, n_trials=50)\n",
    "print(study.best_trial)"
   ],
   "metadata": {
    "colab": {
     "base_uri": "https://localhost:8080/"
    },
    "id": "5cuudzXherkm",
    "outputId": "69b9a3bc-8b48-4819-b363-5493116e8152",
    "pycharm": {
     "name": "#%%\n"
    }
   },
   "execution_count": null,
   "outputs": [
    {
     "output_type": "stream",
     "name": "stderr",
     "text": [
      "\u001B[32m[I 2023-05-18 07:26:14,889]\u001B[0m A new study created in memory with name: no-name-a0c17aaf-f00d-4b04-82a0-dffdb520bb15\u001B[0m\n",
      "\u001B[32m[I 2023-05-18 07:26:21,456]\u001B[0m Trial 0 finished with value: 0.9271248718145579 and parameters: {'svc_c': 1.203507446294642}. Best is trial 0 with value: 0.9271248718145579.\u001B[0m\n",
      "\u001B[32m[I 2023-05-18 07:26:24,053]\u001B[0m Trial 1 finished with value: 0.8167447778107979 and parameters: {'svc_c': 0.0002832181697743248}. Best is trial 0 with value: 0.9271248718145579.\u001B[0m\n",
      "\u001B[32m[I 2023-05-18 07:54:48,202]\u001B[0m Trial 2 finished with value: 0.9045115612521362 and parameters: {'svc_c': 860.817525252421}. Best is trial 0 with value: 0.9271248718145579.\u001B[0m\n",
      "\u001B[32m[I 2023-05-18 07:54:50,512]\u001B[0m Trial 3 finished with value: 0.8236718191165107 and parameters: {'svc_c': 0.000373788168764336}. Best is trial 0 with value: 0.9271248718145579.\u001B[0m\n",
      "\u001B[32m[I 2023-05-18 07:54:52,702]\u001B[0m Trial 4 finished with value: 0.8074862507507398 and parameters: {'svc_c': 0.00016528732042768145}. Best is trial 0 with value: 0.9271248718145579.\u001B[0m\n",
      "\u001B[32m[I 2023-05-18 08:32:35,320]\u001B[0m Trial 5 finished with value: 0.9045111010962137 and parameters: {'svc_c': 919.2884363732476}. Best is trial 0 with value: 0.9271248718145579.\u001B[0m\n",
      "\u001B[32m[I 2023-05-18 09:04:38,107]\u001B[0m Trial 6 finished with value: 0.9050126642174456 and parameters: {'svc_c': 778.8911469426231}. Best is trial 0 with value: 0.9271248718145579.\u001B[0m\n",
      "\u001B[32m[I 2023-05-18 09:04:41,163]\u001B[0m Trial 7 finished with value: 0.842755334631775 and parameters: {'svc_c': 0.000724315276713393}. Best is trial 0 with value: 0.9271248718145579.\u001B[0m\n",
      "\u001B[32m[I 2023-05-18 09:05:29,225]\u001B[0m Trial 8 finished with value: 0.9154707385121351 and parameters: {'svc_c': 18.570320082376877}. Best is trial 0 with value: 0.9271248718145579.\u001B[0m\n",
      "\u001B[32m[I 2023-05-18 09:05:37,049]\u001B[0m Trial 9 finished with value: 0.9246526861289397 and parameters: {'svc_c': 2.079691409809466}. Best is trial 0 with value: 0.9271248718145579.\u001B[0m\n",
      "\u001B[32m[I 2023-05-18 09:05:40,455]\u001B[0m Trial 10 finished with value: 0.9168222123320124 and parameters: {'svc_c': 0.039188622025913174}. Best is trial 0 with value: 0.9271248718145579.\u001B[0m\n",
      "\u001B[32m[I 2023-05-18 09:05:45,322]\u001B[0m Trial 11 finished with value: 0.9277038326450096 and parameters: {'svc_c': 0.8902306372822458}. Best is trial 11 with value: 0.9277038326450096.\u001B[0m\n",
      "\u001B[32m[I 2023-05-18 09:05:49,248]\u001B[0m Trial 12 finished with value: 0.9288541153423762 and parameters: {'svc_c': 0.35463621999348527}. Best is trial 12 with value: 0.9288541153423762.\u001B[0m\n",
      "\u001B[32m[I 2023-05-18 09:05:53,436]\u001B[0m Trial 13 finished with value: 0.9221046997998574 and parameters: {'svc_c': 0.08606106261673999}. Best is trial 12 with value: 0.9288541153423762.\u001B[0m\n",
      "\u001B[32m[I 2023-05-18 09:05:57,708]\u001B[0m Trial 14 finished with value: 0.9095991261028149 and parameters: {'svc_c': 0.01856041446499421}. Best is trial 12 with value: 0.9288541153423762.\u001B[0m\n",
      "\u001B[32m[I 2023-05-18 09:06:01,908]\u001B[0m Trial 15 finished with value: 0.9292746639104115 and parameters: {'svc_c': 0.46943134896427363}. Best is trial 15 with value: 0.9292746639104115.\u001B[0m\n",
      "\u001B[32m[I 2023-05-18 09:06:17,976]\u001B[0m Trial 16 finished with value: 0.920055905776563 and parameters: {'svc_c': 5.861942466433337}. Best is trial 15 with value: 0.9292746639104115.\u001B[0m\n",
      "\u001B[32m[I 2023-05-18 09:06:20,846]\u001B[0m Trial 17 finished with value: 0.9269886976907817 and parameters: {'svc_c': 0.2044378715302646}. Best is trial 15 with value: 0.9292746639104115.\u001B[0m\n",
      "\u001B[32m[I 2023-05-18 09:06:24,322]\u001B[0m Trial 18 finished with value: 0.8910861095472576 and parameters: {'svc_c': 0.005563112842277592}. Best is trial 15 with value: 0.9292746639104115.\u001B[0m\n",
      "\u001B[32m[I 2023-05-18 09:06:27,949]\u001B[0m Trial 19 finished with value: 0.9274932082150724 and parameters: {'svc_c': 0.2463321614620478}. Best is trial 15 with value: 0.9292746639104115.\u001B[0m\n",
      "\u001B[32m[I 2023-05-18 09:06:31,890]\u001B[0m Trial 20 finished with value: 0.8880743365681076 and parameters: {'svc_c': 0.0047362569265448785}. Best is trial 15 with value: 0.9292746639104115.\u001B[0m\n",
      "\u001B[32m[I 2023-05-18 09:06:36,095]\u001B[0m Trial 21 finished with value: 0.9294492547457092 and parameters: {'svc_c': 0.5571937097177749}. Best is trial 21 with value: 0.9294492547457092.\u001B[0m\n",
      "\u001B[32m[I 2023-05-18 09:06:39,639]\u001B[0m Trial 22 finished with value: 0.9291924278754521 and parameters: {'svc_c': 0.3775910457463346}. Best is trial 21 with value: 0.9294492547457092.\u001B[0m\n",
      "\u001B[32m[I 2023-05-18 09:06:42,824]\u001B[0m Trial 23 finished with value: 0.9211349428462212 and parameters: {'svc_c': 0.07427675042242766}. Best is trial 21 with value: 0.9294492547457092.\u001B[0m\n",
      "\u001B[32m[I 2023-05-18 09:06:55,760]\u001B[0m Trial 24 finished with value: 0.9216742428961187 and parameters: {'svc_c': 4.108997219479713}. Best is trial 21 with value: 0.9294492547457092.\u001B[0m\n",
      "\u001B[32m[I 2023-05-18 09:07:00,126]\u001B[0m Trial 25 finished with value: 0.9287829222756369 and parameters: {'svc_c': 0.6169853480524576}. Best is trial 21 with value: 0.9294492547457092.\u001B[0m\n",
      "\u001B[32m[I 2023-05-18 09:07:52,107]\u001B[0m Trial 26 finished with value: 0.9155521601548815 and parameters: {'svc_c': 18.865824392722168}. Best is trial 21 with value: 0.9294492547457092.\u001B[0m\n",
      "\u001B[32m[I 2023-05-18 09:07:56,609]\u001B[0m Trial 27 finished with value: 0.9257307017730764 and parameters: {'svc_c': 0.17058060579442164}. Best is trial 21 with value: 0.9294492547457092.\u001B[0m\n",
      "\u001B[32m[I 2023-05-18 09:08:02,854]\u001B[0m Trial 28 finished with value: 0.9289090341605846 and parameters: {'svc_c': 0.6088569794358191}. Best is trial 21 with value: 0.9294492547457092.\u001B[0m\n",
      "\u001B[32m[I 2023-05-18 09:08:14,892]\u001B[0m Trial 29 finished with value: 0.9236188029947222 and parameters: {'svc_c': 2.661424734359385}. Best is trial 21 with value: 0.9294492547457092.\u001B[0m\n",
      "\u001B[32m[I 2023-05-18 09:08:22,122]\u001B[0m Trial 30 finished with value: 0.9279529819477044 and parameters: {'svc_c': 1.0264711309287795}. Best is trial 21 with value: 0.9294492547457092.\u001B[0m\n",
      "\u001B[32m[I 2023-05-18 09:08:27,418]\u001B[0m Trial 31 finished with value: 0.9294035677705251 and parameters: {'svc_c': 0.5337309277837532}. Best is trial 21 with value: 0.9294492547457092.\u001B[0m\n",
      "\u001B[32m[I 2023-05-18 09:08:32,305]\u001B[0m Trial 32 finished with value: 0.928724218020049 and parameters: {'svc_c': 0.33924193368009203}. Best is trial 21 with value: 0.9294492547457092.\u001B[0m\n",
      "\u001B[32m[I 2023-05-18 09:08:39,385]\u001B[0m Trial 33 finished with value: 0.9279129234624746 and parameters: {'svc_c': 1.0394060865523673}. Best is trial 21 with value: 0.9294492547457092.\u001B[0m\n",
      "\u001B[32m[I 2023-05-18 09:08:43,734]\u001B[0m Trial 34 finished with value: 0.9226120226771017 and parameters: {'svc_c': 0.0963123989936693}. Best is trial 21 with value: 0.9294492547457092.\u001B[0m\n",
      "\u001B[32m[I 2023-05-18 09:08:47,495]\u001B[0m Trial 35 finished with value: 0.911292201018544 and parameters: {'svc_c': 0.021435310964938666}. Best is trial 21 with value: 0.9294492547457092.\u001B[0m\n",
      "\u001B[32m[I 2023-05-18 09:08:52,092]\u001B[0m Trial 36 finished with value: 0.9292725914260255 and parameters: {'svc_c': 0.39257801880683013}. Best is trial 21 with value: 0.9294492547457092.\u001B[0m\n",
      "\u001B[32m[I 2023-05-18 09:09:01,634]\u001B[0m Trial 37 finished with value: 0.9250224982134592 and parameters: {'svc_c': 1.92984799912325}. Best is trial 21 with value: 0.9294492547457092.\u001B[0m\n",
      "\u001B[32m[I 2023-05-18 09:09:05,666]\u001B[0m Trial 38 finished with value: 0.9251848680818661 and parameters: {'svc_c': 0.1428856350034481}. Best is trial 21 with value: 0.9294492547457092.\u001B[0m\n",
      "\u001B[32m[I 2023-05-18 09:09:29,948]\u001B[0m Trial 39 finished with value: 0.9186457554179375 and parameters: {'svc_c': 8.338470564169267}. Best is trial 21 with value: 0.9294492547457092.\u001B[0m\n",
      "\u001B[32m[I 2023-05-18 09:09:38,357]\u001B[0m Trial 40 finished with value: 0.9250634080481834 and parameters: {'svc_c': 1.8582780487715203}. Best is trial 21 with value: 0.9294492547457092.\u001B[0m\n",
      "\u001B[32m[I 2023-05-18 09:09:42,472]\u001B[0m Trial 41 finished with value: 0.9293154697127366 and parameters: {'svc_c': 0.41363964966370775}. Best is trial 21 with value: 0.9294492547457092.\u001B[0m\n",
      "\u001B[32m[I 2023-05-18 09:09:46,838]\u001B[0m Trial 42 finished with value: 0.9294492547457092 and parameters: {'svc_c': 0.5569719203677671}. Best is trial 21 with value: 0.9294492547457092.\u001B[0m\n",
      "\u001B[32m[I 2023-05-18 09:09:51,966]\u001B[0m Trial 43 finished with value: 0.9287045585389998 and parameters: {'svc_c': 0.721851550373044}. Best is trial 21 with value: 0.9294492547457092.\u001B[0m\n",
      "\u001B[32m[I 2023-05-18 09:09:55,232]\u001B[0m Trial 44 finished with value: 0.925688352363485 and parameters: {'svc_c': 0.1698303126917773}. Best is trial 21 with value: 0.9294492547457092.\u001B[0m\n",
      "\u001B[32m[I 2023-05-18 09:10:01,553]\u001B[0m Trial 45 finished with value: 0.9273740521959055 and parameters: {'svc_c': 1.1592517095159751}. Best is trial 21 with value: 0.9294492547457092.\u001B[0m\n",
      "\u001B[32m[I 2023-05-18 09:10:04,466]\u001B[0m Trial 46 finished with value: 0.919733978027316 and parameters: {'svc_c': 0.053569453722952146}. Best is trial 21 with value: 0.9294492547457092.\u001B[0m\n",
      "\u001B[32m[I 2023-05-18 09:10:14,333]\u001B[0m Trial 47 finished with value: 0.9234111226677604 and parameters: {'svc_c': 2.805499063069594}. Best is trial 21 with value: 0.9294492547457092.\u001B[0m\n",
      "\u001B[32m[I 2023-05-18 09:10:18,624]\u001B[0m Trial 48 finished with value: 0.9293591919260815 and parameters: {'svc_c': 0.42893592135285197}. Best is trial 21 with value: 0.9294492547457092.\u001B[0m\n",
      "\u001B[32m[I 2023-05-18 09:10:22,273]\u001B[0m Trial 49 finished with value: 0.9232547597066925 and parameters: {'svc_c': 0.10749151843753789}. Best is trial 21 with value: 0.9294492547457092.\u001B[0m\n"
     ]
    },
    {
     "output_type": "stream",
     "name": "stdout",
     "text": [
      "FrozenTrial(number=21, state=TrialState.COMPLETE, values=[0.9294492547457092], datetime_start=datetime.datetime(2023, 5, 18, 9, 6, 31, 892317), datetime_complete=datetime.datetime(2023, 5, 18, 9, 6, 36, 95032), params={'svc_c': 0.5571937097177749}, user_attrs={}, system_attrs={}, intermediate_values={}, distributions={'svc_c': FloatDistribution(high=1000.0, log=True, low=0.0001, step=None)}, trial_id=21, value=None)\n"
     ]
    }
   ]
  },
  {
   "cell_type": "code",
   "source": [
    "def objective(trial):\n",
    "    global X_train_tfidf, y_train, X_valid_tfidf, y_valid\n",
    "\n",
    "    c = trial.suggest_float(\"lr_c\", 1e-2, 1e3, log=True)\n",
    "\n",
    "    clf = LogisticRegression(C=c, random_state=42, class_weight='balanced', max_iter=100000)\n",
    "    clf.fit(X_train_tfidf, y_train)\n",
    "\n",
    "    return metrics.f1_score(clf.predict(X_valid_tfidf), y_valid, average='macro')\n",
    "\n",
    "\n",
    "study = optuna.create_study(direction=\"maximize\")\n",
    "study.optimize(objective, n_trials=25)\n",
    "print(study.best_trial)"
   ],
   "metadata": {
    "colab": {
     "base_uri": "https://localhost:8080/"
    },
    "id": "lb2qFWufhnIi",
    "outputId": "91dce6f4-d449-43a4-fb11-498a5bf1a775",
    "pycharm": {
     "name": "#%%\n"
    }
   },
   "execution_count": null,
   "outputs": [
    {
     "output_type": "stream",
     "name": "stderr",
     "text": [
      "\u001B[32m[I 2023-05-17 07:13:58,007]\u001B[0m A new study created in memory with name: no-name-2c46dc12-d77f-4a85-bf4a-e57edccfe4f7\u001B[0m\n",
      "\u001B[32m[I 2023-05-17 07:15:24,285]\u001B[0m Trial 0 finished with value: 0.9209939781622242 and parameters: {'svc_c': 0.6660567207710567}. Best is trial 0 with value: 0.9209939781622242.\u001B[0m\n",
      "\u001B[32m[I 2023-05-17 07:16:31,216]\u001B[0m Trial 1 finished with value: 0.9187527474578103 and parameters: {'svc_c': 0.48958932972133784}. Best is trial 0 with value: 0.9209939781622242.\u001B[0m\n",
      "\u001B[32m[I 2023-05-17 07:20:30,727]\u001B[0m Trial 2 finished with value: 0.9225991301388836 and parameters: {'svc_c': 55.15619114575657}. Best is trial 2 with value: 0.9225991301388836.\u001B[0m\n",
      "\u001B[32m[I 2023-05-17 07:24:55,684]\u001B[0m Trial 3 finished with value: 0.9225645974056512 and parameters: {'svc_c': 68.78821035411143}. Best is trial 2 with value: 0.9225991301388836.\u001B[0m\n",
      "\u001B[32m[I 2023-05-17 07:26:32,356]\u001B[0m Trial 4 finished with value: 0.9245831073884402 and parameters: {'svc_c': 1.6694460702842122}. Best is trial 4 with value: 0.9245831073884402.\u001B[0m\n",
      "\u001B[32m[I 2023-05-17 07:30:03,588]\u001B[0m Trial 5 finished with value: 0.9233046070259094 and parameters: {'svc_c': 34.5719857947537}. Best is trial 4 with value: 0.9245831073884402.\u001B[0m\n",
      "\u001B[32m[I 2023-05-17 07:33:01,525]\u001B[0m Trial 6 finished with value: 0.9240344174856931 and parameters: {'svc_c': 15.477092061742209}. Best is trial 4 with value: 0.9245831073884402.\u001B[0m\n",
      "\u001B[32m[I 2023-05-17 07:37:18,138]\u001B[0m Trial 7 finished with value: 0.9229257606919131 and parameters: {'svc_c': 46.67312785586554}. Best is trial 4 with value: 0.9245831073884402.\u001B[0m\n",
      "\u001B[32m[I 2023-05-17 07:41:36,812]\u001B[0m Trial 8 finished with value: 0.9225645974056512 and parameters: {'svc_c': 69.19406420044601}. Best is trial 4 with value: 0.9245831073884402.\u001B[0m\n",
      "\u001B[32m[I 2023-05-17 07:44:54,916]\u001B[0m Trial 9 finished with value: 0.9241617006599044 and parameters: {'svc_c': 16.33334409561178}. Best is trial 4 with value: 0.9245831073884402.\u001B[0m\n",
      "\u001B[32m[I 2023-05-17 07:46:40,187]\u001B[0m Trial 10 finished with value: 0.9253452940489113 and parameters: {'svc_c': 1.9104321300583953}. Best is trial 10 with value: 0.9253452940489113.\u001B[0m\n",
      "\u001B[32m[I 2023-05-17 07:48:37,316]\u001B[0m Trial 11 finished with value: 0.9261123140127177 and parameters: {'svc_c': 2.393264356643034}. Best is trial 11 with value: 0.9261123140127177.\u001B[0m\n",
      "\u001B[32m[I 2023-05-17 07:49:17,852]\u001B[0m Trial 12 finished with value: 0.9075320993777488 and parameters: {'svc_c': 0.12611558068782716}. Best is trial 11 with value: 0.9261123140127177.\u001B[0m\n",
      "\u001B[32m[I 2023-05-17 07:51:31,794]\u001B[0m Trial 13 finished with value: 0.9257480180943951 and parameters: {'svc_c': 4.483897040721316}. Best is trial 11 with value: 0.9261123140127177.\u001B[0m\n",
      "\u001B[32m[I 2023-05-17 07:54:09,806]\u001B[0m Trial 14 finished with value: 0.9256194113964946 and parameters: {'svc_c': 6.012813419216138}. Best is trial 11 with value: 0.9261123140127177.\u001B[0m\n",
      "\u001B[32m[I 2023-05-17 07:56:59,703]\u001B[0m Trial 15 finished with value: 0.9256223500458267 and parameters: {'svc_c': 5.66273827616199}. Best is trial 11 with value: 0.9261123140127177.\u001B[0m\n",
      "\u001B[32m[I 2023-05-17 07:59:21,094]\u001B[0m Trial 16 finished with value: 0.9262563956686569 and parameters: {'svc_c': 3.3304495644794057}. Best is trial 16 with value: 0.9262563956686569.\u001B[0m\n",
      "\u001B[32m[I 2023-05-17 08:01:23,129]\u001B[0m Trial 17 finished with value: 0.9259869645295241 and parameters: {'svc_c': 2.2954930323578}. Best is trial 16 with value: 0.9262563956686569.\u001B[0m\n",
      "\u001B[32m[I 2023-05-17 08:04:11,060]\u001B[0m Trial 18 finished with value: 0.9247422738528294 and parameters: {'svc_c': 9.493065451827928}. Best is trial 16 with value: 0.9262563956686569.\u001B[0m\n",
      "\u001B[32m[I 2023-05-17 08:06:16,401]\u001B[0m Trial 19 finished with value: 0.9263329548714544 and parameters: {'svc_c': 2.992134756130634}. Best is trial 19 with value: 0.9263329548714544.\u001B[0m\n",
      "\u001B[32m[I 2023-05-17 08:07:32,464]\u001B[0m Trial 20 finished with value: 0.9215021462107853 and parameters: {'svc_c': 0.7519149306852335}. Best is trial 19 with value: 0.9263329548714544.\u001B[0m\n",
      "\u001B[32m[I 2023-05-17 08:09:50,147]\u001B[0m Trial 21 finished with value: 0.9264213157050001 and parameters: {'svc_c': 3.18508127085381}. Best is trial 21 with value: 0.9264213157050001.\u001B[0m\n",
      "\u001B[32m[I 2023-05-17 08:11:27,769]\u001B[0m Trial 22 finished with value: 0.9239916066507777 and parameters: {'svc_c': 1.3999070677088608}. Best is trial 21 with value: 0.9264213157050001.\u001B[0m\n",
      "\u001B[32m[I 2023-05-17 08:13:34,029]\u001B[0m Trial 23 finished with value: 0.9262126724317986 and parameters: {'svc_c': 3.486373527271511}. Best is trial 21 with value: 0.9264213157050001.\u001B[0m\n",
      "\u001B[32m[I 2023-05-17 08:15:48,885]\u001B[0m Trial 24 finished with value: 0.9261240356879687 and parameters: {'svc_c': 3.9557731812290213}. Best is trial 21 with value: 0.9264213157050001.\u001B[0m\n"
     ]
    },
    {
     "output_type": "stream",
     "name": "stdout",
     "text": [
      "FrozenTrial(number=21, state=TrialState.COMPLETE, values=[0.9264213157050001], datetime_start=datetime.datetime(2023, 5, 17, 8, 7, 32, 466754), datetime_complete=datetime.datetime(2023, 5, 17, 8, 9, 50, 147217), params={'svc_c': 3.18508127085381}, user_attrs={}, system_attrs={}, intermediate_values={}, distributions={'svc_c': FloatDistribution(high=100.0, log=True, low=0.1, step=None)}, trial_id=21, value=None)\n"
     ]
    }
   ]
  },
  {
   "cell_type": "code",
   "source": [],
   "metadata": {
    "id": "PIRAndaIe7oX",
    "pycharm": {
     "name": "#%%\n"
    }
   },
   "execution_count": null,
   "outputs": []
  },
  {
   "cell_type": "code",
   "source": [
    "tfidf = TfidfVectorizer(sublinear_tf=True, min_df=5,\n",
    "                        ngram_range=(1, 4),\n",
    "                        stop_words='english',\n",
    "                        tokenizer=word_tokenize)\n",
    "train_tfidf = tfidf.fit_transform(train.content)\n",
    "test_tfidf = tfidf.transform(test.content)"
   ],
   "metadata": {
    "id": "YYUEf68YYVwY",
    "pycharm": {
     "name": "#%%\n"
    }
   },
   "execution_count": null,
   "outputs": []
  },
  {
   "cell_type": "code",
   "source": [
    "clf = LinearSVC(C=0.5, random_state=42, class_weight='balanced', max_iter=100000).fit(train_tfidf, labels)"
   ],
   "metadata": {
    "id": "70I6SWxHernj",
    "pycharm": {
     "name": "#%%\n"
    }
   },
   "execution_count": null,
   "outputs": []
  },
  {
   "cell_type": "code",
   "source": [
    "y_pred = clf.predict(test_tfidf)"
   ],
   "metadata": {
    "id": "-VM8mcKjhGWQ",
    "pycharm": {
     "name": "#%%\n"
    }
   },
   "execution_count": null,
   "outputs": []
  },
  {
   "cell_type": "code",
   "source": [
    "# ngram = (1,4)\n",
    "accuracy = metrics.accuracy_score(test_labels, y_pred)\n",
    "f1_score_micro = metrics.f1_score(test_labels, y_pred, average='micro')\n",
    "f1_score_macro = metrics.f1_score(test_labels, y_pred, average='macro')\n",
    "print(f\"Accuracy Score = {accuracy}\")\n",
    "print(f\"F1 Score (Micro) = {f1_score_micro}\")\n",
    "print(f\"F1 Score (Macro) = {f1_score_macro}\")"
   ],
   "metadata": {
    "colab": {
     "base_uri": "https://localhost:8080/"
    },
    "id": "8UgXKMChwJ8m",
    "outputId": "f8cf162c-c975-4054-c242-c0df90e7d1ab",
    "pycharm": {
     "name": "#%%\n"
    }
   },
   "execution_count": null,
   "outputs": [
    {
     "output_type": "stream",
     "name": "stdout",
     "text": [
      "Accuracy Score = 0.9331578947368421\n",
      "F1 Score (Micro) = 0.9331578947368421\n",
      "F1 Score (Macro) = 0.9330054631774833\n"
     ]
    }
   ]
  },
  {
   "cell_type": "code",
   "source": [
    "# 0.6\n",
    "accuracy = metrics.accuracy_score(test_labels, y_pred)\n",
    "f1_score_micro = metrics.f1_score(test_labels, y_pred, average='micro')\n",
    "f1_score_macro = metrics.f1_score(test_labels, y_pred, average='macro')\n",
    "print(f\"Accuracy Score = {accuracy}\")\n",
    "print(f\"F1 Score (Micro) = {f1_score_micro}\")\n",
    "print(f\"F1 Score (Macro) = {f1_score_macro}\")"
   ],
   "metadata": {
    "colab": {
     "base_uri": "https://localhost:8080/"
    },
    "id": "ldXsNgiPSOjH",
    "outputId": "ea44c7db-5a3d-4d9e-8d7b-2603d30d30af",
    "pycharm": {
     "name": "#%%\n"
    }
   },
   "execution_count": null,
   "outputs": [
    {
     "output_type": "stream",
     "name": "stdout",
     "text": [
      "Accuracy Score = 0.9328947368421052\n",
      "F1 Score (Micro) = 0.9328947368421052\n",
      "F1 Score (Macro) = 0.9327349321777229\n"
     ]
    }
   ]
  },
  {
   "cell_type": "code",
   "source": [
    "conf_mat = metrics.confusion_matrix(test_labels, y_pred)\n",
    "fig, ax = plt.subplots(figsize=(8,8))\n",
    "sns.heatmap(conf_mat, annot=True, cmap=\"Blues\", fmt='d')\n",
    "plt.ylabel('Actual')\n",
    "plt.xlabel('Predicted')\n",
    "plt.title(\"CONFUSION MATRIX TF_IDF\\n\", size=16)"
   ],
   "metadata": {
    "colab": {
     "base_uri": "https://localhost:8080/"
    },
    "id": "Gap3EhiDSQMu",
    "outputId": "2f6cf475-ccd5-4d45-8542-f2b235af1c2a",
    "pycharm": {
     "name": "#%%\n"
    }
   },
   "execution_count": null,
   "outputs": [
    {
     "output_type": "execute_result",
     "data": {
      "text/plain": [
       "Text(0.5, 1.0, 'CONFUSION MATRIX TF_IDF\\n')"
      ]
     },
     "metadata": {},
     "execution_count": 34
    },
    {
     "output_type": "display_data",
     "data": {
      "text/plain": [
       "<Figure size 800x800 with 2 Axes>"
      ],
      "image/png": "[encoded data removed]"
     },
     "metadata": {}
    }
   ]
  },
  {
   "cell_type": "code",
   "source": [
    "# ngram = (1,4)\n",
    "accuracy = metrics.accuracy_score(test_labels, y_pred)\n",
    "f1_score_micro = metrics.f1_score(test_labels, y_pred, average='micro')\n",
    "f1_score_macro = metrics.f1_score(test_labels, y_pred, average='macro')\n",
    "print(f\"Accuracy Score = {accuracy}\")\n",
    "print(f\"F1 Score (Micro) = {f1_score_micro}\")\n",
    "print(f\"F1 Score (Macro) = {f1_score_macro}\")"
   ],
   "metadata": {
    "colab": {
     "base_uri": "https://localhost:8080/"
    },
    "id": "ENvp9x9rKVFy",
    "outputId": "1ac78cab-9558-48f9-ef42-a31f3cddb8df",
    "pycharm": {
     "name": "#%%\n"
    }
   },
   "execution_count": null,
   "outputs": [
    {
     "output_type": "stream",
     "name": "stdout",
     "text": [
      "Accuracy Score = 0.9331578947368421\n",
      "F1 Score (Micro) = 0.9331578947368421\n",
      "F1 Score (Macro) = 0.9330054631774833\n"
     ]
    }
   ]
  },
  {
   "cell_type": "code",
   "source": [
    "conf_mat = metrics.confusion_matrix(test_labels, y_pred)\n",
    "fig, ax = plt.subplots(figsize=(8,8))\n",
    "sns.heatmap(conf_mat, annot=True, cmap=\"Blues\", fmt='d')\n",
    "plt.ylabel('Actual')\n",
    "plt.xlabel('Predicted')\n",
    "plt.title(\"CONFUSION MATRIX TF_IDF\\n\", size=16)"
   ],
   "metadata": {
    "colab": {
     "base_uri": "https://localhost:8080/",
     "height": 761
    },
    "id": "g1VVf7BjKdqf",
    "outputId": "d846f458-1d80-4b3e-be5d-bc1439fe5153",
    "pycharm": {
     "name": "#%%\n"
    }
   },
   "execution_count": null,
   "outputs": [
    {
     "output_type": "execute_result",
     "data": {
      "text/plain": [
       "Text(0.5, 1.0, 'CONFUSION MATRIX TF_IDF\\n')"
      ]
     },
     "metadata": {},
     "execution_count": 29
    },
    {
     "output_type": "display_data",
     "data": {
      "text/plain": [
       "<Figure size 800x800 with 2 Axes>"
      ],
      "image/png": "[encoded data removed]"
     },
     "metadata": {}
    }
   ]
  },
  {
   "cell_type": "code",
   "source": [
    "# c=0.56\n",
    "accuracy = metrics.accuracy_score(test_labels, y_pred)\n",
    "f1_score_micro = metrics.f1_score(test_labels, y_pred, average='micro')\n",
    "f1_score_macro = metrics.f1_score(test_labels, y_pred, average='macro')\n",
    "print(f\"Accuracy Score = {accuracy}\")\n",
    "print(f\"F1 Score (Micro) = {f1_score_micro}\")\n",
    "print(f\"F1 Score (Macro) = {f1_score_macro}\")"
   ],
   "metadata": {
    "colab": {
     "base_uri": "https://localhost:8080/"
    },
    "id": "SCq85ECwKJ2S",
    "outputId": "979b4b82-50ce-4248-f8be-ba6a48d6b485",
    "pycharm": {
     "name": "#%%\n"
    }
   },
   "execution_count": null,
   "outputs": [
    {
     "output_type": "stream",
     "name": "stdout",
     "text": [
      "Accuracy Score = 0.9327631578947368\n",
      "F1 Score (Micro) = 0.9327631578947368\n",
      "F1 Score (Macro) = 0.9326090383121819\n"
     ]
    }
   ]
  },
  {
   "cell_type": "code",
   "source": [
    "accuracy = metrics.accuracy_score(test_labels, y_pred)\n",
    "f1_score_micro = metrics.f1_score(test_labels, y_pred, average='micro')\n",
    "f1_score_macro = metrics.f1_score(test_labels, y_pred, average='macro')\n",
    "print(f\"Accuracy Score = {accuracy}\")\n",
    "print(f\"F1 Score (Micro) = {f1_score_micro}\")\n",
    "print(f\"F1 Score (Macro) = {f1_score_macro}\")"
   ],
   "metadata": {
    "colab": {
     "base_uri": "https://localhost:8080/"
    },
    "id": "AVql-W6DeiTS",
    "outputId": "32fd613b-9081-4dc3-8ca2-c7bb4a37ff51",
    "pycharm": {
     "name": "#%%\n"
    }
   },
   "execution_count": null,
   "outputs": [
    {
     "output_type": "stream",
     "name": "stdout",
     "text": [
      "Accuracy Score = 0.9321052631578948\n",
      "F1 Score (Micro) = 0.9321052631578948\n",
      "F1 Score (Macro) = 0.9319555128871607\n"
     ]
    }
   ]
  },
  {
   "cell_type": "code",
   "source": [
    "conf_mat = metrics.confusion_matrix(test_labels, y_pred)\n",
    "fig, ax = plt.subplots(figsize=(8,8))\n",
    "sns.heatmap(conf_mat, annot=True, cmap=\"Blues\", fmt='d')\n",
    "plt.ylabel('Actual')\n",
    "plt.xlabel('Predicted')\n",
    "plt.title(\"CONFUSION MATRIX TF_IDF\\n\", size=16)"
   ],
   "metadata": {
    "colab": {
     "base_uri": "https://localhost:8080/",
     "height": 761
    },
    "id": "DHZnTUaHah5W",
    "outputId": "e4d2d23d-7034-4960-b5a7-aa09fd12329b",
    "pycharm": {
     "name": "#%%\n"
    }
   },
   "execution_count": null,
   "outputs": [
    {
     "output_type": "execute_result",
     "data": {
      "text/plain": [
       "Text(0.5, 1.0, 'CONFUSION MATRIX TF_IDF\\n')"
      ]
     },
     "metadata": {},
     "execution_count": 24
    },
    {
     "output_type": "display_data",
     "data": {
      "text/plain": [
       "<Figure size 800x800 with 2 Axes>"
      ],
      "image/png": "[encoded data removed]"
     },
     "metadata": {}
    }
   ]
  },
  {
   "cell_type": "markdown",
   "source": [
    "Эксперимент 2 (Предобработка: токенизация + удаление стоп-слов + лемматизация )"
   ],
   "metadata": {
    "id": "ZuY7_UhOz36-",
    "pycharm": {
     "name": "#%% md\n"
    }
   }
  },
  {
   "cell_type": "code",
   "source": [
    "def objective(trial):\n",
    "    global X_train_tfidf, y_train, X_valid_tfidf, y_valid\n",
    "\n",
    "    c = trial.suggest_float(\"svc_c\", 1e-4, 1e3, log=True)\n",
    "\n",
    "    clf = LinearSVC(C=c, random_state=42, class_weight='balanced', max_iter=100000)\n",
    "    clf.fit(X_train_tfidf, y_train)\n",
    "\n",
    "    return metrics.f1_score(clf.predict(X_valid_tfidf), y_valid, average='macro')\n",
    "\n",
    "\n",
    "study = optuna.create_study(direction=\"maximize\")\n",
    "study.optimize(objective, n_trials=25)\n",
    "print(study.best_trial)"
   ],
   "metadata": {
    "colab": {
     "base_uri": "https://localhost:8080/"
    },
    "id": "CRdtEd5Cz3wQ",
    "outputId": "cb43c438-1f8a-4621-f86d-d35c8b2b73c7",
    "pycharm": {
     "name": "#%%\n"
    }
   },
   "execution_count": null,
   "outputs": [
    {
     "output_type": "stream",
     "name": "stderr",
     "text": [
      "\u001B[32m[I 2023-05-22 04:56:01,841]\u001B[0m A new study created in memory with name: no-name-72b2584f-fbff-46bb-941b-2eba8ea95866\u001B[0m\n",
      "\u001B[32m[I 2023-05-22 04:56:07,775]\u001B[0m Trial 0 finished with value: 0.9227247620073608 and parameters: {'svc_c': 0.3891155445862232}. Best is trial 0 with value: 0.9227247620073608.\u001B[0m\n"
     ]
    }
   ]
  },
  {
   "cell_type": "code",
   "source": [
    "tfidf = TfidfVectorizer(sublinear_tf=True, min_df=5,\n",
    "                        ngram_range=(1, 4),\n",
    "                        stop_words='english',\n",
    "                        tokenizer=word_tokenize)\n",
    "train_tfidf = tfidf.fit_transform(train.content)\n",
    "test_tfidf = tfidf.transform(test.content)"
   ],
   "metadata": {
    "id": "GfkiZ7Fshd77",
    "colab": {
     "base_uri": "https://localhost:8080/"
    },
    "outputId": "fbab60e0-0954-4409-86f5-e0a9aacd3819",
    "pycharm": {
     "name": "#%%\n"
    }
   },
   "execution_count": null,
   "outputs": [
    {
     "output_type": "stream",
     "name": "stderr",
     "text": [
      "/usr/local/lib/python3.10/dist-packages/sklearn/feature_extraction/text.py:528: UserWarning: The parameter 'token_pattern' will not be used since 'tokenizer' is not None'\n",
      "  warnings.warn(\n"
     ]
    }
   ]
  },
  {
   "cell_type": "code",
   "source": [
    "clf = LinearSVC(C=0.5, random_state=42, class_weight='balanced', max_iter=100000).fit(train_tfidf, labels)\n",
    "y_pred = clf.predict(test_tfidf)"
   ],
   "metadata": {
    "id": "BUcN1ug52HvQ",
    "pycharm": {
     "name": "#%%\n"
    }
   },
   "execution_count": null,
   "outputs": []
  },
  {
   "cell_type": "code",
   "source": [
    "# 0.5\n",
    "accuracy = metrics.accuracy_score(test_labels, y_pred)\n",
    "f1_score_micro = metrics.f1_score(test_labels, y_pred, average='micro')\n",
    "f1_score_macro = metrics.f1_score(test_labels, y_pred, average='macro')\n",
    "print(f\"Accuracy Score = {accuracy}\")\n",
    "print(f\"F1 Score (Micro) = {f1_score_micro}\")\n",
    "print(f\"F1 Score (Macro) = {f1_score_macro}\")"
   ],
   "metadata": {
    "colab": {
     "base_uri": "https://localhost:8080/"
    },
    "id": "4zkccyIF239y",
    "outputId": "018384bb-4bf4-4cd1-d90e-0d9ce7987416",
    "pycharm": {
     "name": "#%%\n"
    }
   },
   "execution_count": null,
   "outputs": [
    {
     "output_type": "stream",
     "name": "stdout",
     "text": [
      "Accuracy Score = 0.9273684210526316\n",
      "F1 Score (Micro) = 0.9273684210526316\n",
      "F1 Score (Macro) = 0.9272107968720003\n"
     ]
    }
   ]
  },
  {
   "cell_type": "code",
   "source": [
    "print('\\t\\t\\t\\tCLASSIFICATIION METRICS\\n')\n",
    "print(metrics.classification_report(test_labels, y_pred))"
   ],
   "metadata": {
    "colab": {
     "base_uri": "https://localhost:8080/"
    },
    "id": "EGhlpo-C0c4s",
    "outputId": "6be89d85-2d9f-4cf1-f6c1-273caab27067",
    "pycharm": {
     "name": "#%%\n"
    }
   },
   "execution_count": null,
   "outputs": [
    {
     "output_type": "stream",
     "name": "stdout",
     "text": [
      "\t\t\t\tCLASSIFICATIION METRICS\n",
      "\n",
      "              precision    recall  f1-score   support\n",
      "\n",
      "           1       0.94      0.91      0.93      1900\n",
      "           2       0.96      0.98      0.97      1900\n",
      "           3       0.91      0.90      0.90      1900\n",
      "           4       0.90      0.91      0.91      1900\n",
      "\n",
      "    accuracy                           0.93      7600\n",
      "   macro avg       0.93      0.93      0.93      7600\n",
      "weighted avg       0.93      0.93      0.93      7600\n",
      "\n"
     ]
    }
   ]
  },
  {
   "cell_type": "code",
   "source": [
    "conf_mat = metrics.confusion_matrix(test_labels, y_pred)\n",
    "fig, ax = plt.subplots(figsize=(8,8))\n",
    "sns.heatmap(conf_mat, annot=True, cmap=\"Blues\", fmt='d')\n",
    "plt.ylabel('Actual')\n",
    "plt.xlabel('Predicted')\n",
    "plt.title(\"CONFUSION MATRIX TF_IDF\\n\", size=16)"
   ],
   "metadata": {
    "colab": {
     "base_uri": "https://localhost:8080/",
     "height": 761
    },
    "id": "-bID16o30aln",
    "outputId": "17f76357-967e-4840-d05e-659f5d861dd3",
    "pycharm": {
     "name": "#%%\n"
    }
   },
   "execution_count": null,
   "outputs": [
    {
     "output_type": "execute_result",
     "data": {
      "text/plain": [
       "Text(0.5, 1.0, 'CONFUSION MATRIX TF_IDF\\n')"
      ]
     },
     "metadata": {},
     "execution_count": 31
    },
    {
     "output_type": "display_data",
     "data": {
      "text/plain": [
       "<Figure size 800x800 with 2 Axes>"
      ],
      "image/png": "[encoded data removed]"
     },
     "metadata": {}
    }
   ]
  },
  {
   "cell_type": "markdown",
   "source": [
    "Эксперимент 3 Токенизация + удаление стоп-слов + стемминг"
   ],
   "metadata": {
    "id": "zcUwmscQpcOC",
    "pycharm": {
     "name": "#%% md\n"
    }
   }
  },
  {
   "cell_type": "code",
   "source": [
    "def objective(trial):\n",
    "    global X_train_tfidf, y_train, X_valid_tfidf, y_valid\n",
    "\n",
    "    c = trial.suggest_float(\"svc_c\", 1e-2, 1e2, log=True)\n",
    "\n",
    "    clf = LinearSVC(C=c, random_state=42, class_weight='balanced', max_iter=100000)\n",
    "    clf.fit(X_train_tfidf, y_train)\n",
    "\n",
    "    return metrics.f1_score(clf.predict(X_valid_tfidf), y_valid, average='macro')\n",
    "\n",
    "\n",
    "study = optuna.create_study(direction=\"maximize\")\n",
    "study.optimize(objective, n_trials=15)\n",
    "print(study.best_trial)"
   ],
   "metadata": {
    "colab": {
     "base_uri": "https://localhost:8080/"
    },
    "id": "z_g8fNWHpjhd",
    "outputId": "f2fa4fac-6263-44bf-e233-cdc592f9c5e1",
    "pycharm": {
     "name": "#%%\n"
    }
   },
   "execution_count": null,
   "outputs": [
    {
     "output_type": "stream",
     "name": "stderr",
     "text": [
      "\u001B[32m[I 2023-05-22 08:59:00,726]\u001B[0m A new study created in memory with name: no-name-7480bd0e-a278-402b-81f2-3fc92f0a726b\u001B[0m\n",
      "\u001B[32m[I 2023-05-22 08:59:43,565]\u001B[0m Trial 0 finished with value: 0.9064349689098243 and parameters: {'svc_c': 17.656142299303642}. Best is trial 0 with value: 0.9064349689098243.\u001B[0m\n",
      "\u001B[32m[I 2023-05-22 08:59:49,523]\u001B[0m Trial 1 finished with value: 0.9226775395279554 and parameters: {'svc_c': 0.21180380754042072}. Best is trial 1 with value: 0.9226775395279554.\u001B[0m\n",
      "\u001B[32m[I 2023-05-22 08:59:52,511]\u001B[0m Trial 2 finished with value: 0.9128059892981264 and parameters: {'svc_c': 0.031950242178288235}. Best is trial 1 with value: 0.9226775395279554.\u001B[0m\n",
      "\u001B[32m[I 2023-05-22 08:59:55,291]\u001B[0m Trial 3 finished with value: 0.9150899343221535 and parameters: {'svc_c': 0.048118813531923404}. Best is trial 1 with value: 0.9226775395279554.\u001B[0m\n",
      "\u001B[32m[I 2023-05-22 09:00:02,073]\u001B[0m Trial 4 finished with value: 0.9189947827969543 and parameters: {'svc_c': 1.4887710020804432}. Best is trial 1 with value: 0.9226775395279554.\u001B[0m\n",
      "\u001B[32m[I 2023-05-22 09:02:11,199]\u001B[0m Trial 5 finished with value: 0.9017252189360604 and parameters: {'svc_c': 58.24569528766814}. Best is trial 1 with value: 0.9226775395279554.\u001B[0m\n",
      "\u001B[32m[I 2023-05-22 09:02:14,692]\u001B[0m Trial 6 finished with value: 0.9076574673084087 and parameters: {'svc_c': 0.018784855890877198}. Best is trial 1 with value: 0.9226775395279554.\u001B[0m\n",
      "\u001B[32m[I 2023-05-22 09:02:29,694]\u001B[0m Trial 7 finished with value: 0.9116696560201734 and parameters: {'svc_c': 6.237297986140619}. Best is trial 1 with value: 0.9226775395279554.\u001B[0m\n",
      "\u001B[32m[I 2023-05-22 09:02:54,651]\u001B[0m Trial 8 finished with value: 0.9083451739705379 and parameters: {'svc_c': 10.59539883112337}. Best is trial 1 with value: 0.9226775395279554.\u001B[0m\n",
      "\u001B[32m[I 2023-05-22 09:02:57,587]\u001B[0m Trial 9 finished with value: 0.9089699529634929 and parameters: {'svc_c': 0.021602406904935305}. Best is trial 1 with value: 0.9226775395279554.\u001B[0m\n",
      "\u001B[32m[I 2023-05-22 09:03:00,447]\u001B[0m Trial 10 finished with value: 0.9231741166270776 and parameters: {'svc_c': 0.24014490072535108}. Best is trial 10 with value: 0.9231741166270776.\u001B[0m\n",
      "\u001B[32m[I 2023-05-22 09:03:03,641]\u001B[0m Trial 11 finished with value: 0.9230083853115822 and parameters: {'svc_c': 0.23135423616590736}. Best is trial 10 with value: 0.9231741166270776.\u001B[0m\n",
      "\u001B[32m[I 2023-05-22 09:03:07,087]\u001B[0m Trial 12 finished with value: 0.9227978022503565 and parameters: {'svc_c': 0.2917576306411319}. Best is trial 10 with value: 0.9231741166270776.\u001B[0m\n",
      "\u001B[32m[I 2023-05-22 09:03:10,100]\u001B[0m Trial 13 finished with value: 0.9229223716709691 and parameters: {'svc_c': 0.24855273355042867}. Best is trial 10 with value: 0.9231741166270776.\u001B[0m\n",
      "\u001B[32m[I 2023-05-22 09:03:15,077]\u001B[0m Trial 14 finished with value: 0.9215715197695857 and parameters: {'svc_c': 1.0583664883191801}. Best is trial 10 with value: 0.9231741166270776.\u001B[0m\n"
     ]
    },
    {
     "output_type": "stream",
     "name": "stdout",
     "text": [
      "FrozenTrial(number=10, state=TrialState.COMPLETE, values=[0.9231741166270776], datetime_start=datetime.datetime(2023, 5, 22, 9, 2, 57, 589704), datetime_complete=datetime.datetime(2023, 5, 22, 9, 3, 0, 447119), params={'svc_c': 0.24014490072535108}, user_attrs={}, system_attrs={}, intermediate_values={}, distributions={'svc_c': FloatDistribution(high=100.0, log=True, low=0.01, step=None)}, trial_id=10, value=None)\n"
     ]
    }
   ]
  },
  {
   "cell_type": "code",
   "source": [
    "tfidf = TfidfVectorizer(sublinear_tf=True, min_df=5,\n",
    "                        ngram_range=(1, 4),\n",
    "                        stop_words='english',\n",
    "                        tokenizer=word_tokenize)\n",
    "train_tfidf = tfidf.fit_transform(train.content)\n",
    "test_tfidf = tfidf.transform(test.content)"
   ],
   "metadata": {
    "colab": {
     "base_uri": "https://localhost:8080/"
    },
    "id": "iHMHL3nMAWbg",
    "outputId": "492cced7-c584-420e-e6b3-cc34fa155f33",
    "pycharm": {
     "name": "#%%\n"
    }
   },
   "execution_count": null,
   "outputs": [
    {
     "output_type": "stream",
     "name": "stderr",
     "text": [
      "/usr/local/lib/python3.10/dist-packages/sklearn/feature_extraction/text.py:528: UserWarning: The parameter 'token_pattern' will not be used since 'tokenizer' is not None'\n",
      "  warnings.warn(\n"
     ]
    }
   ]
  },
  {
   "cell_type": "code",
   "source": [
    "clf = LinearSVC(C=0.25, random_state=42, class_weight='balanced', max_iter=100000).fit(train_tfidf, labels)\n",
    "y_pred = clf.predict(test_tfidf)"
   ],
   "metadata": {
    "id": "o78QXxds6ocF",
    "pycharm": {
     "name": "#%%\n"
    }
   },
   "execution_count": null,
   "outputs": []
  },
  {
   "cell_type": "code",
   "source": [
    "# 0.25\n",
    "accuracy = metrics.accuracy_score(test_labels, y_pred)\n",
    "f1_score_micro = metrics.f1_score(test_labels, y_pred, average='micro')\n",
    "f1_score_macro = metrics.f1_score(test_labels, y_pred, average='macro')\n",
    "print(f\"Accuracy Score = {accuracy}\")\n",
    "print(f\"F1 Score (Micro) = {f1_score_micro}\")\n",
    "print(f\"F1 Score (Macro) = {f1_score_macro}\")"
   ],
   "metadata": {
    "colab": {
     "base_uri": "https://localhost:8080/"
    },
    "id": "VGtoXu-Y6t-3",
    "outputId": "261e68be-f872-4f5e-c8f2-820a8ffc844a",
    "pycharm": {
     "name": "#%%\n"
    }
   },
   "execution_count": null,
   "outputs": [
    {
     "output_type": "stream",
     "name": "stdout",
     "text": [
      "Accuracy Score = 0.9268421052631579\n",
      "F1 Score (Micro) = 0.9268421052631579\n",
      "F1 Score (Macro) = 0.9266687813124519\n"
     ]
    }
   ]
  },
  {
   "cell_type": "code",
   "source": [
    "print('\\t\\t\\t\\tCLASSIFICATIION METRICS\\n')\n",
    "print(metrics.classification_report(test_labels, y_pred))"
   ],
   "metadata": {
    "colab": {
     "base_uri": "https://localhost:8080/"
    },
    "id": "Xkoby4ad6ygq",
    "outputId": "3a8bddba-8e9b-4566-ac9d-f0958b2b7a33",
    "pycharm": {
     "name": "#%%\n"
    }
   },
   "execution_count": null,
   "outputs": [
    {
     "output_type": "stream",
     "name": "stdout",
     "text": [
      "\t\t\t\tCLASSIFICATIION METRICS\n",
      "\n",
      "              precision    recall  f1-score   support\n",
      "\n",
      "           1       0.94      0.91      0.93      1900\n",
      "           2       0.96      0.99      0.97      1900\n",
      "           3       0.90      0.90      0.90      1900\n",
      "           4       0.90      0.91      0.91      1900\n",
      "\n",
      "    accuracy                           0.93      7600\n",
      "   macro avg       0.93      0.93      0.93      7600\n",
      "weighted avg       0.93      0.93      0.93      7600\n",
      "\n"
     ]
    }
   ]
  },
  {
   "cell_type": "code",
   "source": [
    "conf_mat = metrics.confusion_matrix(test_labels, y_pred)\n",
    "fig, ax = plt.subplots(figsize=(8,8))\n",
    "sns.heatmap(conf_mat, annot=True, cmap=\"Blues\", fmt='d')\n",
    "plt.ylabel('Actual')\n",
    "plt.xlabel('Predicted')\n",
    "plt.title(\"CONFUSION MATRIX TF_IDF\\n\", size=16)"
   ],
   "metadata": {
    "colab": {
     "base_uri": "https://localhost:8080/",
     "height": 761
    },
    "id": "AgfEIKDX8oG6",
    "outputId": "49ed82c1-29f0-474c-d9e0-d80e3c05ada1",
    "pycharm": {
     "name": "#%%\n"
    }
   },
   "execution_count": null,
   "outputs": [
    {
     "output_type": "execute_result",
     "data": {
      "text/plain": [
       "Text(0.5, 1.0, 'CONFUSION MATRIX TF_IDF\\n')"
      ]
     },
     "metadata": {},
     "execution_count": 26
    },
    {
     "output_type": "display_data",
     "data": {
      "text/plain": [
       "<Figure size 800x800 with 2 Axes>"
      ],
      "image/png": "[encoded data removed]"
     },
     "metadata": {}
    }
   ]
  },
  {
   "cell_type": "markdown",
   "source": [
    "Эксперимент 4 Токенизация + лемматизация"
   ],
   "metadata": {
    "id": "cG7YtK_lLHDA",
    "pycharm": {
     "name": "#%% md\n"
    }
   }
  },
  {
   "cell_type": "code",
   "source": [
    "tfidf = TfidfVectorizer(sublinear_tf=True, min_df=5,\n",
    "                        ngram_range=(1, 4),\n",
    "                        # stop_words='english',\n",
    "                        tokenizer=word_tokenize)\n",
    "train_tfidf = tfidf.fit_transform(train.content)\n",
    "test_tfidf = tfidf.transform(test.content)"
   ],
   "metadata": {
    "colab": {
     "base_uri": "https://localhost:8080/"
    },
    "id": "Tcn-BFALLLA9",
    "outputId": "04856d3a-19c9-4632-b45b-9a0900881628",
    "pycharm": {
     "name": "#%%\n"
    }
   },
   "execution_count": null,
   "outputs": [
    {
     "output_type": "stream",
     "name": "stderr",
     "text": [
      "/usr/local/lib/python3.10/dist-packages/sklearn/feature_extraction/text.py:528: UserWarning: The parameter 'token_pattern' will not be used since 'tokenizer' is not None'\n",
      "  warnings.warn(\n"
     ]
    }
   ]
  },
  {
   "cell_type": "code",
   "source": [
    "clf = LinearSVC(C=0.3, random_state=42, class_weight='balanced', max_iter=100000).fit(train_tfidf, labels)\n",
    "y_pred = clf.predict(test_tfidf)"
   ],
   "metadata": {
    "id": "FYcetOFphe1I",
    "pycharm": {
     "name": "#%%\n"
    }
   },
   "execution_count": null,
   "outputs": []
  },
  {
   "cell_type": "code",
   "source": [
    "# 0,3\n",
    "accuracy = metrics.accuracy_score(test_labels, y_pred)\n",
    "f1_score_micro = metrics.f1_score(test_labels, y_pred, average='micro')\n",
    "f1_score_macro = metrics.f1_score(test_labels, y_pred, average='macro')\n",
    "print(f\"Accuracy Score = {accuracy}\")\n",
    "print(f\"F1 Score (Micro) = {f1_score_micro}\")\n",
    "print(f\"F1 Score (Macro) = {f1_score_macro}\")"
   ],
   "metadata": {
    "colab": {
     "base_uri": "https://localhost:8080/"
    },
    "id": "OWRXa3LwhgwY",
    "outputId": "207638dc-f38b-4b3f-b107-969bcc7d1605",
    "pycharm": {
     "name": "#%%\n"
    }
   },
   "execution_count": null,
   "outputs": [
    {
     "output_type": "stream",
     "name": "stdout",
     "text": [
      "Accuracy Score = 0.924078947368421\n",
      "F1 Score (Micro) = 0.924078947368421\n",
      "F1 Score (Macro) = 0.9239081832066423\n"
     ]
    }
   ]
  },
  {
   "cell_type": "code",
   "source": [
    "print('\\t\\t\\t\\tCLASSIFICATIION METRICS\\n')\n",
    "print(metrics.classification_report(test_labels, y_pred))"
   ],
   "metadata": {
    "colab": {
     "base_uri": "https://localhost:8080/"
    },
    "id": "8ugGrAQoxIqx",
    "outputId": "865dcf3f-72b1-439a-c3b3-6ed0b1fd0c6a",
    "pycharm": {
     "name": "#%%\n"
    }
   },
   "execution_count": null,
   "outputs": [
    {
     "output_type": "stream",
     "name": "stdout",
     "text": [
      "\t\t\t\tCLASSIFICATIION METRICS\n",
      "\n",
      "              precision    recall  f1-score   support\n",
      "\n",
      "           1       0.95      0.91      0.93      1900\n",
      "           2       0.95      0.99      0.97      1900\n",
      "           3       0.90      0.89      0.89      1900\n",
      "           4       0.90      0.91      0.90      1900\n",
      "\n",
      "    accuracy                           0.92      7600\n",
      "   macro avg       0.92      0.92      0.92      7600\n",
      "weighted avg       0.92      0.92      0.92      7600\n",
      "\n"
     ]
    }
   ]
  },
  {
   "cell_type": "code",
   "source": [
    "conf_mat = metrics.confusion_matrix(test_labels, y_pred)\n",
    "fig, ax = plt.subplots(figsize=(8,8))\n",
    "sns.heatmap(conf_mat, annot=True, cmap=\"Blues\", fmt='d')\n",
    "plt.ylabel('Actual')\n",
    "plt.xlabel('Predicted')\n",
    "plt.title(\"CONFUSION MATRIX TF_IDF\\n\", size=16)"
   ],
   "metadata": {
    "colab": {
     "base_uri": "https://localhost:8080/",
     "height": 761
    },
    "id": "HCyw3kD3xKFP",
    "outputId": "f466e606-8e34-42c3-c786-111872d239f9",
    "pycharm": {
     "name": "#%%\n"
    }
   },
   "execution_count": null,
   "outputs": [
    {
     "output_type": "execute_result",
     "data": {
      "text/plain": [
       "Text(0.5, 1.0, 'CONFUSION MATRIX TF_IDF\\n')"
      ]
     },
     "metadata": {},
     "execution_count": 97
    },
    {
     "output_type": "display_data",
     "data": {
      "text/plain": [
       "<Figure size 800x800 with 2 Axes>"
      ],
      "image/png": "[encoded data removed]"
     },
     "metadata": {}
    }
   ]
  },
  {
   "cell_type": "markdown",
   "source": [
    "Эксперимент 5 Токенизация + стемминг"
   ],
   "metadata": {
    "id": "YwiQ3WRuxWvG",
    "pycharm": {
     "name": "#%% md\n"
    }
   }
  },
  {
   "cell_type": "code",
   "source": [
    "def objective(trial):\n",
    "    global X_train_tfidf, y_train, X_valid_tfidf, y_valid\n",
    "\n",
    "    c = trial.suggest_float(\"svc_c\", 1e-2, 1e2, log=True)\n",
    "\n",
    "    clf = LinearSVC(C=c, random_state=42, class_weight='balanced', max_iter=100000)\n",
    "    clf.fit(X_train_tfidf, y_train)\n",
    "\n",
    "    return metrics.f1_score(clf.predict(X_valid_tfidf), y_valid, average='macro')\n",
    "\n",
    "\n",
    "study = optuna.create_study(direction=\"maximize\")\n",
    "study.optimize(objective, n_trials=15)\n",
    "print(study.best_trial)"
   ],
   "metadata": {
    "colab": {
     "base_uri": "https://localhost:8080/"
    },
    "id": "Hbh9SzeVxbE5",
    "outputId": "e0c335bb-e4d8-42eb-ec7f-f33a0679d36d",
    "pycharm": {
     "name": "#%%\n"
    }
   },
   "execution_count": null,
   "outputs": [
    {
     "output_type": "stream",
     "name": "stderr",
     "text": [
      "\u001B[32m[I 2023-05-22 14:06:32,074]\u001B[0m A new study created in memory with name: no-name-4bfca19c-8310-4e94-a216-62d70903fb84\u001B[0m\n",
      "\u001B[32m[I 2023-05-22 14:07:03,028]\u001B[0m Trial 0 finished with value: 0.9137314214699297 and parameters: {'svc_c': 8.271025369153703}. Best is trial 0 with value: 0.9137314214699297.\u001B[0m\n",
      "\u001B[32m[I 2023-05-22 14:10:27,831]\u001B[0m Trial 1 finished with value: 0.907825174583833 and parameters: {'svc_c': 52.579714557644905}. Best is trial 0 with value: 0.9137314214699297.\u001B[0m\n",
      "\u001B[32m[I 2023-05-22 14:10:31,519]\u001B[0m Trial 2 finished with value: 0.9141890839044382 and parameters: {'svc_c': 0.07129357316647748}. Best is trial 2 with value: 0.9141890839044382.\u001B[0m\n",
      "\u001B[32m[I 2023-05-22 14:10:35,571]\u001B[0m Trial 3 finished with value: 0.8991513112880009 and parameters: {'svc_c': 0.019580625238945423}. Best is trial 2 with value: 0.9141890839044382.\u001B[0m\n",
      "\u001B[32m[I 2023-05-22 14:10:39,858]\u001B[0m Trial 4 finished with value: 0.9195607725623769 and parameters: {'svc_c': 0.15910841343213308}. Best is trial 4 with value: 0.9195607725623769.\u001B[0m\n",
      "\u001B[32m[I 2023-05-22 14:13:58,581]\u001B[0m Trial 5 finished with value: 0.9081186346515024 and parameters: {'svc_c': 49.37197627702603}. Best is trial 4 with value: 0.9195607725623769.\u001B[0m\n",
      "\u001B[32m[I 2023-05-22 14:14:02,736]\u001B[0m Trial 6 finished with value: 0.9065113990055768 and parameters: {'svc_c': 0.03406136136063826}. Best is trial 4 with value: 0.9195607725623769.\u001B[0m\n",
      "\u001B[32m[I 2023-05-22 14:14:10,761]\u001B[0m Trial 7 finished with value: 0.9200906745138661 and parameters: {'svc_c': 1.181544168104953}. Best is trial 7 with value: 0.9200906745138661.\u001B[0m\n",
      "\u001B[32m[I 2023-05-22 14:14:15,444]\u001B[0m Trial 8 finished with value: 0.8959507051736235 and parameters: {'svc_c': 0.015112809671416315}. Best is trial 7 with value: 0.9200906745138661.\u001B[0m\n",
      "\u001B[32m[I 2023-05-22 14:14:21,057]\u001B[0m Trial 9 finished with value: 0.9216182745000978 and parameters: {'svc_c': 0.5869045462309884}. Best is trial 9 with value: 0.9216182745000978.\u001B[0m\n",
      "\u001B[32m[I 2023-05-22 14:14:26,906]\u001B[0m Trial 10 finished with value: 0.9219128607012745 and parameters: {'svc_c': 0.48879397399668956}. Best is trial 10 with value: 0.9219128607012745.\u001B[0m\n",
      "\u001B[32m[I 2023-05-22 14:14:32,137]\u001B[0m Trial 11 finished with value: 0.921953491653573 and parameters: {'svc_c': 0.5134109112218258}. Best is trial 11 with value: 0.921953491653573.\u001B[0m\n",
      "\u001B[32m[I 2023-05-22 14:14:37,940]\u001B[0m Trial 12 finished with value: 0.9218246521378367 and parameters: {'svc_c': 0.45862471619823486}. Best is trial 11 with value: 0.921953491653573.\u001B[0m\n",
      "\u001B[32m[I 2023-05-22 14:14:48,926]\u001B[0m Trial 13 finished with value: 0.9188878995960466 and parameters: {'svc_c': 2.0853783215562407}. Best is trial 11 with value: 0.921953491653573.\u001B[0m\n",
      "\u001B[32m[I 2023-05-22 14:14:53,558]\u001B[0m Trial 14 finished with value: 0.9196392178495008 and parameters: {'svc_c': 0.16323873466370906}. Best is trial 11 with value: 0.921953491653573.\u001B[0m\n"
     ]
    },
    {
     "output_type": "stream",
     "name": "stdout",
     "text": [
      "FrozenTrial(number=11, state=TrialState.COMPLETE, values=[0.921953491653573], datetime_start=datetime.datetime(2023, 5, 22, 14, 14, 26, 909267), datetime_complete=datetime.datetime(2023, 5, 22, 14, 14, 32, 137300), params={'svc_c': 0.5134109112218258}, user_attrs={}, system_attrs={}, intermediate_values={}, distributions={'svc_c': FloatDistribution(high=100.0, log=True, low=0.01, step=None)}, trial_id=11, value=None)\n"
     ]
    }
   ]
  },
  {
   "cell_type": "code",
   "source": [
    "tfidf = TfidfVectorizer(sublinear_tf=True, min_df=5,\n",
    "                        ngram_range=(1, 4),\n",
    "                        # stop_words='english',\n",
    "                        tokenizer=word_tokenize)\n",
    "train_tfidf = tfidf.fit_transform(train.content)\n",
    "test_tfidf = tfidf.transform(test.content)"
   ],
   "metadata": {
    "colab": {
     "base_uri": "https://localhost:8080/"
    },
    "id": "YcQY0-LPx4fp",
    "outputId": "2b0d1210-7fb0-424a-a78d-052f9dfdacb0",
    "pycharm": {
     "name": "#%%\n"
    }
   },
   "execution_count": null,
   "outputs": [
    {
     "output_type": "stream",
     "name": "stderr",
     "text": [
      "/usr/local/lib/python3.10/dist-packages/sklearn/feature_extraction/text.py:528: UserWarning: The parameter 'token_pattern' will not be used since 'tokenizer' is not None'\n",
      "  warnings.warn(\n"
     ]
    }
   ]
  },
  {
   "cell_type": "code",
   "source": [
    "clf = LinearSVC(C=0.5, random_state=42, class_weight='balanced', max_iter=100000).fit(train_tfidf, labels)\n",
    "y_pred = clf.predict(test_tfidf)"
   ],
   "metadata": {
    "id": "DJw3aqUe3jbT",
    "pycharm": {
     "name": "#%%\n"
    }
   },
   "execution_count": null,
   "outputs": []
  },
  {
   "cell_type": "code",
   "source": [
    "accuracy = metrics.accuracy_score(test_labels, y_pred)\n",
    "f1_score_micro = metrics.f1_score(test_labels, y_pred, average='micro')\n",
    "f1_score_macro = metrics.f1_score(test_labels, y_pred, average='macro')\n",
    "print(f\"Accuracy Score = {accuracy}\")\n",
    "print(f\"F1 Score (Micro) = {f1_score_micro}\")\n",
    "print(f\"F1 Score (Macro) = {f1_score_macro}\")"
   ],
   "metadata": {
    "colab": {
     "base_uri": "https://localhost:8080/"
    },
    "id": "Myl-pOiK3pKm",
    "outputId": "45f1f15c-5d78-4bab-d08e-c0e9a5dcae2a",
    "pycharm": {
     "name": "#%%\n"
    }
   },
   "execution_count": null,
   "outputs": [
    {
     "output_type": "stream",
     "name": "stdout",
     "text": [
      "Accuracy Score = 0.9238157894736843\n",
      "F1 Score (Micro) = 0.9238157894736843\n",
      "F1 Score (Macro) = 0.9236521396793809\n"
     ]
    }
   ]
  },
  {
   "cell_type": "code",
   "source": [
    "print('\\t\\t\\t\\tCLASSIFICATIION METRICS\\n')\n",
    "print(metrics.classification_report(test_labels, y_pred))"
   ],
   "metadata": {
    "colab": {
     "base_uri": "https://localhost:8080/"
    },
    "id": "x6iRx6Io3lxU",
    "outputId": "42b85c3e-d5b5-4367-9381-0f14d7340afc",
    "pycharm": {
     "name": "#%%\n"
    }
   },
   "execution_count": null,
   "outputs": [
    {
     "output_type": "stream",
     "name": "stdout",
     "text": [
      "\t\t\t\tCLASSIFICATIION METRICS\n",
      "\n",
      "              precision    recall  f1-score   support\n",
      "\n",
      "           1       0.94      0.91      0.93      1900\n",
      "           2       0.96      0.98      0.97      1900\n",
      "           3       0.90      0.89      0.89      1900\n",
      "           4       0.90      0.91      0.90      1900\n",
      "\n",
      "    accuracy                           0.92      7600\n",
      "   macro avg       0.92      0.92      0.92      7600\n",
      "weighted avg       0.92      0.92      0.92      7600\n",
      "\n"
     ]
    }
   ]
  },
  {
   "cell_type": "code",
   "source": [
    "conf_mat = metrics.confusion_matrix(test_labels, y_pred)\n",
    "fig, ax = plt.subplots(figsize=(8,8))\n",
    "sns.heatmap(conf_mat, annot=True, cmap=\"Blues\", fmt='d')\n",
    "plt.ylabel('Actual')\n",
    "plt.xlabel('Predicted')\n",
    "plt.title(\"CONFUSION MATRIX TF_IDF\\n\", size=16)"
   ],
   "metadata": {
    "colab": {
     "base_uri": "https://localhost:8080/",
     "height": 761
    },
    "id": "hiuUdXer3r52",
    "outputId": "c3f3cd3e-3937-443b-9535-ae5ec49e526a",
    "pycharm": {
     "name": "#%%\n"
    }
   },
   "execution_count": null,
   "outputs": [
    {
     "output_type": "execute_result",
     "data": {
      "text/plain": [
       "Text(0.5, 1.0, 'CONFUSION MATRIX TF_IDF\\n')"
      ]
     },
     "metadata": {},
     "execution_count": 112
    },
    {
     "output_type": "display_data",
     "data": {
      "text/plain": [
       "<Figure size 800x800 with 2 Axes>"
      ],
      "image/png": "[encoded data removed]"
     },
     "metadata": {}
    }
   ]
  },
  {
   "cell_type": "markdown",
   "source": [
    "Эксперимент 6 normalise_text"
   ],
   "metadata": {
    "id": "TVrLhSWp6eWJ",
    "pycharm": {
     "name": "#%% md\n"
    }
   }
  },
  {
   "cell_type": "code",
   "source": [
    "def objective(trial):\n",
    "    global X_train_tfidf, y_train, X_valid_tfidf, y_valid\n",
    "\n",
    "    c = trial.suggest_float(\"svc_c\", 1e-2, 1e2, log=True)\n",
    "\n",
    "    clf = LinearSVC(C=c, random_state=42, class_weight='balanced', max_iter=100000)\n",
    "    clf.fit(X_train_tfidf, y_train)\n",
    "\n",
    "    return metrics.f1_score(clf.predict(X_valid_tfidf), y_valid, average='macro')\n",
    "\n",
    "\n",
    "study = optuna.create_study(direction=\"maximize\")\n",
    "study.optimize(objective, n_trials=15)\n",
    "print(study.best_trial)"
   ],
   "metadata": {
    "colab": {
     "base_uri": "https://localhost:8080/"
    },
    "id": "4DBPaZF_31nY",
    "outputId": "d381ca3f-fd14-4cb3-cc25-9622c69c6bef",
    "pycharm": {
     "name": "#%%\n"
    }
   },
   "execution_count": null,
   "outputs": [
    {
     "output_type": "stream",
     "name": "stderr",
     "text": [
      "\u001B[32m[I 2023-05-22 14:45:51,140]\u001B[0m A new study created in memory with name: no-name-22381105-babb-408d-a225-387d991e0b83\u001B[0m\n",
      "\u001B[32m[I 2023-05-22 14:45:56,652]\u001B[0m Trial 0 finished with value: 0.9004175858176824 and parameters: {'svc_c': 0.019935651589915074}. Best is trial 0 with value: 0.9004175858176824.\u001B[0m\n",
      "\u001B[32m[I 2023-05-22 14:46:06,599]\u001B[0m Trial 1 finished with value: 0.9263444020600248 and parameters: {'svc_c': 1.518110527101909}. Best is trial 1 with value: 0.9263444020600248.\u001B[0m\n",
      "\u001B[32m[I 2023-05-22 14:47:31,200]\u001B[0m Trial 2 finished with value: 0.919696533076456 and parameters: {'svc_c': 21.6190387452905}. Best is trial 1 with value: 0.9263444020600248.\u001B[0m\n",
      "\u001B[32m[I 2023-05-22 14:49:22,712]\u001B[0m Trial 3 finished with value: 0.919192381204109 and parameters: {'svc_c': 29.02174543398905}. Best is trial 1 with value: 0.9263444020600248.\u001B[0m\n",
      "\u001B[32m[I 2023-05-22 14:49:47,608]\u001B[0m Trial 4 finished with value: 0.9224040858457763 and parameters: {'svc_c': 5.43360373115125}. Best is trial 1 with value: 0.9263444020600248.\u001B[0m\n",
      "\u001B[32m[I 2023-05-22 14:50:03,230]\u001B[0m Trial 5 finished with value: 0.9247666255893612 and parameters: {'svc_c': 2.9542941107917087}. Best is trial 1 with value: 0.9263444020600248.\u001B[0m\n",
      "\u001B[32m[I 2023-05-22 14:50:09,565]\u001B[0m Trial 6 finished with value: 0.9267436789876978 and parameters: {'svc_c': 0.5031647688153617}. Best is trial 6 with value: 0.9267436789876978.\u001B[0m\n",
      "\u001B[32m[I 2023-05-22 14:52:03,215]\u001B[0m Trial 7 finished with value: 0.9191079222897978 and parameters: {'svc_c': 29.710181317740275}. Best is trial 6 with value: 0.9267436789876978.\u001B[0m\n",
      "\u001B[32m[I 2023-05-22 14:52:11,283]\u001B[0m Trial 8 finished with value: 0.9262990010368803 and parameters: {'svc_c': 0.9998260972598569}. Best is trial 6 with value: 0.9267436789876978.\u001B[0m\n",
      "\u001B[32m[I 2023-05-22 14:52:37,048]\u001B[0m Trial 9 finished with value: 0.9221990485447404 and parameters: {'svc_c': 5.902096949056192}. Best is trial 6 with value: 0.9267436789876978.\u001B[0m\n",
      "\u001B[32m[I 2023-05-22 14:52:41,554]\u001B[0m Trial 10 finished with value: 0.9247490819220622 and parameters: {'svc_c': 0.2333070066059411}. Best is trial 6 with value: 0.9267436789876978.\u001B[0m\n",
      "\u001B[32m[I 2023-05-22 14:52:47,321]\u001B[0m Trial 11 finished with value: 0.9265257511465013 and parameters: {'svc_c': 0.38556976154357586}. Best is trial 6 with value: 0.9267436789876978.\u001B[0m\n",
      "\u001B[32m[I 2023-05-22 14:52:51,726]\u001B[0m Trial 12 finished with value: 0.9247909152061105 and parameters: {'svc_c': 0.23450044192485392}. Best is trial 6 with value: 0.9267436789876978.\u001B[0m\n",
      "\u001B[32m[I 2023-05-22 14:52:56,696]\u001B[0m Trial 13 finished with value: 0.9264800085018929 and parameters: {'svc_c': 0.36988225180269674}. Best is trial 6 with value: 0.9267436789876978.\u001B[0m\n",
      "\u001B[32m[I 2023-05-22 14:53:01,410]\u001B[0m Trial 14 finished with value: 0.9166710722227007 and parameters: {'svc_c': 0.06713743966504082}. Best is trial 6 with value: 0.9267436789876978.\u001B[0m\n"
     ]
    },
    {
     "output_type": "stream",
     "name": "stdout",
     "text": [
      "FrozenTrial(number=6, state=TrialState.COMPLETE, values=[0.9267436789876978], datetime_start=datetime.datetime(2023, 5, 22, 14, 50, 3, 232330), datetime_complete=datetime.datetime(2023, 5, 22, 14, 50, 9, 565290), params={'svc_c': 0.5031647688153617}, user_attrs={}, system_attrs={}, intermediate_values={}, distributions={'svc_c': FloatDistribution(high=100.0, log=True, low=0.01, step=None)}, trial_id=6, value=None)\n"
     ]
    }
   ]
  },
  {
   "cell_type": "code",
   "source": [
    "tfidf = TfidfVectorizer(sublinear_tf=True, min_df=5,\n",
    "                        ngram_range=(1, 4),\n",
    "                        # stop_words='english',\n",
    "                        tokenizer=word_tokenize)\n",
    "train_tfidf = tfidf.fit_transform(train.content)\n",
    "test_tfidf = tfidf.transform(test.content)"
   ],
   "metadata": {
    "colab": {
     "base_uri": "https://localhost:8080/"
    },
    "id": "pKD1f_VJ6ni-",
    "outputId": "2247cb3e-fe1d-4d95-f325-833358c15f6f",
    "pycharm": {
     "name": "#%%\n"
    }
   },
   "execution_count": null,
   "outputs": [
    {
     "output_type": "stream",
     "name": "stderr",
     "text": [
      "/usr/local/lib/python3.10/dist-packages/sklearn/feature_extraction/text.py:528: UserWarning: The parameter 'token_pattern' will not be used since 'tokenizer' is not None'\n",
      "  warnings.warn(\n"
     ]
    }
   ]
  },
  {
   "cell_type": "code",
   "source": [
    "clf = LinearSVC(C=0.5, random_state=42, class_weight='balanced', max_iter=100000).fit(train_tfidf, labels)\n",
    "y_pred = clf.predict(test_tfidf)"
   ],
   "metadata": {
    "id": "LvXMEOsfDXZE",
    "pycharm": {
     "name": "#%%\n"
    }
   },
   "execution_count": null,
   "outputs": []
  },
  {
   "cell_type": "code",
   "source": [
    "# 0.5\n",
    "accuracy = metrics.accuracy_score(test_labels, y_pred)\n",
    "f1_score_micro = metrics.f1_score(test_labels, y_pred, average='micro')\n",
    "f1_score_macro = metrics.f1_score(test_labels, y_pred, average='macro')\n",
    "print(f\"Accuracy Score = {accuracy}\")\n",
    "print(f\"F1 Score (Micro) = {f1_score_micro}\")\n",
    "print(f\"F1 Score (Macro) = {f1_score_macro}\")"
   ],
   "metadata": {
    "colab": {
     "base_uri": "https://localhost:8080/"
    },
    "id": "VDVX352rDaF1",
    "outputId": "7cece037-3dbb-4a03-f176-72ecc087b67c",
    "pycharm": {
     "name": "#%%\n"
    }
   },
   "execution_count": null,
   "outputs": [
    {
     "output_type": "stream",
     "name": "stdout",
     "text": [
      "Accuracy Score = 0.9289473684210526\n",
      "F1 Score (Micro) = 0.9289473684210526\n",
      "F1 Score (Macro) = 0.9288058019898164\n"
     ]
    }
   ]
  },
  {
   "cell_type": "code",
   "source": [
    "# 0.45\n",
    "accuracy = metrics.accuracy_score(test_labels, y_pred)\n",
    "f1_score_micro = metrics.f1_score(test_labels, y_pred, average='micro')\n",
    "f1_score_macro = metrics.f1_score(test_labels, y_pred, average='macro')\n",
    "print(f\"Accuracy Score = {accuracy}\")\n",
    "print(f\"F1 Score (Micro) = {f1_score_micro}\")\n",
    "print(f\"F1 Score (Macro) = {f1_score_macro}\")"
   ],
   "metadata": {
    "colab": {
     "base_uri": "https://localhost:8080/"
    },
    "id": "QUhbpECeEzgb",
    "outputId": "660ce112-d55b-4042-805a-26dc1d52b31e",
    "pycharm": {
     "name": "#%%\n"
    }
   },
   "execution_count": null,
   "outputs": [
    {
     "output_type": "stream",
     "name": "stdout",
     "text": [
      "Accuracy Score = 0.929078947368421\n",
      "F1 Score (Micro) = 0.929078947368421\n",
      "F1 Score (Macro) = 0.9289371505646239\n"
     ]
    }
   ]
  },
  {
   "cell_type": "code",
   "source": [
    "print('\\t\\t\\t\\tCLASSIFICATIION METRICS\\n')\n",
    "print(metrics.classification_report(test_labels, y_pred))"
   ],
   "metadata": {
    "colab": {
     "base_uri": "https://localhost:8080/"
    },
    "id": "SK4ZBKN6Db7o",
    "outputId": "d989a15e-14e2-4bdb-9ab2-0f8d540c3bf2",
    "pycharm": {
     "name": "#%%\n"
    }
   },
   "execution_count": null,
   "outputs": [
    {
     "output_type": "stream",
     "name": "stdout",
     "text": [
      "\t\t\t\tCLASSIFICATIION METRICS\n",
      "\n",
      "              precision    recall  f1-score   support\n",
      "\n",
      "           1       0.94      0.92      0.93      1900\n",
      "           2       0.96      0.99      0.97      1900\n",
      "           3       0.90      0.90      0.90      1900\n",
      "           4       0.91      0.91      0.91      1900\n",
      "\n",
      "    accuracy                           0.93      7600\n",
      "   macro avg       0.93      0.93      0.93      7600\n",
      "weighted avg       0.93      0.93      0.93      7600\n",
      "\n"
     ]
    }
   ]
  },
  {
   "cell_type": "code",
   "source": [
    "conf_mat = metrics.confusion_matrix(test_labels, y_pred)\n",
    "fig, ax = plt.subplots(figsize=(8,8))\n",
    "sns.heatmap(conf_mat, annot=True, cmap=\"Blues\", fmt='d')\n",
    "plt.ylabel('Actual')\n",
    "plt.xlabel('Predicted')\n",
    "plt.title(\"CONFUSION MATRIX TF_IDF\\n\", size=16)"
   ],
   "metadata": {
    "colab": {
     "base_uri": "https://localhost:8080/",
     "height": 761
    },
    "id": "NsCrgphyDd8u",
    "outputId": "ff412c66-d2d5-46fe-e91e-c09bb7f7d39b",
    "pycharm": {
     "name": "#%%\n"
    }
   },
   "execution_count": null,
   "outputs": [
    {
     "output_type": "execute_result",
     "data": {
      "text/plain": [
       "Text(0.5, 1.0, 'CONFUSION MATRIX TF_IDF\\n')"
      ]
     },
     "metadata": {},
     "execution_count": 134
    },
    {
     "output_type": "display_data",
     "data": {
      "text/plain": [
       "<Figure size 800x800 with 2 Axes>"
      ],
      "image/png": "[encoded data removed]"
     },
     "metadata": {}
    }
   ]
  },
  {
   "cell_type": "code",
   "source": [],
   "metadata": {
    "id": "WrlvmnLjDfrZ",
    "pycharm": {
     "name": "#%%\n"
    }
   },
   "execution_count": null,
   "outputs": []
  }
 ]
}